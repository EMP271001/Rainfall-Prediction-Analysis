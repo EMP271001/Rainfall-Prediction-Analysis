{
  "nbformat": 4,
  "nbformat_minor": 0,
  "metadata": {
    "colab": {
      "provenance": []
    },
    "kernelspec": {
      "name": "python3",
      "display_name": "Python 3"
    },
    "language_info": {
      "name": "python"
    }
  },
  "cells": [
    {
      "cell_type": "markdown",
      "source": [
        "### **Inserting Libraries**"
      ],
      "metadata": {
        "id": "jPhfgblugU6M"
      }
    },
    {
      "cell_type": "code",
      "source": [
        "import numpy as np\n",
        "import pandas as pd\n",
        "import plotly.express as px\n",
        "import warnings\n",
        "warnings.filterwarnings('ignore')\n",
        "\n",
        "\n",
        "from sklearn.preprocessing import LabelEncoder\n",
        "from sklearn.preprocessing import StandardScaler\n",
        "from sklearn.ensemble import RandomForestRegressor\n",
        "from sklearn.tree import DecisionTreeRegressor\n",
        "from sklearn.svm import SVR\n",
        "from sklearn.neighbors import KNeighborsRegressor\n",
        "from sklearn.metrics import r2_score,mean_absolute_error,mean_squared_error\n",
        "from sklearn.model_selection import train_test_split"
      ],
      "metadata": {
        "id": "jm1dGTg6gi7g"
      },
      "execution_count": null,
      "outputs": []
    },
    {
      "cell_type": "markdown",
      "source": [
        "### **Reading Data**"
      ],
      "metadata": {
        "id": "qU_1NaFJim3s"
      }
    },
    {
      "cell_type": "code",
      "source": [
        "data = pd.read_csv('/content/rainfall in india 1901-2015.csv')\n",
        "data.head()"
      ],
      "metadata": {
        "id": "yacZAG7ginNJ",
        "colab": {
          "base_uri": "https://localhost:8080/",
          "height": 354
        },
        "outputId": "5d1cb78c-caad-4d7a-cc8e-6d8de40d78d5"
      },
      "execution_count": null,
      "outputs": [
        {
          "output_type": "execute_result",
          "data": {
            "text/plain": [
              "                    DIVISION  YEAR   JAN    FEB   MAR    APR    MAY    JUN  \\\n",
              "0  ANDAMAN & NICOBAR ISLANDS  1901  49.2   87.1  29.2    2.3  528.8  517.5   \n",
              "1  ANDAMAN & NICOBAR ISLANDS  1902   0.0  159.8  12.2    0.0  446.1  537.1   \n",
              "2  ANDAMAN & NICOBAR ISLANDS  1903  12.7  144.0   0.0    1.0  235.1  479.9   \n",
              "3  ANDAMAN & NICOBAR ISLANDS  1904   9.4   14.7   0.0  202.4  304.5  495.1   \n",
              "4  ANDAMAN & NICOBAR ISLANDS  1905   1.3    0.0   3.3   26.9  279.5  628.7   \n",
              "\n",
              "     JUL    AUG    SEP    OCT    NOV    DEC  ANNUAL  Jan-Mar  Apr-Jun  \\\n",
              "0  365.1  481.1  332.6  388.5  558.2   33.6  3373.2    136.3    560.3   \n",
              "1  228.9  753.7  666.2  197.2  359.0  160.5  3520.7    159.8    458.3   \n",
              "2  728.4  326.7  339.0  181.2  284.4  225.0  2957.4    156.7    236.1   \n",
              "3  502.0  160.1  820.4  222.2  308.7   40.1  3079.6     24.1    506.9   \n",
              "4  368.7  330.5  297.0  260.7   25.4  344.7  2566.7      1.3    309.7   \n",
              "\n",
              "   Jul-Sep  Oct-Dec  \n",
              "0   1696.3    980.3  \n",
              "1   2185.9    716.7  \n",
              "2   1874.0    690.6  \n",
              "3   1977.6    571.0  \n",
              "4   1624.9    630.8  "
            ],
            "text/html": [
              "\n",
              "\n",
              "  <div id=\"df-fc552658-4d50-4134-a98e-318ec454a9b6\">\n",
              "    <div class=\"colab-df-container\">\n",
              "      <div>\n",
              "<style scoped>\n",
              "    .dataframe tbody tr th:only-of-type {\n",
              "        vertical-align: middle;\n",
              "    }\n",
              "\n",
              "    .dataframe tbody tr th {\n",
              "        vertical-align: top;\n",
              "    }\n",
              "\n",
              "    .dataframe thead th {\n",
              "        text-align: right;\n",
              "    }\n",
              "</style>\n",
              "<table border=\"1\" class=\"dataframe\">\n",
              "  <thead>\n",
              "    <tr style=\"text-align: right;\">\n",
              "      <th></th>\n",
              "      <th>DIVISION</th>\n",
              "      <th>YEAR</th>\n",
              "      <th>JAN</th>\n",
              "      <th>FEB</th>\n",
              "      <th>MAR</th>\n",
              "      <th>APR</th>\n",
              "      <th>MAY</th>\n",
              "      <th>JUN</th>\n",
              "      <th>JUL</th>\n",
              "      <th>AUG</th>\n",
              "      <th>SEP</th>\n",
              "      <th>OCT</th>\n",
              "      <th>NOV</th>\n",
              "      <th>DEC</th>\n",
              "      <th>ANNUAL</th>\n",
              "      <th>Jan-Mar</th>\n",
              "      <th>Apr-Jun</th>\n",
              "      <th>Jul-Sep</th>\n",
              "      <th>Oct-Dec</th>\n",
              "    </tr>\n",
              "  </thead>\n",
              "  <tbody>\n",
              "    <tr>\n",
              "      <th>0</th>\n",
              "      <td>ANDAMAN &amp; NICOBAR ISLANDS</td>\n",
              "      <td>1901</td>\n",
              "      <td>49.2</td>\n",
              "      <td>87.1</td>\n",
              "      <td>29.2</td>\n",
              "      <td>2.3</td>\n",
              "      <td>528.8</td>\n",
              "      <td>517.5</td>\n",
              "      <td>365.1</td>\n",
              "      <td>481.1</td>\n",
              "      <td>332.6</td>\n",
              "      <td>388.5</td>\n",
              "      <td>558.2</td>\n",
              "      <td>33.6</td>\n",
              "      <td>3373.2</td>\n",
              "      <td>136.3</td>\n",
              "      <td>560.3</td>\n",
              "      <td>1696.3</td>\n",
              "      <td>980.3</td>\n",
              "    </tr>\n",
              "    <tr>\n",
              "      <th>1</th>\n",
              "      <td>ANDAMAN &amp; NICOBAR ISLANDS</td>\n",
              "      <td>1902</td>\n",
              "      <td>0.0</td>\n",
              "      <td>159.8</td>\n",
              "      <td>12.2</td>\n",
              "      <td>0.0</td>\n",
              "      <td>446.1</td>\n",
              "      <td>537.1</td>\n",
              "      <td>228.9</td>\n",
              "      <td>753.7</td>\n",
              "      <td>666.2</td>\n",
              "      <td>197.2</td>\n",
              "      <td>359.0</td>\n",
              "      <td>160.5</td>\n",
              "      <td>3520.7</td>\n",
              "      <td>159.8</td>\n",
              "      <td>458.3</td>\n",
              "      <td>2185.9</td>\n",
              "      <td>716.7</td>\n",
              "    </tr>\n",
              "    <tr>\n",
              "      <th>2</th>\n",
              "      <td>ANDAMAN &amp; NICOBAR ISLANDS</td>\n",
              "      <td>1903</td>\n",
              "      <td>12.7</td>\n",
              "      <td>144.0</td>\n",
              "      <td>0.0</td>\n",
              "      <td>1.0</td>\n",
              "      <td>235.1</td>\n",
              "      <td>479.9</td>\n",
              "      <td>728.4</td>\n",
              "      <td>326.7</td>\n",
              "      <td>339.0</td>\n",
              "      <td>181.2</td>\n",
              "      <td>284.4</td>\n",
              "      <td>225.0</td>\n",
              "      <td>2957.4</td>\n",
              "      <td>156.7</td>\n",
              "      <td>236.1</td>\n",
              "      <td>1874.0</td>\n",
              "      <td>690.6</td>\n",
              "    </tr>\n",
              "    <tr>\n",
              "      <th>3</th>\n",
              "      <td>ANDAMAN &amp; NICOBAR ISLANDS</td>\n",
              "      <td>1904</td>\n",
              "      <td>9.4</td>\n",
              "      <td>14.7</td>\n",
              "      <td>0.0</td>\n",
              "      <td>202.4</td>\n",
              "      <td>304.5</td>\n",
              "      <td>495.1</td>\n",
              "      <td>502.0</td>\n",
              "      <td>160.1</td>\n",
              "      <td>820.4</td>\n",
              "      <td>222.2</td>\n",
              "      <td>308.7</td>\n",
              "      <td>40.1</td>\n",
              "      <td>3079.6</td>\n",
              "      <td>24.1</td>\n",
              "      <td>506.9</td>\n",
              "      <td>1977.6</td>\n",
              "      <td>571.0</td>\n",
              "    </tr>\n",
              "    <tr>\n",
              "      <th>4</th>\n",
              "      <td>ANDAMAN &amp; NICOBAR ISLANDS</td>\n",
              "      <td>1905</td>\n",
              "      <td>1.3</td>\n",
              "      <td>0.0</td>\n",
              "      <td>3.3</td>\n",
              "      <td>26.9</td>\n",
              "      <td>279.5</td>\n",
              "      <td>628.7</td>\n",
              "      <td>368.7</td>\n",
              "      <td>330.5</td>\n",
              "      <td>297.0</td>\n",
              "      <td>260.7</td>\n",
              "      <td>25.4</td>\n",
              "      <td>344.7</td>\n",
              "      <td>2566.7</td>\n",
              "      <td>1.3</td>\n",
              "      <td>309.7</td>\n",
              "      <td>1624.9</td>\n",
              "      <td>630.8</td>\n",
              "    </tr>\n",
              "  </tbody>\n",
              "</table>\n",
              "</div>\n",
              "      <button class=\"colab-df-convert\" onclick=\"convertToInteractive('df-fc552658-4d50-4134-a98e-318ec454a9b6')\"\n",
              "              title=\"Convert this dataframe to an interactive table.\"\n",
              "              style=\"display:none;\">\n",
              "\n",
              "  <svg xmlns=\"http://www.w3.org/2000/svg\" height=\"24px\"viewBox=\"0 0 24 24\"\n",
              "       width=\"24px\">\n",
              "    <path d=\"M0 0h24v24H0V0z\" fill=\"none\"/>\n",
              "    <path d=\"M18.56 5.44l.94 2.06.94-2.06 2.06-.94-2.06-.94-.94-2.06-.94 2.06-2.06.94zm-11 1L8.5 8.5l.94-2.06 2.06-.94-2.06-.94L8.5 2.5l-.94 2.06-2.06.94zm10 10l.94 2.06.94-2.06 2.06-.94-2.06-.94-.94-2.06-.94 2.06-2.06.94z\"/><path d=\"M17.41 7.96l-1.37-1.37c-.4-.4-.92-.59-1.43-.59-.52 0-1.04.2-1.43.59L10.3 9.45l-7.72 7.72c-.78.78-.78 2.05 0 2.83L4 21.41c.39.39.9.59 1.41.59.51 0 1.02-.2 1.41-.59l7.78-7.78 2.81-2.81c.8-.78.8-2.07 0-2.86zM5.41 20L4 18.59l7.72-7.72 1.47 1.35L5.41 20z\"/>\n",
              "  </svg>\n",
              "      </button>\n",
              "\n",
              "\n",
              "\n",
              "    <div id=\"df-4bba2e59-2ac4-4085-a3f2-f1d1a1e74e14\">\n",
              "      <button class=\"colab-df-quickchart\" onclick=\"quickchart('df-4bba2e59-2ac4-4085-a3f2-f1d1a1e74e14')\"\n",
              "              title=\"Suggest charts.\"\n",
              "              style=\"display:none;\">\n",
              "\n",
              "<svg xmlns=\"http://www.w3.org/2000/svg\" height=\"24px\"viewBox=\"0 0 24 24\"\n",
              "     width=\"24px\">\n",
              "    <g>\n",
              "        <path d=\"M19 3H5c-1.1 0-2 .9-2 2v14c0 1.1.9 2 2 2h14c1.1 0 2-.9 2-2V5c0-1.1-.9-2-2-2zM9 17H7v-7h2v7zm4 0h-2V7h2v10zm4 0h-2v-4h2v4z\"/>\n",
              "    </g>\n",
              "</svg>\n",
              "      </button>\n",
              "    </div>\n",
              "\n",
              "<style>\n",
              "  .colab-df-quickchart {\n",
              "    background-color: #E8F0FE;\n",
              "    border: none;\n",
              "    border-radius: 50%;\n",
              "    cursor: pointer;\n",
              "    display: none;\n",
              "    fill: #1967D2;\n",
              "    height: 32px;\n",
              "    padding: 0 0 0 0;\n",
              "    width: 32px;\n",
              "  }\n",
              "\n",
              "  .colab-df-quickchart:hover {\n",
              "    background-color: #E2EBFA;\n",
              "    box-shadow: 0px 1px 2px rgba(60, 64, 67, 0.3), 0px 1px 3px 1px rgba(60, 64, 67, 0.15);\n",
              "    fill: #174EA6;\n",
              "  }\n",
              "\n",
              "  [theme=dark] .colab-df-quickchart {\n",
              "    background-color: #3B4455;\n",
              "    fill: #D2E3FC;\n",
              "  }\n",
              "\n",
              "  [theme=dark] .colab-df-quickchart:hover {\n",
              "    background-color: #434B5C;\n",
              "    box-shadow: 0px 1px 3px 1px rgba(0, 0, 0, 0.15);\n",
              "    filter: drop-shadow(0px 1px 2px rgba(0, 0, 0, 0.3));\n",
              "    fill: #FFFFFF;\n",
              "  }\n",
              "</style>\n",
              "\n",
              "    <script>\n",
              "      async function quickchart(key) {\n",
              "        const containerElement = document.querySelector('#' + key);\n",
              "        const charts = await google.colab.kernel.invokeFunction(\n",
              "            'suggestCharts', [key], {});\n",
              "      }\n",
              "    </script>\n",
              "\n",
              "      <script>\n",
              "\n",
              "function displayQuickchartButton(domScope) {\n",
              "  let quickchartButtonEl =\n",
              "    domScope.querySelector('#df-4bba2e59-2ac4-4085-a3f2-f1d1a1e74e14 button.colab-df-quickchart');\n",
              "  quickchartButtonEl.style.display =\n",
              "    google.colab.kernel.accessAllowed ? 'block' : 'none';\n",
              "}\n",
              "\n",
              "        displayQuickchartButton(document);\n",
              "      </script>\n",
              "      <style>\n",
              "    .colab-df-container {\n",
              "      display:flex;\n",
              "      flex-wrap:wrap;\n",
              "      gap: 12px;\n",
              "    }\n",
              "\n",
              "    .colab-df-convert {\n",
              "      background-color: #E8F0FE;\n",
              "      border: none;\n",
              "      border-radius: 50%;\n",
              "      cursor: pointer;\n",
              "      display: none;\n",
              "      fill: #1967D2;\n",
              "      height: 32px;\n",
              "      padding: 0 0 0 0;\n",
              "      width: 32px;\n",
              "    }\n",
              "\n",
              "    .colab-df-convert:hover {\n",
              "      background-color: #E2EBFA;\n",
              "      box-shadow: 0px 1px 2px rgba(60, 64, 67, 0.3), 0px 1px 3px 1px rgba(60, 64, 67, 0.15);\n",
              "      fill: #174EA6;\n",
              "    }\n",
              "\n",
              "    [theme=dark] .colab-df-convert {\n",
              "      background-color: #3B4455;\n",
              "      fill: #D2E3FC;\n",
              "    }\n",
              "\n",
              "    [theme=dark] .colab-df-convert:hover {\n",
              "      background-color: #434B5C;\n",
              "      box-shadow: 0px 1px 3px 1px rgba(0, 0, 0, 0.15);\n",
              "      filter: drop-shadow(0px 1px 2px rgba(0, 0, 0, 0.3));\n",
              "      fill: #FFFFFF;\n",
              "    }\n",
              "  </style>\n",
              "\n",
              "      <script>\n",
              "        const buttonEl =\n",
              "          document.querySelector('#df-fc552658-4d50-4134-a98e-318ec454a9b6 button.colab-df-convert');\n",
              "        buttonEl.style.display =\n",
              "          google.colab.kernel.accessAllowed ? 'block' : 'none';\n",
              "\n",
              "        async function convertToInteractive(key) {\n",
              "          const element = document.querySelector('#df-fc552658-4d50-4134-a98e-318ec454a9b6');\n",
              "          const dataTable =\n",
              "            await google.colab.kernel.invokeFunction('convertToInteractive',\n",
              "                                                     [key], {});\n",
              "          if (!dataTable) return;\n",
              "\n",
              "          const docLinkHtml = 'Like what you see? Visit the ' +\n",
              "            '<a target=\"_blank\" href=https://colab.research.google.com/notebooks/data_table.ipynb>data table notebook</a>'\n",
              "            + ' to learn more about interactive tables.';\n",
              "          element.innerHTML = '';\n",
              "          dataTable['output_type'] = 'display_data';\n",
              "          await google.colab.output.renderOutput(dataTable, element);\n",
              "          const docLink = document.createElement('div');\n",
              "          docLink.innerHTML = docLinkHtml;\n",
              "          element.appendChild(docLink);\n",
              "        }\n",
              "      </script>\n",
              "    </div>\n",
              "  </div>\n"
            ]
          },
          "metadata": {},
          "execution_count": 4
        }
      ]
    },
    {
      "cell_type": "markdown",
      "source": [
        "### **Data Exploration and Preprocessing**"
      ],
      "metadata": {
        "id": "jDFR1xg-5zm6"
      }
    },
    {
      "cell_type": "code",
      "source": [
        "data.info()"
      ],
      "metadata": {
        "colab": {
          "base_uri": "https://localhost:8080/"
        },
        "id": "kBsHKV5G53u8",
        "outputId": "0d1b0d85-fca4-4c32-8bd1-835ecd5228a4"
      },
      "execution_count": null,
      "outputs": [
        {
          "output_type": "stream",
          "name": "stdout",
          "text": [
            "<class 'pandas.core.frame.DataFrame'>\n",
            "RangeIndex: 4116 entries, 0 to 4115\n",
            "Data columns (total 19 columns):\n",
            " #   Column    Non-Null Count  Dtype  \n",
            "---  ------    --------------  -----  \n",
            " 0   DIVISION  4116 non-null   object \n",
            " 1   YEAR      4116 non-null   int64  \n",
            " 2   JAN       4112 non-null   float64\n",
            " 3   FEB       4113 non-null   float64\n",
            " 4   MAR       4110 non-null   float64\n",
            " 5   APR       4112 non-null   float64\n",
            " 6   MAY       4113 non-null   float64\n",
            " 7   JUN       4111 non-null   float64\n",
            " 8   JUL       4109 non-null   float64\n",
            " 9   AUG       4112 non-null   float64\n",
            " 10  SEP       4110 non-null   float64\n",
            " 11  OCT       4109 non-null   float64\n",
            " 12  NOV       4105 non-null   float64\n",
            " 13  DEC       4106 non-null   float64\n",
            " 14  ANNUAL    4090 non-null   float64\n",
            " 15  Jan-Mar   4110 non-null   float64\n",
            " 16  Apr-Jun   4107 non-null   float64\n",
            " 17  Jul-Sep   4106 non-null   float64\n",
            " 18  Oct-Dec   4103 non-null   float64\n",
            "dtypes: float64(17), int64(1), object(1)\n",
            "memory usage: 611.1+ KB\n"
          ]
        }
      ]
    },
    {
      "cell_type": "code",
      "source": [
        "# to check for the dimensions of the dataframe\n",
        "data.shape"
      ],
      "metadata": {
        "colab": {
          "base_uri": "https://localhost:8080/"
        },
        "id": "EhzPczQs7dFC",
        "outputId": "ae7eb973-c7a5-4256-d82a-73d39b085628"
      },
      "execution_count": null,
      "outputs": [
        {
          "output_type": "execute_result",
          "data": {
            "text/plain": [
              "(4116, 19)"
            ]
          },
          "metadata": {},
          "execution_count": 6
        }
      ]
    },
    {
      "cell_type": "code",
      "source": [
        "# To check for missing values\n",
        "data.isnull().sum()"
      ],
      "metadata": {
        "colab": {
          "base_uri": "https://localhost:8080/"
        },
        "id": "nSIhTUdB6BOg",
        "outputId": "ecfbb9c2-1cbc-4010-8539-4becf1a3cb26"
      },
      "execution_count": null,
      "outputs": [
        {
          "output_type": "execute_result",
          "data": {
            "text/plain": [
              "DIVISION     0\n",
              "YEAR         0\n",
              "JAN          4\n",
              "FEB          3\n",
              "MAR          6\n",
              "APR          4\n",
              "MAY          3\n",
              "JUN          5\n",
              "JUL          7\n",
              "AUG          4\n",
              "SEP          6\n",
              "OCT          7\n",
              "NOV         11\n",
              "DEC         10\n",
              "ANNUAL      26\n",
              "Jan-Mar      6\n",
              "Apr-Jun      9\n",
              "Jul-Sep     10\n",
              "Oct-Dec     13\n",
              "dtype: int64"
            ]
          },
          "metadata": {},
          "execution_count": 7
        }
      ]
    },
    {
      "cell_type": "code",
      "source": [
        "# checking for any duplicate values present in the dataset\n",
        "data.duplicated().sum()"
      ],
      "metadata": {
        "colab": {
          "base_uri": "https://localhost:8080/"
        },
        "id": "wrczieht6BYT",
        "outputId": "00fe1e98-6dc4-4fdb-82d7-f4fdb3e37ea7"
      },
      "execution_count": null,
      "outputs": [
        {
          "output_type": "execute_result",
          "data": {
            "text/plain": [
              "0"
            ]
          },
          "metadata": {},
          "execution_count": 8
        }
      ]
    },
    {
      "cell_type": "code",
      "source": [
        "# replacing all the null values with the mean of the dataset\n",
        "data = data.fillna(data.mean())\n",
        "data"
      ],
      "metadata": {
        "colab": {
          "base_uri": "https://localhost:8080/",
          "height": 571
        },
        "id": "3dQ7q6MB7ZJ7",
        "outputId": "68ee6bf7-c4eb-408b-ccd8-dee95fd7259b"
      },
      "execution_count": null,
      "outputs": [
        {
          "output_type": "execute_result",
          "data": {
            "text/plain": [
              "                       DIVISION  YEAR   JAN    FEB   MAR    APR    MAY    JUN  \\\n",
              "0     ANDAMAN & NICOBAR ISLANDS  1901  49.2   87.1  29.2    2.3  528.8  517.5   \n",
              "1     ANDAMAN & NICOBAR ISLANDS  1902   0.0  159.8  12.2    0.0  446.1  537.1   \n",
              "2     ANDAMAN & NICOBAR ISLANDS  1903  12.7  144.0   0.0    1.0  235.1  479.9   \n",
              "3     ANDAMAN & NICOBAR ISLANDS  1904   9.4   14.7   0.0  202.4  304.5  495.1   \n",
              "4     ANDAMAN & NICOBAR ISLANDS  1905   1.3    0.0   3.3   26.9  279.5  628.7   \n",
              "...                         ...   ...   ...    ...   ...    ...    ...    ...   \n",
              "4111                LAKSHADWEEP  2011   5.1    2.8   3.1   85.9  107.2  153.6   \n",
              "4112                LAKSHADWEEP  2012  19.2    0.1   1.6   76.8   21.2  327.0   \n",
              "4113                LAKSHADWEEP  2013  26.2   34.4  37.5    5.3   88.3  426.2   \n",
              "4114                LAKSHADWEEP  2014  53.2   16.1   4.4   14.9   57.4  244.1   \n",
              "4115                LAKSHADWEEP  2015   2.2    0.5   3.7   87.1  133.1  296.6   \n",
              "\n",
              "        JUL    AUG    SEP    OCT    NOV    DEC  ANNUAL  Jan-Mar  Apr-Jun  \\\n",
              "0     365.1  481.1  332.6  388.5  558.2   33.6  3373.2    136.3    560.3   \n",
              "1     228.9  753.7  666.2  197.2  359.0  160.5  3520.7    159.8    458.3   \n",
              "2     728.4  326.7  339.0  181.2  284.4  225.0  2957.4    156.7    236.1   \n",
              "3     502.0  160.1  820.4  222.2  308.7   40.1  3079.6     24.1    506.9   \n",
              "4     368.7  330.5  297.0  260.7   25.4  344.7  2566.7      1.3    309.7   \n",
              "...     ...    ...    ...    ...    ...    ...     ...      ...      ...   \n",
              "4111  350.2  254.0  255.2  117.4  184.3   14.9  1533.7      7.9    196.2   \n",
              "4112  231.5  381.2  179.8  145.9   12.4    8.8  1405.5     19.3     99.6   \n",
              "4113  296.4  154.4  180.0   72.8   78.1   26.7  1426.3     60.6    131.1   \n",
              "4114  116.1  466.1  132.2  169.2   59.0   62.3  1395.0     69.3     76.7   \n",
              "4115  257.5  146.4  160.4  165.4  231.0  159.0  1642.9      2.7    223.9   \n",
              "\n",
              "      Jul-Sep  Oct-Dec  \n",
              "0      1696.3    980.3  \n",
              "1      2185.9    716.7  \n",
              "2      1874.0    690.6  \n",
              "3      1977.6    571.0  \n",
              "4      1624.9    630.8  \n",
              "...       ...      ...  \n",
              "4111   1013.0    316.6  \n",
              "4112   1119.5    167.1  \n",
              "4113   1057.0    177.6  \n",
              "4114    958.5    290.5  \n",
              "4115    860.9    555.4  \n",
              "\n",
              "[4116 rows x 19 columns]"
            ],
            "text/html": [
              "\n",
              "\n",
              "  <div id=\"df-f9ae38c0-f10f-4b0b-ad43-3e10deeeaecc\">\n",
              "    <div class=\"colab-df-container\">\n",
              "      <div>\n",
              "<style scoped>\n",
              "    .dataframe tbody tr th:only-of-type {\n",
              "        vertical-align: middle;\n",
              "    }\n",
              "\n",
              "    .dataframe tbody tr th {\n",
              "        vertical-align: top;\n",
              "    }\n",
              "\n",
              "    .dataframe thead th {\n",
              "        text-align: right;\n",
              "    }\n",
              "</style>\n",
              "<table border=\"1\" class=\"dataframe\">\n",
              "  <thead>\n",
              "    <tr style=\"text-align: right;\">\n",
              "      <th></th>\n",
              "      <th>DIVISION</th>\n",
              "      <th>YEAR</th>\n",
              "      <th>JAN</th>\n",
              "      <th>FEB</th>\n",
              "      <th>MAR</th>\n",
              "      <th>APR</th>\n",
              "      <th>MAY</th>\n",
              "      <th>JUN</th>\n",
              "      <th>JUL</th>\n",
              "      <th>AUG</th>\n",
              "      <th>SEP</th>\n",
              "      <th>OCT</th>\n",
              "      <th>NOV</th>\n",
              "      <th>DEC</th>\n",
              "      <th>ANNUAL</th>\n",
              "      <th>Jan-Mar</th>\n",
              "      <th>Apr-Jun</th>\n",
              "      <th>Jul-Sep</th>\n",
              "      <th>Oct-Dec</th>\n",
              "    </tr>\n",
              "  </thead>\n",
              "  <tbody>\n",
              "    <tr>\n",
              "      <th>0</th>\n",
              "      <td>ANDAMAN &amp; NICOBAR ISLANDS</td>\n",
              "      <td>1901</td>\n",
              "      <td>49.2</td>\n",
              "      <td>87.1</td>\n",
              "      <td>29.2</td>\n",
              "      <td>2.3</td>\n",
              "      <td>528.8</td>\n",
              "      <td>517.5</td>\n",
              "      <td>365.1</td>\n",
              "      <td>481.1</td>\n",
              "      <td>332.6</td>\n",
              "      <td>388.5</td>\n",
              "      <td>558.2</td>\n",
              "      <td>33.6</td>\n",
              "      <td>3373.2</td>\n",
              "      <td>136.3</td>\n",
              "      <td>560.3</td>\n",
              "      <td>1696.3</td>\n",
              "      <td>980.3</td>\n",
              "    </tr>\n",
              "    <tr>\n",
              "      <th>1</th>\n",
              "      <td>ANDAMAN &amp; NICOBAR ISLANDS</td>\n",
              "      <td>1902</td>\n",
              "      <td>0.0</td>\n",
              "      <td>159.8</td>\n",
              "      <td>12.2</td>\n",
              "      <td>0.0</td>\n",
              "      <td>446.1</td>\n",
              "      <td>537.1</td>\n",
              "      <td>228.9</td>\n",
              "      <td>753.7</td>\n",
              "      <td>666.2</td>\n",
              "      <td>197.2</td>\n",
              "      <td>359.0</td>\n",
              "      <td>160.5</td>\n",
              "      <td>3520.7</td>\n",
              "      <td>159.8</td>\n",
              "      <td>458.3</td>\n",
              "      <td>2185.9</td>\n",
              "      <td>716.7</td>\n",
              "    </tr>\n",
              "    <tr>\n",
              "      <th>2</th>\n",
              "      <td>ANDAMAN &amp; NICOBAR ISLANDS</td>\n",
              "      <td>1903</td>\n",
              "      <td>12.7</td>\n",
              "      <td>144.0</td>\n",
              "      <td>0.0</td>\n",
              "      <td>1.0</td>\n",
              "      <td>235.1</td>\n",
              "      <td>479.9</td>\n",
              "      <td>728.4</td>\n",
              "      <td>326.7</td>\n",
              "      <td>339.0</td>\n",
              "      <td>181.2</td>\n",
              "      <td>284.4</td>\n",
              "      <td>225.0</td>\n",
              "      <td>2957.4</td>\n",
              "      <td>156.7</td>\n",
              "      <td>236.1</td>\n",
              "      <td>1874.0</td>\n",
              "      <td>690.6</td>\n",
              "    </tr>\n",
              "    <tr>\n",
              "      <th>3</th>\n",
              "      <td>ANDAMAN &amp; NICOBAR ISLANDS</td>\n",
              "      <td>1904</td>\n",
              "      <td>9.4</td>\n",
              "      <td>14.7</td>\n",
              "      <td>0.0</td>\n",
              "      <td>202.4</td>\n",
              "      <td>304.5</td>\n",
              "      <td>495.1</td>\n",
              "      <td>502.0</td>\n",
              "      <td>160.1</td>\n",
              "      <td>820.4</td>\n",
              "      <td>222.2</td>\n",
              "      <td>308.7</td>\n",
              "      <td>40.1</td>\n",
              "      <td>3079.6</td>\n",
              "      <td>24.1</td>\n",
              "      <td>506.9</td>\n",
              "      <td>1977.6</td>\n",
              "      <td>571.0</td>\n",
              "    </tr>\n",
              "    <tr>\n",
              "      <th>4</th>\n",
              "      <td>ANDAMAN &amp; NICOBAR ISLANDS</td>\n",
              "      <td>1905</td>\n",
              "      <td>1.3</td>\n",
              "      <td>0.0</td>\n",
              "      <td>3.3</td>\n",
              "      <td>26.9</td>\n",
              "      <td>279.5</td>\n",
              "      <td>628.7</td>\n",
              "      <td>368.7</td>\n",
              "      <td>330.5</td>\n",
              "      <td>297.0</td>\n",
              "      <td>260.7</td>\n",
              "      <td>25.4</td>\n",
              "      <td>344.7</td>\n",
              "      <td>2566.7</td>\n",
              "      <td>1.3</td>\n",
              "      <td>309.7</td>\n",
              "      <td>1624.9</td>\n",
              "      <td>630.8</td>\n",
              "    </tr>\n",
              "    <tr>\n",
              "      <th>...</th>\n",
              "      <td>...</td>\n",
              "      <td>...</td>\n",
              "      <td>...</td>\n",
              "      <td>...</td>\n",
              "      <td>...</td>\n",
              "      <td>...</td>\n",
              "      <td>...</td>\n",
              "      <td>...</td>\n",
              "      <td>...</td>\n",
              "      <td>...</td>\n",
              "      <td>...</td>\n",
              "      <td>...</td>\n",
              "      <td>...</td>\n",
              "      <td>...</td>\n",
              "      <td>...</td>\n",
              "      <td>...</td>\n",
              "      <td>...</td>\n",
              "      <td>...</td>\n",
              "      <td>...</td>\n",
              "    </tr>\n",
              "    <tr>\n",
              "      <th>4111</th>\n",
              "      <td>LAKSHADWEEP</td>\n",
              "      <td>2011</td>\n",
              "      <td>5.1</td>\n",
              "      <td>2.8</td>\n",
              "      <td>3.1</td>\n",
              "      <td>85.9</td>\n",
              "      <td>107.2</td>\n",
              "      <td>153.6</td>\n",
              "      <td>350.2</td>\n",
              "      <td>254.0</td>\n",
              "      <td>255.2</td>\n",
              "      <td>117.4</td>\n",
              "      <td>184.3</td>\n",
              "      <td>14.9</td>\n",
              "      <td>1533.7</td>\n",
              "      <td>7.9</td>\n",
              "      <td>196.2</td>\n",
              "      <td>1013.0</td>\n",
              "      <td>316.6</td>\n",
              "    </tr>\n",
              "    <tr>\n",
              "      <th>4112</th>\n",
              "      <td>LAKSHADWEEP</td>\n",
              "      <td>2012</td>\n",
              "      <td>19.2</td>\n",
              "      <td>0.1</td>\n",
              "      <td>1.6</td>\n",
              "      <td>76.8</td>\n",
              "      <td>21.2</td>\n",
              "      <td>327.0</td>\n",
              "      <td>231.5</td>\n",
              "      <td>381.2</td>\n",
              "      <td>179.8</td>\n",
              "      <td>145.9</td>\n",
              "      <td>12.4</td>\n",
              "      <td>8.8</td>\n",
              "      <td>1405.5</td>\n",
              "      <td>19.3</td>\n",
              "      <td>99.6</td>\n",
              "      <td>1119.5</td>\n",
              "      <td>167.1</td>\n",
              "    </tr>\n",
              "    <tr>\n",
              "      <th>4113</th>\n",
              "      <td>LAKSHADWEEP</td>\n",
              "      <td>2013</td>\n",
              "      <td>26.2</td>\n",
              "      <td>34.4</td>\n",
              "      <td>37.5</td>\n",
              "      <td>5.3</td>\n",
              "      <td>88.3</td>\n",
              "      <td>426.2</td>\n",
              "      <td>296.4</td>\n",
              "      <td>154.4</td>\n",
              "      <td>180.0</td>\n",
              "      <td>72.8</td>\n",
              "      <td>78.1</td>\n",
              "      <td>26.7</td>\n",
              "      <td>1426.3</td>\n",
              "      <td>60.6</td>\n",
              "      <td>131.1</td>\n",
              "      <td>1057.0</td>\n",
              "      <td>177.6</td>\n",
              "    </tr>\n",
              "    <tr>\n",
              "      <th>4114</th>\n",
              "      <td>LAKSHADWEEP</td>\n",
              "      <td>2014</td>\n",
              "      <td>53.2</td>\n",
              "      <td>16.1</td>\n",
              "      <td>4.4</td>\n",
              "      <td>14.9</td>\n",
              "      <td>57.4</td>\n",
              "      <td>244.1</td>\n",
              "      <td>116.1</td>\n",
              "      <td>466.1</td>\n",
              "      <td>132.2</td>\n",
              "      <td>169.2</td>\n",
              "      <td>59.0</td>\n",
              "      <td>62.3</td>\n",
              "      <td>1395.0</td>\n",
              "      <td>69.3</td>\n",
              "      <td>76.7</td>\n",
              "      <td>958.5</td>\n",
              "      <td>290.5</td>\n",
              "    </tr>\n",
              "    <tr>\n",
              "      <th>4115</th>\n",
              "      <td>LAKSHADWEEP</td>\n",
              "      <td>2015</td>\n",
              "      <td>2.2</td>\n",
              "      <td>0.5</td>\n",
              "      <td>3.7</td>\n",
              "      <td>87.1</td>\n",
              "      <td>133.1</td>\n",
              "      <td>296.6</td>\n",
              "      <td>257.5</td>\n",
              "      <td>146.4</td>\n",
              "      <td>160.4</td>\n",
              "      <td>165.4</td>\n",
              "      <td>231.0</td>\n",
              "      <td>159.0</td>\n",
              "      <td>1642.9</td>\n",
              "      <td>2.7</td>\n",
              "      <td>223.9</td>\n",
              "      <td>860.9</td>\n",
              "      <td>555.4</td>\n",
              "    </tr>\n",
              "  </tbody>\n",
              "</table>\n",
              "<p>4116 rows × 19 columns</p>\n",
              "</div>\n",
              "      <button class=\"colab-df-convert\" onclick=\"convertToInteractive('df-f9ae38c0-f10f-4b0b-ad43-3e10deeeaecc')\"\n",
              "              title=\"Convert this dataframe to an interactive table.\"\n",
              "              style=\"display:none;\">\n",
              "\n",
              "  <svg xmlns=\"http://www.w3.org/2000/svg\" height=\"24px\"viewBox=\"0 0 24 24\"\n",
              "       width=\"24px\">\n",
              "    <path d=\"M0 0h24v24H0V0z\" fill=\"none\"/>\n",
              "    <path d=\"M18.56 5.44l.94 2.06.94-2.06 2.06-.94-2.06-.94-.94-2.06-.94 2.06-2.06.94zm-11 1L8.5 8.5l.94-2.06 2.06-.94-2.06-.94L8.5 2.5l-.94 2.06-2.06.94zm10 10l.94 2.06.94-2.06 2.06-.94-2.06-.94-.94-2.06-.94 2.06-2.06.94z\"/><path d=\"M17.41 7.96l-1.37-1.37c-.4-.4-.92-.59-1.43-.59-.52 0-1.04.2-1.43.59L10.3 9.45l-7.72 7.72c-.78.78-.78 2.05 0 2.83L4 21.41c.39.39.9.59 1.41.59.51 0 1.02-.2 1.41-.59l7.78-7.78 2.81-2.81c.8-.78.8-2.07 0-2.86zM5.41 20L4 18.59l7.72-7.72 1.47 1.35L5.41 20z\"/>\n",
              "  </svg>\n",
              "      </button>\n",
              "\n",
              "\n",
              "\n",
              "    <div id=\"df-c1b7b785-1ca8-48a9-9b5f-85f0f7622b6d\">\n",
              "      <button class=\"colab-df-quickchart\" onclick=\"quickchart('df-c1b7b785-1ca8-48a9-9b5f-85f0f7622b6d')\"\n",
              "              title=\"Suggest charts.\"\n",
              "              style=\"display:none;\">\n",
              "\n",
              "<svg xmlns=\"http://www.w3.org/2000/svg\" height=\"24px\"viewBox=\"0 0 24 24\"\n",
              "     width=\"24px\">\n",
              "    <g>\n",
              "        <path d=\"M19 3H5c-1.1 0-2 .9-2 2v14c0 1.1.9 2 2 2h14c1.1 0 2-.9 2-2V5c0-1.1-.9-2-2-2zM9 17H7v-7h2v7zm4 0h-2V7h2v10zm4 0h-2v-4h2v4z\"/>\n",
              "    </g>\n",
              "</svg>\n",
              "      </button>\n",
              "    </div>\n",
              "\n",
              "<style>\n",
              "  .colab-df-quickchart {\n",
              "    background-color: #E8F0FE;\n",
              "    border: none;\n",
              "    border-radius: 50%;\n",
              "    cursor: pointer;\n",
              "    display: none;\n",
              "    fill: #1967D2;\n",
              "    height: 32px;\n",
              "    padding: 0 0 0 0;\n",
              "    width: 32px;\n",
              "  }\n",
              "\n",
              "  .colab-df-quickchart:hover {\n",
              "    background-color: #E2EBFA;\n",
              "    box-shadow: 0px 1px 2px rgba(60, 64, 67, 0.3), 0px 1px 3px 1px rgba(60, 64, 67, 0.15);\n",
              "    fill: #174EA6;\n",
              "  }\n",
              "\n",
              "  [theme=dark] .colab-df-quickchart {\n",
              "    background-color: #3B4455;\n",
              "    fill: #D2E3FC;\n",
              "  }\n",
              "\n",
              "  [theme=dark] .colab-df-quickchart:hover {\n",
              "    background-color: #434B5C;\n",
              "    box-shadow: 0px 1px 3px 1px rgba(0, 0, 0, 0.15);\n",
              "    filter: drop-shadow(0px 1px 2px rgba(0, 0, 0, 0.3));\n",
              "    fill: #FFFFFF;\n",
              "  }\n",
              "</style>\n",
              "\n",
              "    <script>\n",
              "      async function quickchart(key) {\n",
              "        const containerElement = document.querySelector('#' + key);\n",
              "        const charts = await google.colab.kernel.invokeFunction(\n",
              "            'suggestCharts', [key], {});\n",
              "      }\n",
              "    </script>\n",
              "\n",
              "      <script>\n",
              "\n",
              "function displayQuickchartButton(domScope) {\n",
              "  let quickchartButtonEl =\n",
              "    domScope.querySelector('#df-c1b7b785-1ca8-48a9-9b5f-85f0f7622b6d button.colab-df-quickchart');\n",
              "  quickchartButtonEl.style.display =\n",
              "    google.colab.kernel.accessAllowed ? 'block' : 'none';\n",
              "}\n",
              "\n",
              "        displayQuickchartButton(document);\n",
              "      </script>\n",
              "      <style>\n",
              "    .colab-df-container {\n",
              "      display:flex;\n",
              "      flex-wrap:wrap;\n",
              "      gap: 12px;\n",
              "    }\n",
              "\n",
              "    .colab-df-convert {\n",
              "      background-color: #E8F0FE;\n",
              "      border: none;\n",
              "      border-radius: 50%;\n",
              "      cursor: pointer;\n",
              "      display: none;\n",
              "      fill: #1967D2;\n",
              "      height: 32px;\n",
              "      padding: 0 0 0 0;\n",
              "      width: 32px;\n",
              "    }\n",
              "\n",
              "    .colab-df-convert:hover {\n",
              "      background-color: #E2EBFA;\n",
              "      box-shadow: 0px 1px 2px rgba(60, 64, 67, 0.3), 0px 1px 3px 1px rgba(60, 64, 67, 0.15);\n",
              "      fill: #174EA6;\n",
              "    }\n",
              "\n",
              "    [theme=dark] .colab-df-convert {\n",
              "      background-color: #3B4455;\n",
              "      fill: #D2E3FC;\n",
              "    }\n",
              "\n",
              "    [theme=dark] .colab-df-convert:hover {\n",
              "      background-color: #434B5C;\n",
              "      box-shadow: 0px 1px 3px 1px rgba(0, 0, 0, 0.15);\n",
              "      filter: drop-shadow(0px 1px 2px rgba(0, 0, 0, 0.3));\n",
              "      fill: #FFFFFF;\n",
              "    }\n",
              "  </style>\n",
              "\n",
              "      <script>\n",
              "        const buttonEl =\n",
              "          document.querySelector('#df-f9ae38c0-f10f-4b0b-ad43-3e10deeeaecc button.colab-df-convert');\n",
              "        buttonEl.style.display =\n",
              "          google.colab.kernel.accessAllowed ? 'block' : 'none';\n",
              "\n",
              "        async function convertToInteractive(key) {\n",
              "          const element = document.querySelector('#df-f9ae38c0-f10f-4b0b-ad43-3e10deeeaecc');\n",
              "          const dataTable =\n",
              "            await google.colab.kernel.invokeFunction('convertToInteractive',\n",
              "                                                     [key], {});\n",
              "          if (!dataTable) return;\n",
              "\n",
              "          const docLinkHtml = 'Like what you see? Visit the ' +\n",
              "            '<a target=\"_blank\" href=https://colab.research.google.com/notebooks/data_table.ipynb>data table notebook</a>'\n",
              "            + ' to learn more about interactive tables.';\n",
              "          element.innerHTML = '';\n",
              "          dataTable['output_type'] = 'display_data';\n",
              "          await google.colab.output.renderOutput(dataTable, element);\n",
              "          const docLink = document.createElement('div');\n",
              "          docLink.innerHTML = docLinkHtml;\n",
              "          element.appendChild(docLink);\n",
              "        }\n",
              "      </script>\n",
              "    </div>\n",
              "  </div>\n"
            ]
          },
          "metadata": {},
          "execution_count": 9
        }
      ]
    },
    {
      "cell_type": "code",
      "source": [
        "# no null values present\n",
        "data.isnull().sum()"
      ],
      "metadata": {
        "colab": {
          "base_uri": "https://localhost:8080/"
        },
        "id": "D9fQlYsp71h4",
        "outputId": "61d20a66-58bd-4e7f-aa47-b9d7d6438427"
      },
      "execution_count": null,
      "outputs": [
        {
          "output_type": "execute_result",
          "data": {
            "text/plain": [
              "DIVISION    0\n",
              "YEAR        0\n",
              "JAN         0\n",
              "FEB         0\n",
              "MAR         0\n",
              "APR         0\n",
              "MAY         0\n",
              "JUN         0\n",
              "JUL         0\n",
              "AUG         0\n",
              "SEP         0\n",
              "OCT         0\n",
              "NOV         0\n",
              "DEC         0\n",
              "ANNUAL      0\n",
              "Jan-Mar     0\n",
              "Apr-Jun     0\n",
              "Jul-Sep     0\n",
              "Oct-Dec     0\n",
              "dtype: int64"
            ]
          },
          "metadata": {},
          "execution_count": 10
        }
      ]
    },
    {
      "cell_type": "code",
      "source": [
        "data.describe()"
      ],
      "metadata": {
        "colab": {
          "base_uri": "https://localhost:8080/",
          "height": 364
        },
        "id": "zOoIMkKSRI3M",
        "outputId": "bdd1e38c-fa5c-44c8-a4ae-fb8ab8b62c2b"
      },
      "execution_count": null,
      "outputs": [
        {
          "output_type": "execute_result",
          "data": {
            "text/plain": [
              "              YEAR          JAN          FEB          MAR          APR  \\\n",
              "count  4116.000000  4116.000000  4116.000000  4116.000000  4116.000000   \n",
              "mean   1958.218659    18.957320    21.805325    27.359197    43.127432   \n",
              "std      33.140898    33.569044    35.896396    46.925176    67.798192   \n",
              "min    1901.000000     0.000000     0.000000     0.000000     0.000000   \n",
              "25%    1930.000000     0.600000     0.600000     1.000000     3.000000   \n",
              "50%    1958.000000     6.000000     6.700000     7.900000    15.700000   \n",
              "75%    1987.000000    22.125000    26.800000    31.225000    49.825000   \n",
              "max    2015.000000   583.700000   403.500000   605.600000   595.100000   \n",
              "\n",
              "               MAY          JUN          JUL          AUG          SEP  \\\n",
              "count  4116.000000  4116.000000  4116.000000  4116.000000  4116.000000   \n",
              "mean     85.745417   230.234444   347.214334   290.263497   197.361922   \n",
              "std     123.189974   234.568120   269.310313   188.678707   135.309591   \n",
              "min       0.000000     0.400000     0.000000     0.000000     0.100000   \n",
              "25%       8.600000    70.475000   175.900000   156.150000   100.600000   \n",
              "50%      36.700000   138.900000   284.900000   259.500000   174.100000   \n",
              "75%      96.825000   304.950000   418.225000   377.725000   265.725000   \n",
              "max    1168.600000  1609.900000  2362.800000  1664.600000  1222.000000   \n",
              "\n",
              "               OCT          NOV          DEC       ANNUAL      Jan-Mar  \\\n",
              "count  4116.000000  4116.000000  4116.000000  4116.000000  4116.000000   \n",
              "mean     95.507009    39.866163    18.870580  1411.008900    40.747786   \n",
              "std      99.434452    68.593545    42.318098   900.986632    59.265023   \n",
              "min       0.000000     0.000000     0.000000    62.300000     0.000000   \n",
              "25%      14.600000     0.700000     0.100000   806.450000     4.100000   \n",
              "50%      65.750000     9.700000     3.100000  1125.450000    19.300000   \n",
              "75%     148.300000    45.825000    17.700000  1635.100000    50.300000   \n",
              "max     948.300000   648.900000   617.500000  6331.100000   699.500000   \n",
              "\n",
              "           Apr-Jun      Jul-Sep      Oct-Dec  \n",
              "count  4116.000000  4116.000000  4116.000000  \n",
              "mean    155.901753  1064.724769   154.100487  \n",
              "std     201.096692   706.881054   166.678751  \n",
              "min       0.000000    57.400000     0.000000  \n",
              "25%      24.200000   574.375000    34.200000  \n",
              "50%      75.200000   882.250000    98.800000  \n",
              "75%     196.900000  1287.550000   212.600000  \n",
              "max    1745.800000  4536.900000  1252.500000  "
            ],
            "text/html": [
              "\n",
              "\n",
              "  <div id=\"df-29a2f12d-9adc-477e-8ae7-df0b80193775\">\n",
              "    <div class=\"colab-df-container\">\n",
              "      <div>\n",
              "<style scoped>\n",
              "    .dataframe tbody tr th:only-of-type {\n",
              "        vertical-align: middle;\n",
              "    }\n",
              "\n",
              "    .dataframe tbody tr th {\n",
              "        vertical-align: top;\n",
              "    }\n",
              "\n",
              "    .dataframe thead th {\n",
              "        text-align: right;\n",
              "    }\n",
              "</style>\n",
              "<table border=\"1\" class=\"dataframe\">\n",
              "  <thead>\n",
              "    <tr style=\"text-align: right;\">\n",
              "      <th></th>\n",
              "      <th>YEAR</th>\n",
              "      <th>JAN</th>\n",
              "      <th>FEB</th>\n",
              "      <th>MAR</th>\n",
              "      <th>APR</th>\n",
              "      <th>MAY</th>\n",
              "      <th>JUN</th>\n",
              "      <th>JUL</th>\n",
              "      <th>AUG</th>\n",
              "      <th>SEP</th>\n",
              "      <th>OCT</th>\n",
              "      <th>NOV</th>\n",
              "      <th>DEC</th>\n",
              "      <th>ANNUAL</th>\n",
              "      <th>Jan-Mar</th>\n",
              "      <th>Apr-Jun</th>\n",
              "      <th>Jul-Sep</th>\n",
              "      <th>Oct-Dec</th>\n",
              "    </tr>\n",
              "  </thead>\n",
              "  <tbody>\n",
              "    <tr>\n",
              "      <th>count</th>\n",
              "      <td>4116.000000</td>\n",
              "      <td>4116.000000</td>\n",
              "      <td>4116.000000</td>\n",
              "      <td>4116.000000</td>\n",
              "      <td>4116.000000</td>\n",
              "      <td>4116.000000</td>\n",
              "      <td>4116.000000</td>\n",
              "      <td>4116.000000</td>\n",
              "      <td>4116.000000</td>\n",
              "      <td>4116.000000</td>\n",
              "      <td>4116.000000</td>\n",
              "      <td>4116.000000</td>\n",
              "      <td>4116.000000</td>\n",
              "      <td>4116.000000</td>\n",
              "      <td>4116.000000</td>\n",
              "      <td>4116.000000</td>\n",
              "      <td>4116.000000</td>\n",
              "      <td>4116.000000</td>\n",
              "    </tr>\n",
              "    <tr>\n",
              "      <th>mean</th>\n",
              "      <td>1958.218659</td>\n",
              "      <td>18.957320</td>\n",
              "      <td>21.805325</td>\n",
              "      <td>27.359197</td>\n",
              "      <td>43.127432</td>\n",
              "      <td>85.745417</td>\n",
              "      <td>230.234444</td>\n",
              "      <td>347.214334</td>\n",
              "      <td>290.263497</td>\n",
              "      <td>197.361922</td>\n",
              "      <td>95.507009</td>\n",
              "      <td>39.866163</td>\n",
              "      <td>18.870580</td>\n",
              "      <td>1411.008900</td>\n",
              "      <td>40.747786</td>\n",
              "      <td>155.901753</td>\n",
              "      <td>1064.724769</td>\n",
              "      <td>154.100487</td>\n",
              "    </tr>\n",
              "    <tr>\n",
              "      <th>std</th>\n",
              "      <td>33.140898</td>\n",
              "      <td>33.569044</td>\n",
              "      <td>35.896396</td>\n",
              "      <td>46.925176</td>\n",
              "      <td>67.798192</td>\n",
              "      <td>123.189974</td>\n",
              "      <td>234.568120</td>\n",
              "      <td>269.310313</td>\n",
              "      <td>188.678707</td>\n",
              "      <td>135.309591</td>\n",
              "      <td>99.434452</td>\n",
              "      <td>68.593545</td>\n",
              "      <td>42.318098</td>\n",
              "      <td>900.986632</td>\n",
              "      <td>59.265023</td>\n",
              "      <td>201.096692</td>\n",
              "      <td>706.881054</td>\n",
              "      <td>166.678751</td>\n",
              "    </tr>\n",
              "    <tr>\n",
              "      <th>min</th>\n",
              "      <td>1901.000000</td>\n",
              "      <td>0.000000</td>\n",
              "      <td>0.000000</td>\n",
              "      <td>0.000000</td>\n",
              "      <td>0.000000</td>\n",
              "      <td>0.000000</td>\n",
              "      <td>0.400000</td>\n",
              "      <td>0.000000</td>\n",
              "      <td>0.000000</td>\n",
              "      <td>0.100000</td>\n",
              "      <td>0.000000</td>\n",
              "      <td>0.000000</td>\n",
              "      <td>0.000000</td>\n",
              "      <td>62.300000</td>\n",
              "      <td>0.000000</td>\n",
              "      <td>0.000000</td>\n",
              "      <td>57.400000</td>\n",
              "      <td>0.000000</td>\n",
              "    </tr>\n",
              "    <tr>\n",
              "      <th>25%</th>\n",
              "      <td>1930.000000</td>\n",
              "      <td>0.600000</td>\n",
              "      <td>0.600000</td>\n",
              "      <td>1.000000</td>\n",
              "      <td>3.000000</td>\n",
              "      <td>8.600000</td>\n",
              "      <td>70.475000</td>\n",
              "      <td>175.900000</td>\n",
              "      <td>156.150000</td>\n",
              "      <td>100.600000</td>\n",
              "      <td>14.600000</td>\n",
              "      <td>0.700000</td>\n",
              "      <td>0.100000</td>\n",
              "      <td>806.450000</td>\n",
              "      <td>4.100000</td>\n",
              "      <td>24.200000</td>\n",
              "      <td>574.375000</td>\n",
              "      <td>34.200000</td>\n",
              "    </tr>\n",
              "    <tr>\n",
              "      <th>50%</th>\n",
              "      <td>1958.000000</td>\n",
              "      <td>6.000000</td>\n",
              "      <td>6.700000</td>\n",
              "      <td>7.900000</td>\n",
              "      <td>15.700000</td>\n",
              "      <td>36.700000</td>\n",
              "      <td>138.900000</td>\n",
              "      <td>284.900000</td>\n",
              "      <td>259.500000</td>\n",
              "      <td>174.100000</td>\n",
              "      <td>65.750000</td>\n",
              "      <td>9.700000</td>\n",
              "      <td>3.100000</td>\n",
              "      <td>1125.450000</td>\n",
              "      <td>19.300000</td>\n",
              "      <td>75.200000</td>\n",
              "      <td>882.250000</td>\n",
              "      <td>98.800000</td>\n",
              "    </tr>\n",
              "    <tr>\n",
              "      <th>75%</th>\n",
              "      <td>1987.000000</td>\n",
              "      <td>22.125000</td>\n",
              "      <td>26.800000</td>\n",
              "      <td>31.225000</td>\n",
              "      <td>49.825000</td>\n",
              "      <td>96.825000</td>\n",
              "      <td>304.950000</td>\n",
              "      <td>418.225000</td>\n",
              "      <td>377.725000</td>\n",
              "      <td>265.725000</td>\n",
              "      <td>148.300000</td>\n",
              "      <td>45.825000</td>\n",
              "      <td>17.700000</td>\n",
              "      <td>1635.100000</td>\n",
              "      <td>50.300000</td>\n",
              "      <td>196.900000</td>\n",
              "      <td>1287.550000</td>\n",
              "      <td>212.600000</td>\n",
              "    </tr>\n",
              "    <tr>\n",
              "      <th>max</th>\n",
              "      <td>2015.000000</td>\n",
              "      <td>583.700000</td>\n",
              "      <td>403.500000</td>\n",
              "      <td>605.600000</td>\n",
              "      <td>595.100000</td>\n",
              "      <td>1168.600000</td>\n",
              "      <td>1609.900000</td>\n",
              "      <td>2362.800000</td>\n",
              "      <td>1664.600000</td>\n",
              "      <td>1222.000000</td>\n",
              "      <td>948.300000</td>\n",
              "      <td>648.900000</td>\n",
              "      <td>617.500000</td>\n",
              "      <td>6331.100000</td>\n",
              "      <td>699.500000</td>\n",
              "      <td>1745.800000</td>\n",
              "      <td>4536.900000</td>\n",
              "      <td>1252.500000</td>\n",
              "    </tr>\n",
              "  </tbody>\n",
              "</table>\n",
              "</div>\n",
              "      <button class=\"colab-df-convert\" onclick=\"convertToInteractive('df-29a2f12d-9adc-477e-8ae7-df0b80193775')\"\n",
              "              title=\"Convert this dataframe to an interactive table.\"\n",
              "              style=\"display:none;\">\n",
              "\n",
              "  <svg xmlns=\"http://www.w3.org/2000/svg\" height=\"24px\"viewBox=\"0 0 24 24\"\n",
              "       width=\"24px\">\n",
              "    <path d=\"M0 0h24v24H0V0z\" fill=\"none\"/>\n",
              "    <path d=\"M18.56 5.44l.94 2.06.94-2.06 2.06-.94-2.06-.94-.94-2.06-.94 2.06-2.06.94zm-11 1L8.5 8.5l.94-2.06 2.06-.94-2.06-.94L8.5 2.5l-.94 2.06-2.06.94zm10 10l.94 2.06.94-2.06 2.06-.94-2.06-.94-.94-2.06-.94 2.06-2.06.94z\"/><path d=\"M17.41 7.96l-1.37-1.37c-.4-.4-.92-.59-1.43-.59-.52 0-1.04.2-1.43.59L10.3 9.45l-7.72 7.72c-.78.78-.78 2.05 0 2.83L4 21.41c.39.39.9.59 1.41.59.51 0 1.02-.2 1.41-.59l7.78-7.78 2.81-2.81c.8-.78.8-2.07 0-2.86zM5.41 20L4 18.59l7.72-7.72 1.47 1.35L5.41 20z\"/>\n",
              "  </svg>\n",
              "      </button>\n",
              "\n",
              "\n",
              "\n",
              "    <div id=\"df-a7002b5c-fdca-4ea8-8090-208efa6e26e2\">\n",
              "      <button class=\"colab-df-quickchart\" onclick=\"quickchart('df-a7002b5c-fdca-4ea8-8090-208efa6e26e2')\"\n",
              "              title=\"Suggest charts.\"\n",
              "              style=\"display:none;\">\n",
              "\n",
              "<svg xmlns=\"http://www.w3.org/2000/svg\" height=\"24px\"viewBox=\"0 0 24 24\"\n",
              "     width=\"24px\">\n",
              "    <g>\n",
              "        <path d=\"M19 3H5c-1.1 0-2 .9-2 2v14c0 1.1.9 2 2 2h14c1.1 0 2-.9 2-2V5c0-1.1-.9-2-2-2zM9 17H7v-7h2v7zm4 0h-2V7h2v10zm4 0h-2v-4h2v4z\"/>\n",
              "    </g>\n",
              "</svg>\n",
              "      </button>\n",
              "    </div>\n",
              "\n",
              "<style>\n",
              "  .colab-df-quickchart {\n",
              "    background-color: #E8F0FE;\n",
              "    border: none;\n",
              "    border-radius: 50%;\n",
              "    cursor: pointer;\n",
              "    display: none;\n",
              "    fill: #1967D2;\n",
              "    height: 32px;\n",
              "    padding: 0 0 0 0;\n",
              "    width: 32px;\n",
              "  }\n",
              "\n",
              "  .colab-df-quickchart:hover {\n",
              "    background-color: #E2EBFA;\n",
              "    box-shadow: 0px 1px 2px rgba(60, 64, 67, 0.3), 0px 1px 3px 1px rgba(60, 64, 67, 0.15);\n",
              "    fill: #174EA6;\n",
              "  }\n",
              "\n",
              "  [theme=dark] .colab-df-quickchart {\n",
              "    background-color: #3B4455;\n",
              "    fill: #D2E3FC;\n",
              "  }\n",
              "\n",
              "  [theme=dark] .colab-df-quickchart:hover {\n",
              "    background-color: #434B5C;\n",
              "    box-shadow: 0px 1px 3px 1px rgba(0, 0, 0, 0.15);\n",
              "    filter: drop-shadow(0px 1px 2px rgba(0, 0, 0, 0.3));\n",
              "    fill: #FFFFFF;\n",
              "  }\n",
              "</style>\n",
              "\n",
              "    <script>\n",
              "      async function quickchart(key) {\n",
              "        const containerElement = document.querySelector('#' + key);\n",
              "        const charts = await google.colab.kernel.invokeFunction(\n",
              "            'suggestCharts', [key], {});\n",
              "      }\n",
              "    </script>\n",
              "\n",
              "      <script>\n",
              "\n",
              "function displayQuickchartButton(domScope) {\n",
              "  let quickchartButtonEl =\n",
              "    domScope.querySelector('#df-a7002b5c-fdca-4ea8-8090-208efa6e26e2 button.colab-df-quickchart');\n",
              "  quickchartButtonEl.style.display =\n",
              "    google.colab.kernel.accessAllowed ? 'block' : 'none';\n",
              "}\n",
              "\n",
              "        displayQuickchartButton(document);\n",
              "      </script>\n",
              "      <style>\n",
              "    .colab-df-container {\n",
              "      display:flex;\n",
              "      flex-wrap:wrap;\n",
              "      gap: 12px;\n",
              "    }\n",
              "\n",
              "    .colab-df-convert {\n",
              "      background-color: #E8F0FE;\n",
              "      border: none;\n",
              "      border-radius: 50%;\n",
              "      cursor: pointer;\n",
              "      display: none;\n",
              "      fill: #1967D2;\n",
              "      height: 32px;\n",
              "      padding: 0 0 0 0;\n",
              "      width: 32px;\n",
              "    }\n",
              "\n",
              "    .colab-df-convert:hover {\n",
              "      background-color: #E2EBFA;\n",
              "      box-shadow: 0px 1px 2px rgba(60, 64, 67, 0.3), 0px 1px 3px 1px rgba(60, 64, 67, 0.15);\n",
              "      fill: #174EA6;\n",
              "    }\n",
              "\n",
              "    [theme=dark] .colab-df-convert {\n",
              "      background-color: #3B4455;\n",
              "      fill: #D2E3FC;\n",
              "    }\n",
              "\n",
              "    [theme=dark] .colab-df-convert:hover {\n",
              "      background-color: #434B5C;\n",
              "      box-shadow: 0px 1px 3px 1px rgba(0, 0, 0, 0.15);\n",
              "      filter: drop-shadow(0px 1px 2px rgba(0, 0, 0, 0.3));\n",
              "      fill: #FFFFFF;\n",
              "    }\n",
              "  </style>\n",
              "\n",
              "      <script>\n",
              "        const buttonEl =\n",
              "          document.querySelector('#df-29a2f12d-9adc-477e-8ae7-df0b80193775 button.colab-df-convert');\n",
              "        buttonEl.style.display =\n",
              "          google.colab.kernel.accessAllowed ? 'block' : 'none';\n",
              "\n",
              "        async function convertToInteractive(key) {\n",
              "          const element = document.querySelector('#df-29a2f12d-9adc-477e-8ae7-df0b80193775');\n",
              "          const dataTable =\n",
              "            await google.colab.kernel.invokeFunction('convertToInteractive',\n",
              "                                                     [key], {});\n",
              "          if (!dataTable) return;\n",
              "\n",
              "          const docLinkHtml = 'Like what you see? Visit the ' +\n",
              "            '<a target=\"_blank\" href=https://colab.research.google.com/notebooks/data_table.ipynb>data table notebook</a>'\n",
              "            + ' to learn more about interactive tables.';\n",
              "          element.innerHTML = '';\n",
              "          dataTable['output_type'] = 'display_data';\n",
              "          await google.colab.output.renderOutput(dataTable, element);\n",
              "          const docLink = document.createElement('div');\n",
              "          docLink.innerHTML = docLinkHtml;\n",
              "          element.appendChild(docLink);\n",
              "        }\n",
              "      </script>\n",
              "    </div>\n",
              "  </div>\n"
            ]
          },
          "metadata": {},
          "execution_count": 11
        }
      ]
    },
    {
      "cell_type": "code",
      "source": [
        "annual_div = data[['DIVISION','ANNUAL']].groupby('DIVISION').sum()\n",
        "\n",
        "px.bar(annual_div, x = data['ANNUAL'], y = data['DIVISION'], orientation = 'h', color = data['DIVISION'], width = 1100, height =\n",
        "1000).update_layout(title = 'Annual Rainfall  V/S  Division',xaxis_title = 'Rainfall in MM',yaxis_title = 'Division', legend =\n",
        "dict(title = 'States')).update_yaxes(categoryorder = 'total descending')\n",
        "\n",
        "# Visualization showing the difference of annual rainfall in different states"
      ],
      "metadata": {
        "colab": {
          "base_uri": "https://localhost:8080/",
          "height": 1000
        },
        "id": "E4YOH5g4RPNz",
        "outputId": "d7850971-c09e-4aba-b76e-8a5b577a8ac6"
      },
      "execution_count": null,
      "outputs": [
        {
          "output_type": "display_data",
          "data": {
            "text/html": [
              "<html>\n",
              "<head><meta charset=\"utf-8\" /></head>\n",
              "<body>\n",
              "    <div>            <script src=\"https://cdnjs.cloudflare.com/ajax/libs/mathjax/2.7.5/MathJax.js?config=TeX-AMS-MML_SVG\"></script><script type=\"text/javascript\">if (window.MathJax && window.MathJax.Hub && window.MathJax.Hub.Config) {window.MathJax.Hub.Config({SVG: {font: \"STIX-Web\"}});}</script>                <script type=\"text/javascript\">window.PlotlyConfig = {MathJaxConfig: 'local'};</script>\n",
              "        <script src=\"https://cdn.plot.ly/plotly-2.18.2.min.js\"></script>                <div id=\"ce02eafb-f2ae-4360-801d-8703700951e7\" class=\"plotly-graph-div\" style=\"height:1000px; width:1100px;\"></div>            <script type=\"text/javascript\">                                    window.PLOTLYENV=window.PLOTLYENV || {};                                    if (document.getElementById(\"ce02eafb-f2ae-4360-801d-8703700951e7\")) {                    Plotly.newPlot(                        \"ce02eafb-f2ae-4360-801d-8703700951e7\",                        [{\"alignmentgroup\":\"True\",\"hovertemplate\":\"color=ANDAMAN & NICOBAR ISLANDS<br>x=%{x}<br>y=%{y}<extra></extra>\",\"legendgroup\":\"ANDAMAN & NICOBAR ISLANDS\",\"marker\":{\"color\":\"#636efa\",\"pattern\":{\"shape\":\"\"}},\"name\":\"ANDAMAN & NICOBAR ISLANDS\",\"offsetgroup\":\"ANDAMAN & NICOBAR ISLANDS\",\"orientation\":\"h\",\"showlegend\":true,\"textposition\":\"auto\",\"x\":[3373.2,3520.7,2957.4,3079.6,2566.7,2534.4,3347.9,3576.4,2899.4,2687.2,2960.5,2365.8,2957.8,2741.3,2937.5,2612.4,3275.0,2352.1,2943.2,2606.4,3554.2,1411.0088997555013,1411.0088997555013,2480.5,3282.2,2442.9,2998.3,2926.6,3075.1,2357.7,1411.0088997555013,2987.5,3722.8,3154.0,1411.0088997555013,3591.1,3264.4,2782.5,3007.5,2898.2,1411.0088997555013,2791.6,1411.0088997555013,3489.6,2422.2,3275.1,3079.9,2721.9,3449.0,3349.6,3080.0,2507.2,2807.4,3343.3,3025.0,3938.2,2959.7,2981.7,3054.8,3163.8,2701.2,3216.4,2762.8,2619.0,3370.8,2998.6,3323.0,2991.1,2962.0,3085.7,3276.0,2388.2,2712.4,1849.4,3625.3,3074.8,2384.5,2792.4,2820.3,2630.8,2187.8,2764.0,3323.0,2533.6,2183.4,2535.8,2098.7,2237.4,3262.8,3115.4,2996.9,2755.1,2846.4,2699.7,2763.2,3080.9,2620.2,2355.9,2460.1,2954.7,2404.7,2748.0,3374.8,2538.6,3157.1,3828.0,3497.6,3757.8,2622.4,2904.6],\"xaxis\":\"x\",\"y\":[\"ANDAMAN & NICOBAR ISLANDS\",\"ANDAMAN & NICOBAR ISLANDS\",\"ANDAMAN & NICOBAR ISLANDS\",\"ANDAMAN & NICOBAR ISLANDS\",\"ANDAMAN & NICOBAR ISLANDS\",\"ANDAMAN & NICOBAR ISLANDS\",\"ANDAMAN & NICOBAR ISLANDS\",\"ANDAMAN & NICOBAR ISLANDS\",\"ANDAMAN & NICOBAR ISLANDS\",\"ANDAMAN & NICOBAR ISLANDS\",\"ANDAMAN & NICOBAR ISLANDS\",\"ANDAMAN & NICOBAR ISLANDS\",\"ANDAMAN & NICOBAR ISLANDS\",\"ANDAMAN & NICOBAR ISLANDS\",\"ANDAMAN & NICOBAR ISLANDS\",\"ANDAMAN & NICOBAR ISLANDS\",\"ANDAMAN & NICOBAR ISLANDS\",\"ANDAMAN & NICOBAR ISLANDS\",\"ANDAMAN & NICOBAR ISLANDS\",\"ANDAMAN & NICOBAR ISLANDS\",\"ANDAMAN & NICOBAR ISLANDS\",\"ANDAMAN & NICOBAR ISLANDS\",\"ANDAMAN & NICOBAR ISLANDS\",\"ANDAMAN & NICOBAR ISLANDS\",\"ANDAMAN & NICOBAR ISLANDS\",\"ANDAMAN & NICOBAR ISLANDS\",\"ANDAMAN & NICOBAR ISLANDS\",\"ANDAMAN & NICOBAR ISLANDS\",\"ANDAMAN & NICOBAR ISLANDS\",\"ANDAMAN & NICOBAR ISLANDS\",\"ANDAMAN & NICOBAR ISLANDS\",\"ANDAMAN & NICOBAR ISLANDS\",\"ANDAMAN & NICOBAR ISLANDS\",\"ANDAMAN & NICOBAR ISLANDS\",\"ANDAMAN & NICOBAR ISLANDS\",\"ANDAMAN & NICOBAR ISLANDS\",\"ANDAMAN & NICOBAR ISLANDS\",\"ANDAMAN & NICOBAR ISLANDS\",\"ANDAMAN & NICOBAR ISLANDS\",\"ANDAMAN & NICOBAR ISLANDS\",\"ANDAMAN & NICOBAR ISLANDS\",\"ANDAMAN & NICOBAR ISLANDS\",\"ANDAMAN & NICOBAR ISLANDS\",\"ANDAMAN & NICOBAR ISLANDS\",\"ANDAMAN & NICOBAR ISLANDS\",\"ANDAMAN & NICOBAR ISLANDS\",\"ANDAMAN & NICOBAR ISLANDS\",\"ANDAMAN & NICOBAR ISLANDS\",\"ANDAMAN & NICOBAR ISLANDS\",\"ANDAMAN & NICOBAR ISLANDS\",\"ANDAMAN & NICOBAR ISLANDS\",\"ANDAMAN & NICOBAR ISLANDS\",\"ANDAMAN & NICOBAR ISLANDS\",\"ANDAMAN & NICOBAR ISLANDS\",\"ANDAMAN & NICOBAR ISLANDS\",\"ANDAMAN & NICOBAR ISLANDS\",\"ANDAMAN & NICOBAR ISLANDS\",\"ANDAMAN & NICOBAR ISLANDS\",\"ANDAMAN & NICOBAR ISLANDS\",\"ANDAMAN & NICOBAR ISLANDS\",\"ANDAMAN & NICOBAR ISLANDS\",\"ANDAMAN & NICOBAR ISLANDS\",\"ANDAMAN & NICOBAR ISLANDS\",\"ANDAMAN & NICOBAR ISLANDS\",\"ANDAMAN & NICOBAR ISLANDS\",\"ANDAMAN & NICOBAR ISLANDS\",\"ANDAMAN & NICOBAR ISLANDS\",\"ANDAMAN & NICOBAR ISLANDS\",\"ANDAMAN & NICOBAR ISLANDS\",\"ANDAMAN & NICOBAR ISLANDS\",\"ANDAMAN & NICOBAR ISLANDS\",\"ANDAMAN & NICOBAR ISLANDS\",\"ANDAMAN & NICOBAR ISLANDS\",\"ANDAMAN & NICOBAR ISLANDS\",\"ANDAMAN & NICOBAR ISLANDS\",\"ANDAMAN & NICOBAR ISLANDS\",\"ANDAMAN & NICOBAR ISLANDS\",\"ANDAMAN & NICOBAR ISLANDS\",\"ANDAMAN & NICOBAR ISLANDS\",\"ANDAMAN & NICOBAR ISLANDS\",\"ANDAMAN & NICOBAR ISLANDS\",\"ANDAMAN & NICOBAR ISLANDS\",\"ANDAMAN & NICOBAR ISLANDS\",\"ANDAMAN & NICOBAR ISLANDS\",\"ANDAMAN & NICOBAR ISLANDS\",\"ANDAMAN & NICOBAR ISLANDS\",\"ANDAMAN & NICOBAR ISLANDS\",\"ANDAMAN & NICOBAR ISLANDS\",\"ANDAMAN & NICOBAR ISLANDS\",\"ANDAMAN & NICOBAR ISLANDS\",\"ANDAMAN & NICOBAR ISLANDS\",\"ANDAMAN & NICOBAR ISLANDS\",\"ANDAMAN & NICOBAR ISLANDS\",\"ANDAMAN & NICOBAR ISLANDS\",\"ANDAMAN & NICOBAR ISLANDS\",\"ANDAMAN & NICOBAR ISLANDS\",\"ANDAMAN & NICOBAR ISLANDS\",\"ANDAMAN & NICOBAR ISLANDS\",\"ANDAMAN & NICOBAR ISLANDS\",\"ANDAMAN & NICOBAR ISLANDS\",\"ANDAMAN & NICOBAR ISLANDS\",\"ANDAMAN & NICOBAR ISLANDS\",\"ANDAMAN & NICOBAR ISLANDS\",\"ANDAMAN & NICOBAR ISLANDS\",\"ANDAMAN & NICOBAR ISLANDS\",\"ANDAMAN & NICOBAR ISLANDS\",\"ANDAMAN & NICOBAR ISLANDS\",\"ANDAMAN & NICOBAR ISLANDS\",\"ANDAMAN & NICOBAR ISLANDS\",\"ANDAMAN & NICOBAR ISLANDS\"],\"yaxis\":\"y\",\"type\":\"bar\"},{\"alignmentgroup\":\"True\",\"hovertemplate\":\"color=ARUNACHAL PRADESH<br>x=%{x}<br>y=%{y}<extra></extra>\",\"legendgroup\":\"ARUNACHAL PRADESH\",\"marker\":{\"color\":\"#EF553B\",\"pattern\":{\"shape\":\"\"}},\"name\":\"ARUNACHAL PRADESH\",\"offsetgroup\":\"ARUNACHAL PRADESH\",\"orientation\":\"h\",\"showlegend\":true,\"textposition\":\"auto\",\"x\":[1411.0088997555013,1411.0088997555013,5486.3,4693.9,4106.7,5691.4,4187.2,3507.5,4450.5,4439.8,3521.6,5253.2,5272.7,4320.2,4334.1,4872.1,4850.9,3773.3,4575.7,4173.7,4788.9,3375.1,6129.0,3898.7,4099.3,4220.2,3828.2,4326.7,3904.3,3649.3,4011.2,4369.1,6331.1,4874.7,1411.0088997555013,3354.2,2396.1,1411.0088997555013,1411.0088997555013,5063.5,4195.5,3709.4,3676.5,1411.0088997555013,4138.0,4959.3,2196.8,2209.6,1668.5,2139.0,1877.7,1973.4,2184.5,2281.3,2457.5,3063.9,2213.3,2419.5,3774.3,2531.0,2773.6,3215.3,2790.9,2779.5,3335.3,3278.0,3266.2,2495.6,3433.2,4155.3,3281.6,3604.0,3434.4,2707.0,3348.9,2287.4,3068.8,2520.5,2274.9,3616.7,2316.6,2596.8,2036.0,2389.2,2451.8,2545.7,2335.5,2259.6,3020.7,2244.4,1749.9,2855.7,2193.7,3440.3,2042.9,2403.2,2767.5],\"xaxis\":\"x\",\"y\":[\"ARUNACHAL PRADESH\",\"ARUNACHAL PRADESH\",\"ARUNACHAL PRADESH\",\"ARUNACHAL PRADESH\",\"ARUNACHAL PRADESH\",\"ARUNACHAL PRADESH\",\"ARUNACHAL PRADESH\",\"ARUNACHAL PRADESH\",\"ARUNACHAL PRADESH\",\"ARUNACHAL PRADESH\",\"ARUNACHAL PRADESH\",\"ARUNACHAL PRADESH\",\"ARUNACHAL PRADESH\",\"ARUNACHAL PRADESH\",\"ARUNACHAL PRADESH\",\"ARUNACHAL PRADESH\",\"ARUNACHAL PRADESH\",\"ARUNACHAL PRADESH\",\"ARUNACHAL PRADESH\",\"ARUNACHAL PRADESH\",\"ARUNACHAL PRADESH\",\"ARUNACHAL PRADESH\",\"ARUNACHAL PRADESH\",\"ARUNACHAL PRADESH\",\"ARUNACHAL PRADESH\",\"ARUNACHAL PRADESH\",\"ARUNACHAL PRADESH\",\"ARUNACHAL PRADESH\",\"ARUNACHAL PRADESH\",\"ARUNACHAL PRADESH\",\"ARUNACHAL PRADESH\",\"ARUNACHAL PRADESH\",\"ARUNACHAL PRADESH\",\"ARUNACHAL PRADESH\",\"ARUNACHAL PRADESH\",\"ARUNACHAL PRADESH\",\"ARUNACHAL PRADESH\",\"ARUNACHAL PRADESH\",\"ARUNACHAL PRADESH\",\"ARUNACHAL PRADESH\",\"ARUNACHAL PRADESH\",\"ARUNACHAL PRADESH\",\"ARUNACHAL PRADESH\",\"ARUNACHAL PRADESH\",\"ARUNACHAL PRADESH\",\"ARUNACHAL PRADESH\",\"ARUNACHAL PRADESH\",\"ARUNACHAL PRADESH\",\"ARUNACHAL PRADESH\",\"ARUNACHAL PRADESH\",\"ARUNACHAL PRADESH\",\"ARUNACHAL PRADESH\",\"ARUNACHAL PRADESH\",\"ARUNACHAL PRADESH\",\"ARUNACHAL PRADESH\",\"ARUNACHAL PRADESH\",\"ARUNACHAL PRADESH\",\"ARUNACHAL PRADESH\",\"ARUNACHAL PRADESH\",\"ARUNACHAL PRADESH\",\"ARUNACHAL PRADESH\",\"ARUNACHAL PRADESH\",\"ARUNACHAL PRADESH\",\"ARUNACHAL PRADESH\",\"ARUNACHAL PRADESH\",\"ARUNACHAL PRADESH\",\"ARUNACHAL PRADESH\",\"ARUNACHAL PRADESH\",\"ARUNACHAL PRADESH\",\"ARUNACHAL PRADESH\",\"ARUNACHAL PRADESH\",\"ARUNACHAL PRADESH\",\"ARUNACHAL PRADESH\",\"ARUNACHAL PRADESH\",\"ARUNACHAL PRADESH\",\"ARUNACHAL PRADESH\",\"ARUNACHAL PRADESH\",\"ARUNACHAL PRADESH\",\"ARUNACHAL PRADESH\",\"ARUNACHAL PRADESH\",\"ARUNACHAL PRADESH\",\"ARUNACHAL PRADESH\",\"ARUNACHAL PRADESH\",\"ARUNACHAL PRADESH\",\"ARUNACHAL PRADESH\",\"ARUNACHAL PRADESH\",\"ARUNACHAL PRADESH\",\"ARUNACHAL PRADESH\",\"ARUNACHAL PRADESH\",\"ARUNACHAL PRADESH\",\"ARUNACHAL PRADESH\",\"ARUNACHAL PRADESH\",\"ARUNACHAL PRADESH\",\"ARUNACHAL PRADESH\",\"ARUNACHAL PRADESH\",\"ARUNACHAL PRADESH\",\"ARUNACHAL PRADESH\"],\"yaxis\":\"y\",\"type\":\"bar\"},{\"alignmentgroup\":\"True\",\"hovertemplate\":\"color=ASSAM & MEGHALAYA<br>x=%{x}<br>y=%{y}<extra></extra>\",\"legendgroup\":\"ASSAM & MEGHALAYA\",\"marker\":{\"color\":\"#00cc96\",\"pattern\":{\"shape\":\"\"}},\"name\":\"ASSAM & MEGHALAYA\",\"offsetgroup\":\"ASSAM & MEGHALAYA\",\"orientation\":\"h\",\"showlegend\":true,\"textposition\":\"auto\",\"x\":[2498.6,2952.1,2544.7,2664.1,2790.6,2663.4,2521.1,2277.8,2377.0,2887.3,3096.2,2743.5,2760.5,2343.8,3165.1,2601.1,2519.9,3106.8,2344.2,2623.6,2999.7,2261.9,2440.6,2691.4,2550.5,2511.7,2793.1,2634.3,2953.8,2550.7,2800.1,2888.7,2339.1,3074.9,2678.4,2671.3,2324.6,2786.5,2401.6,2451.6,2709.5,2677.0,2703.7,2524.3,2665.7,2679.5,2643.3,3185.4,2983.4,2392.4,2613.8,2851.3,2559.9,2859.1,2761.2,2802.9,2257.2,2626.4,2535.8,2342.2,2195.3,2295.9,2511.8,2729.6,2398.9,2789.3,2123.4,2530.8,2332.2,3048.4,2315.1,2379.1,2672.1,3403.5,2270.6,1956.0,2616.6,2011.9,2188.5,2289.2,2079.3,2382.2,2620.0,3157.0,2801.6,2592.8,2921.4,3261.7,2682.1,2771.2,2838.0,2259.8,2879.2,2121.3,2886.1,2466.9,2372.2,2803.1,2594.2,2487.0,2178.4,2392.7,2434.1,2994.3,2468.3,1898.6,2752.8,2339.7,2068.2,2711.5,1743.4,2609.4,1816.4,2206.1,2470.9],\"xaxis\":\"x\",\"y\":[\"ASSAM & MEGHALAYA\",\"ASSAM & MEGHALAYA\",\"ASSAM & MEGHALAYA\",\"ASSAM & MEGHALAYA\",\"ASSAM & MEGHALAYA\",\"ASSAM & MEGHALAYA\",\"ASSAM & MEGHALAYA\",\"ASSAM & MEGHALAYA\",\"ASSAM & MEGHALAYA\",\"ASSAM & MEGHALAYA\",\"ASSAM & MEGHALAYA\",\"ASSAM & MEGHALAYA\",\"ASSAM & MEGHALAYA\",\"ASSAM & MEGHALAYA\",\"ASSAM & MEGHALAYA\",\"ASSAM & MEGHALAYA\",\"ASSAM & MEGHALAYA\",\"ASSAM & MEGHALAYA\",\"ASSAM & MEGHALAYA\",\"ASSAM & MEGHALAYA\",\"ASSAM & MEGHALAYA\",\"ASSAM & MEGHALAYA\",\"ASSAM & MEGHALAYA\",\"ASSAM & MEGHALAYA\",\"ASSAM & MEGHALAYA\",\"ASSAM & MEGHALAYA\",\"ASSAM & MEGHALAYA\",\"ASSAM & MEGHALAYA\",\"ASSAM & MEGHALAYA\",\"ASSAM & MEGHALAYA\",\"ASSAM & MEGHALAYA\",\"ASSAM & MEGHALAYA\",\"ASSAM & MEGHALAYA\",\"ASSAM & MEGHALAYA\",\"ASSAM & MEGHALAYA\",\"ASSAM & MEGHALAYA\",\"ASSAM & MEGHALAYA\",\"ASSAM & MEGHALAYA\",\"ASSAM & MEGHALAYA\",\"ASSAM & MEGHALAYA\",\"ASSAM & MEGHALAYA\",\"ASSAM & MEGHALAYA\",\"ASSAM & MEGHALAYA\",\"ASSAM & MEGHALAYA\",\"ASSAM & MEGHALAYA\",\"ASSAM & MEGHALAYA\",\"ASSAM & MEGHALAYA\",\"ASSAM & MEGHALAYA\",\"ASSAM & MEGHALAYA\",\"ASSAM & MEGHALAYA\",\"ASSAM & MEGHALAYA\",\"ASSAM & MEGHALAYA\",\"ASSAM & MEGHALAYA\",\"ASSAM & MEGHALAYA\",\"ASSAM & MEGHALAYA\",\"ASSAM & MEGHALAYA\",\"ASSAM & MEGHALAYA\",\"ASSAM & MEGHALAYA\",\"ASSAM & MEGHALAYA\",\"ASSAM & MEGHALAYA\",\"ASSAM & MEGHALAYA\",\"ASSAM & MEGHALAYA\",\"ASSAM & MEGHALAYA\",\"ASSAM & MEGHALAYA\",\"ASSAM & MEGHALAYA\",\"ASSAM & MEGHALAYA\",\"ASSAM & MEGHALAYA\",\"ASSAM & MEGHALAYA\",\"ASSAM & MEGHALAYA\",\"ASSAM & MEGHALAYA\",\"ASSAM & MEGHALAYA\",\"ASSAM & MEGHALAYA\",\"ASSAM & MEGHALAYA\",\"ASSAM & MEGHALAYA\",\"ASSAM & MEGHALAYA\",\"ASSAM & MEGHALAYA\",\"ASSAM & MEGHALAYA\",\"ASSAM & MEGHALAYA\",\"ASSAM & MEGHALAYA\",\"ASSAM & MEGHALAYA\",\"ASSAM & MEGHALAYA\",\"ASSAM & MEGHALAYA\",\"ASSAM & MEGHALAYA\",\"ASSAM & MEGHALAYA\",\"ASSAM & MEGHALAYA\",\"ASSAM & MEGHALAYA\",\"ASSAM & MEGHALAYA\",\"ASSAM & MEGHALAYA\",\"ASSAM & MEGHALAYA\",\"ASSAM & MEGHALAYA\",\"ASSAM & MEGHALAYA\",\"ASSAM & MEGHALAYA\",\"ASSAM & MEGHALAYA\",\"ASSAM & MEGHALAYA\",\"ASSAM & MEGHALAYA\",\"ASSAM & MEGHALAYA\",\"ASSAM & MEGHALAYA\",\"ASSAM & MEGHALAYA\",\"ASSAM & MEGHALAYA\",\"ASSAM & MEGHALAYA\",\"ASSAM & MEGHALAYA\",\"ASSAM & MEGHALAYA\",\"ASSAM & MEGHALAYA\",\"ASSAM & MEGHALAYA\",\"ASSAM & MEGHALAYA\",\"ASSAM & MEGHALAYA\",\"ASSAM & MEGHALAYA\",\"ASSAM & MEGHALAYA\",\"ASSAM & MEGHALAYA\",\"ASSAM & MEGHALAYA\",\"ASSAM & MEGHALAYA\",\"ASSAM & MEGHALAYA\",\"ASSAM & MEGHALAYA\",\"ASSAM & MEGHALAYA\",\"ASSAM & MEGHALAYA\"],\"yaxis\":\"y\",\"type\":\"bar\"},{\"alignmentgroup\":\"True\",\"hovertemplate\":\"color=NAGA MANI MIZO TRIPURA<br>x=%{x}<br>y=%{y}<extra></extra>\",\"legendgroup\":\"NAGA MANI MIZO TRIPURA\",\"marker\":{\"color\":\"#ab63fa\",\"pattern\":{\"shape\":\"\"}},\"name\":\"NAGA MANI MIZO TRIPURA\",\"offsetgroup\":\"NAGA MANI MIZO TRIPURA\",\"orientation\":\"h\",\"showlegend\":true,\"textposition\":\"auto\",\"x\":[2168.4,2175.0,2230.7,2519.8,2527.6,2514.4,2121.7,2319.3,2308.7,2267.9,2479.8,2308.8,2613.2,2529.2,2819.9,2555.0,2222.2,3013.3,2047.9,2375.8,2638.2,2462.6,2685.5,2701.7,2447.5,2463.2,2887.5,2472.4,2859.4,2487.4,2461.1,2761.7,2451.8,3040.8,2543.3,2917.1,2741.6,2971.6,2608.3,2526.7,2966.2,2680.9,2427.9,2877.3,3051.9,3036.2,3210.2,2822.1,2976.3,2423.0,2609.3,2810.9,2661.6,2905.1,2865.0,3022.7,2303.9,1968.6,2327.6,1799.9,1901.2,1822.5,2970.0,2328.7,2031.0,2478.6,2229.9,2110.0,3610.0,4316.2,3080.7,1353.8,2105.8,2329.6,2209.7,2651.4,2358.5,2150.8,1749.2,2305.0,2072.2,2027.5,2588.0,2454.0,2105.3,2342.3,2361.3,2820.2,2359.0,2582.3,2851.9,2221.4,2881.7,1712.5,2340.2,2194.5,2212.0,2225.4,2233.0,2363.9,2149.0,2242.3,2162.2,2353.7,1836.7,1872.0,2538.2,1748.9,1737.7,2295.2,1892.1,1922.9,1557.2,1599.9,1922.4],\"xaxis\":\"x\",\"y\":[\"NAGA MANI MIZO TRIPURA\",\"NAGA MANI MIZO TRIPURA\",\"NAGA MANI MIZO TRIPURA\",\"NAGA MANI MIZO TRIPURA\",\"NAGA MANI MIZO TRIPURA\",\"NAGA MANI MIZO TRIPURA\",\"NAGA MANI MIZO TRIPURA\",\"NAGA MANI MIZO TRIPURA\",\"NAGA MANI MIZO TRIPURA\",\"NAGA MANI MIZO TRIPURA\",\"NAGA MANI MIZO TRIPURA\",\"NAGA MANI MIZO TRIPURA\",\"NAGA MANI MIZO TRIPURA\",\"NAGA MANI MIZO TRIPURA\",\"NAGA MANI MIZO TRIPURA\",\"NAGA MANI MIZO TRIPURA\",\"NAGA MANI MIZO TRIPURA\",\"NAGA MANI MIZO TRIPURA\",\"NAGA MANI MIZO TRIPURA\",\"NAGA MANI MIZO TRIPURA\",\"NAGA MANI MIZO TRIPURA\",\"NAGA MANI MIZO TRIPURA\",\"NAGA MANI MIZO TRIPURA\",\"NAGA MANI MIZO TRIPURA\",\"NAGA MANI MIZO TRIPURA\",\"NAGA MANI MIZO TRIPURA\",\"NAGA MANI MIZO TRIPURA\",\"NAGA MANI MIZO TRIPURA\",\"NAGA MANI MIZO TRIPURA\",\"NAGA MANI MIZO TRIPURA\",\"NAGA MANI MIZO TRIPURA\",\"NAGA MANI MIZO TRIPURA\",\"NAGA MANI MIZO TRIPURA\",\"NAGA MANI MIZO TRIPURA\",\"NAGA MANI MIZO TRIPURA\",\"NAGA MANI MIZO TRIPURA\",\"NAGA MANI MIZO TRIPURA\",\"NAGA MANI MIZO TRIPURA\",\"NAGA MANI MIZO TRIPURA\",\"NAGA MANI MIZO TRIPURA\",\"NAGA MANI MIZO TRIPURA\",\"NAGA MANI MIZO TRIPURA\",\"NAGA MANI MIZO TRIPURA\",\"NAGA MANI MIZO TRIPURA\",\"NAGA MANI MIZO TRIPURA\",\"NAGA MANI MIZO TRIPURA\",\"NAGA MANI MIZO TRIPURA\",\"NAGA MANI MIZO TRIPURA\",\"NAGA MANI MIZO TRIPURA\",\"NAGA MANI MIZO TRIPURA\",\"NAGA MANI MIZO TRIPURA\",\"NAGA MANI MIZO TRIPURA\",\"NAGA MANI MIZO TRIPURA\",\"NAGA MANI MIZO TRIPURA\",\"NAGA MANI MIZO TRIPURA\",\"NAGA MANI MIZO TRIPURA\",\"NAGA MANI MIZO TRIPURA\",\"NAGA MANI MIZO TRIPURA\",\"NAGA MANI MIZO TRIPURA\",\"NAGA MANI MIZO TRIPURA\",\"NAGA MANI MIZO TRIPURA\",\"NAGA MANI MIZO TRIPURA\",\"NAGA MANI MIZO TRIPURA\",\"NAGA MANI MIZO TRIPURA\",\"NAGA MANI MIZO TRIPURA\",\"NAGA MANI MIZO TRIPURA\",\"NAGA MANI MIZO TRIPURA\",\"NAGA MANI MIZO TRIPURA\",\"NAGA MANI MIZO TRIPURA\",\"NAGA MANI MIZO TRIPURA\",\"NAGA MANI MIZO TRIPURA\",\"NAGA MANI MIZO TRIPURA\",\"NAGA MANI MIZO TRIPURA\",\"NAGA MANI MIZO TRIPURA\",\"NAGA MANI MIZO TRIPURA\",\"NAGA MANI MIZO TRIPURA\",\"NAGA MANI MIZO TRIPURA\",\"NAGA MANI MIZO TRIPURA\",\"NAGA MANI MIZO TRIPURA\",\"NAGA MANI MIZO TRIPURA\",\"NAGA MANI MIZO TRIPURA\",\"NAGA MANI MIZO TRIPURA\",\"NAGA MANI MIZO TRIPURA\",\"NAGA MANI MIZO TRIPURA\",\"NAGA MANI MIZO TRIPURA\",\"NAGA MANI MIZO TRIPURA\",\"NAGA MANI MIZO TRIPURA\",\"NAGA MANI MIZO TRIPURA\",\"NAGA MANI MIZO TRIPURA\",\"NAGA MANI MIZO TRIPURA\",\"NAGA MANI MIZO TRIPURA\",\"NAGA MANI MIZO TRIPURA\",\"NAGA MANI MIZO TRIPURA\",\"NAGA MANI MIZO TRIPURA\",\"NAGA MANI MIZO TRIPURA\",\"NAGA MANI MIZO TRIPURA\",\"NAGA MANI MIZO TRIPURA\",\"NAGA MANI MIZO TRIPURA\",\"NAGA MANI MIZO TRIPURA\",\"NAGA MANI MIZO TRIPURA\",\"NAGA MANI MIZO TRIPURA\",\"NAGA MANI MIZO TRIPURA\",\"NAGA MANI MIZO TRIPURA\",\"NAGA MANI MIZO TRIPURA\",\"NAGA MANI MIZO TRIPURA\",\"NAGA MANI MIZO TRIPURA\",\"NAGA MANI MIZO TRIPURA\",\"NAGA MANI MIZO TRIPURA\",\"NAGA MANI MIZO TRIPURA\",\"NAGA MANI MIZO TRIPURA\",\"NAGA MANI MIZO TRIPURA\",\"NAGA MANI MIZO TRIPURA\",\"NAGA MANI MIZO TRIPURA\",\"NAGA MANI MIZO TRIPURA\",\"NAGA MANI MIZO TRIPURA\"],\"yaxis\":\"y\",\"type\":\"bar\"},{\"alignmentgroup\":\"True\",\"hovertemplate\":\"color=SUB HIMALAYAN WEST BENGAL & SIKKIM<br>x=%{x}<br>y=%{y}<extra></extra>\",\"legendgroup\":\"SUB HIMALAYAN WEST BENGAL & SIKKIM\",\"marker\":{\"color\":\"#FFA15A\",\"pattern\":{\"shape\":\"\"}},\"name\":\"SUB HIMALAYAN WEST BENGAL & SIKKIM\",\"offsetgroup\":\"SUB HIMALAYAN WEST BENGAL & SIKKIM\",\"orientation\":\"h\",\"showlegend\":true,\"textposition\":\"auto\",\"x\":[2113.2,3180.4,2404.5,2169.9,3005.0,2618.0,2530.0,1988.2,2670.1,3046.1,3194.2,2793.6,2935.1,2414.1,2504.9,3476.8,2841.6,2981.4,2544.5,2884.1,3513.4,3001.9,2489.0,2950.9,2886.6,2637.7,2732.2,2868.9,2931.3,2184.5,2876.5,2715.6,2514.2,2612.9,2785.1,2660.3,2568.4,3249.3,2591.1,2320.2,2718.0,2365.4,2917.6,2583.2,2755.4,2768.5,2534.1,2936.6,3287.7,2762.5,2683.1,3270.7,2594.0,3055.6,2992.9,2885.5,2225.5,2820.3,2580.1,2610.5,2304.2,2521.7,2604.7,2981.4,2762.7,2515.3,2860.5,3378.8,2424.9,2702.3,3226.8,2414.6,2804.6,3341.6,2663.6,2793.9,2906.5,2377.8,2511.7,3148.6,2969.3,2337.7,2838.8,2748.4,3037.9,2365.4,3185.5,3141.4,2854.6,3565.3,3072.4,2358.8,2895.9,2127.3,3557.8,2800.3,2551.4,3655.1,3323.3,2908.0,2612.6,2547.0,2723.3,2714.7,2807.7,2262.1,2638.9,2689.9,2324.6,2612.3,2418.7,2632.2,2406.1,2322.6,2518.6],\"xaxis\":\"x\",\"y\":[\"SUB HIMALAYAN WEST BENGAL & SIKKIM\",\"SUB HIMALAYAN WEST BENGAL & SIKKIM\",\"SUB HIMALAYAN WEST BENGAL & SIKKIM\",\"SUB HIMALAYAN WEST BENGAL & SIKKIM\",\"SUB HIMALAYAN WEST BENGAL & SIKKIM\",\"SUB HIMALAYAN WEST BENGAL & SIKKIM\",\"SUB HIMALAYAN WEST BENGAL & SIKKIM\",\"SUB HIMALAYAN WEST BENGAL & SIKKIM\",\"SUB HIMALAYAN WEST BENGAL & SIKKIM\",\"SUB HIMALAYAN WEST BENGAL & SIKKIM\",\"SUB HIMALAYAN WEST BENGAL & SIKKIM\",\"SUB HIMALAYAN WEST BENGAL & SIKKIM\",\"SUB HIMALAYAN WEST BENGAL & SIKKIM\",\"SUB HIMALAYAN WEST BENGAL & SIKKIM\",\"SUB HIMALAYAN WEST BENGAL & SIKKIM\",\"SUB HIMALAYAN WEST BENGAL & SIKKIM\",\"SUB HIMALAYAN WEST BENGAL & SIKKIM\",\"SUB HIMALAYAN WEST BENGAL & SIKKIM\",\"SUB HIMALAYAN WEST BENGAL & SIKKIM\",\"SUB HIMALAYAN WEST BENGAL & SIKKIM\",\"SUB HIMALAYAN WEST BENGAL & SIKKIM\",\"SUB HIMALAYAN WEST BENGAL & SIKKIM\",\"SUB HIMALAYAN WEST BENGAL & SIKKIM\",\"SUB HIMALAYAN WEST BENGAL & SIKKIM\",\"SUB HIMALAYAN WEST BENGAL & SIKKIM\",\"SUB HIMALAYAN WEST BENGAL & SIKKIM\",\"SUB HIMALAYAN WEST BENGAL & SIKKIM\",\"SUB HIMALAYAN WEST BENGAL & SIKKIM\",\"SUB HIMALAYAN WEST BENGAL & SIKKIM\",\"SUB HIMALAYAN WEST BENGAL & SIKKIM\",\"SUB HIMALAYAN WEST BENGAL & SIKKIM\",\"SUB HIMALAYAN WEST BENGAL & SIKKIM\",\"SUB HIMALAYAN WEST BENGAL & SIKKIM\",\"SUB HIMALAYAN WEST BENGAL & SIKKIM\",\"SUB HIMALAYAN WEST BENGAL & SIKKIM\",\"SUB HIMALAYAN WEST BENGAL & SIKKIM\",\"SUB HIMALAYAN WEST BENGAL & SIKKIM\",\"SUB HIMALAYAN WEST BENGAL & SIKKIM\",\"SUB HIMALAYAN WEST BENGAL & SIKKIM\",\"SUB HIMALAYAN WEST BENGAL & SIKKIM\",\"SUB HIMALAYAN WEST BENGAL & SIKKIM\",\"SUB HIMALAYAN WEST BENGAL & SIKKIM\",\"SUB HIMALAYAN WEST BENGAL & SIKKIM\",\"SUB HIMALAYAN WEST BENGAL & SIKKIM\",\"SUB HIMALAYAN WEST BENGAL & SIKKIM\",\"SUB HIMALAYAN WEST BENGAL & SIKKIM\",\"SUB HIMALAYAN WEST BENGAL & SIKKIM\",\"SUB HIMALAYAN WEST BENGAL & SIKKIM\",\"SUB HIMALAYAN WEST BENGAL & SIKKIM\",\"SUB HIMALAYAN WEST BENGAL & SIKKIM\",\"SUB HIMALAYAN WEST BENGAL & SIKKIM\",\"SUB HIMALAYAN WEST BENGAL & SIKKIM\",\"SUB HIMALAYAN WEST BENGAL & SIKKIM\",\"SUB HIMALAYAN WEST BENGAL & SIKKIM\",\"SUB HIMALAYAN WEST BENGAL & SIKKIM\",\"SUB HIMALAYAN WEST BENGAL & SIKKIM\",\"SUB HIMALAYAN WEST BENGAL & SIKKIM\",\"SUB HIMALAYAN WEST BENGAL & SIKKIM\",\"SUB HIMALAYAN WEST BENGAL & SIKKIM\",\"SUB HIMALAYAN WEST BENGAL & SIKKIM\",\"SUB HIMALAYAN WEST BENGAL & SIKKIM\",\"SUB HIMALAYAN WEST BENGAL & SIKKIM\",\"SUB HIMALAYAN WEST BENGAL & SIKKIM\",\"SUB HIMALAYAN WEST BENGAL & SIKKIM\",\"SUB HIMALAYAN WEST BENGAL & SIKKIM\",\"SUB HIMALAYAN WEST BENGAL & SIKKIM\",\"SUB HIMALAYAN WEST BENGAL & SIKKIM\",\"SUB HIMALAYAN WEST BENGAL & SIKKIM\",\"SUB HIMALAYAN WEST BENGAL & SIKKIM\",\"SUB HIMALAYAN WEST BENGAL & SIKKIM\",\"SUB HIMALAYAN WEST BENGAL & SIKKIM\",\"SUB HIMALAYAN WEST BENGAL & SIKKIM\",\"SUB HIMALAYAN WEST BENGAL & SIKKIM\",\"SUB HIMALAYAN WEST BENGAL & SIKKIM\",\"SUB HIMALAYAN WEST BENGAL & SIKKIM\",\"SUB HIMALAYAN WEST BENGAL & SIKKIM\",\"SUB HIMALAYAN WEST BENGAL & SIKKIM\",\"SUB HIMALAYAN WEST BENGAL & SIKKIM\",\"SUB HIMALAYAN WEST BENGAL & SIKKIM\",\"SUB HIMALAYAN WEST BENGAL & SIKKIM\",\"SUB HIMALAYAN WEST BENGAL & SIKKIM\",\"SUB HIMALAYAN WEST BENGAL & SIKKIM\",\"SUB HIMALAYAN WEST BENGAL & SIKKIM\",\"SUB HIMALAYAN WEST BENGAL & SIKKIM\",\"SUB HIMALAYAN WEST BENGAL & SIKKIM\",\"SUB HIMALAYAN WEST BENGAL & SIKKIM\",\"SUB HIMALAYAN WEST BENGAL & SIKKIM\",\"SUB HIMALAYAN WEST BENGAL & SIKKIM\",\"SUB HIMALAYAN WEST BENGAL & SIKKIM\",\"SUB HIMALAYAN WEST BENGAL & SIKKIM\",\"SUB HIMALAYAN WEST BENGAL & SIKKIM\",\"SUB HIMALAYAN WEST BENGAL & SIKKIM\",\"SUB HIMALAYAN WEST BENGAL & SIKKIM\",\"SUB HIMALAYAN WEST BENGAL & SIKKIM\",\"SUB HIMALAYAN WEST BENGAL & SIKKIM\",\"SUB HIMALAYAN WEST BENGAL & SIKKIM\",\"SUB HIMALAYAN WEST BENGAL & SIKKIM\",\"SUB HIMALAYAN WEST BENGAL & SIKKIM\",\"SUB HIMALAYAN WEST BENGAL & SIKKIM\",\"SUB HIMALAYAN WEST BENGAL & SIKKIM\",\"SUB HIMALAYAN WEST BENGAL & SIKKIM\",\"SUB HIMALAYAN WEST BENGAL & SIKKIM\",\"SUB HIMALAYAN WEST BENGAL & SIKKIM\",\"SUB HIMALAYAN WEST BENGAL & SIKKIM\",\"SUB HIMALAYAN WEST BENGAL & SIKKIM\",\"SUB HIMALAYAN WEST BENGAL & SIKKIM\",\"SUB HIMALAYAN WEST BENGAL & SIKKIM\",\"SUB HIMALAYAN WEST BENGAL & SIKKIM\",\"SUB HIMALAYAN WEST BENGAL & SIKKIM\",\"SUB HIMALAYAN WEST BENGAL & SIKKIM\",\"SUB HIMALAYAN WEST BENGAL & SIKKIM\",\"SUB HIMALAYAN WEST BENGAL & SIKKIM\",\"SUB HIMALAYAN WEST BENGAL & SIKKIM\",\"SUB HIMALAYAN WEST BENGAL & SIKKIM\",\"SUB HIMALAYAN WEST BENGAL & SIKKIM\"],\"yaxis\":\"y\",\"type\":\"bar\"},{\"alignmentgroup\":\"True\",\"hovertemplate\":\"color=GANGETIC WEST BENGAL<br>x=%{x}<br>y=%{y}<extra></extra>\",\"legendgroup\":\"GANGETIC WEST BENGAL\",\"marker\":{\"color\":\"#19d3f3\",\"pattern\":{\"shape\":\"\"}},\"name\":\"GANGETIC WEST BENGAL\",\"offsetgroup\":\"GANGETIC WEST BENGAL\",\"orientation\":\"h\",\"showlegend\":true,\"textposition\":\"auto\",\"x\":[1487.6,1347.7,1354.3,1383.1,1666.9,1395.6,1337.0,1400.0,1697.8,1385.9,1264.9,1347.4,1826.8,1383.9,1310.3,1600.5,1775.8,1395.4,1482.2,1363.6,1300.2,1655.6,1285.2,1266.5,1273.6,1705.4,1190.5,1625.0,1557.3,1380.8,1475.8,1306.9,1867.2,1117.4,1015.1,1505.6,1522.5,1337.8,1698.4,1358.5,1801.1,1615.6,1446.2,1406.4,1271.5,1714.2,1363.0,1532.1,1493.7,1615.6,1214.0,1395.7,1505.8,1080.0,1268.2,1714.2,1130.5,1151.1,1812.9,1245.5,1290.4,1173.6,1289.5,1278.5,1263.7,1118.7,1348.4,1597.7,1404.0,1648.5,2099.8,1333.2,1735.2,1470.7,1466.2,1240.6,1840.6,1872.5,1157.9,1521.0,1909.0,1111.0,1463.6,1831.7,1413.4,1791.0,1591.5,1681.5,1626.3,1961.3,1609.1,1414.6,1759.7,1530.8,1936.0,1504.0,1657.7,1632.7,1957.0,1572.1,1540.6,1613.3,1496.7,1569.4,1604.9,1660.5,1941.4,1555.2,1315.0,1064.8,1686.5,1268.0,1764.1,1261.4,1530.3],\"xaxis\":\"x\",\"y\":[\"GANGETIC WEST BENGAL\",\"GANGETIC WEST BENGAL\",\"GANGETIC WEST BENGAL\",\"GANGETIC WEST BENGAL\",\"GANGETIC WEST BENGAL\",\"GANGETIC WEST BENGAL\",\"GANGETIC WEST BENGAL\",\"GANGETIC WEST BENGAL\",\"GANGETIC WEST BENGAL\",\"GANGETIC WEST BENGAL\",\"GANGETIC WEST BENGAL\",\"GANGETIC WEST BENGAL\",\"GANGETIC WEST BENGAL\",\"GANGETIC WEST BENGAL\",\"GANGETIC WEST BENGAL\",\"GANGETIC WEST BENGAL\",\"GANGETIC WEST BENGAL\",\"GANGETIC WEST BENGAL\",\"GANGETIC WEST BENGAL\",\"GANGETIC WEST BENGAL\",\"GANGETIC WEST BENGAL\",\"GANGETIC WEST BENGAL\",\"GANGETIC WEST BENGAL\",\"GANGETIC WEST BENGAL\",\"GANGETIC WEST BENGAL\",\"GANGETIC WEST BENGAL\",\"GANGETIC WEST BENGAL\",\"GANGETIC WEST BENGAL\",\"GANGETIC WEST BENGAL\",\"GANGETIC WEST BENGAL\",\"GANGETIC WEST BENGAL\",\"GANGETIC WEST BENGAL\",\"GANGETIC WEST BENGAL\",\"GANGETIC WEST BENGAL\",\"GANGETIC WEST BENGAL\",\"GANGETIC WEST BENGAL\",\"GANGETIC WEST BENGAL\",\"GANGETIC WEST BENGAL\",\"GANGETIC WEST BENGAL\",\"GANGETIC WEST BENGAL\",\"GANGETIC WEST BENGAL\",\"GANGETIC WEST BENGAL\",\"GANGETIC WEST BENGAL\",\"GANGETIC WEST BENGAL\",\"GANGETIC WEST BENGAL\",\"GANGETIC WEST BENGAL\",\"GANGETIC WEST BENGAL\",\"GANGETIC WEST BENGAL\",\"GANGETIC WEST BENGAL\",\"GANGETIC WEST BENGAL\",\"GANGETIC WEST BENGAL\",\"GANGETIC WEST BENGAL\",\"GANGETIC WEST BENGAL\",\"GANGETIC WEST BENGAL\",\"GANGETIC WEST BENGAL\",\"GANGETIC WEST BENGAL\",\"GANGETIC WEST BENGAL\",\"GANGETIC WEST BENGAL\",\"GANGETIC WEST BENGAL\",\"GANGETIC WEST BENGAL\",\"GANGETIC WEST BENGAL\",\"GANGETIC WEST BENGAL\",\"GANGETIC WEST BENGAL\",\"GANGETIC WEST BENGAL\",\"GANGETIC WEST BENGAL\",\"GANGETIC WEST BENGAL\",\"GANGETIC WEST BENGAL\",\"GANGETIC WEST BENGAL\",\"GANGETIC WEST BENGAL\",\"GANGETIC WEST BENGAL\",\"GANGETIC WEST BENGAL\",\"GANGETIC WEST BENGAL\",\"GANGETIC WEST BENGAL\",\"GANGETIC WEST BENGAL\",\"GANGETIC WEST BENGAL\",\"GANGETIC WEST BENGAL\",\"GANGETIC WEST BENGAL\",\"GANGETIC WEST BENGAL\",\"GANGETIC WEST BENGAL\",\"GANGETIC WEST BENGAL\",\"GANGETIC WEST BENGAL\",\"GANGETIC WEST BENGAL\",\"GANGETIC WEST BENGAL\",\"GANGETIC WEST BENGAL\",\"GANGETIC WEST BENGAL\",\"GANGETIC WEST BENGAL\",\"GANGETIC WEST BENGAL\",\"GANGETIC WEST BENGAL\",\"GANGETIC WEST BENGAL\",\"GANGETIC WEST BENGAL\",\"GANGETIC WEST BENGAL\",\"GANGETIC WEST BENGAL\",\"GANGETIC WEST BENGAL\",\"GANGETIC WEST BENGAL\",\"GANGETIC WEST BENGAL\",\"GANGETIC WEST BENGAL\",\"GANGETIC WEST BENGAL\",\"GANGETIC WEST BENGAL\",\"GANGETIC WEST BENGAL\",\"GANGETIC WEST BENGAL\",\"GANGETIC WEST BENGAL\",\"GANGETIC WEST BENGAL\",\"GANGETIC WEST BENGAL\",\"GANGETIC WEST BENGAL\",\"GANGETIC WEST BENGAL\",\"GANGETIC WEST BENGAL\",\"GANGETIC WEST BENGAL\",\"GANGETIC WEST BENGAL\",\"GANGETIC WEST BENGAL\",\"GANGETIC WEST BENGAL\",\"GANGETIC WEST BENGAL\",\"GANGETIC WEST BENGAL\",\"GANGETIC WEST BENGAL\",\"GANGETIC WEST BENGAL\",\"GANGETIC WEST BENGAL\"],\"yaxis\":\"y\",\"type\":\"bar\"},{\"alignmentgroup\":\"True\",\"hovertemplate\":\"color=ORISSA<br>x=%{x}<br>y=%{y}<extra></extra>\",\"legendgroup\":\"ORISSA\",\"marker\":{\"color\":\"#FF6692\",\"pattern\":{\"shape\":\"\"}},\"name\":\"ORISSA\",\"offsetgroup\":\"ORISSA\",\"orientation\":\"h\",\"showlegend\":true,\"textposition\":\"auto\",\"x\":[1284.2,1349.0,1568.3,1514.8,1357.3,1408.2,1447.1,1430.6,1535.5,1598.5,1417.3,1397.2,1544.3,1598.5,1437.1,1479.4,1850.1,1297.4,1758.1,1402.6,1324.0,1466.5,1258.6,1263.4,1807.8,1535.8,1525.5,1585.6,1637.8,1446.4,1477.2,1440.2,1851.0,1488.9,1219.4,1876.0,1567.3,1441.6,1563.4,1687.7,1435.2,1448.3,1586.5,1608.1,1538.6,1614.9,1410.9,1333.8,1348.9,1392.8,1396.2,1516.7,1437.7,1208.0,1597.0,1885.4,1277.5,1624.0,1495.9,1593.0,1945.3,1346.5,1562.0,1354.7,1174.7,1286.8,1427.5,1464.1,1283.2,1412.3,1596.8,1324.9,1573.5,987.0,1392.0,1178.8,1477.9,1439.0,995.9,1462.9,1295.7,1258.5,1432.0,1377.6,1607.3,1560.0,1097.6,1306.9,1299.7,1905.0,1472.8,1329.5,1448.0,1744.6,1614.0,1061.8,1504.5,1357.1,1484.3,1097.2,1672.5,1102.8,1648.2,1290.4,1503.4,1716.9,1633.8,1538.9,1330.3,1291.9,1346.2,1405.9,1632.4,1536.9,1210.1],\"xaxis\":\"x\",\"y\":[\"ORISSA\",\"ORISSA\",\"ORISSA\",\"ORISSA\",\"ORISSA\",\"ORISSA\",\"ORISSA\",\"ORISSA\",\"ORISSA\",\"ORISSA\",\"ORISSA\",\"ORISSA\",\"ORISSA\",\"ORISSA\",\"ORISSA\",\"ORISSA\",\"ORISSA\",\"ORISSA\",\"ORISSA\",\"ORISSA\",\"ORISSA\",\"ORISSA\",\"ORISSA\",\"ORISSA\",\"ORISSA\",\"ORISSA\",\"ORISSA\",\"ORISSA\",\"ORISSA\",\"ORISSA\",\"ORISSA\",\"ORISSA\",\"ORISSA\",\"ORISSA\",\"ORISSA\",\"ORISSA\",\"ORISSA\",\"ORISSA\",\"ORISSA\",\"ORISSA\",\"ORISSA\",\"ORISSA\",\"ORISSA\",\"ORISSA\",\"ORISSA\",\"ORISSA\",\"ORISSA\",\"ORISSA\",\"ORISSA\",\"ORISSA\",\"ORISSA\",\"ORISSA\",\"ORISSA\",\"ORISSA\",\"ORISSA\",\"ORISSA\",\"ORISSA\",\"ORISSA\",\"ORISSA\",\"ORISSA\",\"ORISSA\",\"ORISSA\",\"ORISSA\",\"ORISSA\",\"ORISSA\",\"ORISSA\",\"ORISSA\",\"ORISSA\",\"ORISSA\",\"ORISSA\",\"ORISSA\",\"ORISSA\",\"ORISSA\",\"ORISSA\",\"ORISSA\",\"ORISSA\",\"ORISSA\",\"ORISSA\",\"ORISSA\",\"ORISSA\",\"ORISSA\",\"ORISSA\",\"ORISSA\",\"ORISSA\",\"ORISSA\",\"ORISSA\",\"ORISSA\",\"ORISSA\",\"ORISSA\",\"ORISSA\",\"ORISSA\",\"ORISSA\",\"ORISSA\",\"ORISSA\",\"ORISSA\",\"ORISSA\",\"ORISSA\",\"ORISSA\",\"ORISSA\",\"ORISSA\",\"ORISSA\",\"ORISSA\",\"ORISSA\",\"ORISSA\",\"ORISSA\",\"ORISSA\",\"ORISSA\",\"ORISSA\",\"ORISSA\",\"ORISSA\",\"ORISSA\",\"ORISSA\",\"ORISSA\",\"ORISSA\",\"ORISSA\"],\"yaxis\":\"y\",\"type\":\"bar\"},{\"alignmentgroup\":\"True\",\"hovertemplate\":\"color=JHARKHAND<br>x=%{x}<br>y=%{y}<extra></extra>\",\"legendgroup\":\"JHARKHAND\",\"marker\":{\"color\":\"#B6E880\",\"pattern\":{\"shape\":\"\"}},\"name\":\"JHARKHAND\",\"offsetgroup\":\"JHARKHAND\",\"orientation\":\"h\",\"showlegend\":true,\"textposition\":\"auto\",\"x\":[1274.5,1197.6,1174.3,1480.7,1354.7,1314.3,1455.7,1214.2,1447.9,1297.6,1475.4,1142.9,1585.6,1215.5,1102.3,1364.3,1724.4,1162.6,1633.5,1415.0,1233.8,1443.2,1431.9,1431.8,1327.6,1478.4,1283.1,1384.0,1611.5,1434.0,1350.4,1193.8,1535.6,1197.4,1151.6,1664.3,1450.6,1229.8,1519.7,1231.9,1513.5,1589.0,1556.1,1386.3,1308.7,1553.2,1234.5,1402.6,1436.7,1393.0,1071.7,1387.4,1509.4,1059.5,1080.8,1555.7,1377.5,1180.5,1599.9,1248.8,1560.5,1047.7,1315.0,1150.3,1012.4,879.8,1225.3,1293.4,1158.1,1291.5,1898.6,996.1,1441.0,1127.0,1361.3,1191.8,1521.5,1556.1,882.8,1340.6,1167.2,1085.3,1261.7,1529.9,1240.3,1335.6,1332.7,1153.7,1149.0,1404.2,1250.9,933.0,1204.0,1579.4,1366.5,1191.7,1461.3,1353.8,1586.9,1191.5,1254.4,1034.9,1245.0,1136.6,960.4,1459.5,1437.3,1325.3,996.1,697.1,1374.7,1065.0,1253.6,1156.6,1081.8],\"xaxis\":\"x\",\"y\":[\"JHARKHAND\",\"JHARKHAND\",\"JHARKHAND\",\"JHARKHAND\",\"JHARKHAND\",\"JHARKHAND\",\"JHARKHAND\",\"JHARKHAND\",\"JHARKHAND\",\"JHARKHAND\",\"JHARKHAND\",\"JHARKHAND\",\"JHARKHAND\",\"JHARKHAND\",\"JHARKHAND\",\"JHARKHAND\",\"JHARKHAND\",\"JHARKHAND\",\"JHARKHAND\",\"JHARKHAND\",\"JHARKHAND\",\"JHARKHAND\",\"JHARKHAND\",\"JHARKHAND\",\"JHARKHAND\",\"JHARKHAND\",\"JHARKHAND\",\"JHARKHAND\",\"JHARKHAND\",\"JHARKHAND\",\"JHARKHAND\",\"JHARKHAND\",\"JHARKHAND\",\"JHARKHAND\",\"JHARKHAND\",\"JHARKHAND\",\"JHARKHAND\",\"JHARKHAND\",\"JHARKHAND\",\"JHARKHAND\",\"JHARKHAND\",\"JHARKHAND\",\"JHARKHAND\",\"JHARKHAND\",\"JHARKHAND\",\"JHARKHAND\",\"JHARKHAND\",\"JHARKHAND\",\"JHARKHAND\",\"JHARKHAND\",\"JHARKHAND\",\"JHARKHAND\",\"JHARKHAND\",\"JHARKHAND\",\"JHARKHAND\",\"JHARKHAND\",\"JHARKHAND\",\"JHARKHAND\",\"JHARKHAND\",\"JHARKHAND\",\"JHARKHAND\",\"JHARKHAND\",\"JHARKHAND\",\"JHARKHAND\",\"JHARKHAND\",\"JHARKHAND\",\"JHARKHAND\",\"JHARKHAND\",\"JHARKHAND\",\"JHARKHAND\",\"JHARKHAND\",\"JHARKHAND\",\"JHARKHAND\",\"JHARKHAND\",\"JHARKHAND\",\"JHARKHAND\",\"JHARKHAND\",\"JHARKHAND\",\"JHARKHAND\",\"JHARKHAND\",\"JHARKHAND\",\"JHARKHAND\",\"JHARKHAND\",\"JHARKHAND\",\"JHARKHAND\",\"JHARKHAND\",\"JHARKHAND\",\"JHARKHAND\",\"JHARKHAND\",\"JHARKHAND\",\"JHARKHAND\",\"JHARKHAND\",\"JHARKHAND\",\"JHARKHAND\",\"JHARKHAND\",\"JHARKHAND\",\"JHARKHAND\",\"JHARKHAND\",\"JHARKHAND\",\"JHARKHAND\",\"JHARKHAND\",\"JHARKHAND\",\"JHARKHAND\",\"JHARKHAND\",\"JHARKHAND\",\"JHARKHAND\",\"JHARKHAND\",\"JHARKHAND\",\"JHARKHAND\",\"JHARKHAND\",\"JHARKHAND\",\"JHARKHAND\",\"JHARKHAND\",\"JHARKHAND\",\"JHARKHAND\"],\"yaxis\":\"y\",\"type\":\"bar\"},{\"alignmentgroup\":\"True\",\"hovertemplate\":\"color=BIHAR<br>x=%{x}<br>y=%{y}<extra></extra>\",\"legendgroup\":\"BIHAR\",\"marker\":{\"color\":\"#FF97FF\",\"pattern\":{\"shape\":\"\"}},\"name\":\"BIHAR\",\"offsetgroup\":\"BIHAR\",\"orientation\":\"h\",\"showlegend\":true,\"textposition\":\"auto\",\"x\":[952.3,1206.2,1016.3,1269.5,1498.5,1265.1,1126.4,737.5,1390.5,1398.5,1449.2,1129.4,1529.7,1059.8,1349.4,1504.6,1334.1,1411.7,1252.7,1123.9,1272.2,1449.2,982.8,1456.3,1191.5,1121.8,1100.2,1249.8,1359.2,1114.3,1146.3,926.9,1392.6,1226.1,1240.4,1572.5,1306.4,1506.7,1243.2,1088.3,1223.1,1252.5,1169.9,1228.8,1242.9,1393.7,1092.1,1299.2,1444.4,1124.6,850.2,1206.8,1378.7,1050.5,1244.2,1493.4,966.9,1167.4,1179.6,1247.9,1258.1,1178.1,1326.1,1122.5,1002.7,767.0,999.9,1140.1,1288.6,1074.7,1432.6,717.9,1189.0,1235.2,1069.1,1161.7,1147.5,1290.8,1001.9,1252.2,1364.7,933.5,1104.2,1426.2,1455.0,1322.1,1660.4,1337.4,1269.9,1239.4,1045.7,797.6,1208.3,969.4,1111.9,1107.2,1303.7,1332.5,1402.7,1207.0,1247.0,1105.8,1353.9,1147.8,907.8,1052.8,1600.2,1197.7,889.3,629.2,1097.1,1032.4,1069.9,1061.0,872.7],\"xaxis\":\"x\",\"y\":[\"BIHAR\",\"BIHAR\",\"BIHAR\",\"BIHAR\",\"BIHAR\",\"BIHAR\",\"BIHAR\",\"BIHAR\",\"BIHAR\",\"BIHAR\",\"BIHAR\",\"BIHAR\",\"BIHAR\",\"BIHAR\",\"BIHAR\",\"BIHAR\",\"BIHAR\",\"BIHAR\",\"BIHAR\",\"BIHAR\",\"BIHAR\",\"BIHAR\",\"BIHAR\",\"BIHAR\",\"BIHAR\",\"BIHAR\",\"BIHAR\",\"BIHAR\",\"BIHAR\",\"BIHAR\",\"BIHAR\",\"BIHAR\",\"BIHAR\",\"BIHAR\",\"BIHAR\",\"BIHAR\",\"BIHAR\",\"BIHAR\",\"BIHAR\",\"BIHAR\",\"BIHAR\",\"BIHAR\",\"BIHAR\",\"BIHAR\",\"BIHAR\",\"BIHAR\",\"BIHAR\",\"BIHAR\",\"BIHAR\",\"BIHAR\",\"BIHAR\",\"BIHAR\",\"BIHAR\",\"BIHAR\",\"BIHAR\",\"BIHAR\",\"BIHAR\",\"BIHAR\",\"BIHAR\",\"BIHAR\",\"BIHAR\",\"BIHAR\",\"BIHAR\",\"BIHAR\",\"BIHAR\",\"BIHAR\",\"BIHAR\",\"BIHAR\",\"BIHAR\",\"BIHAR\",\"BIHAR\",\"BIHAR\",\"BIHAR\",\"BIHAR\",\"BIHAR\",\"BIHAR\",\"BIHAR\",\"BIHAR\",\"BIHAR\",\"BIHAR\",\"BIHAR\",\"BIHAR\",\"BIHAR\",\"BIHAR\",\"BIHAR\",\"BIHAR\",\"BIHAR\",\"BIHAR\",\"BIHAR\",\"BIHAR\",\"BIHAR\",\"BIHAR\",\"BIHAR\",\"BIHAR\",\"BIHAR\",\"BIHAR\",\"BIHAR\",\"BIHAR\",\"BIHAR\",\"BIHAR\",\"BIHAR\",\"BIHAR\",\"BIHAR\",\"BIHAR\",\"BIHAR\",\"BIHAR\",\"BIHAR\",\"BIHAR\",\"BIHAR\",\"BIHAR\",\"BIHAR\",\"BIHAR\",\"BIHAR\",\"BIHAR\",\"BIHAR\"],\"yaxis\":\"y\",\"type\":\"bar\"},{\"alignmentgroup\":\"True\",\"hovertemplate\":\"color=EAST UTTAR PRADESH<br>x=%{x}<br>y=%{y}<extra></extra>\",\"legendgroup\":\"EAST UTTAR PRADESH\",\"marker\":{\"color\":\"#FECB52\",\"pattern\":{\"shape\":\"\"}},\"name\":\"EAST UTTAR PRADESH\",\"offsetgroup\":\"EAST UTTAR PRADESH\",\"orientation\":\"h\",\"showlegend\":true,\"textposition\":\"auto\",\"x\":[873.2,905.2,1216.4,1071.2,891.6,997.7,666.3,744.7,1106.9,1116.4,1113.9,879.6,861.4,988.8,1409.8,1201.9,1216.5,650.7,1023.4,860.2,1114.7,1364.0,1076.2,1119.9,1114.1,989.5,1031.2,804.8,1014.8,1069.5,1047.1,738.5,977.5,1068.4,919.8,1545.5,1035.3,1374.2,945.0,866.8,798.2,1028.6,1101.1,1061.5,980.4,1038.9,1006.3,1323.1,1131.0,951.4,752.5,935.9,1266.9,969.7,1424.3,1254.1,955.7,1016.9,869.2,1170.0,1214.3,1072.0,996.3,1036.6,685.5,707.8,1029.4,840.0,1024.6,1132.3,1311.1,666.9,955.7,882.2,1225.5,923.5,914.1,1116.3,696.5,1488.5,1110.1,1110.6,1204.8,1076.7,1175.9,935.3,824.7,1085.1,969.9,1106.1,875.2,863.4,834.0,910.2,860.5,1010.3,493.3,661.0,952.8,946.8,973.8,689.1,1096.4,746.9,770.3,632.1,741.2,953.4,610.2,692.2,781.2,602.7,1041.4,701.2,603.3],\"xaxis\":\"x\",\"y\":[\"EAST UTTAR PRADESH\",\"EAST UTTAR PRADESH\",\"EAST UTTAR PRADESH\",\"EAST UTTAR PRADESH\",\"EAST UTTAR PRADESH\",\"EAST UTTAR PRADESH\",\"EAST UTTAR PRADESH\",\"EAST UTTAR PRADESH\",\"EAST UTTAR PRADESH\",\"EAST UTTAR PRADESH\",\"EAST UTTAR PRADESH\",\"EAST UTTAR PRADESH\",\"EAST UTTAR PRADESH\",\"EAST UTTAR PRADESH\",\"EAST UTTAR PRADESH\",\"EAST UTTAR PRADESH\",\"EAST UTTAR PRADESH\",\"EAST UTTAR PRADESH\",\"EAST UTTAR PRADESH\",\"EAST UTTAR PRADESH\",\"EAST UTTAR PRADESH\",\"EAST UTTAR PRADESH\",\"EAST UTTAR PRADESH\",\"EAST UTTAR PRADESH\",\"EAST UTTAR PRADESH\",\"EAST UTTAR PRADESH\",\"EAST UTTAR PRADESH\",\"EAST UTTAR PRADESH\",\"EAST UTTAR PRADESH\",\"EAST UTTAR PRADESH\",\"EAST UTTAR PRADESH\",\"EAST UTTAR PRADESH\",\"EAST UTTAR PRADESH\",\"EAST UTTAR PRADESH\",\"EAST UTTAR PRADESH\",\"EAST UTTAR PRADESH\",\"EAST UTTAR PRADESH\",\"EAST UTTAR PRADESH\",\"EAST UTTAR PRADESH\",\"EAST UTTAR PRADESH\",\"EAST UTTAR PRADESH\",\"EAST UTTAR PRADESH\",\"EAST UTTAR PRADESH\",\"EAST UTTAR PRADESH\",\"EAST UTTAR PRADESH\",\"EAST UTTAR PRADESH\",\"EAST UTTAR PRADESH\",\"EAST UTTAR PRADESH\",\"EAST UTTAR PRADESH\",\"EAST UTTAR PRADESH\",\"EAST UTTAR PRADESH\",\"EAST UTTAR PRADESH\",\"EAST UTTAR PRADESH\",\"EAST UTTAR PRADESH\",\"EAST UTTAR PRADESH\",\"EAST UTTAR PRADESH\",\"EAST UTTAR PRADESH\",\"EAST UTTAR PRADESH\",\"EAST UTTAR PRADESH\",\"EAST UTTAR PRADESH\",\"EAST UTTAR PRADESH\",\"EAST UTTAR PRADESH\",\"EAST UTTAR PRADESH\",\"EAST UTTAR PRADESH\",\"EAST UTTAR PRADESH\",\"EAST UTTAR PRADESH\",\"EAST UTTAR PRADESH\",\"EAST UTTAR PRADESH\",\"EAST UTTAR PRADESH\",\"EAST UTTAR PRADESH\",\"EAST UTTAR PRADESH\",\"EAST UTTAR PRADESH\",\"EAST UTTAR PRADESH\",\"EAST UTTAR PRADESH\",\"EAST UTTAR PRADESH\",\"EAST UTTAR PRADESH\",\"EAST UTTAR PRADESH\",\"EAST UTTAR PRADESH\",\"EAST UTTAR PRADESH\",\"EAST UTTAR PRADESH\",\"EAST UTTAR PRADESH\",\"EAST UTTAR PRADESH\",\"EAST UTTAR PRADESH\",\"EAST UTTAR PRADESH\",\"EAST UTTAR PRADESH\",\"EAST UTTAR PRADESH\",\"EAST UTTAR PRADESH\",\"EAST UTTAR PRADESH\",\"EAST UTTAR PRADESH\",\"EAST UTTAR PRADESH\",\"EAST UTTAR PRADESH\",\"EAST UTTAR PRADESH\",\"EAST UTTAR PRADESH\",\"EAST UTTAR PRADESH\",\"EAST UTTAR PRADESH\",\"EAST UTTAR PRADESH\",\"EAST UTTAR PRADESH\",\"EAST UTTAR PRADESH\",\"EAST UTTAR PRADESH\",\"EAST UTTAR PRADESH\",\"EAST UTTAR PRADESH\",\"EAST UTTAR PRADESH\",\"EAST UTTAR PRADESH\",\"EAST UTTAR PRADESH\",\"EAST UTTAR PRADESH\",\"EAST UTTAR PRADESH\",\"EAST UTTAR PRADESH\",\"EAST UTTAR PRADESH\",\"EAST UTTAR PRADESH\",\"EAST UTTAR PRADESH\",\"EAST UTTAR PRADESH\",\"EAST UTTAR PRADESH\",\"EAST UTTAR PRADESH\",\"EAST UTTAR PRADESH\",\"EAST UTTAR PRADESH\"],\"yaxis\":\"y\",\"type\":\"bar\"},{\"alignmentgroup\":\"True\",\"hovertemplate\":\"color=WEST UTTAR PRADESH<br>x=%{x}<br>y=%{y}<extra></extra>\",\"legendgroup\":\"WEST UTTAR PRADESH\",\"marker\":{\"color\":\"#636efa\",\"pattern\":{\"shape\":\"\"}},\"name\":\"WEST UTTAR PRADESH\",\"offsetgroup\":\"WEST UTTAR PRADESH\",\"orientation\":\"h\",\"showlegend\":true,\"textposition\":\"auto\",\"x\":[775.9,736.6,808.4,945.2,433.5,978.7,589.5,866.3,903.0,875.9,751.6,804.5,495.3,887.5,802.5,1114.2,1120.2,371.9,969.1,622.8,992.3,1000.8,902.3,1064.1,943.8,917.0,934.2,644.6,650.1,788.1,930.8,706.0,1035.3,897.7,784.6,1218.4,676.7,730.4,721.1,783.9,516.4,1088.2,850.4,770.3,966.0,896.6,809.2,1028.1,906.7,834.0,728.9,875.3,761.8,879.3,1060.9,1064.4,1005.2,1165.3,768.3,1129.8,1198.3,798.2,929.7,1002.0,673.5,756.0,1157.2,693.3,878.1,863.8,1003.1,585.1,805.9,668.9,989.5,653.2,994.3,1244.2,558.0,984.7,739.6,969.1,1191.7,781.3,957.2,715.2,466.8,1035.6,657.3,958.0,748.7,820.6,771.9,806.8,826.8,941.2,445.2,867.2,786.4,771.4,661.7,625.2,1047.5,642.3,725.7,529.3,572.5,799.8,549.2,820.7,777.4,389.6,932.8,486.9,582.7],\"xaxis\":\"x\",\"y\":[\"WEST UTTAR PRADESH\",\"WEST UTTAR PRADESH\",\"WEST UTTAR PRADESH\",\"WEST UTTAR PRADESH\",\"WEST UTTAR PRADESH\",\"WEST UTTAR PRADESH\",\"WEST UTTAR PRADESH\",\"WEST UTTAR PRADESH\",\"WEST UTTAR PRADESH\",\"WEST UTTAR PRADESH\",\"WEST UTTAR PRADESH\",\"WEST UTTAR PRADESH\",\"WEST UTTAR PRADESH\",\"WEST UTTAR PRADESH\",\"WEST UTTAR PRADESH\",\"WEST UTTAR PRADESH\",\"WEST UTTAR PRADESH\",\"WEST UTTAR PRADESH\",\"WEST UTTAR PRADESH\",\"WEST UTTAR PRADESH\",\"WEST UTTAR PRADESH\",\"WEST UTTAR PRADESH\",\"WEST UTTAR PRADESH\",\"WEST UTTAR PRADESH\",\"WEST UTTAR PRADESH\",\"WEST UTTAR PRADESH\",\"WEST UTTAR PRADESH\",\"WEST UTTAR PRADESH\",\"WEST UTTAR PRADESH\",\"WEST UTTAR PRADESH\",\"WEST UTTAR PRADESH\",\"WEST UTTAR PRADESH\",\"WEST UTTAR PRADESH\",\"WEST UTTAR PRADESH\",\"WEST UTTAR PRADESH\",\"WEST UTTAR PRADESH\",\"WEST UTTAR PRADESH\",\"WEST UTTAR PRADESH\",\"WEST UTTAR PRADESH\",\"WEST UTTAR PRADESH\",\"WEST UTTAR PRADESH\",\"WEST UTTAR PRADESH\",\"WEST UTTAR PRADESH\",\"WEST UTTAR PRADESH\",\"WEST UTTAR PRADESH\",\"WEST UTTAR PRADESH\",\"WEST UTTAR PRADESH\",\"WEST UTTAR PRADESH\",\"WEST UTTAR PRADESH\",\"WEST UTTAR PRADESH\",\"WEST UTTAR PRADESH\",\"WEST UTTAR PRADESH\",\"WEST UTTAR PRADESH\",\"WEST UTTAR PRADESH\",\"WEST UTTAR PRADESH\",\"WEST UTTAR PRADESH\",\"WEST UTTAR PRADESH\",\"WEST UTTAR PRADESH\",\"WEST UTTAR PRADESH\",\"WEST UTTAR PRADESH\",\"WEST UTTAR PRADESH\",\"WEST UTTAR PRADESH\",\"WEST UTTAR PRADESH\",\"WEST UTTAR PRADESH\",\"WEST UTTAR PRADESH\",\"WEST UTTAR PRADESH\",\"WEST UTTAR PRADESH\",\"WEST UTTAR PRADESH\",\"WEST UTTAR PRADESH\",\"WEST UTTAR PRADESH\",\"WEST UTTAR PRADESH\",\"WEST UTTAR PRADESH\",\"WEST UTTAR PRADESH\",\"WEST UTTAR PRADESH\",\"WEST UTTAR PRADESH\",\"WEST UTTAR PRADESH\",\"WEST UTTAR PRADESH\",\"WEST UTTAR PRADESH\",\"WEST UTTAR PRADESH\",\"WEST UTTAR PRADESH\",\"WEST UTTAR PRADESH\",\"WEST UTTAR PRADESH\",\"WEST UTTAR PRADESH\",\"WEST UTTAR PRADESH\",\"WEST UTTAR PRADESH\",\"WEST UTTAR PRADESH\",\"WEST UTTAR PRADESH\",\"WEST UTTAR PRADESH\",\"WEST UTTAR PRADESH\",\"WEST UTTAR PRADESH\",\"WEST UTTAR PRADESH\",\"WEST UTTAR PRADESH\",\"WEST UTTAR PRADESH\",\"WEST UTTAR PRADESH\",\"WEST UTTAR PRADESH\",\"WEST UTTAR PRADESH\",\"WEST UTTAR PRADESH\",\"WEST UTTAR PRADESH\",\"WEST UTTAR PRADESH\",\"WEST UTTAR PRADESH\",\"WEST UTTAR PRADESH\",\"WEST UTTAR PRADESH\",\"WEST UTTAR PRADESH\",\"WEST UTTAR PRADESH\",\"WEST UTTAR PRADESH\",\"WEST UTTAR PRADESH\",\"WEST UTTAR PRADESH\",\"WEST UTTAR PRADESH\",\"WEST UTTAR PRADESH\",\"WEST UTTAR PRADESH\",\"WEST UTTAR PRADESH\",\"WEST UTTAR PRADESH\",\"WEST UTTAR PRADESH\",\"WEST UTTAR PRADESH\",\"WEST UTTAR PRADESH\"],\"yaxis\":\"y\",\"type\":\"bar\"},{\"alignmentgroup\":\"True\",\"hovertemplate\":\"color=UTTARAKHAND<br>x=%{x}<br>y=%{y}<extra></extra>\",\"legendgroup\":\"UTTARAKHAND\",\"marker\":{\"color\":\"#EF553B\",\"pattern\":{\"shape\":\"\"}},\"name\":\"UTTARAKHAND\",\"offsetgroup\":\"UTTARAKHAND\",\"orientation\":\"h\",\"showlegend\":true,\"textposition\":\"auto\",\"x\":[1562.5,1324.2,1306.5,1492.0,1302.1,1537.9,1194.4,1256.2,1717.7,1963.9,1542.9,1394.5,1137.6,1940.9,1601.3,1678.8,2102.9,1215.2,1583.1,1328.4,1848.7,1860.0,1582.9,1927.1,1535.0,1381.2,1649.9,1241.9,1212.2,1271.2,1334.1,1369.6,1595.8,1339.0,1137.2,1912.3,1533.6,1529.3,1142.6,1223.7,1061.6,1711.4,1366.7,1198.9,1648.0,1526.7,1359.8,1535.4,1412.1,1584.1,1174.3,1477.8,1565.8,1862.9,1666.9,1943.0,1780.7,1499.0,1743.0,1540.1,1948.3,1647.4,1802.0,1769.6,1305.7,1465.8,1556.2,1478.6,1635.7,1293.5,1803.8,1077.8,1239.7,1161.8,1580.3,986.3,1416.3,2031.4,1072.3,1333.5,1356.1,1372.1,1525.3,1339.1,1653.7,1514.5,987.3,1602.4,1263.8,1564.9,1020.7,1108.1,1594.1,1441.7,1616.1,1401.4,803.4,1198.6,1185.5,1712.9,1544.4,1574.7,1734.3,1219.6,1348.2,1178.9,1924.3,1363.7,847.8,1424.0,1564.7,1223.9,1735.4,1287.4,1247.6],\"xaxis\":\"x\",\"y\":[\"UTTARAKHAND\",\"UTTARAKHAND\",\"UTTARAKHAND\",\"UTTARAKHAND\",\"UTTARAKHAND\",\"UTTARAKHAND\",\"UTTARAKHAND\",\"UTTARAKHAND\",\"UTTARAKHAND\",\"UTTARAKHAND\",\"UTTARAKHAND\",\"UTTARAKHAND\",\"UTTARAKHAND\",\"UTTARAKHAND\",\"UTTARAKHAND\",\"UTTARAKHAND\",\"UTTARAKHAND\",\"UTTARAKHAND\",\"UTTARAKHAND\",\"UTTARAKHAND\",\"UTTARAKHAND\",\"UTTARAKHAND\",\"UTTARAKHAND\",\"UTTARAKHAND\",\"UTTARAKHAND\",\"UTTARAKHAND\",\"UTTARAKHAND\",\"UTTARAKHAND\",\"UTTARAKHAND\",\"UTTARAKHAND\",\"UTTARAKHAND\",\"UTTARAKHAND\",\"UTTARAKHAND\",\"UTTARAKHAND\",\"UTTARAKHAND\",\"UTTARAKHAND\",\"UTTARAKHAND\",\"UTTARAKHAND\",\"UTTARAKHAND\",\"UTTARAKHAND\",\"UTTARAKHAND\",\"UTTARAKHAND\",\"UTTARAKHAND\",\"UTTARAKHAND\",\"UTTARAKHAND\",\"UTTARAKHAND\",\"UTTARAKHAND\",\"UTTARAKHAND\",\"UTTARAKHAND\",\"UTTARAKHAND\",\"UTTARAKHAND\",\"UTTARAKHAND\",\"UTTARAKHAND\",\"UTTARAKHAND\",\"UTTARAKHAND\",\"UTTARAKHAND\",\"UTTARAKHAND\",\"UTTARAKHAND\",\"UTTARAKHAND\",\"UTTARAKHAND\",\"UTTARAKHAND\",\"UTTARAKHAND\",\"UTTARAKHAND\",\"UTTARAKHAND\",\"UTTARAKHAND\",\"UTTARAKHAND\",\"UTTARAKHAND\",\"UTTARAKHAND\",\"UTTARAKHAND\",\"UTTARAKHAND\",\"UTTARAKHAND\",\"UTTARAKHAND\",\"UTTARAKHAND\",\"UTTARAKHAND\",\"UTTARAKHAND\",\"UTTARAKHAND\",\"UTTARAKHAND\",\"UTTARAKHAND\",\"UTTARAKHAND\",\"UTTARAKHAND\",\"UTTARAKHAND\",\"UTTARAKHAND\",\"UTTARAKHAND\",\"UTTARAKHAND\",\"UTTARAKHAND\",\"UTTARAKHAND\",\"UTTARAKHAND\",\"UTTARAKHAND\",\"UTTARAKHAND\",\"UTTARAKHAND\",\"UTTARAKHAND\",\"UTTARAKHAND\",\"UTTARAKHAND\",\"UTTARAKHAND\",\"UTTARAKHAND\",\"UTTARAKHAND\",\"UTTARAKHAND\",\"UTTARAKHAND\",\"UTTARAKHAND\",\"UTTARAKHAND\",\"UTTARAKHAND\",\"UTTARAKHAND\",\"UTTARAKHAND\",\"UTTARAKHAND\",\"UTTARAKHAND\",\"UTTARAKHAND\",\"UTTARAKHAND\",\"UTTARAKHAND\",\"UTTARAKHAND\",\"UTTARAKHAND\",\"UTTARAKHAND\",\"UTTARAKHAND\",\"UTTARAKHAND\",\"UTTARAKHAND\",\"UTTARAKHAND\"],\"yaxis\":\"y\",\"type\":\"bar\"},{\"alignmentgroup\":\"True\",\"hovertemplate\":\"color=HARYANA DELHI & CHANDIGARH<br>x=%{x}<br>y=%{y}<extra></extra>\",\"legendgroup\":\"HARYANA DELHI & CHANDIGARH\",\"marker\":{\"color\":\"#00cc96\",\"pattern\":{\"shape\":\"\"}},\"name\":\"HARYANA DELHI & CHANDIGARH\",\"offsetgroup\":\"HARYANA DELHI & CHANDIGARH\",\"orientation\":\"h\",\"showlegend\":true,\"textposition\":\"auto\",\"x\":[390.1,419.8,428.9,527.8,322.9,593.6,443.9,689.0,769.3,605.2,509.7,529.3,508.4,664.7,422.4,629.1,986.7,234.7,553.7,368.8,446.5,552.9,581.5,654.8,557.2,615.9,502.5,388.2,306.6,500.5,519.2,440.1,856.9,501.4,568.3,511.1,481.7,278.8,310.2,395.7,363.9,804.5,407.9,484.2,654.6,437.8,464.5,592.1,485.3,551.1,338.2,556.3,561.9,537.0,694.1,653.8,617.2,673.0,484.9,722.9,627.9,511.0,521.8,710.9,381.9,707.7,839.9,388.3,477.2,538.2,636.8,440.8,527.2,384.9,622.1,726.7,740.1,651.1,341.5,513.2,493.4,506.6,744.5,479.2,572.4,450.9,318.6,845.0,416.5,703.1,393.9,429.7,523.8,564.4,819.1,644.6,668.6,685.3,344.4,384.4,485.5,357.2,597.6,487.3,519.5,330.9,446.6,710.4,395.4,640.5,512.0,391.4,461.2,305.5,435.3],\"xaxis\":\"x\",\"y\":[\"HARYANA DELHI & CHANDIGARH\",\"HARYANA DELHI & CHANDIGARH\",\"HARYANA DELHI & CHANDIGARH\",\"HARYANA DELHI & CHANDIGARH\",\"HARYANA DELHI & CHANDIGARH\",\"HARYANA DELHI & CHANDIGARH\",\"HARYANA DELHI & CHANDIGARH\",\"HARYANA DELHI & CHANDIGARH\",\"HARYANA DELHI & CHANDIGARH\",\"HARYANA DELHI & CHANDIGARH\",\"HARYANA DELHI & CHANDIGARH\",\"HARYANA DELHI & CHANDIGARH\",\"HARYANA DELHI & CHANDIGARH\",\"HARYANA DELHI & CHANDIGARH\",\"HARYANA DELHI & CHANDIGARH\",\"HARYANA DELHI & CHANDIGARH\",\"HARYANA DELHI & CHANDIGARH\",\"HARYANA DELHI & CHANDIGARH\",\"HARYANA DELHI & CHANDIGARH\",\"HARYANA DELHI & CHANDIGARH\",\"HARYANA DELHI & CHANDIGARH\",\"HARYANA DELHI & CHANDIGARH\",\"HARYANA DELHI & CHANDIGARH\",\"HARYANA DELHI & CHANDIGARH\",\"HARYANA DELHI & CHANDIGARH\",\"HARYANA DELHI & CHANDIGARH\",\"HARYANA DELHI & CHANDIGARH\",\"HARYANA DELHI & CHANDIGARH\",\"HARYANA DELHI & CHANDIGARH\",\"HARYANA DELHI & CHANDIGARH\",\"HARYANA DELHI & CHANDIGARH\",\"HARYANA DELHI & CHANDIGARH\",\"HARYANA DELHI & CHANDIGARH\",\"HARYANA DELHI & CHANDIGARH\",\"HARYANA DELHI & CHANDIGARH\",\"HARYANA DELHI & CHANDIGARH\",\"HARYANA DELHI & CHANDIGARH\",\"HARYANA DELHI & CHANDIGARH\",\"HARYANA DELHI & CHANDIGARH\",\"HARYANA DELHI & CHANDIGARH\",\"HARYANA DELHI & CHANDIGARH\",\"HARYANA DELHI & CHANDIGARH\",\"HARYANA DELHI & CHANDIGARH\",\"HARYANA DELHI & CHANDIGARH\",\"HARYANA DELHI & CHANDIGARH\",\"HARYANA DELHI & CHANDIGARH\",\"HARYANA DELHI & CHANDIGARH\",\"HARYANA DELHI & CHANDIGARH\",\"HARYANA DELHI & CHANDIGARH\",\"HARYANA DELHI & CHANDIGARH\",\"HARYANA DELHI & CHANDIGARH\",\"HARYANA DELHI & CHANDIGARH\",\"HARYANA DELHI & CHANDIGARH\",\"HARYANA DELHI & CHANDIGARH\",\"HARYANA DELHI & CHANDIGARH\",\"HARYANA DELHI & CHANDIGARH\",\"HARYANA DELHI & CHANDIGARH\",\"HARYANA DELHI & CHANDIGARH\",\"HARYANA DELHI & CHANDIGARH\",\"HARYANA DELHI & CHANDIGARH\",\"HARYANA DELHI & CHANDIGARH\",\"HARYANA DELHI & CHANDIGARH\",\"HARYANA DELHI & CHANDIGARH\",\"HARYANA DELHI & CHANDIGARH\",\"HARYANA DELHI & CHANDIGARH\",\"HARYANA DELHI & CHANDIGARH\",\"HARYANA DELHI & CHANDIGARH\",\"HARYANA DELHI & CHANDIGARH\",\"HARYANA DELHI & CHANDIGARH\",\"HARYANA DELHI & CHANDIGARH\",\"HARYANA DELHI & CHANDIGARH\",\"HARYANA DELHI & CHANDIGARH\",\"HARYANA DELHI & CHANDIGARH\",\"HARYANA DELHI & CHANDIGARH\",\"HARYANA DELHI & CHANDIGARH\",\"HARYANA DELHI & CHANDIGARH\",\"HARYANA DELHI & CHANDIGARH\",\"HARYANA DELHI & CHANDIGARH\",\"HARYANA DELHI & CHANDIGARH\",\"HARYANA DELHI & CHANDIGARH\",\"HARYANA DELHI & CHANDIGARH\",\"HARYANA DELHI & CHANDIGARH\",\"HARYANA DELHI & CHANDIGARH\",\"HARYANA DELHI & CHANDIGARH\",\"HARYANA DELHI & CHANDIGARH\",\"HARYANA DELHI & CHANDIGARH\",\"HARYANA DELHI & CHANDIGARH\",\"HARYANA DELHI & CHANDIGARH\",\"HARYANA DELHI & CHANDIGARH\",\"HARYANA DELHI & CHANDIGARH\",\"HARYANA DELHI & CHANDIGARH\",\"HARYANA DELHI & CHANDIGARH\",\"HARYANA DELHI & CHANDIGARH\",\"HARYANA DELHI & CHANDIGARH\",\"HARYANA DELHI & CHANDIGARH\",\"HARYANA DELHI & CHANDIGARH\",\"HARYANA DELHI & CHANDIGARH\",\"HARYANA DELHI & CHANDIGARH\",\"HARYANA DELHI & CHANDIGARH\",\"HARYANA DELHI & CHANDIGARH\",\"HARYANA DELHI & CHANDIGARH\",\"HARYANA DELHI & CHANDIGARH\",\"HARYANA DELHI & CHANDIGARH\",\"HARYANA DELHI & CHANDIGARH\",\"HARYANA DELHI & CHANDIGARH\",\"HARYANA DELHI & CHANDIGARH\",\"HARYANA DELHI & CHANDIGARH\",\"HARYANA DELHI & CHANDIGARH\",\"HARYANA DELHI & CHANDIGARH\",\"HARYANA DELHI & CHANDIGARH\",\"HARYANA DELHI & CHANDIGARH\",\"HARYANA DELHI & CHANDIGARH\",\"HARYANA DELHI & CHANDIGARH\",\"HARYANA DELHI & CHANDIGARH\",\"HARYANA DELHI & CHANDIGARH\"],\"yaxis\":\"y\",\"type\":\"bar\"},{\"alignmentgroup\":\"True\",\"hovertemplate\":\"color=PUNJAB<br>x=%{x}<br>y=%{y}<extra></extra>\",\"legendgroup\":\"PUNJAB\",\"marker\":{\"color\":\"#ab63fa\",\"pattern\":{\"shape\":\"\"}},\"name\":\"PUNJAB\",\"offsetgroup\":\"PUNJAB\",\"orientation\":\"h\",\"showlegend\":true,\"textposition\":\"auto\",\"x\":[523.5,398.0,571.0,451.5,434.3,677.5,589.2,740.4,846.1,616.3,505.6,536.4,561.2,794.4,421.7,588.4,1126.7,339.6,549.9,383.1,370.4,513.6,737.9,590.8,629.6,607.3,481.0,437.1,423.0,557.2,588.6,490.3,860.6,429.2,598.2,626.4,571.1,430.9,403.7,532.2,506.3,871.6,422.3,626.9,805.3,478.1,600.9,620.2,584.9,992.0,499.5,565.9,611.5,633.2,973.9,750.4,710.5,828.0,699.8,606.9,690.1,769.3,476.2,708.8,423.2,638.2,680.4,536.2,494.8,650.6,748.0,470.9,743.1,356.2,705.9,794.7,712.6,720.6,464.0,661.7,503.7,571.3,751.1,710.5,752.9,611.9,409.6,1222.6,480.3,754.7,475.9,478.2,583.1,580.9,869.1,589.7,690.1,588.6,364.4,405.3,441.0,274.7,424.6,351.7,552.0,647.7,594.8,717.1,361.2,451.5,705.2,493.6,586.6,382.7,510.8],\"xaxis\":\"x\",\"y\":[\"PUNJAB\",\"PUNJAB\",\"PUNJAB\",\"PUNJAB\",\"PUNJAB\",\"PUNJAB\",\"PUNJAB\",\"PUNJAB\",\"PUNJAB\",\"PUNJAB\",\"PUNJAB\",\"PUNJAB\",\"PUNJAB\",\"PUNJAB\",\"PUNJAB\",\"PUNJAB\",\"PUNJAB\",\"PUNJAB\",\"PUNJAB\",\"PUNJAB\",\"PUNJAB\",\"PUNJAB\",\"PUNJAB\",\"PUNJAB\",\"PUNJAB\",\"PUNJAB\",\"PUNJAB\",\"PUNJAB\",\"PUNJAB\",\"PUNJAB\",\"PUNJAB\",\"PUNJAB\",\"PUNJAB\",\"PUNJAB\",\"PUNJAB\",\"PUNJAB\",\"PUNJAB\",\"PUNJAB\",\"PUNJAB\",\"PUNJAB\",\"PUNJAB\",\"PUNJAB\",\"PUNJAB\",\"PUNJAB\",\"PUNJAB\",\"PUNJAB\",\"PUNJAB\",\"PUNJAB\",\"PUNJAB\",\"PUNJAB\",\"PUNJAB\",\"PUNJAB\",\"PUNJAB\",\"PUNJAB\",\"PUNJAB\",\"PUNJAB\",\"PUNJAB\",\"PUNJAB\",\"PUNJAB\",\"PUNJAB\",\"PUNJAB\",\"PUNJAB\",\"PUNJAB\",\"PUNJAB\",\"PUNJAB\",\"PUNJAB\",\"PUNJAB\",\"PUNJAB\",\"PUNJAB\",\"PUNJAB\",\"PUNJAB\",\"PUNJAB\",\"PUNJAB\",\"PUNJAB\",\"PUNJAB\",\"PUNJAB\",\"PUNJAB\",\"PUNJAB\",\"PUNJAB\",\"PUNJAB\",\"PUNJAB\",\"PUNJAB\",\"PUNJAB\",\"PUNJAB\",\"PUNJAB\",\"PUNJAB\",\"PUNJAB\",\"PUNJAB\",\"PUNJAB\",\"PUNJAB\",\"PUNJAB\",\"PUNJAB\",\"PUNJAB\",\"PUNJAB\",\"PUNJAB\",\"PUNJAB\",\"PUNJAB\",\"PUNJAB\",\"PUNJAB\",\"PUNJAB\",\"PUNJAB\",\"PUNJAB\",\"PUNJAB\",\"PUNJAB\",\"PUNJAB\",\"PUNJAB\",\"PUNJAB\",\"PUNJAB\",\"PUNJAB\",\"PUNJAB\",\"PUNJAB\",\"PUNJAB\",\"PUNJAB\",\"PUNJAB\",\"PUNJAB\"],\"yaxis\":\"y\",\"type\":\"bar\"},{\"alignmentgroup\":\"True\",\"hovertemplate\":\"color=HIMACHAL PRADESH<br>x=%{x}<br>y=%{y}<extra></extra>\",\"legendgroup\":\"HIMACHAL PRADESH\",\"marker\":{\"color\":\"#FFA15A\",\"pattern\":{\"shape\":\"\"}},\"name\":\"HIMACHAL PRADESH\",\"offsetgroup\":\"HIMACHAL PRADESH\",\"orientation\":\"h\",\"showlegend\":true,\"textposition\":\"auto\",\"x\":[1345.1,951.6,993.3,987.6,930.2,1317.5,875.4,987.6,1077.0,1406.9,1333.8,1207.6,1119.3,1735.9,1236.8,1172.1,1703.6,984.7,1213.1,1084.8,1311.2,1718.6,1620.9,1660.7,1509.3,1450.0,1435.0,1308.9,1424.7,1305.5,1266.3,1418.9,1240.4,982.1,1027.9,1158.0,1465.0,927.5,877.8,1088.6,895.5,1328.3,1223.1,1128.8,1646.9,1539.0,1313.2,1758.7,1310.9,1684.4,1238.5,1263.7,1425.7,1717.6,1919.2,1541.6,1822.7,1572.3,1640.3,1115.1,1515.5,1393.5,1354.5,1354.1,1220.4,1371.0,1558.5,1168.2,1127.6,1082.5,1275.1,842.3,955.2,776.1,1054.1,1179.3,1245.0,1371.2,1021.0,1155.0,1147.1,1423.0,1189.6,968.3,1193.9,1322.6,1035.6,1881.1,1177.2,1462.7,1104.8,1383.1,1128.3,1410.2,1493.9,1384.4,1454.5,1381.6,1144.9,1068.4,991.8,990.4,1034.5,878.5,1248.5,1218.4,1034.5,1114.2,956.5,1259.4,1108.3,951.6,1211.9,1008.7,1210.5],\"xaxis\":\"x\",\"y\":[\"HIMACHAL PRADESH\",\"HIMACHAL PRADESH\",\"HIMACHAL PRADESH\",\"HIMACHAL PRADESH\",\"HIMACHAL PRADESH\",\"HIMACHAL PRADESH\",\"HIMACHAL PRADESH\",\"HIMACHAL PRADESH\",\"HIMACHAL PRADESH\",\"HIMACHAL PRADESH\",\"HIMACHAL PRADESH\",\"HIMACHAL PRADESH\",\"HIMACHAL PRADESH\",\"HIMACHAL PRADESH\",\"HIMACHAL PRADESH\",\"HIMACHAL PRADESH\",\"HIMACHAL PRADESH\",\"HIMACHAL PRADESH\",\"HIMACHAL PRADESH\",\"HIMACHAL PRADESH\",\"HIMACHAL PRADESH\",\"HIMACHAL PRADESH\",\"HIMACHAL PRADESH\",\"HIMACHAL PRADESH\",\"HIMACHAL PRADESH\",\"HIMACHAL PRADESH\",\"HIMACHAL PRADESH\",\"HIMACHAL PRADESH\",\"HIMACHAL PRADESH\",\"HIMACHAL PRADESH\",\"HIMACHAL PRADESH\",\"HIMACHAL PRADESH\",\"HIMACHAL PRADESH\",\"HIMACHAL PRADESH\",\"HIMACHAL PRADESH\",\"HIMACHAL PRADESH\",\"HIMACHAL PRADESH\",\"HIMACHAL PRADESH\",\"HIMACHAL PRADESH\",\"HIMACHAL PRADESH\",\"HIMACHAL PRADESH\",\"HIMACHAL PRADESH\",\"HIMACHAL PRADESH\",\"HIMACHAL PRADESH\",\"HIMACHAL PRADESH\",\"HIMACHAL PRADESH\",\"HIMACHAL PRADESH\",\"HIMACHAL PRADESH\",\"HIMACHAL PRADESH\",\"HIMACHAL PRADESH\",\"HIMACHAL PRADESH\",\"HIMACHAL PRADESH\",\"HIMACHAL PRADESH\",\"HIMACHAL PRADESH\",\"HIMACHAL PRADESH\",\"HIMACHAL PRADESH\",\"HIMACHAL PRADESH\",\"HIMACHAL PRADESH\",\"HIMACHAL PRADESH\",\"HIMACHAL PRADESH\",\"HIMACHAL PRADESH\",\"HIMACHAL PRADESH\",\"HIMACHAL PRADESH\",\"HIMACHAL PRADESH\",\"HIMACHAL PRADESH\",\"HIMACHAL PRADESH\",\"HIMACHAL PRADESH\",\"HIMACHAL PRADESH\",\"HIMACHAL PRADESH\",\"HIMACHAL PRADESH\",\"HIMACHAL PRADESH\",\"HIMACHAL PRADESH\",\"HIMACHAL PRADESH\",\"HIMACHAL PRADESH\",\"HIMACHAL PRADESH\",\"HIMACHAL PRADESH\",\"HIMACHAL PRADESH\",\"HIMACHAL PRADESH\",\"HIMACHAL PRADESH\",\"HIMACHAL PRADESH\",\"HIMACHAL PRADESH\",\"HIMACHAL PRADESH\",\"HIMACHAL PRADESH\",\"HIMACHAL PRADESH\",\"HIMACHAL PRADESH\",\"HIMACHAL PRADESH\",\"HIMACHAL PRADESH\",\"HIMACHAL PRADESH\",\"HIMACHAL PRADESH\",\"HIMACHAL PRADESH\",\"HIMACHAL PRADESH\",\"HIMACHAL PRADESH\",\"HIMACHAL PRADESH\",\"HIMACHAL PRADESH\",\"HIMACHAL PRADESH\",\"HIMACHAL PRADESH\",\"HIMACHAL PRADESH\",\"HIMACHAL PRADESH\",\"HIMACHAL PRADESH\",\"HIMACHAL PRADESH\",\"HIMACHAL PRADESH\",\"HIMACHAL PRADESH\",\"HIMACHAL PRADESH\",\"HIMACHAL PRADESH\",\"HIMACHAL PRADESH\",\"HIMACHAL PRADESH\",\"HIMACHAL PRADESH\",\"HIMACHAL PRADESH\",\"HIMACHAL PRADESH\",\"HIMACHAL PRADESH\",\"HIMACHAL PRADESH\",\"HIMACHAL PRADESH\",\"HIMACHAL PRADESH\",\"HIMACHAL PRADESH\",\"HIMACHAL PRADESH\"],\"yaxis\":\"y\",\"type\":\"bar\"},{\"alignmentgroup\":\"True\",\"hovertemplate\":\"color=JAMMU & KASHMIR<br>x=%{x}<br>y=%{y}<extra></extra>\",\"legendgroup\":\"JAMMU & KASHMIR\",\"marker\":{\"color\":\"#19d3f3\",\"pattern\":{\"shape\":\"\"}},\"name\":\"JAMMU & KASHMIR\",\"offsetgroup\":\"JAMMU & KASHMIR\",\"orientation\":\"h\",\"showlegend\":true,\"textposition\":\"auto\",\"x\":[979.9,760.5,1286.6,982.2,1157.7,1193.1,1069.6,1227.3,1339.9,1109.4,1280.2,936.7,1000.2,1692.1,963.9,1034.3,1386.1,916.5,1189.2,889.9,1057.6,890.8,1264.3,1182.2,1013.3,1123.6,973.1,1291.0,1102.7,1168.0,955.0,1039.4,1187.7,803.1,1085.5,1140.8,939.6,1061.7,1003.5,878.3,871.6,1239.8,1167.7,1051.0,856.2,922.3,914.0,1183.1,946.9,1523.1,963.0,1069.6,1229.6,1307.1,1156.4,1520.8,1520.3,1350.4,1550.3,766.4,1138.2,930.3,909.2,946.2,912.6,1378.9,1091.3,1065.6,1095.6,657.0,764.7,1145.6,1100.5,802.6,1180.4,1023.7,955.0,1061.6,1077.4,1017.9,1135.5,1202.2,1485.2,1157.4,1167.1,1521.0,1216.0,1670.9,1216.0,1574.0,1448.8,1478.1,1243.8,1732.5,1619.6,1620.4,1295.9,1325.9,890.3,984.6,952.7,903.5,1311.1,944.9,1692.7,1519.8,1023.5,1224.5,1411.0088997555013,997.9,887.6,1034.7,859.3,1093.4,1572.8],\"xaxis\":\"x\",\"y\":[\"JAMMU & KASHMIR\",\"JAMMU & KASHMIR\",\"JAMMU & KASHMIR\",\"JAMMU & KASHMIR\",\"JAMMU & KASHMIR\",\"JAMMU & KASHMIR\",\"JAMMU & KASHMIR\",\"JAMMU & KASHMIR\",\"JAMMU & KASHMIR\",\"JAMMU & KASHMIR\",\"JAMMU & KASHMIR\",\"JAMMU & KASHMIR\",\"JAMMU & KASHMIR\",\"JAMMU & KASHMIR\",\"JAMMU & KASHMIR\",\"JAMMU & KASHMIR\",\"JAMMU & KASHMIR\",\"JAMMU & KASHMIR\",\"JAMMU & KASHMIR\",\"JAMMU & KASHMIR\",\"JAMMU & KASHMIR\",\"JAMMU & KASHMIR\",\"JAMMU & KASHMIR\",\"JAMMU & KASHMIR\",\"JAMMU & KASHMIR\",\"JAMMU & KASHMIR\",\"JAMMU & KASHMIR\",\"JAMMU & KASHMIR\",\"JAMMU & KASHMIR\",\"JAMMU & KASHMIR\",\"JAMMU & KASHMIR\",\"JAMMU & KASHMIR\",\"JAMMU & KASHMIR\",\"JAMMU & KASHMIR\",\"JAMMU & KASHMIR\",\"JAMMU & KASHMIR\",\"JAMMU & KASHMIR\",\"JAMMU & KASHMIR\",\"JAMMU & KASHMIR\",\"JAMMU & KASHMIR\",\"JAMMU & KASHMIR\",\"JAMMU & KASHMIR\",\"JAMMU & KASHMIR\",\"JAMMU & KASHMIR\",\"JAMMU & KASHMIR\",\"JAMMU & KASHMIR\",\"JAMMU & KASHMIR\",\"JAMMU & KASHMIR\",\"JAMMU & KASHMIR\",\"JAMMU & KASHMIR\",\"JAMMU & KASHMIR\",\"JAMMU & KASHMIR\",\"JAMMU & KASHMIR\",\"JAMMU & KASHMIR\",\"JAMMU & KASHMIR\",\"JAMMU & KASHMIR\",\"JAMMU & KASHMIR\",\"JAMMU & KASHMIR\",\"JAMMU & KASHMIR\",\"JAMMU & KASHMIR\",\"JAMMU & KASHMIR\",\"JAMMU & KASHMIR\",\"JAMMU & KASHMIR\",\"JAMMU & KASHMIR\",\"JAMMU & KASHMIR\",\"JAMMU & KASHMIR\",\"JAMMU & KASHMIR\",\"JAMMU & KASHMIR\",\"JAMMU & KASHMIR\",\"JAMMU & KASHMIR\",\"JAMMU & KASHMIR\",\"JAMMU & KASHMIR\",\"JAMMU & KASHMIR\",\"JAMMU & KASHMIR\",\"JAMMU & KASHMIR\",\"JAMMU & KASHMIR\",\"JAMMU & KASHMIR\",\"JAMMU & KASHMIR\",\"JAMMU & KASHMIR\",\"JAMMU & KASHMIR\",\"JAMMU & KASHMIR\",\"JAMMU & KASHMIR\",\"JAMMU & KASHMIR\",\"JAMMU & KASHMIR\",\"JAMMU & KASHMIR\",\"JAMMU & KASHMIR\",\"JAMMU & KASHMIR\",\"JAMMU & KASHMIR\",\"JAMMU & KASHMIR\",\"JAMMU & KASHMIR\",\"JAMMU & KASHMIR\",\"JAMMU & KASHMIR\",\"JAMMU & KASHMIR\",\"JAMMU & KASHMIR\",\"JAMMU & KASHMIR\",\"JAMMU & KASHMIR\",\"JAMMU & KASHMIR\",\"JAMMU & KASHMIR\",\"JAMMU & KASHMIR\",\"JAMMU & KASHMIR\",\"JAMMU & KASHMIR\",\"JAMMU & KASHMIR\",\"JAMMU & KASHMIR\",\"JAMMU & KASHMIR\",\"JAMMU & KASHMIR\",\"JAMMU & KASHMIR\",\"JAMMU & KASHMIR\",\"JAMMU & KASHMIR\",\"JAMMU & KASHMIR\",\"JAMMU & KASHMIR\",\"JAMMU & KASHMIR\",\"JAMMU & KASHMIR\",\"JAMMU & KASHMIR\",\"JAMMU & KASHMIR\",\"JAMMU & KASHMIR\"],\"yaxis\":\"y\",\"type\":\"bar\"},{\"alignmentgroup\":\"True\",\"hovertemplate\":\"color=WEST RAJASTHAN<br>x=%{x}<br>y=%{y}<extra></extra>\",\"legendgroup\":\"WEST RAJASTHAN\",\"marker\":{\"color\":\"#FF6692\",\"pattern\":{\"shape\":\"\"}},\"name\":\"WEST RAJASTHAN\",\"offsetgroup\":\"WEST RAJASTHAN\",\"orientation\":\"h\",\"showlegend\":true,\"textposition\":\"auto\",\"x\":[158.9,195.6,307.0,167.9,114.4,269.5,353.2,581.9,426.2,293.2,138.8,279.9,248.3,302.3,147.2,421.7,768.8,62.3,305.0,248.7,218.0,244.8,273.4,297.1,169.7,440.2,332.5,272.0,303.3,230.1,395.4,265.3,376.4,322.4,256.6,265.5,292.5,183.5,137.4,292.4,224.8,338.9,295.6,525.1,364.0,223.1,253.2,233.5,224.8,278.3,179.8,267.1,304.4,250.4,391.3,374.2,267.1,264.1,335.3,217.8,400.3,262.5,174.5,337.3,215.3,252.9,340.3,142.2,119.0,355.7,251.5,185.9,454.8,164.3,553.8,425.2,389.4,379.7,308.2,238.4,248.5,311.8,469.3,203.2,197.4,204.2,143.0,280.4,248.1,445.0,179.0,425.8,293.5,415.5,367.9,307.9,345.1,279.6,204.3,235.3,285.3,92.4,368.1,196.7,260.8,361.3,310.8,324.1,160.4,473.2,418.7,327.3,389.4,302.4,458.4],\"xaxis\":\"x\",\"y\":[\"WEST RAJASTHAN\",\"WEST RAJASTHAN\",\"WEST RAJASTHAN\",\"WEST RAJASTHAN\",\"WEST RAJASTHAN\",\"WEST RAJASTHAN\",\"WEST RAJASTHAN\",\"WEST RAJASTHAN\",\"WEST RAJASTHAN\",\"WEST RAJASTHAN\",\"WEST RAJASTHAN\",\"WEST RAJASTHAN\",\"WEST RAJASTHAN\",\"WEST RAJASTHAN\",\"WEST RAJASTHAN\",\"WEST RAJASTHAN\",\"WEST RAJASTHAN\",\"WEST RAJASTHAN\",\"WEST RAJASTHAN\",\"WEST RAJASTHAN\",\"WEST RAJASTHAN\",\"WEST RAJASTHAN\",\"WEST RAJASTHAN\",\"WEST RAJASTHAN\",\"WEST RAJASTHAN\",\"WEST RAJASTHAN\",\"WEST RAJASTHAN\",\"WEST RAJASTHAN\",\"WEST RAJASTHAN\",\"WEST RAJASTHAN\",\"WEST RAJASTHAN\",\"WEST RAJASTHAN\",\"WEST RAJASTHAN\",\"WEST RAJASTHAN\",\"WEST RAJASTHAN\",\"WEST RAJASTHAN\",\"WEST RAJASTHAN\",\"WEST RAJASTHAN\",\"WEST RAJASTHAN\",\"WEST RAJASTHAN\",\"WEST RAJASTHAN\",\"WEST RAJASTHAN\",\"WEST RAJASTHAN\",\"WEST RAJASTHAN\",\"WEST RAJASTHAN\",\"WEST RAJASTHAN\",\"WEST RAJASTHAN\",\"WEST RAJASTHAN\",\"WEST RAJASTHAN\",\"WEST RAJASTHAN\",\"WEST RAJASTHAN\",\"WEST RAJASTHAN\",\"WEST RAJASTHAN\",\"WEST RAJASTHAN\",\"WEST RAJASTHAN\",\"WEST RAJASTHAN\",\"WEST RAJASTHAN\",\"WEST RAJASTHAN\",\"WEST RAJASTHAN\",\"WEST RAJASTHAN\",\"WEST RAJASTHAN\",\"WEST RAJASTHAN\",\"WEST RAJASTHAN\",\"WEST RAJASTHAN\",\"WEST RAJASTHAN\",\"WEST RAJASTHAN\",\"WEST RAJASTHAN\",\"WEST RAJASTHAN\",\"WEST RAJASTHAN\",\"WEST RAJASTHAN\",\"WEST RAJASTHAN\",\"WEST RAJASTHAN\",\"WEST RAJASTHAN\",\"WEST RAJASTHAN\",\"WEST RAJASTHAN\",\"WEST RAJASTHAN\",\"WEST RAJASTHAN\",\"WEST RAJASTHAN\",\"WEST RAJASTHAN\",\"WEST RAJASTHAN\",\"WEST RAJASTHAN\",\"WEST RAJASTHAN\",\"WEST RAJASTHAN\",\"WEST RAJASTHAN\",\"WEST RAJASTHAN\",\"WEST RAJASTHAN\",\"WEST RAJASTHAN\",\"WEST RAJASTHAN\",\"WEST RAJASTHAN\",\"WEST RAJASTHAN\",\"WEST RAJASTHAN\",\"WEST RAJASTHAN\",\"WEST RAJASTHAN\",\"WEST RAJASTHAN\",\"WEST RAJASTHAN\",\"WEST RAJASTHAN\",\"WEST RAJASTHAN\",\"WEST RAJASTHAN\",\"WEST RAJASTHAN\",\"WEST RAJASTHAN\",\"WEST RAJASTHAN\",\"WEST RAJASTHAN\",\"WEST RAJASTHAN\",\"WEST RAJASTHAN\",\"WEST RAJASTHAN\",\"WEST RAJASTHAN\",\"WEST RAJASTHAN\",\"WEST RAJASTHAN\",\"WEST RAJASTHAN\",\"WEST RAJASTHAN\",\"WEST RAJASTHAN\",\"WEST RAJASTHAN\",\"WEST RAJASTHAN\",\"WEST RAJASTHAN\",\"WEST RAJASTHAN\"],\"yaxis\":\"y\",\"type\":\"bar\"},{\"alignmentgroup\":\"True\",\"hovertemplate\":\"color=EAST RAJASTHAN<br>x=%{x}<br>y=%{y}<extra></extra>\",\"legendgroup\":\"EAST RAJASTHAN\",\"marker\":{\"color\":\"#B6E880\",\"pattern\":{\"shape\":\"\"}},\"name\":\"EAST RAJASTHAN\",\"offsetgroup\":\"EAST RAJASTHAN\",\"orientation\":\"h\",\"showlegend\":true,\"textposition\":\"auto\",\"x\":[412.5,578.3,686.1,694.5,279.8,647.4,551.8,870.2,781.6,685.3,420.4,655.4,498.3,676.6,401.8,845.3,1350.4,273.6,787.0,596.7,547.8,669.9,690.1,924.4,483.7,832.4,725.8,608.3,576.0,661.3,774.2,543.8,937.8,808.9,684.8,542.1,670.5,503.1,400.7,652.8,505.9,939.3,716.6,906.9,861.6,887.7,714.8,663.6,509.2,740.1,362.9,712.7,585.9,665.9,844.6,928.8,662.2,742.7,786.2,591.6,884.2,604.1,577.7,646.3,423.8,473.4,759.9,519.6,634.1,718.4,784.4,454.3,948.2,611.8,897.9,815.3,887.5,727.1,515.1,547.5,615.3,660.2,795.3,563.3,588.1,590.1,435.7,640.1,510.5,780.1,578.6,723.6,595.2,839.2,754.3,715.7,573.9,475.8,408.4,440.0,551.2,285.3,626.6,606.2,567.9,748.4,575.7,644.6,414.1,689.4,802.1,693.6,836.1,683.3,650.7],\"xaxis\":\"x\",\"y\":[\"EAST RAJASTHAN\",\"EAST RAJASTHAN\",\"EAST RAJASTHAN\",\"EAST RAJASTHAN\",\"EAST RAJASTHAN\",\"EAST RAJASTHAN\",\"EAST RAJASTHAN\",\"EAST RAJASTHAN\",\"EAST RAJASTHAN\",\"EAST RAJASTHAN\",\"EAST RAJASTHAN\",\"EAST RAJASTHAN\",\"EAST RAJASTHAN\",\"EAST RAJASTHAN\",\"EAST RAJASTHAN\",\"EAST RAJASTHAN\",\"EAST RAJASTHAN\",\"EAST RAJASTHAN\",\"EAST RAJASTHAN\",\"EAST RAJASTHAN\",\"EAST RAJASTHAN\",\"EAST RAJASTHAN\",\"EAST RAJASTHAN\",\"EAST RAJASTHAN\",\"EAST RAJASTHAN\",\"EAST RAJASTHAN\",\"EAST RAJASTHAN\",\"EAST RAJASTHAN\",\"EAST RAJASTHAN\",\"EAST RAJASTHAN\",\"EAST RAJASTHAN\",\"EAST RAJASTHAN\",\"EAST RAJASTHAN\",\"EAST RAJASTHAN\",\"EAST RAJASTHAN\",\"EAST RAJASTHAN\",\"EAST RAJASTHAN\",\"EAST RAJASTHAN\",\"EAST RAJASTHAN\",\"EAST RAJASTHAN\",\"EAST RAJASTHAN\",\"EAST RAJASTHAN\",\"EAST RAJASTHAN\",\"EAST RAJASTHAN\",\"EAST RAJASTHAN\",\"EAST RAJASTHAN\",\"EAST RAJASTHAN\",\"EAST RAJASTHAN\",\"EAST RAJASTHAN\",\"EAST RAJASTHAN\",\"EAST RAJASTHAN\",\"EAST RAJASTHAN\",\"EAST RAJASTHAN\",\"EAST RAJASTHAN\",\"EAST RAJASTHAN\",\"EAST RAJASTHAN\",\"EAST RAJASTHAN\",\"EAST RAJASTHAN\",\"EAST RAJASTHAN\",\"EAST RAJASTHAN\",\"EAST RAJASTHAN\",\"EAST RAJASTHAN\",\"EAST RAJASTHAN\",\"EAST RAJASTHAN\",\"EAST RAJASTHAN\",\"EAST RAJASTHAN\",\"EAST RAJASTHAN\",\"EAST RAJASTHAN\",\"EAST RAJASTHAN\",\"EAST RAJASTHAN\",\"EAST RAJASTHAN\",\"EAST RAJASTHAN\",\"EAST RAJASTHAN\",\"EAST RAJASTHAN\",\"EAST RAJASTHAN\",\"EAST RAJASTHAN\",\"EAST RAJASTHAN\",\"EAST RAJASTHAN\",\"EAST RAJASTHAN\",\"EAST RAJASTHAN\",\"EAST RAJASTHAN\",\"EAST RAJASTHAN\",\"EAST RAJASTHAN\",\"EAST RAJASTHAN\",\"EAST RAJASTHAN\",\"EAST RAJASTHAN\",\"EAST RAJASTHAN\",\"EAST RAJASTHAN\",\"EAST RAJASTHAN\",\"EAST RAJASTHAN\",\"EAST RAJASTHAN\",\"EAST RAJASTHAN\",\"EAST RAJASTHAN\",\"EAST RAJASTHAN\",\"EAST RAJASTHAN\",\"EAST RAJASTHAN\",\"EAST RAJASTHAN\",\"EAST RAJASTHAN\",\"EAST RAJASTHAN\",\"EAST RAJASTHAN\",\"EAST RAJASTHAN\",\"EAST RAJASTHAN\",\"EAST RAJASTHAN\",\"EAST RAJASTHAN\",\"EAST RAJASTHAN\",\"EAST RAJASTHAN\",\"EAST RAJASTHAN\",\"EAST RAJASTHAN\",\"EAST RAJASTHAN\",\"EAST RAJASTHAN\",\"EAST RAJASTHAN\",\"EAST RAJASTHAN\",\"EAST RAJASTHAN\",\"EAST RAJASTHAN\",\"EAST RAJASTHAN\"],\"yaxis\":\"y\",\"type\":\"bar\"},{\"alignmentgroup\":\"True\",\"hovertemplate\":\"color=WEST MADHYA PRADESH<br>x=%{x}<br>y=%{y}<extra></extra>\",\"legendgroup\":\"WEST MADHYA PRADESH\",\"marker\":{\"color\":\"#FF97FF\",\"pattern\":{\"shape\":\"\"}},\"name\":\"WEST MADHYA PRADESH\",\"offsetgroup\":\"WEST MADHYA PRADESH\",\"orientation\":\"h\",\"showlegend\":true,\"textposition\":\"auto\",\"x\":[718.2,911.7,949.6,774.4,696.5,1010.2,650.4,832.6,830.2,959.5,676.5,807.3,790.5,836.3,772.7,1219.2,1309.3,509.4,1232.8,714.8,808.7,918.2,1071.0,1031.3,693.5,913.8,872.9,895.6,728.7,888.2,1131.6,988.3,1211.6,1164.9,871.1,901.2,1053.4,1001.2,802.5,1064.7,739.4,1201.7,962.9,1347.7,1047.4,1250.7,1064.7,1247.6,966.2,904.5,649.7,829.1,793.7,1100.7,1149.2,1065.8,832.9,1099.7,1181.4,882.3,1433.7,905.9,905.4,880.1,594.7,680.0,945.6,861.2,1117.0,1113.2,1135.7,770.3,1406.9,876.6,1064.6,1027.7,1002.7,1003.3,781.9,873.9,890.2,934.1,1071.9,859.5,874.7,937.1,783.9,951.2,758.5,1144.0,745.5,754.2,1031.9,1179.5,864.7,1085.4,1058.3,926.9,1052.7,1411.0088997555013,787.0,684.1,946.4,848.1,752.2,1169.2,806.5,791.1,877.0,776.3,1063.9,1035.2,1396.3,864.9,1042.3],\"xaxis\":\"x\",\"y\":[\"WEST MADHYA PRADESH\",\"WEST MADHYA PRADESH\",\"WEST MADHYA PRADESH\",\"WEST MADHYA PRADESH\",\"WEST MADHYA PRADESH\",\"WEST MADHYA PRADESH\",\"WEST MADHYA PRADESH\",\"WEST MADHYA PRADESH\",\"WEST MADHYA PRADESH\",\"WEST MADHYA PRADESH\",\"WEST MADHYA PRADESH\",\"WEST MADHYA PRADESH\",\"WEST MADHYA PRADESH\",\"WEST MADHYA PRADESH\",\"WEST MADHYA PRADESH\",\"WEST MADHYA PRADESH\",\"WEST MADHYA PRADESH\",\"WEST MADHYA PRADESH\",\"WEST MADHYA PRADESH\",\"WEST MADHYA PRADESH\",\"WEST MADHYA PRADESH\",\"WEST MADHYA PRADESH\",\"WEST MADHYA PRADESH\",\"WEST MADHYA PRADESH\",\"WEST MADHYA PRADESH\",\"WEST MADHYA PRADESH\",\"WEST MADHYA PRADESH\",\"WEST MADHYA PRADESH\",\"WEST MADHYA PRADESH\",\"WEST MADHYA PRADESH\",\"WEST MADHYA PRADESH\",\"WEST MADHYA PRADESH\",\"WEST MADHYA PRADESH\",\"WEST MADHYA PRADESH\",\"WEST MADHYA PRADESH\",\"WEST MADHYA PRADESH\",\"WEST MADHYA PRADESH\",\"WEST MADHYA PRADESH\",\"WEST MADHYA PRADESH\",\"WEST MADHYA PRADESH\",\"WEST MADHYA PRADESH\",\"WEST MADHYA PRADESH\",\"WEST MADHYA PRADESH\",\"WEST MADHYA PRADESH\",\"WEST MADHYA PRADESH\",\"WEST MADHYA PRADESH\",\"WEST MADHYA PRADESH\",\"WEST MADHYA PRADESH\",\"WEST MADHYA PRADESH\",\"WEST MADHYA PRADESH\",\"WEST MADHYA PRADESH\",\"WEST MADHYA PRADESH\",\"WEST MADHYA PRADESH\",\"WEST MADHYA PRADESH\",\"WEST MADHYA PRADESH\",\"WEST MADHYA PRADESH\",\"WEST MADHYA PRADESH\",\"WEST MADHYA PRADESH\",\"WEST MADHYA PRADESH\",\"WEST MADHYA PRADESH\",\"WEST MADHYA PRADESH\",\"WEST MADHYA PRADESH\",\"WEST MADHYA PRADESH\",\"WEST MADHYA PRADESH\",\"WEST MADHYA PRADESH\",\"WEST MADHYA PRADESH\",\"WEST MADHYA PRADESH\",\"WEST MADHYA PRADESH\",\"WEST MADHYA PRADESH\",\"WEST MADHYA PRADESH\",\"WEST MADHYA PRADESH\",\"WEST MADHYA PRADESH\",\"WEST MADHYA PRADESH\",\"WEST MADHYA PRADESH\",\"WEST MADHYA PRADESH\",\"WEST MADHYA PRADESH\",\"WEST MADHYA PRADESH\",\"WEST MADHYA PRADESH\",\"WEST MADHYA PRADESH\",\"WEST MADHYA PRADESH\",\"WEST MADHYA PRADESH\",\"WEST MADHYA PRADESH\",\"WEST MADHYA PRADESH\",\"WEST MADHYA PRADESH\",\"WEST MADHYA PRADESH\",\"WEST MADHYA PRADESH\",\"WEST MADHYA PRADESH\",\"WEST MADHYA PRADESH\",\"WEST MADHYA PRADESH\",\"WEST MADHYA PRADESH\",\"WEST MADHYA PRADESH\",\"WEST MADHYA PRADESH\",\"WEST MADHYA PRADESH\",\"WEST MADHYA PRADESH\",\"WEST MADHYA PRADESH\",\"WEST MADHYA PRADESH\",\"WEST MADHYA PRADESH\",\"WEST MADHYA PRADESH\",\"WEST MADHYA PRADESH\",\"WEST MADHYA PRADESH\",\"WEST MADHYA PRADESH\",\"WEST MADHYA PRADESH\",\"WEST MADHYA PRADESH\",\"WEST MADHYA PRADESH\",\"WEST MADHYA PRADESH\",\"WEST MADHYA PRADESH\",\"WEST MADHYA PRADESH\",\"WEST MADHYA PRADESH\",\"WEST MADHYA PRADESH\",\"WEST MADHYA PRADESH\",\"WEST MADHYA PRADESH\",\"WEST MADHYA PRADESH\",\"WEST MADHYA PRADESH\",\"WEST MADHYA PRADESH\",\"WEST MADHYA PRADESH\"],\"yaxis\":\"y\",\"type\":\"bar\"},{\"alignmentgroup\":\"True\",\"hovertemplate\":\"color=EAST MADHYA PRADESH<br>x=%{x}<br>y=%{y}<extra></extra>\",\"legendgroup\":\"EAST MADHYA PRADESH\",\"marker\":{\"color\":\"#FECB52\",\"pattern\":{\"shape\":\"\"}},\"name\":\"EAST MADHYA PRADESH\",\"offsetgroup\":\"EAST MADHYA PRADESH\",\"orientation\":\"h\",\"showlegend\":true,\"textposition\":\"auto\",\"x\":[1332.7,984.2,1178.1,1144.2,886.0,1369.7,1009.6,1430.6,1122.0,1222.2,1197.1,1150.6,936.4,1250.1,1382.3,1480.2,1639.3,930.5,1747.1,899.5,1132.1,1238.0,1443.9,1315.3,1354.5,1726.8,1235.9,1106.9,1247.4,1203.9,1342.2,1150.9,1368.4,1473.3,1279.9,1504.2,1398.0,1373.8,1347.2,1192.8,828.1,1508.4,1382.4,1427.0,1286.3,1494.3,1419.5,1430.4,1235.5,1177.9,1175.6,1155.3,1007.1,1076.7,1421.0,1515.8,1000.8,1171.6,1302.4,1252.0,1598.8,1068.4,1120.1,1187.3,697.8,849.1,1407.8,973.6,1242.1,1342.2,1518.7,1038.3,1252.3,971.1,1434.5,1055.6,1372.2,1392.6,809.8,1369.2,1036.0,1297.3,1275.5,1110.6,1115.4,1029.2,1116.1,1069.4,920.9,1380.0,1016.9,1051.1,1118.9,1533.7,1032.3,986.6,1357.1,1013.4,1443.9,874.2,1170.1,950.2,1438.1,955.3,1366.4,943.4,653.8,1003.2,943.9,960.4,1275.2,1053.1,1521.9,924.9,939.2],\"xaxis\":\"x\",\"y\":[\"EAST MADHYA PRADESH\",\"EAST MADHYA PRADESH\",\"EAST MADHYA PRADESH\",\"EAST MADHYA PRADESH\",\"EAST MADHYA PRADESH\",\"EAST MADHYA PRADESH\",\"EAST MADHYA PRADESH\",\"EAST MADHYA PRADESH\",\"EAST MADHYA PRADESH\",\"EAST MADHYA PRADESH\",\"EAST MADHYA PRADESH\",\"EAST MADHYA PRADESH\",\"EAST MADHYA PRADESH\",\"EAST MADHYA PRADESH\",\"EAST MADHYA PRADESH\",\"EAST MADHYA PRADESH\",\"EAST MADHYA PRADESH\",\"EAST MADHYA PRADESH\",\"EAST MADHYA PRADESH\",\"EAST MADHYA PRADESH\",\"EAST MADHYA PRADESH\",\"EAST MADHYA PRADESH\",\"EAST MADHYA PRADESH\",\"EAST MADHYA PRADESH\",\"EAST MADHYA PRADESH\",\"EAST MADHYA PRADESH\",\"EAST MADHYA PRADESH\",\"EAST MADHYA PRADESH\",\"EAST MADHYA PRADESH\",\"EAST MADHYA PRADESH\",\"EAST MADHYA PRADESH\",\"EAST MADHYA PRADESH\",\"EAST MADHYA PRADESH\",\"EAST MADHYA PRADESH\",\"EAST MADHYA PRADESH\",\"EAST MADHYA PRADESH\",\"EAST MADHYA PRADESH\",\"EAST MADHYA PRADESH\",\"EAST MADHYA PRADESH\",\"EAST MADHYA PRADESH\",\"EAST MADHYA PRADESH\",\"EAST MADHYA PRADESH\",\"EAST MADHYA PRADESH\",\"EAST MADHYA PRADESH\",\"EAST MADHYA PRADESH\",\"EAST MADHYA PRADESH\",\"EAST MADHYA PRADESH\",\"EAST MADHYA PRADESH\",\"EAST MADHYA PRADESH\",\"EAST MADHYA PRADESH\",\"EAST MADHYA PRADESH\",\"EAST MADHYA PRADESH\",\"EAST MADHYA PRADESH\",\"EAST MADHYA PRADESH\",\"EAST MADHYA PRADESH\",\"EAST MADHYA PRADESH\",\"EAST MADHYA PRADESH\",\"EAST MADHYA PRADESH\",\"EAST MADHYA PRADESH\",\"EAST MADHYA PRADESH\",\"EAST MADHYA PRADESH\",\"EAST MADHYA PRADESH\",\"EAST MADHYA PRADESH\",\"EAST MADHYA PRADESH\",\"EAST MADHYA PRADESH\",\"EAST MADHYA PRADESH\",\"EAST MADHYA PRADESH\",\"EAST MADHYA PRADESH\",\"EAST MADHYA PRADESH\",\"EAST MADHYA PRADESH\",\"EAST MADHYA PRADESH\",\"EAST MADHYA PRADESH\",\"EAST MADHYA PRADESH\",\"EAST MADHYA PRADESH\",\"EAST MADHYA PRADESH\",\"EAST MADHYA PRADESH\",\"EAST MADHYA PRADESH\",\"EAST MADHYA PRADESH\",\"EAST MADHYA PRADESH\",\"EAST MADHYA PRADESH\",\"EAST MADHYA PRADESH\",\"EAST MADHYA PRADESH\",\"EAST MADHYA PRADESH\",\"EAST MADHYA PRADESH\",\"EAST MADHYA PRADESH\",\"EAST MADHYA PRADESH\",\"EAST MADHYA PRADESH\",\"EAST MADHYA PRADESH\",\"EAST MADHYA PRADESH\",\"EAST MADHYA PRADESH\",\"EAST MADHYA PRADESH\",\"EAST MADHYA PRADESH\",\"EAST MADHYA PRADESH\",\"EAST MADHYA PRADESH\",\"EAST MADHYA PRADESH\",\"EAST MADHYA PRADESH\",\"EAST MADHYA PRADESH\",\"EAST MADHYA PRADESH\",\"EAST MADHYA PRADESH\",\"EAST MADHYA PRADESH\",\"EAST MADHYA PRADESH\",\"EAST MADHYA PRADESH\",\"EAST MADHYA PRADESH\",\"EAST MADHYA PRADESH\",\"EAST MADHYA PRADESH\",\"EAST MADHYA PRADESH\",\"EAST MADHYA PRADESH\",\"EAST MADHYA PRADESH\",\"EAST MADHYA PRADESH\",\"EAST MADHYA PRADESH\",\"EAST MADHYA PRADESH\",\"EAST MADHYA PRADESH\",\"EAST MADHYA PRADESH\",\"EAST MADHYA PRADESH\",\"EAST MADHYA PRADESH\"],\"yaxis\":\"y\",\"type\":\"bar\"},{\"alignmentgroup\":\"True\",\"hovertemplate\":\"color=GUJARAT REGION<br>x=%{x}<br>y=%{y}<extra></extra>\",\"legendgroup\":\"GUJARAT REGION\",\"marker\":{\"color\":\"#636efa\",\"pattern\":{\"shape\":\"\"}},\"name\":\"GUJARAT REGION\",\"offsetgroup\":\"GUJARAT REGION\",\"orientation\":\"h\",\"showlegend\":true,\"textposition\":\"auto\",\"x\":[554.3,863.9,887.6,492.6,811.5,890.6,997.0,1027.5,977.8,974.6,403.5,1118.5,1162.6,1107.5,567.3,952.9,1524.9,392.6,1067.4,708.9,1172.8,878.7,553.2,909.6,593.1,1274.5,1422.1,821.0,676.3,894.7,1104.6,906.6,1137.1,979.6,756.9,609.3,1203.1,814.9,605.6,870.1,961.8,1186.8,912.8,1340.6,1277.0,1147.7,783.4,473.9,800.3,1129.3,478.3,776.6,1055.5,1248.0,975.7,1366.6,647.8,1123.1,1560.7,649.6,945.1,773.0,997.9,892.7,656.7,696.7,938.7,668.0,789.0,1353.8,769.2,503.8,1159.6,421.3,1192.7,1620.1,1307.7,935.8,904.5,822.0,1114.2,758.3,1213.9,853.6,589.7,501.8,401.9,1097.4,822.8,1118.4,672.7,901.1,941.4,1534.5,684.3,902.8,1068.9,1070.0,568.4,550.6,849.0,637.2,1160.3,1005.8,1316.4,1478.0,1178.9,911.1,641.6,1088.7,890.5,714.0,1118.6,705.7,622.9],\"xaxis\":\"x\",\"y\":[\"GUJARAT REGION\",\"GUJARAT REGION\",\"GUJARAT REGION\",\"GUJARAT REGION\",\"GUJARAT REGION\",\"GUJARAT REGION\",\"GUJARAT REGION\",\"GUJARAT REGION\",\"GUJARAT REGION\",\"GUJARAT REGION\",\"GUJARAT REGION\",\"GUJARAT REGION\",\"GUJARAT REGION\",\"GUJARAT REGION\",\"GUJARAT REGION\",\"GUJARAT REGION\",\"GUJARAT REGION\",\"GUJARAT REGION\",\"GUJARAT REGION\",\"GUJARAT REGION\",\"GUJARAT REGION\",\"GUJARAT REGION\",\"GUJARAT REGION\",\"GUJARAT REGION\",\"GUJARAT REGION\",\"GUJARAT REGION\",\"GUJARAT REGION\",\"GUJARAT REGION\",\"GUJARAT REGION\",\"GUJARAT REGION\",\"GUJARAT REGION\",\"GUJARAT REGION\",\"GUJARAT REGION\",\"GUJARAT REGION\",\"GUJARAT REGION\",\"GUJARAT REGION\",\"GUJARAT REGION\",\"GUJARAT REGION\",\"GUJARAT REGION\",\"GUJARAT REGION\",\"GUJARAT REGION\",\"GUJARAT REGION\",\"GUJARAT REGION\",\"GUJARAT REGION\",\"GUJARAT REGION\",\"GUJARAT REGION\",\"GUJARAT REGION\",\"GUJARAT REGION\",\"GUJARAT REGION\",\"GUJARAT REGION\",\"GUJARAT REGION\",\"GUJARAT REGION\",\"GUJARAT REGION\",\"GUJARAT REGION\",\"GUJARAT REGION\",\"GUJARAT REGION\",\"GUJARAT REGION\",\"GUJARAT REGION\",\"GUJARAT REGION\",\"GUJARAT REGION\",\"GUJARAT REGION\",\"GUJARAT REGION\",\"GUJARAT REGION\",\"GUJARAT REGION\",\"GUJARAT REGION\",\"GUJARAT REGION\",\"GUJARAT REGION\",\"GUJARAT REGION\",\"GUJARAT REGION\",\"GUJARAT REGION\",\"GUJARAT REGION\",\"GUJARAT REGION\",\"GUJARAT REGION\",\"GUJARAT REGION\",\"GUJARAT REGION\",\"GUJARAT REGION\",\"GUJARAT REGION\",\"GUJARAT REGION\",\"GUJARAT REGION\",\"GUJARAT REGION\",\"GUJARAT REGION\",\"GUJARAT REGION\",\"GUJARAT REGION\",\"GUJARAT REGION\",\"GUJARAT REGION\",\"GUJARAT REGION\",\"GUJARAT REGION\",\"GUJARAT REGION\",\"GUJARAT REGION\",\"GUJARAT REGION\",\"GUJARAT REGION\",\"GUJARAT REGION\",\"GUJARAT REGION\",\"GUJARAT REGION\",\"GUJARAT REGION\",\"GUJARAT REGION\",\"GUJARAT REGION\",\"GUJARAT REGION\",\"GUJARAT REGION\",\"GUJARAT REGION\",\"GUJARAT REGION\",\"GUJARAT REGION\",\"GUJARAT REGION\",\"GUJARAT REGION\",\"GUJARAT REGION\",\"GUJARAT REGION\",\"GUJARAT REGION\",\"GUJARAT REGION\",\"GUJARAT REGION\",\"GUJARAT REGION\",\"GUJARAT REGION\",\"GUJARAT REGION\",\"GUJARAT REGION\",\"GUJARAT REGION\",\"GUJARAT REGION\"],\"yaxis\":\"y\",\"type\":\"bar\"},{\"alignmentgroup\":\"True\",\"hovertemplate\":\"color=SAURASHTRA & KUTCH<br>x=%{x}<br>y=%{y}<extra></extra>\",\"legendgroup\":\"SAURASHTRA & KUTCH\",\"marker\":{\"color\":\"#EF553B\",\"pattern\":{\"shape\":\"\"}},\"name\":\"SAURASHTRA & KUTCH\",\"offsetgroup\":\"SAURASHTRA & KUTCH\",\"orientation\":\"h\",\"showlegend\":true,\"textposition\":\"auto\",\"x\":[181.3,401.1,522.8,185.6,290.0,540.3,509.6,527.9,586.4,549.7,140.4,652.6,751.9,577.1,245.8,495.9,886.7,117.6,445.1,490.1,598.1,334.9,205.0,310.7,340.6,901.4,639.5,426.8,421.8,450.2,329.7,492.5,757.9,398.4,524.1,371.1,533.6,346.0,179.4,356.5,401.8,342.2,526.6,717.6,633.1,473.4,558.8,247.7,542.3,473.6,285.2,400.8,706.6,599.8,385.1,739.1,398.5,551.6,1020.9,337.2,752.9,371.8,379.1,539.5,421.3,326.5,738.6,314.6,290.0,835.8,513.6,222.1,390.3,184.7,682.1,625.5,564.1,488.6,955.4,635.8,705.0,401.3,758.4,443.7,298.8,298.5,92.7,752.3,498.2,407.9,218.7,600.7,312.7,872.8,374.1,374.4,600.2,566.9,380.7,286.1,510.2,308.1,686.2,482.2,631.6,701.8,890.7,607.9,596.9,1119.9,742.5,323.8,681.8,383.9,441.7],\"xaxis\":\"x\",\"y\":[\"SAURASHTRA & KUTCH\",\"SAURASHTRA & KUTCH\",\"SAURASHTRA & KUTCH\",\"SAURASHTRA & KUTCH\",\"SAURASHTRA & KUTCH\",\"SAURASHTRA & KUTCH\",\"SAURASHTRA & KUTCH\",\"SAURASHTRA & KUTCH\",\"SAURASHTRA & KUTCH\",\"SAURASHTRA & KUTCH\",\"SAURASHTRA & KUTCH\",\"SAURASHTRA & KUTCH\",\"SAURASHTRA & KUTCH\",\"SAURASHTRA & KUTCH\",\"SAURASHTRA & KUTCH\",\"SAURASHTRA & KUTCH\",\"SAURASHTRA & KUTCH\",\"SAURASHTRA & KUTCH\",\"SAURASHTRA & KUTCH\",\"SAURASHTRA & KUTCH\",\"SAURASHTRA & KUTCH\",\"SAURASHTRA & KUTCH\",\"SAURASHTRA & KUTCH\",\"SAURASHTRA & KUTCH\",\"SAURASHTRA & KUTCH\",\"SAURASHTRA & KUTCH\",\"SAURASHTRA & KUTCH\",\"SAURASHTRA & KUTCH\",\"SAURASHTRA & KUTCH\",\"SAURASHTRA & KUTCH\",\"SAURASHTRA & KUTCH\",\"SAURASHTRA & KUTCH\",\"SAURASHTRA & KUTCH\",\"SAURASHTRA & KUTCH\",\"SAURASHTRA & KUTCH\",\"SAURASHTRA & KUTCH\",\"SAURASHTRA & KUTCH\",\"SAURASHTRA & KUTCH\",\"SAURASHTRA & KUTCH\",\"SAURASHTRA & KUTCH\",\"SAURASHTRA & KUTCH\",\"SAURASHTRA & KUTCH\",\"SAURASHTRA & KUTCH\",\"SAURASHTRA & KUTCH\",\"SAURASHTRA & KUTCH\",\"SAURASHTRA & KUTCH\",\"SAURASHTRA & KUTCH\",\"SAURASHTRA & KUTCH\",\"SAURASHTRA & KUTCH\",\"SAURASHTRA & KUTCH\",\"SAURASHTRA & KUTCH\",\"SAURASHTRA & KUTCH\",\"SAURASHTRA & KUTCH\",\"SAURASHTRA & KUTCH\",\"SAURASHTRA & KUTCH\",\"SAURASHTRA & KUTCH\",\"SAURASHTRA & KUTCH\",\"SAURASHTRA & KUTCH\",\"SAURASHTRA & KUTCH\",\"SAURASHTRA & KUTCH\",\"SAURASHTRA & KUTCH\",\"SAURASHTRA & KUTCH\",\"SAURASHTRA & KUTCH\",\"SAURASHTRA & KUTCH\",\"SAURASHTRA & KUTCH\",\"SAURASHTRA & KUTCH\",\"SAURASHTRA & KUTCH\",\"SAURASHTRA & KUTCH\",\"SAURASHTRA & KUTCH\",\"SAURASHTRA & KUTCH\",\"SAURASHTRA & KUTCH\",\"SAURASHTRA & KUTCH\",\"SAURASHTRA & KUTCH\",\"SAURASHTRA & KUTCH\",\"SAURASHTRA & KUTCH\",\"SAURASHTRA & KUTCH\",\"SAURASHTRA & KUTCH\",\"SAURASHTRA & KUTCH\",\"SAURASHTRA & KUTCH\",\"SAURASHTRA & KUTCH\",\"SAURASHTRA & KUTCH\",\"SAURASHTRA & KUTCH\",\"SAURASHTRA & KUTCH\",\"SAURASHTRA & KUTCH\",\"SAURASHTRA & KUTCH\",\"SAURASHTRA & KUTCH\",\"SAURASHTRA & KUTCH\",\"SAURASHTRA & KUTCH\",\"SAURASHTRA & KUTCH\",\"SAURASHTRA & KUTCH\",\"SAURASHTRA & KUTCH\",\"SAURASHTRA & KUTCH\",\"SAURASHTRA & KUTCH\",\"SAURASHTRA & KUTCH\",\"SAURASHTRA & KUTCH\",\"SAURASHTRA & KUTCH\",\"SAURASHTRA & KUTCH\",\"SAURASHTRA & KUTCH\",\"SAURASHTRA & KUTCH\",\"SAURASHTRA & KUTCH\",\"SAURASHTRA & KUTCH\",\"SAURASHTRA & KUTCH\",\"SAURASHTRA & KUTCH\",\"SAURASHTRA & KUTCH\",\"SAURASHTRA & KUTCH\",\"SAURASHTRA & KUTCH\",\"SAURASHTRA & KUTCH\",\"SAURASHTRA & KUTCH\",\"SAURASHTRA & KUTCH\",\"SAURASHTRA & KUTCH\",\"SAURASHTRA & KUTCH\",\"SAURASHTRA & KUTCH\",\"SAURASHTRA & KUTCH\",\"SAURASHTRA & KUTCH\",\"SAURASHTRA & KUTCH\"],\"yaxis\":\"y\",\"type\":\"bar\"},{\"alignmentgroup\":\"True\",\"hovertemplate\":\"color=KONKAN & GOA<br>x=%{x}<br>y=%{y}<extra></extra>\",\"legendgroup\":\"KONKAN & GOA\",\"marker\":{\"color\":\"#00cc96\",\"pattern\":{\"shape\":\"\"}},\"name\":\"KONKAN & GOA\",\"offsetgroup\":\"KONKAN & GOA\",\"orientation\":\"h\",\"showlegend\":true,\"textposition\":\"auto\",\"x\":[2792.9,2673.9,3084.3,2393.7,1682.8,2418.9,2766.6,2735.5,2860.5,2544.0,2134.7,2793.3,2617.4,3464.6,2525.8,3402.6,3430.9,1867.3,2851.7,1924.1,2899.2,2817.5,2770.5,2444.3,2305.1,3165.9,2747.0,3172.4,2509.4,2845.7,3999.3,2962.9,3343.4,3272.3,2542.7,2783.4,3192.0,3495.5,2758.6,3313.7,1889.6,3279.5,3251.3,2952.1,3244.5,3358.9,3090.1,3119.8,3213.7,2929.2,2849.4,2522.0,3327.8,3790.3,3897.5,3663.7,3123.5,4000.2,3588.6,3027.7,3921.0,3485.1,3606.8,3192.7,3071.5,2427.5,2752.3,2359.4,3127.4,3596.6,2754.0,1873.0,2836.3,3086.7,3515.4,3063.0,3103.3,2885.6,2509.2,2724.3,3124.7,2698.9,3814.5,2583.6,2968.5,2127.7,2635.0,3293.0,2771.5,3568.0,2954.6,2840.4,3480.9,3179.8,2766.0,2920.7,3027.2,3234.7,2912.1,3133.2,2395.4,2537.2,2842.3,2985.9,3615.7,3482.2,3468.5,3053.1,2716.6,3778.1,3825.2,3018.4,3524.0,2757.5,2082.0],\"xaxis\":\"x\",\"y\":[\"KONKAN & GOA\",\"KONKAN & GOA\",\"KONKAN & GOA\",\"KONKAN & GOA\",\"KONKAN & GOA\",\"KONKAN & GOA\",\"KONKAN & GOA\",\"KONKAN & GOA\",\"KONKAN & GOA\",\"KONKAN & GOA\",\"KONKAN & GOA\",\"KONKAN & GOA\",\"KONKAN & GOA\",\"KONKAN & GOA\",\"KONKAN & GOA\",\"KONKAN & GOA\",\"KONKAN & GOA\",\"KONKAN & GOA\",\"KONKAN & GOA\",\"KONKAN & GOA\",\"KONKAN & GOA\",\"KONKAN & GOA\",\"KONKAN & GOA\",\"KONKAN & GOA\",\"KONKAN & GOA\",\"KONKAN & GOA\",\"KONKAN & GOA\",\"KONKAN & GOA\",\"KONKAN & GOA\",\"KONKAN & GOA\",\"KONKAN & GOA\",\"KONKAN & GOA\",\"KONKAN & GOA\",\"KONKAN & GOA\",\"KONKAN & GOA\",\"KONKAN & GOA\",\"KONKAN & GOA\",\"KONKAN & GOA\",\"KONKAN & GOA\",\"KONKAN & GOA\",\"KONKAN & GOA\",\"KONKAN & GOA\",\"KONKAN & GOA\",\"KONKAN & GOA\",\"KONKAN & GOA\",\"KONKAN & GOA\",\"KONKAN & GOA\",\"KONKAN & GOA\",\"KONKAN & GOA\",\"KONKAN & GOA\",\"KONKAN & GOA\",\"KONKAN & GOA\",\"KONKAN & GOA\",\"KONKAN & GOA\",\"KONKAN & GOA\",\"KONKAN & GOA\",\"KONKAN & GOA\",\"KONKAN & GOA\",\"KONKAN & GOA\",\"KONKAN & GOA\",\"KONKAN & GOA\",\"KONKAN & GOA\",\"KONKAN & GOA\",\"KONKAN & GOA\",\"KONKAN & GOA\",\"KONKAN & GOA\",\"KONKAN & GOA\",\"KONKAN & GOA\",\"KONKAN & GOA\",\"KONKAN & GOA\",\"KONKAN & GOA\",\"KONKAN & GOA\",\"KONKAN & GOA\",\"KONKAN & GOA\",\"KONKAN & GOA\",\"KONKAN & GOA\",\"KONKAN & GOA\",\"KONKAN & GOA\",\"KONKAN & GOA\",\"KONKAN & GOA\",\"KONKAN & GOA\",\"KONKAN & GOA\",\"KONKAN & GOA\",\"KONKAN & GOA\",\"KONKAN & GOA\",\"KONKAN & GOA\",\"KONKAN & GOA\",\"KONKAN & GOA\",\"KONKAN & GOA\",\"KONKAN & GOA\",\"KONKAN & GOA\",\"KONKAN & GOA\",\"KONKAN & GOA\",\"KONKAN & GOA\",\"KONKAN & GOA\",\"KONKAN & GOA\",\"KONKAN & GOA\",\"KONKAN & GOA\",\"KONKAN & GOA\",\"KONKAN & GOA\",\"KONKAN & GOA\",\"KONKAN & GOA\",\"KONKAN & GOA\",\"KONKAN & GOA\",\"KONKAN & GOA\",\"KONKAN & GOA\",\"KONKAN & GOA\",\"KONKAN & GOA\",\"KONKAN & GOA\",\"KONKAN & GOA\",\"KONKAN & GOA\",\"KONKAN & GOA\",\"KONKAN & GOA\",\"KONKAN & GOA\",\"KONKAN & GOA\"],\"yaxis\":\"y\",\"type\":\"bar\"},{\"alignmentgroup\":\"True\",\"hovertemplate\":\"color=MADHYA MAHARASHTRA<br>x=%{x}<br>y=%{y}<extra></extra>\",\"legendgroup\":\"MADHYA MAHARASHTRA\",\"marker\":{\"color\":\"#ab63fa\",\"pattern\":{\"shape\":\"\"}},\"name\":\"MADHYA MAHARASHTRA\",\"offsetgroup\":\"MADHYA MAHARASHTRA\",\"orientation\":\"h\",\"showlegend\":true,\"textposition\":\"auto\",\"x\":[769.0,784.0,837.9,603.5,537.8,744.3,815.1,722.0,755.2,915.2,544.3,764.9,732.5,1039.0,908.1,1072.4,938.2,438.0,879.1,600.3,734.3,805.2,680.9,748.2,661.8,787.1,925.2,831.7,690.4,929.1,1132.4,1045.1,1152.4,858.3,819.0,735.6,914.4,1126.3,821.9,893.2,774.3,941.3,993.2,1086.0,793.4,1103.6,905.7,1016.3,953.7,932.6,797.0,683.3,893.6,985.1,981.0,1233.8,849.8,1054.1,1118.9,885.9,1070.5,899.0,899.9,945.7,790.7,837.3,913.0,824.0,984.1,941.4,773.2,519.9,980.6,911.8,1040.7,1025.8,947.2,883.6,1026.8,939.5,929.8,751.9,918.8,779.9,656.1,644.1,807.6,976.6,816.6,1022.5,880.5,791.3,1019.8,1021.5,776.4,975.2,1000.9,1101.1,965.7,701.6,785.1,740.3,772.6,1029.5,1221.3,1395.7,1040.4,916.9,941.7,1027.5,852.6,689.8,962.4,838.0,644.5],\"xaxis\":\"x\",\"y\":[\"MADHYA MAHARASHTRA\",\"MADHYA MAHARASHTRA\",\"MADHYA MAHARASHTRA\",\"MADHYA MAHARASHTRA\",\"MADHYA MAHARASHTRA\",\"MADHYA MAHARASHTRA\",\"MADHYA MAHARASHTRA\",\"MADHYA MAHARASHTRA\",\"MADHYA MAHARASHTRA\",\"MADHYA MAHARASHTRA\",\"MADHYA MAHARASHTRA\",\"MADHYA MAHARASHTRA\",\"MADHYA MAHARASHTRA\",\"MADHYA MAHARASHTRA\",\"MADHYA MAHARASHTRA\",\"MADHYA MAHARASHTRA\",\"MADHYA MAHARASHTRA\",\"MADHYA MAHARASHTRA\",\"MADHYA MAHARASHTRA\",\"MADHYA MAHARASHTRA\",\"MADHYA MAHARASHTRA\",\"MADHYA MAHARASHTRA\",\"MADHYA MAHARASHTRA\",\"MADHYA MAHARASHTRA\",\"MADHYA MAHARASHTRA\",\"MADHYA MAHARASHTRA\",\"MADHYA MAHARASHTRA\",\"MADHYA MAHARASHTRA\",\"MADHYA MAHARASHTRA\",\"MADHYA MAHARASHTRA\",\"MADHYA MAHARASHTRA\",\"MADHYA MAHARASHTRA\",\"MADHYA MAHARASHTRA\",\"MADHYA MAHARASHTRA\",\"MADHYA MAHARASHTRA\",\"MADHYA MAHARASHTRA\",\"MADHYA MAHARASHTRA\",\"MADHYA MAHARASHTRA\",\"MADHYA MAHARASHTRA\",\"MADHYA MAHARASHTRA\",\"MADHYA MAHARASHTRA\",\"MADHYA MAHARASHTRA\",\"MADHYA MAHARASHTRA\",\"MADHYA MAHARASHTRA\",\"MADHYA MAHARASHTRA\",\"MADHYA MAHARASHTRA\",\"MADHYA MAHARASHTRA\",\"MADHYA MAHARASHTRA\",\"MADHYA MAHARASHTRA\",\"MADHYA MAHARASHTRA\",\"MADHYA MAHARASHTRA\",\"MADHYA MAHARASHTRA\",\"MADHYA MAHARASHTRA\",\"MADHYA MAHARASHTRA\",\"MADHYA MAHARASHTRA\",\"MADHYA MAHARASHTRA\",\"MADHYA MAHARASHTRA\",\"MADHYA MAHARASHTRA\",\"MADHYA MAHARASHTRA\",\"MADHYA MAHARASHTRA\",\"MADHYA MAHARASHTRA\",\"MADHYA MAHARASHTRA\",\"MADHYA MAHARASHTRA\",\"MADHYA MAHARASHTRA\",\"MADHYA MAHARASHTRA\",\"MADHYA MAHARASHTRA\",\"MADHYA MAHARASHTRA\",\"MADHYA MAHARASHTRA\",\"MADHYA MAHARASHTRA\",\"MADHYA MAHARASHTRA\",\"MADHYA MAHARASHTRA\",\"MADHYA MAHARASHTRA\",\"MADHYA MAHARASHTRA\",\"MADHYA MAHARASHTRA\",\"MADHYA MAHARASHTRA\",\"MADHYA MAHARASHTRA\",\"MADHYA MAHARASHTRA\",\"MADHYA MAHARASHTRA\",\"MADHYA MAHARASHTRA\",\"MADHYA MAHARASHTRA\",\"MADHYA MAHARASHTRA\",\"MADHYA MAHARASHTRA\",\"MADHYA MAHARASHTRA\",\"MADHYA MAHARASHTRA\",\"MADHYA MAHARASHTRA\",\"MADHYA MAHARASHTRA\",\"MADHYA MAHARASHTRA\",\"MADHYA MAHARASHTRA\",\"MADHYA MAHARASHTRA\",\"MADHYA MAHARASHTRA\",\"MADHYA MAHARASHTRA\",\"MADHYA MAHARASHTRA\",\"MADHYA MAHARASHTRA\",\"MADHYA MAHARASHTRA\",\"MADHYA MAHARASHTRA\",\"MADHYA MAHARASHTRA\",\"MADHYA MAHARASHTRA\",\"MADHYA MAHARASHTRA\",\"MADHYA MAHARASHTRA\",\"MADHYA MAHARASHTRA\",\"MADHYA MAHARASHTRA\",\"MADHYA MAHARASHTRA\",\"MADHYA MAHARASHTRA\",\"MADHYA MAHARASHTRA\",\"MADHYA MAHARASHTRA\",\"MADHYA MAHARASHTRA\",\"MADHYA MAHARASHTRA\",\"MADHYA MAHARASHTRA\",\"MADHYA MAHARASHTRA\",\"MADHYA MAHARASHTRA\",\"MADHYA MAHARASHTRA\",\"MADHYA MAHARASHTRA\",\"MADHYA MAHARASHTRA\",\"MADHYA MAHARASHTRA\",\"MADHYA MAHARASHTRA\"],\"yaxis\":\"y\",\"type\":\"bar\"},{\"alignmentgroup\":\"True\",\"hovertemplate\":\"color=MATATHWADA<br>x=%{x}<br>y=%{y}<extra></extra>\",\"legendgroup\":\"MATATHWADA\",\"marker\":{\"color\":\"#FFA15A\",\"pattern\":{\"shape\":\"\"}},\"name\":\"MATATHWADA\",\"offsetgroup\":\"MATATHWADA\",\"orientation\":\"h\",\"showlegend\":true,\"textposition\":\"auto\",\"x\":[908.7,744.1,1032.6,690.5,505.9,770.7,557.9,682.5,892.7,1134.4,612.4,488.4,656.5,989.1,1001.6,1177.9,1168.3,486.1,662.8,361.2,562.4,836.1,765.0,662.7,604.9,715.5,744.6,825.8,609.4,640.3,1088.6,844.1,1122.9,876.6,922.1,727.8,738.2,1072.7,580.2,855.6,541.0,1003.0,852.4,759.0,622.5,848.7,854.8,946.4,914.2,657.4,731.4,546.1,891.2,899.6,1151.3,1037.3,900.7,1024.6,950.3,738.3,959.0,945.7,1001.2,780.6,631.4,747.1,759.8,712.4,824.6,910.9,607.9,347.1,871.3,650.6,1050.9,623.0,767.7,784.8,807.6,812.9,786.6,636.5,1187.6,552.7,575.4,562.9,786.2,1170.0,1068.3,1198.1,601.0,726.6,806.3,583.8,809.5,855.0,790.5,1126.7,767.6,684.4,732.4,722.1,720.1,678.7,940.5,872.9,714.6,646.3,668.9,1011.6,663.5,526.7,888.0,548.9,532.2],\"xaxis\":\"x\",\"y\":[\"MATATHWADA\",\"MATATHWADA\",\"MATATHWADA\",\"MATATHWADA\",\"MATATHWADA\",\"MATATHWADA\",\"MATATHWADA\",\"MATATHWADA\",\"MATATHWADA\",\"MATATHWADA\",\"MATATHWADA\",\"MATATHWADA\",\"MATATHWADA\",\"MATATHWADA\",\"MATATHWADA\",\"MATATHWADA\",\"MATATHWADA\",\"MATATHWADA\",\"MATATHWADA\",\"MATATHWADA\",\"MATATHWADA\",\"MATATHWADA\",\"MATATHWADA\",\"MATATHWADA\",\"MATATHWADA\",\"MATATHWADA\",\"MATATHWADA\",\"MATATHWADA\",\"MATATHWADA\",\"MATATHWADA\",\"MATATHWADA\",\"MATATHWADA\",\"MATATHWADA\",\"MATATHWADA\",\"MATATHWADA\",\"MATATHWADA\",\"MATATHWADA\",\"MATATHWADA\",\"MATATHWADA\",\"MATATHWADA\",\"MATATHWADA\",\"MATATHWADA\",\"MATATHWADA\",\"MATATHWADA\",\"MATATHWADA\",\"MATATHWADA\",\"MATATHWADA\",\"MATATHWADA\",\"MATATHWADA\",\"MATATHWADA\",\"MATATHWADA\",\"MATATHWADA\",\"MATATHWADA\",\"MATATHWADA\",\"MATATHWADA\",\"MATATHWADA\",\"MATATHWADA\",\"MATATHWADA\",\"MATATHWADA\",\"MATATHWADA\",\"MATATHWADA\",\"MATATHWADA\",\"MATATHWADA\",\"MATATHWADA\",\"MATATHWADA\",\"MATATHWADA\",\"MATATHWADA\",\"MATATHWADA\",\"MATATHWADA\",\"MATATHWADA\",\"MATATHWADA\",\"MATATHWADA\",\"MATATHWADA\",\"MATATHWADA\",\"MATATHWADA\",\"MATATHWADA\",\"MATATHWADA\",\"MATATHWADA\",\"MATATHWADA\",\"MATATHWADA\",\"MATATHWADA\",\"MATATHWADA\",\"MATATHWADA\",\"MATATHWADA\",\"MATATHWADA\",\"MATATHWADA\",\"MATATHWADA\",\"MATATHWADA\",\"MATATHWADA\",\"MATATHWADA\",\"MATATHWADA\",\"MATATHWADA\",\"MATATHWADA\",\"MATATHWADA\",\"MATATHWADA\",\"MATATHWADA\",\"MATATHWADA\",\"MATATHWADA\",\"MATATHWADA\",\"MATATHWADA\",\"MATATHWADA\",\"MATATHWADA\",\"MATATHWADA\",\"MATATHWADA\",\"MATATHWADA\",\"MATATHWADA\",\"MATATHWADA\",\"MATATHWADA\",\"MATATHWADA\",\"MATATHWADA\",\"MATATHWADA\",\"MATATHWADA\",\"MATATHWADA\",\"MATATHWADA\",\"MATATHWADA\"],\"yaxis\":\"y\",\"type\":\"bar\"},{\"alignmentgroup\":\"True\",\"hovertemplate\":\"color=VIDARBHA<br>x=%{x}<br>y=%{y}<extra></extra>\",\"legendgroup\":\"VIDARBHA\",\"marker\":{\"color\":\"#19d3f3\",\"pattern\":{\"shape\":\"\"}},\"name\":\"VIDARBHA\",\"offsetgroup\":\"VIDARBHA\",\"orientation\":\"h\",\"showlegend\":true,\"textposition\":\"auto\",\"x\":[1093.3,748.9,1229.4,753.2,941.8,1191.2,1010.8,1243.4,1061.6,1294.0,982.8,1014.0,1052.6,1199.0,1199.6,1362.3,1396.9,801.4,1212.6,578.5,1085.6,1109.8,941.3,994.2,941.1,1071.1,1167.4,1017.5,912.5,983.1,1404.2,1130.5,1502.3,1218.3,1158.0,1451.2,1319.1,1460.9,881.9,1357.5,828.9,1341.7,1018.2,1367.8,1199.4,1173.0,1168.3,1182.8,1398.3,793.5,1082.3,807.7,1137.8,1100.4,1368.7,1124.6,1070.9,1172.2,1606.3,1065.0,1440.8,1152.6,1147.8,1010.7,743.6,1002.9,1128.4,922.9,992.9,1240.6,882.4,740.8,1162.4,840.8,1324.1,974.6,1068.0,1249.4,1087.2,1042.6,1218.6,856.1,1240.4,810.6,876.9,1157.0,822.6,1308.7,997.7,1505.0,838.7,1148.6,1023.0,1427.1,1077.5,855.0,1039.3,1061.7,1165.1,1105.2,1122.1,925.8,1018.6,731.9,1214.6,1215.6,1167.0,866.6,770.8,1338.1,893.2,1107.7,1520.0,919.1,993.8],\"xaxis\":\"x\",\"y\":[\"VIDARBHA\",\"VIDARBHA\",\"VIDARBHA\",\"VIDARBHA\",\"VIDARBHA\",\"VIDARBHA\",\"VIDARBHA\",\"VIDARBHA\",\"VIDARBHA\",\"VIDARBHA\",\"VIDARBHA\",\"VIDARBHA\",\"VIDARBHA\",\"VIDARBHA\",\"VIDARBHA\",\"VIDARBHA\",\"VIDARBHA\",\"VIDARBHA\",\"VIDARBHA\",\"VIDARBHA\",\"VIDARBHA\",\"VIDARBHA\",\"VIDARBHA\",\"VIDARBHA\",\"VIDARBHA\",\"VIDARBHA\",\"VIDARBHA\",\"VIDARBHA\",\"VIDARBHA\",\"VIDARBHA\",\"VIDARBHA\",\"VIDARBHA\",\"VIDARBHA\",\"VIDARBHA\",\"VIDARBHA\",\"VIDARBHA\",\"VIDARBHA\",\"VIDARBHA\",\"VIDARBHA\",\"VIDARBHA\",\"VIDARBHA\",\"VIDARBHA\",\"VIDARBHA\",\"VIDARBHA\",\"VIDARBHA\",\"VIDARBHA\",\"VIDARBHA\",\"VIDARBHA\",\"VIDARBHA\",\"VIDARBHA\",\"VIDARBHA\",\"VIDARBHA\",\"VIDARBHA\",\"VIDARBHA\",\"VIDARBHA\",\"VIDARBHA\",\"VIDARBHA\",\"VIDARBHA\",\"VIDARBHA\",\"VIDARBHA\",\"VIDARBHA\",\"VIDARBHA\",\"VIDARBHA\",\"VIDARBHA\",\"VIDARBHA\",\"VIDARBHA\",\"VIDARBHA\",\"VIDARBHA\",\"VIDARBHA\",\"VIDARBHA\",\"VIDARBHA\",\"VIDARBHA\",\"VIDARBHA\",\"VIDARBHA\",\"VIDARBHA\",\"VIDARBHA\",\"VIDARBHA\",\"VIDARBHA\",\"VIDARBHA\",\"VIDARBHA\",\"VIDARBHA\",\"VIDARBHA\",\"VIDARBHA\",\"VIDARBHA\",\"VIDARBHA\",\"VIDARBHA\",\"VIDARBHA\",\"VIDARBHA\",\"VIDARBHA\",\"VIDARBHA\",\"VIDARBHA\",\"VIDARBHA\",\"VIDARBHA\",\"VIDARBHA\",\"VIDARBHA\",\"VIDARBHA\",\"VIDARBHA\",\"VIDARBHA\",\"VIDARBHA\",\"VIDARBHA\",\"VIDARBHA\",\"VIDARBHA\",\"VIDARBHA\",\"VIDARBHA\",\"VIDARBHA\",\"VIDARBHA\",\"VIDARBHA\",\"VIDARBHA\",\"VIDARBHA\",\"VIDARBHA\",\"VIDARBHA\",\"VIDARBHA\",\"VIDARBHA\",\"VIDARBHA\",\"VIDARBHA\"],\"yaxis\":\"y\",\"type\":\"bar\"},{\"alignmentgroup\":\"True\",\"hovertemplate\":\"color=CHHATTISGARH<br>x=%{x}<br>y=%{y}<extra></extra>\",\"legendgroup\":\"CHHATTISGARH\",\"marker\":{\"color\":\"#FF6692\",\"pattern\":{\"shape\":\"\"}},\"name\":\"CHHATTISGARH\",\"offsetgroup\":\"CHHATTISGARH\",\"orientation\":\"h\",\"showlegend\":true,\"textposition\":\"auto\",\"x\":[1387.0,923.9,1331.2,1492.4,1251.1,1394.6,1308.8,1488.7,1284.1,1407.2,1504.1,1227.0,1234.6,1418.1,1455.9,1443.0,1727.7,1377.2,1859.0,1203.4,1319.4,1308.8,1387.2,1334.2,1737.1,1634.9,1537.1,1219.2,1663.8,1383.5,1467.0,1357.6,1650.6,1529.2,1269.2,1826.2,1616.8,1505.8,1480.3,1448.4,1005.1,1598.3,1645.1,1792.7,1585.6,1599.0,1599.6,1491.7,1499.6,1292.2,1411.6,1396.4,1370.2,1193.7,1440.7,1557.0,1222.4,1520.9,1544.2,1364.3,1974.0,1124.7,1337.2,1509.1,941.6,1087.1,1472.5,1168.0,1172.6,1501.5,1533.8,1198.9,1467.3,951.0,1475.5,1379.3,1465.5,1370.4,904.6,1495.4,1216.2,1197.4,1371.9,1254.7,1237.5,1368.6,1142.8,1206.3,1187.2,1643.8,1220.8,1156.6,1205.3,1754.5,1280.7,1187.0,1317.2,1332.5,1322.6,906.3,1600.1,990.2,1694.3,1144.5,1287.2,1317.7,1281.2,1108.5,956.6,1306.6,1302.7,1377.4,1420.0,1278.7,1117.6],\"xaxis\":\"x\",\"y\":[\"CHHATTISGARH\",\"CHHATTISGARH\",\"CHHATTISGARH\",\"CHHATTISGARH\",\"CHHATTISGARH\",\"CHHATTISGARH\",\"CHHATTISGARH\",\"CHHATTISGARH\",\"CHHATTISGARH\",\"CHHATTISGARH\",\"CHHATTISGARH\",\"CHHATTISGARH\",\"CHHATTISGARH\",\"CHHATTISGARH\",\"CHHATTISGARH\",\"CHHATTISGARH\",\"CHHATTISGARH\",\"CHHATTISGARH\",\"CHHATTISGARH\",\"CHHATTISGARH\",\"CHHATTISGARH\",\"CHHATTISGARH\",\"CHHATTISGARH\",\"CHHATTISGARH\",\"CHHATTISGARH\",\"CHHATTISGARH\",\"CHHATTISGARH\",\"CHHATTISGARH\",\"CHHATTISGARH\",\"CHHATTISGARH\",\"CHHATTISGARH\",\"CHHATTISGARH\",\"CHHATTISGARH\",\"CHHATTISGARH\",\"CHHATTISGARH\",\"CHHATTISGARH\",\"CHHATTISGARH\",\"CHHATTISGARH\",\"CHHATTISGARH\",\"CHHATTISGARH\",\"CHHATTISGARH\",\"CHHATTISGARH\",\"CHHATTISGARH\",\"CHHATTISGARH\",\"CHHATTISGARH\",\"CHHATTISGARH\",\"CHHATTISGARH\",\"CHHATTISGARH\",\"CHHATTISGARH\",\"CHHATTISGARH\",\"CHHATTISGARH\",\"CHHATTISGARH\",\"CHHATTISGARH\",\"CHHATTISGARH\",\"CHHATTISGARH\",\"CHHATTISGARH\",\"CHHATTISGARH\",\"CHHATTISGARH\",\"CHHATTISGARH\",\"CHHATTISGARH\",\"CHHATTISGARH\",\"CHHATTISGARH\",\"CHHATTISGARH\",\"CHHATTISGARH\",\"CHHATTISGARH\",\"CHHATTISGARH\",\"CHHATTISGARH\",\"CHHATTISGARH\",\"CHHATTISGARH\",\"CHHATTISGARH\",\"CHHATTISGARH\",\"CHHATTISGARH\",\"CHHATTISGARH\",\"CHHATTISGARH\",\"CHHATTISGARH\",\"CHHATTISGARH\",\"CHHATTISGARH\",\"CHHATTISGARH\",\"CHHATTISGARH\",\"CHHATTISGARH\",\"CHHATTISGARH\",\"CHHATTISGARH\",\"CHHATTISGARH\",\"CHHATTISGARH\",\"CHHATTISGARH\",\"CHHATTISGARH\",\"CHHATTISGARH\",\"CHHATTISGARH\",\"CHHATTISGARH\",\"CHHATTISGARH\",\"CHHATTISGARH\",\"CHHATTISGARH\",\"CHHATTISGARH\",\"CHHATTISGARH\",\"CHHATTISGARH\",\"CHHATTISGARH\",\"CHHATTISGARH\",\"CHHATTISGARH\",\"CHHATTISGARH\",\"CHHATTISGARH\",\"CHHATTISGARH\",\"CHHATTISGARH\",\"CHHATTISGARH\",\"CHHATTISGARH\",\"CHHATTISGARH\",\"CHHATTISGARH\",\"CHHATTISGARH\",\"CHHATTISGARH\",\"CHHATTISGARH\",\"CHHATTISGARH\",\"CHHATTISGARH\",\"CHHATTISGARH\",\"CHHATTISGARH\",\"CHHATTISGARH\",\"CHHATTISGARH\"],\"yaxis\":\"y\",\"type\":\"bar\"},{\"alignmentgroup\":\"True\",\"hovertemplate\":\"color=COASTAL ANDHRA PRADESH<br>x=%{x}<br>y=%{y}<extra></extra>\",\"legendgroup\":\"COASTAL ANDHRA PRADESH\",\"marker\":{\"color\":\"#B6E880\",\"pattern\":{\"shape\":\"\"}},\"name\":\"COASTAL ANDHRA PRADESH\",\"offsetgroup\":\"COASTAL ANDHRA PRADESH\",\"orientation\":\"h\",\"showlegend\":true,\"textposition\":\"auto\",\"x\":[993.8,1063.6,1316.2,860.2,795.2,1021.5,817.9,842.3,867.6,1254.6,819.5,903.6,841.0,1013.2,1347.4,1351.2,1289.6,778.0,1141.4,723.5,1015.0,853.3,1126.4,1182.0,1238.5,870.7,1053.0,1101.3,859.1,1222.7,1287.1,971.5,1087.3,884.2,751.1,1328.7,892.2,1206.2,1070.3,1069.0,1026.5,879.8,977.9,1155.9,991.5,970.2,1126.2,1024.6,1217.3,986.0,1096.1,916.7,990.0,1153.5,1378.9,1408.5,1017.6,1605.3,1120.7,943.6,1119.2,1345.5,1023.9,1061.0,754.2,954.7,843.1,838.9,1279.7,1064.2,1033.2,1028.5,859.1,944.9,1192.4,1090.3,1132.8,1038.3,934.1,1014.8,929.3,888.5,1196.0,785.2,967.6,1009.7,1079.9,1164.8,1030.0,1611.1,1122.1,1001.0,869.7,1155.1,1352.0,1210.9,972.1,1310.8,825.1,992.3,1009.3,703.2,1096.8,873.6,1221.6,1159.6,1099.2,1107.5,790.5,1712.4,861.9,1318.4,1120.5,874.9,1010.9],\"xaxis\":\"x\",\"y\":[\"COASTAL ANDHRA PRADESH\",\"COASTAL ANDHRA PRADESH\",\"COASTAL ANDHRA PRADESH\",\"COASTAL ANDHRA PRADESH\",\"COASTAL ANDHRA PRADESH\",\"COASTAL ANDHRA PRADESH\",\"COASTAL ANDHRA PRADESH\",\"COASTAL ANDHRA PRADESH\",\"COASTAL ANDHRA PRADESH\",\"COASTAL ANDHRA PRADESH\",\"COASTAL ANDHRA PRADESH\",\"COASTAL ANDHRA PRADESH\",\"COASTAL ANDHRA PRADESH\",\"COASTAL ANDHRA PRADESH\",\"COASTAL ANDHRA PRADESH\",\"COASTAL ANDHRA PRADESH\",\"COASTAL ANDHRA PRADESH\",\"COASTAL ANDHRA PRADESH\",\"COASTAL ANDHRA PRADESH\",\"COASTAL ANDHRA PRADESH\",\"COASTAL ANDHRA PRADESH\",\"COASTAL ANDHRA PRADESH\",\"COASTAL ANDHRA PRADESH\",\"COASTAL ANDHRA PRADESH\",\"COASTAL ANDHRA PRADESH\",\"COASTAL ANDHRA PRADESH\",\"COASTAL ANDHRA PRADESH\",\"COASTAL ANDHRA PRADESH\",\"COASTAL ANDHRA PRADESH\",\"COASTAL ANDHRA PRADESH\",\"COASTAL ANDHRA PRADESH\",\"COASTAL ANDHRA PRADESH\",\"COASTAL ANDHRA PRADESH\",\"COASTAL ANDHRA PRADESH\",\"COASTAL ANDHRA PRADESH\",\"COASTAL ANDHRA PRADESH\",\"COASTAL ANDHRA PRADESH\",\"COASTAL ANDHRA PRADESH\",\"COASTAL ANDHRA PRADESH\",\"COASTAL ANDHRA PRADESH\",\"COASTAL ANDHRA PRADESH\",\"COASTAL ANDHRA PRADESH\",\"COASTAL ANDHRA PRADESH\",\"COASTAL ANDHRA PRADESH\",\"COASTAL ANDHRA PRADESH\",\"COASTAL ANDHRA PRADESH\",\"COASTAL ANDHRA PRADESH\",\"COASTAL ANDHRA PRADESH\",\"COASTAL ANDHRA PRADESH\",\"COASTAL ANDHRA PRADESH\",\"COASTAL ANDHRA PRADESH\",\"COASTAL ANDHRA PRADESH\",\"COASTAL ANDHRA PRADESH\",\"COASTAL ANDHRA PRADESH\",\"COASTAL ANDHRA PRADESH\",\"COASTAL ANDHRA PRADESH\",\"COASTAL ANDHRA PRADESH\",\"COASTAL ANDHRA PRADESH\",\"COASTAL ANDHRA PRADESH\",\"COASTAL ANDHRA PRADESH\",\"COASTAL ANDHRA PRADESH\",\"COASTAL ANDHRA PRADESH\",\"COASTAL ANDHRA PRADESH\",\"COASTAL ANDHRA PRADESH\",\"COASTAL ANDHRA PRADESH\",\"COASTAL ANDHRA PRADESH\",\"COASTAL ANDHRA PRADESH\",\"COASTAL ANDHRA PRADESH\",\"COASTAL ANDHRA PRADESH\",\"COASTAL ANDHRA PRADESH\",\"COASTAL ANDHRA PRADESH\",\"COASTAL ANDHRA PRADESH\",\"COASTAL ANDHRA PRADESH\",\"COASTAL ANDHRA PRADESH\",\"COASTAL ANDHRA PRADESH\",\"COASTAL ANDHRA PRADESH\",\"COASTAL ANDHRA PRADESH\",\"COASTAL ANDHRA PRADESH\",\"COASTAL ANDHRA PRADESH\",\"COASTAL ANDHRA PRADESH\",\"COASTAL ANDHRA PRADESH\",\"COASTAL ANDHRA PRADESH\",\"COASTAL ANDHRA PRADESH\",\"COASTAL ANDHRA PRADESH\",\"COASTAL ANDHRA PRADESH\",\"COASTAL ANDHRA PRADESH\",\"COASTAL ANDHRA PRADESH\",\"COASTAL ANDHRA PRADESH\",\"COASTAL ANDHRA PRADESH\",\"COASTAL ANDHRA PRADESH\",\"COASTAL ANDHRA PRADESH\",\"COASTAL ANDHRA PRADESH\",\"COASTAL ANDHRA PRADESH\",\"COASTAL ANDHRA PRADESH\",\"COASTAL ANDHRA PRADESH\",\"COASTAL ANDHRA PRADESH\",\"COASTAL ANDHRA PRADESH\",\"COASTAL ANDHRA PRADESH\",\"COASTAL ANDHRA PRADESH\",\"COASTAL ANDHRA PRADESH\",\"COASTAL ANDHRA PRADESH\",\"COASTAL ANDHRA PRADESH\",\"COASTAL ANDHRA PRADESH\",\"COASTAL ANDHRA PRADESH\",\"COASTAL ANDHRA PRADESH\",\"COASTAL ANDHRA PRADESH\",\"COASTAL ANDHRA PRADESH\",\"COASTAL ANDHRA PRADESH\",\"COASTAL ANDHRA PRADESH\",\"COASTAL ANDHRA PRADESH\",\"COASTAL ANDHRA PRADESH\",\"COASTAL ANDHRA PRADESH\",\"COASTAL ANDHRA PRADESH\",\"COASTAL ANDHRA PRADESH\",\"COASTAL ANDHRA PRADESH\"],\"yaxis\":\"y\",\"type\":\"bar\"},{\"alignmentgroup\":\"True\",\"hovertemplate\":\"color=TELANGANA<br>x=%{x}<br>y=%{y}<extra></extra>\",\"legendgroup\":\"TELANGANA\",\"marker\":{\"color\":\"#FF97FF\",\"pattern\":{\"shape\":\"\"}},\"name\":\"TELANGANA\",\"offsetgroup\":\"TELANGANA\",\"orientation\":\"h\",\"showlegend\":true,\"textposition\":\"auto\",\"x\":[827.7,630.4,1283.4,526.7,724.9,855.2,843.7,982.8,769.5,975.9,662.0,743.8,732.2,1083.5,1022.0,1162.6,1206.0,554.7,894.6,437.0,1003.3,767.5,786.2,944.5,1167.9,763.5,1005.5,1006.4,790.5,835.8,1183.1,949.9,1396.3,927.9,898.5,1157.0,866.1,1175.3,740.0,1082.6,594.4,906.9,899.3,960.5,1027.4,822.8,1005.5,915.0,1038.6,761.3,900.8,729.7,1272.1,928.4,1203.2,1120.5,983.2,1113.9,1224.1,839.5,1146.5,1138.7,1010.1,887.5,778.9,970.9,942.1,748.7,1047.1,970.3,729.1,670.7,1042.5,830.4,1215.8,1035.6,808.6,1311.7,791.7,922.6,1143.5,933.2,1497.5,742.8,785.9,1007.3,976.9,1544.9,1161.0,1425.7,849.1,863.5,885.6,975.7,1286.0,986.8,856.0,1093.0,863.8,1078.0,922.3,765.3,963.2,667.0,1163.1,1053.0,843.3,1035.3,666.3,1276.4,753.1,1008.6,1348.7,746.4,857.3],\"xaxis\":\"x\",\"y\":[\"TELANGANA\",\"TELANGANA\",\"TELANGANA\",\"TELANGANA\",\"TELANGANA\",\"TELANGANA\",\"TELANGANA\",\"TELANGANA\",\"TELANGANA\",\"TELANGANA\",\"TELANGANA\",\"TELANGANA\",\"TELANGANA\",\"TELANGANA\",\"TELANGANA\",\"TELANGANA\",\"TELANGANA\",\"TELANGANA\",\"TELANGANA\",\"TELANGANA\",\"TELANGANA\",\"TELANGANA\",\"TELANGANA\",\"TELANGANA\",\"TELANGANA\",\"TELANGANA\",\"TELANGANA\",\"TELANGANA\",\"TELANGANA\",\"TELANGANA\",\"TELANGANA\",\"TELANGANA\",\"TELANGANA\",\"TELANGANA\",\"TELANGANA\",\"TELANGANA\",\"TELANGANA\",\"TELANGANA\",\"TELANGANA\",\"TELANGANA\",\"TELANGANA\",\"TELANGANA\",\"TELANGANA\",\"TELANGANA\",\"TELANGANA\",\"TELANGANA\",\"TELANGANA\",\"TELANGANA\",\"TELANGANA\",\"TELANGANA\",\"TELANGANA\",\"TELANGANA\",\"TELANGANA\",\"TELANGANA\",\"TELANGANA\",\"TELANGANA\",\"TELANGANA\",\"TELANGANA\",\"TELANGANA\",\"TELANGANA\",\"TELANGANA\",\"TELANGANA\",\"TELANGANA\",\"TELANGANA\",\"TELANGANA\",\"TELANGANA\",\"TELANGANA\",\"TELANGANA\",\"TELANGANA\",\"TELANGANA\",\"TELANGANA\",\"TELANGANA\",\"TELANGANA\",\"TELANGANA\",\"TELANGANA\",\"TELANGANA\",\"TELANGANA\",\"TELANGANA\",\"TELANGANA\",\"TELANGANA\",\"TELANGANA\",\"TELANGANA\",\"TELANGANA\",\"TELANGANA\",\"TELANGANA\",\"TELANGANA\",\"TELANGANA\",\"TELANGANA\",\"TELANGANA\",\"TELANGANA\",\"TELANGANA\",\"TELANGANA\",\"TELANGANA\",\"TELANGANA\",\"TELANGANA\",\"TELANGANA\",\"TELANGANA\",\"TELANGANA\",\"TELANGANA\",\"TELANGANA\",\"TELANGANA\",\"TELANGANA\",\"TELANGANA\",\"TELANGANA\",\"TELANGANA\",\"TELANGANA\",\"TELANGANA\",\"TELANGANA\",\"TELANGANA\",\"TELANGANA\",\"TELANGANA\",\"TELANGANA\",\"TELANGANA\",\"TELANGANA\",\"TELANGANA\"],\"yaxis\":\"y\",\"type\":\"bar\"},{\"alignmentgroup\":\"True\",\"hovertemplate\":\"color=RAYALSEEMA<br>x=%{x}<br>y=%{y}<extra></extra>\",\"legendgroup\":\"RAYALSEEMA\",\"marker\":{\"color\":\"#FECB52\",\"pattern\":{\"shape\":\"\"}},\"name\":\"RAYALSEEMA\",\"offsetgroup\":\"RAYALSEEMA\",\"orientation\":\"h\",\"showlegend\":true,\"textposition\":\"auto\",\"x\":[714.0,818.4,1138.2,433.4,703.4,912.6,640.4,617.1,870.6,1001.1,590.6,745.5,616.3,678.3,923.1,1047.0,933.1,645.8,890.5,674.8,743.6,770.3,515.8,684.3,865.5,682.6,682.0,711.3,696.6,995.5,719.2,635.8,678.2,611.5,782.3,695.6,775.4,674.4,798.2,904.6,653.5,536.9,1036.5,917.4,604.1,953.7,624.3,608.9,826.5,510.9,538.4,701.2,795.7,785.4,816.4,931.0,571.7,808.4,635.8,744.0,651.5,816.3,709.1,791.6,595.9,904.1,737.6,623.9,842.4,776.4,621.1,826.0,689.5,728.5,1041.6,817.0,866.6,869.3,813.4,573.7,785.2,595.6,943.0,733.0,685.8,580.9,769.5,842.3,693.7,930.7,967.5,596.0,887.1,690.5,874.3,1277.7,835.0,948.1,537.2,871.3,924.5,615.2,725.5,741.7,1066.4,638.1,980.6,798.0,688.2,963.5,738.0,715.0,762.6,551.8,1047.1],\"xaxis\":\"x\",\"y\":[\"RAYALSEEMA\",\"RAYALSEEMA\",\"RAYALSEEMA\",\"RAYALSEEMA\",\"RAYALSEEMA\",\"RAYALSEEMA\",\"RAYALSEEMA\",\"RAYALSEEMA\",\"RAYALSEEMA\",\"RAYALSEEMA\",\"RAYALSEEMA\",\"RAYALSEEMA\",\"RAYALSEEMA\",\"RAYALSEEMA\",\"RAYALSEEMA\",\"RAYALSEEMA\",\"RAYALSEEMA\",\"RAYALSEEMA\",\"RAYALSEEMA\",\"RAYALSEEMA\",\"RAYALSEEMA\",\"RAYALSEEMA\",\"RAYALSEEMA\",\"RAYALSEEMA\",\"RAYALSEEMA\",\"RAYALSEEMA\",\"RAYALSEEMA\",\"RAYALSEEMA\",\"RAYALSEEMA\",\"RAYALSEEMA\",\"RAYALSEEMA\",\"RAYALSEEMA\",\"RAYALSEEMA\",\"RAYALSEEMA\",\"RAYALSEEMA\",\"RAYALSEEMA\",\"RAYALSEEMA\",\"RAYALSEEMA\",\"RAYALSEEMA\",\"RAYALSEEMA\",\"RAYALSEEMA\",\"RAYALSEEMA\",\"RAYALSEEMA\",\"RAYALSEEMA\",\"RAYALSEEMA\",\"RAYALSEEMA\",\"RAYALSEEMA\",\"RAYALSEEMA\",\"RAYALSEEMA\",\"RAYALSEEMA\",\"RAYALSEEMA\",\"RAYALSEEMA\",\"RAYALSEEMA\",\"RAYALSEEMA\",\"RAYALSEEMA\",\"RAYALSEEMA\",\"RAYALSEEMA\",\"RAYALSEEMA\",\"RAYALSEEMA\",\"RAYALSEEMA\",\"RAYALSEEMA\",\"RAYALSEEMA\",\"RAYALSEEMA\",\"RAYALSEEMA\",\"RAYALSEEMA\",\"RAYALSEEMA\",\"RAYALSEEMA\",\"RAYALSEEMA\",\"RAYALSEEMA\",\"RAYALSEEMA\",\"RAYALSEEMA\",\"RAYALSEEMA\",\"RAYALSEEMA\",\"RAYALSEEMA\",\"RAYALSEEMA\",\"RAYALSEEMA\",\"RAYALSEEMA\",\"RAYALSEEMA\",\"RAYALSEEMA\",\"RAYALSEEMA\",\"RAYALSEEMA\",\"RAYALSEEMA\",\"RAYALSEEMA\",\"RAYALSEEMA\",\"RAYALSEEMA\",\"RAYALSEEMA\",\"RAYALSEEMA\",\"RAYALSEEMA\",\"RAYALSEEMA\",\"RAYALSEEMA\",\"RAYALSEEMA\",\"RAYALSEEMA\",\"RAYALSEEMA\",\"RAYALSEEMA\",\"RAYALSEEMA\",\"RAYALSEEMA\",\"RAYALSEEMA\",\"RAYALSEEMA\",\"RAYALSEEMA\",\"RAYALSEEMA\",\"RAYALSEEMA\",\"RAYALSEEMA\",\"RAYALSEEMA\",\"RAYALSEEMA\",\"RAYALSEEMA\",\"RAYALSEEMA\",\"RAYALSEEMA\",\"RAYALSEEMA\",\"RAYALSEEMA\",\"RAYALSEEMA\",\"RAYALSEEMA\",\"RAYALSEEMA\",\"RAYALSEEMA\",\"RAYALSEEMA\",\"RAYALSEEMA\"],\"yaxis\":\"y\",\"type\":\"bar\"},{\"alignmentgroup\":\"True\",\"hovertemplate\":\"color=TAMIL NADU<br>x=%{x}<br>y=%{y}<extra></extra>\",\"legendgroup\":\"TAMIL NADU\",\"marker\":{\"color\":\"#636efa\",\"pattern\":{\"shape\":\"\"}},\"name\":\"TAMIL NADU\",\"offsetgroup\":\"TAMIL NADU\",\"orientation\":\"h\",\"showlegend\":true,\"textposition\":\"auto\",\"x\":[960.3,1138.2,1163.9,663.1,821.1,990.2,885.6,765.0,954.6,943.7,814.9,904.1,878.8,953.3,988.5,897.4,948.3,871.7,1028.6,1154.2,979.4,1080.5,834.1,895.1,1013.3,815.6,829.9,970.8,977.7,1275.4,1039.8,1109.8,1010.9,839.7,893.9,944.5,1020.1,783.2,1055.8,1178.5,1006.9,847.3,1187.3,1227.6,784.0,1294.1,939.5,906.7,840.7,747.5,855.1,716.4,968.0,1016.3,1060.6,989.7,866.9,852.5,894.3,1013.9,910.7,941.6,1072.8,910.6,921.8,1166.9,899.1,789.4,961.8,942.1,1047.6,1093.4,858.5,652.8,923.6,858.9,1246.0,998.8,1103.4,709.1,1045.9,678.6,1007.7,1023.8,1063.5,953.0,963.5,837.2,856.5,903.2,954.8,918.7,1082.3,905.9,843.4,1069.4,950.5,1079.7,922.6,972.0,483.4,318.0,348.5,1037.6,1365.3,927.9,1067.2,1203.4,928.5,1095.2,926.5,636.1,741.9,913.0,1204.6],\"xaxis\":\"x\",\"y\":[\"TAMIL NADU\",\"TAMIL NADU\",\"TAMIL NADU\",\"TAMIL NADU\",\"TAMIL NADU\",\"TAMIL NADU\",\"TAMIL NADU\",\"TAMIL NADU\",\"TAMIL NADU\",\"TAMIL NADU\",\"TAMIL NADU\",\"TAMIL NADU\",\"TAMIL NADU\",\"TAMIL NADU\",\"TAMIL NADU\",\"TAMIL NADU\",\"TAMIL NADU\",\"TAMIL NADU\",\"TAMIL NADU\",\"TAMIL NADU\",\"TAMIL NADU\",\"TAMIL NADU\",\"TAMIL NADU\",\"TAMIL NADU\",\"TAMIL NADU\",\"TAMIL NADU\",\"TAMIL NADU\",\"TAMIL NADU\",\"TAMIL NADU\",\"TAMIL NADU\",\"TAMIL NADU\",\"TAMIL NADU\",\"TAMIL NADU\",\"TAMIL NADU\",\"TAMIL NADU\",\"TAMIL NADU\",\"TAMIL NADU\",\"TAMIL NADU\",\"TAMIL NADU\",\"TAMIL NADU\",\"TAMIL NADU\",\"TAMIL NADU\",\"TAMIL NADU\",\"TAMIL NADU\",\"TAMIL NADU\",\"TAMIL NADU\",\"TAMIL NADU\",\"TAMIL NADU\",\"TAMIL NADU\",\"TAMIL NADU\",\"TAMIL NADU\",\"TAMIL NADU\",\"TAMIL NADU\",\"TAMIL NADU\",\"TAMIL NADU\",\"TAMIL NADU\",\"TAMIL NADU\",\"TAMIL NADU\",\"TAMIL NADU\",\"TAMIL NADU\",\"TAMIL NADU\",\"TAMIL NADU\",\"TAMIL NADU\",\"TAMIL NADU\",\"TAMIL NADU\",\"TAMIL NADU\",\"TAMIL NADU\",\"TAMIL NADU\",\"TAMIL NADU\",\"TAMIL NADU\",\"TAMIL NADU\",\"TAMIL NADU\",\"TAMIL NADU\",\"TAMIL NADU\",\"TAMIL NADU\",\"TAMIL NADU\",\"TAMIL NADU\",\"TAMIL NADU\",\"TAMIL NADU\",\"TAMIL NADU\",\"TAMIL NADU\",\"TAMIL NADU\",\"TAMIL NADU\",\"TAMIL NADU\",\"TAMIL NADU\",\"TAMIL NADU\",\"TAMIL NADU\",\"TAMIL NADU\",\"TAMIL NADU\",\"TAMIL NADU\",\"TAMIL NADU\",\"TAMIL NADU\",\"TAMIL NADU\",\"TAMIL NADU\",\"TAMIL NADU\",\"TAMIL NADU\",\"TAMIL NADU\",\"TAMIL NADU\",\"TAMIL NADU\",\"TAMIL NADU\",\"TAMIL NADU\",\"TAMIL NADU\",\"TAMIL NADU\",\"TAMIL NADU\",\"TAMIL NADU\",\"TAMIL NADU\",\"TAMIL NADU\",\"TAMIL NADU\",\"TAMIL NADU\",\"TAMIL NADU\",\"TAMIL NADU\",\"TAMIL NADU\",\"TAMIL NADU\",\"TAMIL NADU\",\"TAMIL NADU\"],\"yaxis\":\"y\",\"type\":\"bar\"},{\"alignmentgroup\":\"True\",\"hovertemplate\":\"color=COASTAL KARNATAKA<br>x=%{x}<br>y=%{y}<extra></extra>\",\"legendgroup\":\"COASTAL KARNATAKA\",\"marker\":{\"color\":\"#EF553B\",\"pattern\":{\"shape\":\"\"}},\"name\":\"COASTAL KARNATAKA\",\"offsetgroup\":\"COASTAL KARNATAKA\",\"orientation\":\"h\",\"showlegend\":true,\"textposition\":\"auto\",\"x\":[3056.9,3699.2,3317.4,3141.1,2652.3,2836.0,3535.2,3655.5,3172.9,3020.8,2522.3,3395.9,2836.3,3872.7,2648.7,3467.9,3424.1,2510.9,2918.1,2789.2,3007.4,3332.6,3681.1,3528.9,3581.3,2956.4,3216.4,3339.6,3663.6,2913.0,3842.4,3423.4,4139.5,3011.8,2886.0,3324.7,3314.2,3150.9,2744.2,3723.9,2515.1,3502.6,3577.2,2984.5,3079.3,4041.4,3338.0,3626.6,3362.4,3766.1,3124.3,2896.6,3463.3,3821.5,3552.5,3856.6,3174.8,3687.4,4330.8,3504.2,5553.9,4017.7,3171.3,3140.5,2831.1,2976.6,3181.8,3461.0,3342.9,4042.0,3235.2,2856.9,3126.0,3433.5,4300.0,2933.9,3379.0,3862.9,2823.4,3762.0,3848.6,4090.9,3942.2,3359.0,3015.7,2934.5,2716.2,3466.6,3215.6,4120.4,3719.7,3882.2,3481.3,4636.3,3357.8,3188.9,3953.6,3707.9,3779.9,3351.3,3111.6,2793.1,3071.9,3070.0,3470.9,3837.3,3860.2,3206.4,3862.0,3686.8,3908.6,1411.0088997555013,4229.4,3684.4,3106.0],\"xaxis\":\"x\",\"y\":[\"COASTAL KARNATAKA\",\"COASTAL KARNATAKA\",\"COASTAL KARNATAKA\",\"COASTAL KARNATAKA\",\"COASTAL KARNATAKA\",\"COASTAL KARNATAKA\",\"COASTAL KARNATAKA\",\"COASTAL KARNATAKA\",\"COASTAL KARNATAKA\",\"COASTAL KARNATAKA\",\"COASTAL KARNATAKA\",\"COASTAL KARNATAKA\",\"COASTAL KARNATAKA\",\"COASTAL KARNATAKA\",\"COASTAL KARNATAKA\",\"COASTAL KARNATAKA\",\"COASTAL KARNATAKA\",\"COASTAL KARNATAKA\",\"COASTAL KARNATAKA\",\"COASTAL KARNATAKA\",\"COASTAL KARNATAKA\",\"COASTAL KARNATAKA\",\"COASTAL KARNATAKA\",\"COASTAL KARNATAKA\",\"COASTAL KARNATAKA\",\"COASTAL KARNATAKA\",\"COASTAL KARNATAKA\",\"COASTAL KARNATAKA\",\"COASTAL KARNATAKA\",\"COASTAL KARNATAKA\",\"COASTAL KARNATAKA\",\"COASTAL KARNATAKA\",\"COASTAL KARNATAKA\",\"COASTAL KARNATAKA\",\"COASTAL KARNATAKA\",\"COASTAL KARNATAKA\",\"COASTAL KARNATAKA\",\"COASTAL KARNATAKA\",\"COASTAL KARNATAKA\",\"COASTAL KARNATAKA\",\"COASTAL KARNATAKA\",\"COASTAL KARNATAKA\",\"COASTAL KARNATAKA\",\"COASTAL KARNATAKA\",\"COASTAL KARNATAKA\",\"COASTAL KARNATAKA\",\"COASTAL KARNATAKA\",\"COASTAL KARNATAKA\",\"COASTAL KARNATAKA\",\"COASTAL KARNATAKA\",\"COASTAL KARNATAKA\",\"COASTAL KARNATAKA\",\"COASTAL KARNATAKA\",\"COASTAL KARNATAKA\",\"COASTAL KARNATAKA\",\"COASTAL KARNATAKA\",\"COASTAL KARNATAKA\",\"COASTAL KARNATAKA\",\"COASTAL KARNATAKA\",\"COASTAL KARNATAKA\",\"COASTAL KARNATAKA\",\"COASTAL KARNATAKA\",\"COASTAL KARNATAKA\",\"COASTAL KARNATAKA\",\"COASTAL KARNATAKA\",\"COASTAL KARNATAKA\",\"COASTAL KARNATAKA\",\"COASTAL KARNATAKA\",\"COASTAL KARNATAKA\",\"COASTAL KARNATAKA\",\"COASTAL KARNATAKA\",\"COASTAL KARNATAKA\",\"COASTAL KARNATAKA\",\"COASTAL KARNATAKA\",\"COASTAL KARNATAKA\",\"COASTAL KARNATAKA\",\"COASTAL KARNATAKA\",\"COASTAL KARNATAKA\",\"COASTAL KARNATAKA\",\"COASTAL KARNATAKA\",\"COASTAL KARNATAKA\",\"COASTAL KARNATAKA\",\"COASTAL KARNATAKA\",\"COASTAL KARNATAKA\",\"COASTAL KARNATAKA\",\"COASTAL KARNATAKA\",\"COASTAL KARNATAKA\",\"COASTAL KARNATAKA\",\"COASTAL KARNATAKA\",\"COASTAL KARNATAKA\",\"COASTAL KARNATAKA\",\"COASTAL KARNATAKA\",\"COASTAL KARNATAKA\",\"COASTAL KARNATAKA\",\"COASTAL KARNATAKA\",\"COASTAL KARNATAKA\",\"COASTAL KARNATAKA\",\"COASTAL KARNATAKA\",\"COASTAL KARNATAKA\",\"COASTAL KARNATAKA\",\"COASTAL KARNATAKA\",\"COASTAL KARNATAKA\",\"COASTAL KARNATAKA\",\"COASTAL KARNATAKA\",\"COASTAL KARNATAKA\",\"COASTAL KARNATAKA\",\"COASTAL KARNATAKA\",\"COASTAL KARNATAKA\",\"COASTAL KARNATAKA\",\"COASTAL KARNATAKA\",\"COASTAL KARNATAKA\",\"COASTAL KARNATAKA\",\"COASTAL KARNATAKA\",\"COASTAL KARNATAKA\",\"COASTAL KARNATAKA\"],\"yaxis\":\"y\",\"type\":\"bar\"},{\"alignmentgroup\":\"True\",\"hovertemplate\":\"color=NORTH INTERIOR KARNATAKA<br>x=%{x}<br>y=%{y}<extra></extra>\",\"legendgroup\":\"NORTH INTERIOR KARNATAKA\",\"marker\":{\"color\":\"#00cc96\",\"pattern\":{\"shape\":\"\"}},\"name\":\"NORTH INTERIOR KARNATAKA\",\"offsetgroup\":\"NORTH INTERIOR KARNATAKA\",\"orientation\":\"h\",\"showlegend\":true,\"textposition\":\"auto\",\"x\":[773.0,716.1,928.5,578.6,506.2,783.8,746.7,595.1,675.8,759.4,510.0,758.7,572.3,824.8,753.3,1087.9,823.8,528.0,727.1,470.3,582.8,509.0,602.8,591.2,642.6,581.0,680.8,768.5,598.0,632.7,719.2,808.8,947.3,591.2,714.9,564.7,552.4,815.1,653.9,736.8,535.7,585.7,879.2,722.1,544.0,808.9,786.3,778.3,763.3,706.5,708.4,628.5,891.2,683.3,967.1,1039.0,837.8,752.0,698.5,691.6,748.6,839.1,783.1,899.8,632.9,723.6,645.7,727.3,729.1,790.8,612.1,499.4,750.8,817.3,1093.7,561.3,849.9,904.9,963.2,691.7,877.3,681.4,777.9,618.1,501.2,620.4,747.4,795.4,676.2,719.0,720.0,668.3,731.8,643.0,662.3,811.8,1095.6,852.5,660.8,712.4,598.0,530.5,473.5,641.9,807.5,650.6,836.9,712.4,913.5,853.2,655.2,583.8,723.2,756.8,551.9],\"xaxis\":\"x\",\"y\":[\"NORTH INTERIOR KARNATAKA\",\"NORTH INTERIOR KARNATAKA\",\"NORTH INTERIOR KARNATAKA\",\"NORTH INTERIOR KARNATAKA\",\"NORTH INTERIOR KARNATAKA\",\"NORTH INTERIOR KARNATAKA\",\"NORTH INTERIOR KARNATAKA\",\"NORTH INTERIOR KARNATAKA\",\"NORTH INTERIOR KARNATAKA\",\"NORTH INTERIOR KARNATAKA\",\"NORTH INTERIOR KARNATAKA\",\"NORTH INTERIOR KARNATAKA\",\"NORTH INTERIOR KARNATAKA\",\"NORTH INTERIOR KARNATAKA\",\"NORTH INTERIOR KARNATAKA\",\"NORTH INTERIOR KARNATAKA\",\"NORTH INTERIOR KARNATAKA\",\"NORTH INTERIOR KARNATAKA\",\"NORTH INTERIOR KARNATAKA\",\"NORTH INTERIOR KARNATAKA\",\"NORTH INTERIOR KARNATAKA\",\"NORTH INTERIOR KARNATAKA\",\"NORTH INTERIOR KARNATAKA\",\"NORTH INTERIOR KARNATAKA\",\"NORTH INTERIOR KARNATAKA\",\"NORTH INTERIOR KARNATAKA\",\"NORTH INTERIOR KARNATAKA\",\"NORTH INTERIOR KARNATAKA\",\"NORTH INTERIOR KARNATAKA\",\"NORTH INTERIOR KARNATAKA\",\"NORTH INTERIOR KARNATAKA\",\"NORTH INTERIOR KARNATAKA\",\"NORTH INTERIOR KARNATAKA\",\"NORTH INTERIOR KARNATAKA\",\"NORTH INTERIOR KARNATAKA\",\"NORTH INTERIOR KARNATAKA\",\"NORTH INTERIOR KARNATAKA\",\"NORTH INTERIOR KARNATAKA\",\"NORTH INTERIOR KARNATAKA\",\"NORTH INTERIOR KARNATAKA\",\"NORTH INTERIOR KARNATAKA\",\"NORTH INTERIOR KARNATAKA\",\"NORTH INTERIOR KARNATAKA\",\"NORTH INTERIOR KARNATAKA\",\"NORTH INTERIOR KARNATAKA\",\"NORTH INTERIOR KARNATAKA\",\"NORTH INTERIOR KARNATAKA\",\"NORTH INTERIOR KARNATAKA\",\"NORTH INTERIOR KARNATAKA\",\"NORTH INTERIOR KARNATAKA\",\"NORTH INTERIOR KARNATAKA\",\"NORTH INTERIOR KARNATAKA\",\"NORTH INTERIOR KARNATAKA\",\"NORTH INTERIOR KARNATAKA\",\"NORTH INTERIOR KARNATAKA\",\"NORTH INTERIOR KARNATAKA\",\"NORTH INTERIOR KARNATAKA\",\"NORTH INTERIOR KARNATAKA\",\"NORTH INTERIOR KARNATAKA\",\"NORTH INTERIOR KARNATAKA\",\"NORTH INTERIOR KARNATAKA\",\"NORTH INTERIOR KARNATAKA\",\"NORTH INTERIOR KARNATAKA\",\"NORTH INTERIOR KARNATAKA\",\"NORTH INTERIOR KARNATAKA\",\"NORTH INTERIOR KARNATAKA\",\"NORTH INTERIOR KARNATAKA\",\"NORTH INTERIOR KARNATAKA\",\"NORTH INTERIOR KARNATAKA\",\"NORTH INTERIOR KARNATAKA\",\"NORTH INTERIOR KARNATAKA\",\"NORTH INTERIOR KARNATAKA\",\"NORTH INTERIOR KARNATAKA\",\"NORTH INTERIOR KARNATAKA\",\"NORTH INTERIOR KARNATAKA\",\"NORTH INTERIOR KARNATAKA\",\"NORTH INTERIOR KARNATAKA\",\"NORTH INTERIOR KARNATAKA\",\"NORTH INTERIOR KARNATAKA\",\"NORTH INTERIOR KARNATAKA\",\"NORTH INTERIOR KARNATAKA\",\"NORTH INTERIOR KARNATAKA\",\"NORTH INTERIOR KARNATAKA\",\"NORTH INTERIOR KARNATAKA\",\"NORTH INTERIOR KARNATAKA\",\"NORTH INTERIOR KARNATAKA\",\"NORTH INTERIOR KARNATAKA\",\"NORTH INTERIOR KARNATAKA\",\"NORTH INTERIOR KARNATAKA\",\"NORTH INTERIOR KARNATAKA\",\"NORTH INTERIOR KARNATAKA\",\"NORTH INTERIOR KARNATAKA\",\"NORTH INTERIOR KARNATAKA\",\"NORTH INTERIOR KARNATAKA\",\"NORTH INTERIOR KARNATAKA\",\"NORTH INTERIOR KARNATAKA\",\"NORTH INTERIOR KARNATAKA\",\"NORTH INTERIOR KARNATAKA\",\"NORTH INTERIOR KARNATAKA\",\"NORTH INTERIOR KARNATAKA\",\"NORTH INTERIOR KARNATAKA\",\"NORTH INTERIOR KARNATAKA\",\"NORTH INTERIOR KARNATAKA\",\"NORTH INTERIOR KARNATAKA\",\"NORTH INTERIOR KARNATAKA\",\"NORTH INTERIOR KARNATAKA\",\"NORTH INTERIOR KARNATAKA\",\"NORTH INTERIOR KARNATAKA\",\"NORTH INTERIOR KARNATAKA\",\"NORTH INTERIOR KARNATAKA\",\"NORTH INTERIOR KARNATAKA\",\"NORTH INTERIOR KARNATAKA\",\"NORTH INTERIOR KARNATAKA\",\"NORTH INTERIOR KARNATAKA\",\"NORTH INTERIOR KARNATAKA\"],\"yaxis\":\"y\",\"type\":\"bar\"},{\"alignmentgroup\":\"True\",\"hovertemplate\":\"color=SOUTH INTERIOR KARNATAKA<br>x=%{x}<br>y=%{y}<extra></extra>\",\"legendgroup\":\"SOUTH INTERIOR KARNATAKA\",\"marker\":{\"color\":\"#ab63fa\",\"pattern\":{\"shape\":\"\"}},\"name\":\"SOUTH INTERIOR KARNATAKA\",\"offsetgroup\":\"SOUTH INTERIOR KARNATAKA\",\"orientation\":\"h\",\"showlegend\":true,\"textposition\":\"auto\",\"x\":[1003.0,1020.1,1269.9,845.8,759.4,1004.5,998.5,790.2,1087.4,1157.3,906.3,1150.2,876.4,926.7,1031.9,1230.7,1094.3,733.3,1011.4,828.9,986.1,897.1,990.5,1127.0,982.2,897.0,863.7,950.5,1034.9,993.3,1012.6,1270.1,1329.2,786.3,954.5,958.4,911.2,871.4,1024.6,1180.0,937.6,932.9,1137.1,1025.7,792.3,1245.0,958.3,1074.1,876.4,956.5,925.3,871.8,1255.9,1031.1,1002.0,1243.7,1064.7,1210.0,1280.9,989.9,1409.5,1307.2,992.8,1169.4,735.2,1010.9,940.3,1001.0,1106.5,1073.8,1020.2,1064.0,1086.6,1051.5,1334.3,761.2,1207.8,1231.6,1120.8,1225.0,1184.6,1003.5,1111.2,1063.9,859.3,1030.2,934.7,1022.2,913.5,848.5,1221.2,1201.0,1038.1,1157.8,883.2,1044.0,1180.0,1113.3,1149.6,1207.2,926.3,755.8,762.8,1133.4,1319.3,1030.5,1231.0,1140.6,1158.4,1239.7,1087.4,877.8,1110.7,1184.2,1112.5],\"xaxis\":\"x\",\"y\":[\"SOUTH INTERIOR KARNATAKA\",\"SOUTH INTERIOR KARNATAKA\",\"SOUTH INTERIOR KARNATAKA\",\"SOUTH INTERIOR KARNATAKA\",\"SOUTH INTERIOR KARNATAKA\",\"SOUTH INTERIOR KARNATAKA\",\"SOUTH INTERIOR KARNATAKA\",\"SOUTH INTERIOR KARNATAKA\",\"SOUTH INTERIOR KARNATAKA\",\"SOUTH INTERIOR KARNATAKA\",\"SOUTH INTERIOR KARNATAKA\",\"SOUTH INTERIOR KARNATAKA\",\"SOUTH INTERIOR KARNATAKA\",\"SOUTH INTERIOR KARNATAKA\",\"SOUTH INTERIOR KARNATAKA\",\"SOUTH INTERIOR KARNATAKA\",\"SOUTH INTERIOR KARNATAKA\",\"SOUTH INTERIOR KARNATAKA\",\"SOUTH INTERIOR KARNATAKA\",\"SOUTH INTERIOR KARNATAKA\",\"SOUTH INTERIOR KARNATAKA\",\"SOUTH INTERIOR KARNATAKA\",\"SOUTH INTERIOR KARNATAKA\",\"SOUTH INTERIOR KARNATAKA\",\"SOUTH INTERIOR KARNATAKA\",\"SOUTH INTERIOR KARNATAKA\",\"SOUTH INTERIOR KARNATAKA\",\"SOUTH INTERIOR KARNATAKA\",\"SOUTH INTERIOR KARNATAKA\",\"SOUTH INTERIOR KARNATAKA\",\"SOUTH INTERIOR KARNATAKA\",\"SOUTH INTERIOR KARNATAKA\",\"SOUTH INTERIOR KARNATAKA\",\"SOUTH INTERIOR KARNATAKA\",\"SOUTH INTERIOR KARNATAKA\",\"SOUTH INTERIOR KARNATAKA\",\"SOUTH INTERIOR KARNATAKA\",\"SOUTH INTERIOR KARNATAKA\",\"SOUTH INTERIOR KARNATAKA\",\"SOUTH INTERIOR KARNATAKA\",\"SOUTH INTERIOR KARNATAKA\",\"SOUTH INTERIOR KARNATAKA\",\"SOUTH INTERIOR KARNATAKA\",\"SOUTH INTERIOR KARNATAKA\",\"SOUTH INTERIOR KARNATAKA\",\"SOUTH INTERIOR KARNATAKA\",\"SOUTH INTERIOR KARNATAKA\",\"SOUTH INTERIOR KARNATAKA\",\"SOUTH INTERIOR KARNATAKA\",\"SOUTH INTERIOR KARNATAKA\",\"SOUTH INTERIOR KARNATAKA\",\"SOUTH INTERIOR KARNATAKA\",\"SOUTH INTERIOR KARNATAKA\",\"SOUTH INTERIOR KARNATAKA\",\"SOUTH INTERIOR KARNATAKA\",\"SOUTH INTERIOR KARNATAKA\",\"SOUTH INTERIOR KARNATAKA\",\"SOUTH INTERIOR KARNATAKA\",\"SOUTH INTERIOR KARNATAKA\",\"SOUTH INTERIOR KARNATAKA\",\"SOUTH INTERIOR KARNATAKA\",\"SOUTH INTERIOR KARNATAKA\",\"SOUTH INTERIOR KARNATAKA\",\"SOUTH INTERIOR KARNATAKA\",\"SOUTH INTERIOR KARNATAKA\",\"SOUTH INTERIOR KARNATAKA\",\"SOUTH INTERIOR KARNATAKA\",\"SOUTH INTERIOR KARNATAKA\",\"SOUTH INTERIOR KARNATAKA\",\"SOUTH INTERIOR KARNATAKA\",\"SOUTH INTERIOR KARNATAKA\",\"SOUTH INTERIOR KARNATAKA\",\"SOUTH INTERIOR KARNATAKA\",\"SOUTH INTERIOR KARNATAKA\",\"SOUTH INTERIOR KARNATAKA\",\"SOUTH INTERIOR KARNATAKA\",\"SOUTH INTERIOR KARNATAKA\",\"SOUTH INTERIOR KARNATAKA\",\"SOUTH INTERIOR KARNATAKA\",\"SOUTH INTERIOR KARNATAKA\",\"SOUTH INTERIOR KARNATAKA\",\"SOUTH INTERIOR KARNATAKA\",\"SOUTH INTERIOR KARNATAKA\",\"SOUTH INTERIOR KARNATAKA\",\"SOUTH INTERIOR KARNATAKA\",\"SOUTH INTERIOR KARNATAKA\",\"SOUTH INTERIOR KARNATAKA\",\"SOUTH INTERIOR KARNATAKA\",\"SOUTH INTERIOR KARNATAKA\",\"SOUTH INTERIOR KARNATAKA\",\"SOUTH INTERIOR KARNATAKA\",\"SOUTH INTERIOR KARNATAKA\",\"SOUTH INTERIOR KARNATAKA\",\"SOUTH INTERIOR KARNATAKA\",\"SOUTH INTERIOR KARNATAKA\",\"SOUTH INTERIOR KARNATAKA\",\"SOUTH INTERIOR KARNATAKA\",\"SOUTH INTERIOR KARNATAKA\",\"SOUTH INTERIOR KARNATAKA\",\"SOUTH INTERIOR KARNATAKA\",\"SOUTH INTERIOR KARNATAKA\",\"SOUTH INTERIOR KARNATAKA\",\"SOUTH INTERIOR KARNATAKA\",\"SOUTH INTERIOR KARNATAKA\",\"SOUTH INTERIOR KARNATAKA\",\"SOUTH INTERIOR KARNATAKA\",\"SOUTH INTERIOR KARNATAKA\",\"SOUTH INTERIOR KARNATAKA\",\"SOUTH INTERIOR KARNATAKA\",\"SOUTH INTERIOR KARNATAKA\",\"SOUTH INTERIOR KARNATAKA\",\"SOUTH INTERIOR KARNATAKA\",\"SOUTH INTERIOR KARNATAKA\",\"SOUTH INTERIOR KARNATAKA\",\"SOUTH INTERIOR KARNATAKA\"],\"yaxis\":\"y\",\"type\":\"bar\"},{\"alignmentgroup\":\"True\",\"hovertemplate\":\"color=KERALA<br>x=%{x}<br>y=%{y}<extra></extra>\",\"legendgroup\":\"KERALA\",\"marker\":{\"color\":\"#FFA15A\",\"pattern\":{\"shape\":\"\"}},\"name\":\"KERALA\",\"offsetgroup\":\"KERALA\",\"orientation\":\"h\",\"showlegend\":true,\"textposition\":\"auto\",\"x\":[3248.6,3326.6,3271.2,3129.7,2741.6,2708.0,3671.1,2648.3,3050.2,2848.6,2726.7,3451.3,2610.8,2899.1,3024.5,2945.3,2704.8,2501.9,3003.3,3303.1,2719.9,3267.6,3484.7,4226.4,3062.1,2965.4,2994.7,2502.8,3361.6,3018.0,3259.6,3403.0,4072.9,2410.7,2498.2,3043.3,2818.2,2634.1,2937.5,3117.8,3111.1,3050.9,3464.2,2490.0,2432.4,3565.5,2998.1,3039.2,2942.6,3146.6,2705.5,2334.8,2544.9,2938.0,3134.7,2798.4,3103.3,2923.1,3746.0,3385.5,4257.8,3375.8,2651.1,2869.1,2342.4,2621.7,2569.1,3392.7,2665.0,2703.5,3076.8,2739.4,2412.5,2767.4,3498.4,2068.8,3047.6,3176.7,2503.0,2803.4,3005.9,2223.3,2320.3,2762.1,2390.5,2093.2,2137.6,2403.5,2422.7,2693.1,3184.5,3239.5,2717.7,3410.8,2858.8,2610.0,3252.4,3151.5,2914.6,2412.6,2931.1,2507.4,2394.9,2886.1,3031.1,3420.6,3489.6,2524.5,2810.6,3131.8,3035.1,2151.1,3255.4,3046.4,2600.6],\"xaxis\":\"x\",\"y\":[\"KERALA\",\"KERALA\",\"KERALA\",\"KERALA\",\"KERALA\",\"KERALA\",\"KERALA\",\"KERALA\",\"KERALA\",\"KERALA\",\"KERALA\",\"KERALA\",\"KERALA\",\"KERALA\",\"KERALA\",\"KERALA\",\"KERALA\",\"KERALA\",\"KERALA\",\"KERALA\",\"KERALA\",\"KERALA\",\"KERALA\",\"KERALA\",\"KERALA\",\"KERALA\",\"KERALA\",\"KERALA\",\"KERALA\",\"KERALA\",\"KERALA\",\"KERALA\",\"KERALA\",\"KERALA\",\"KERALA\",\"KERALA\",\"KERALA\",\"KERALA\",\"KERALA\",\"KERALA\",\"KERALA\",\"KERALA\",\"KERALA\",\"KERALA\",\"KERALA\",\"KERALA\",\"KERALA\",\"KERALA\",\"KERALA\",\"KERALA\",\"KERALA\",\"KERALA\",\"KERALA\",\"KERALA\",\"KERALA\",\"KERALA\",\"KERALA\",\"KERALA\",\"KERALA\",\"KERALA\",\"KERALA\",\"KERALA\",\"KERALA\",\"KERALA\",\"KERALA\",\"KERALA\",\"KERALA\",\"KERALA\",\"KERALA\",\"KERALA\",\"KERALA\",\"KERALA\",\"KERALA\",\"KERALA\",\"KERALA\",\"KERALA\",\"KERALA\",\"KERALA\",\"KERALA\",\"KERALA\",\"KERALA\",\"KERALA\",\"KERALA\",\"KERALA\",\"KERALA\",\"KERALA\",\"KERALA\",\"KERALA\",\"KERALA\",\"KERALA\",\"KERALA\",\"KERALA\",\"KERALA\",\"KERALA\",\"KERALA\",\"KERALA\",\"KERALA\",\"KERALA\",\"KERALA\",\"KERALA\",\"KERALA\",\"KERALA\",\"KERALA\",\"KERALA\",\"KERALA\",\"KERALA\",\"KERALA\",\"KERALA\",\"KERALA\",\"KERALA\",\"KERALA\",\"KERALA\",\"KERALA\",\"KERALA\",\"KERALA\"],\"yaxis\":\"y\",\"type\":\"bar\"},{\"alignmentgroup\":\"True\",\"hovertemplate\":\"color=LAKSHADWEEP<br>x=%{x}<br>y=%{y}<extra></extra>\",\"legendgroup\":\"LAKSHADWEEP\",\"marker\":{\"color\":\"#19d3f3\",\"pattern\":{\"shape\":\"\"}},\"name\":\"LAKSHADWEEP\",\"offsetgroup\":\"LAKSHADWEEP\",\"orientation\":\"h\",\"showlegend\":true,\"textposition\":\"auto\",\"x\":[1459.2,2158.8,1411.0088997555013,1176.9,1574.9,1811.6,1458.8,1959.1,1463.5,1849.2,1687.7,1654.9,1518.5,2034.0,1545.5,1398.5,1411.0088997555013,1926.5,1411.0088997555013,1411.0088997555013,1928.5,1572.2,1972.0,1676.9,1836.2,1411.0088997555013,1411.0088997555013,1411.0088997555013,1258.4,1411.0088997555013,1893.7,2314.1,1087.9,1529.2,1744.1,1443.6,1547.6,1207.3,1406.7,1163.4,1786.2,1411.0088997555013,1668.1,1321.3,1411.0088997555013,1755.9,1325.3,1411.0088997555013,1494.1,1715.3,1124.5,1606.2,1555.5,1548.3,1287.4,1347.2,992.6,1583.6,1901.8,2235.3,1586.6,1902.1,1651.7,1405.9,1741.5,1287.3,1344.4,1416.1,1783.0,1901.4,1287.6,1557.4,1511.3,1890.5,1502.1,1848.2,1967.4,1825.4,1211.7,1617.4,1392.0,1403.2,1591.6,1303.4,1465.9,1288.6,1450.8,1714.4,1310.5,1583.0,1534.9,1449.7,1547.1,2030.9,1606.0,1764.7,1986.9,1857.3,1372.1,1380.6,1033.5,1532.9,1553.2,1575.4,1598.6,2361.6,1726.8,1570.1,1725.2,1533.7,1405.5,1426.3,1395.0,1642.9],\"xaxis\":\"x\",\"y\":[\"LAKSHADWEEP\",\"LAKSHADWEEP\",\"LAKSHADWEEP\",\"LAKSHADWEEP\",\"LAKSHADWEEP\",\"LAKSHADWEEP\",\"LAKSHADWEEP\",\"LAKSHADWEEP\",\"LAKSHADWEEP\",\"LAKSHADWEEP\",\"LAKSHADWEEP\",\"LAKSHADWEEP\",\"LAKSHADWEEP\",\"LAKSHADWEEP\",\"LAKSHADWEEP\",\"LAKSHADWEEP\",\"LAKSHADWEEP\",\"LAKSHADWEEP\",\"LAKSHADWEEP\",\"LAKSHADWEEP\",\"LAKSHADWEEP\",\"LAKSHADWEEP\",\"LAKSHADWEEP\",\"LAKSHADWEEP\",\"LAKSHADWEEP\",\"LAKSHADWEEP\",\"LAKSHADWEEP\",\"LAKSHADWEEP\",\"LAKSHADWEEP\",\"LAKSHADWEEP\",\"LAKSHADWEEP\",\"LAKSHADWEEP\",\"LAKSHADWEEP\",\"LAKSHADWEEP\",\"LAKSHADWEEP\",\"LAKSHADWEEP\",\"LAKSHADWEEP\",\"LAKSHADWEEP\",\"LAKSHADWEEP\",\"LAKSHADWEEP\",\"LAKSHADWEEP\",\"LAKSHADWEEP\",\"LAKSHADWEEP\",\"LAKSHADWEEP\",\"LAKSHADWEEP\",\"LAKSHADWEEP\",\"LAKSHADWEEP\",\"LAKSHADWEEP\",\"LAKSHADWEEP\",\"LAKSHADWEEP\",\"LAKSHADWEEP\",\"LAKSHADWEEP\",\"LAKSHADWEEP\",\"LAKSHADWEEP\",\"LAKSHADWEEP\",\"LAKSHADWEEP\",\"LAKSHADWEEP\",\"LAKSHADWEEP\",\"LAKSHADWEEP\",\"LAKSHADWEEP\",\"LAKSHADWEEP\",\"LAKSHADWEEP\",\"LAKSHADWEEP\",\"LAKSHADWEEP\",\"LAKSHADWEEP\",\"LAKSHADWEEP\",\"LAKSHADWEEP\",\"LAKSHADWEEP\",\"LAKSHADWEEP\",\"LAKSHADWEEP\",\"LAKSHADWEEP\",\"LAKSHADWEEP\",\"LAKSHADWEEP\",\"LAKSHADWEEP\",\"LAKSHADWEEP\",\"LAKSHADWEEP\",\"LAKSHADWEEP\",\"LAKSHADWEEP\",\"LAKSHADWEEP\",\"LAKSHADWEEP\",\"LAKSHADWEEP\",\"LAKSHADWEEP\",\"LAKSHADWEEP\",\"LAKSHADWEEP\",\"LAKSHADWEEP\",\"LAKSHADWEEP\",\"LAKSHADWEEP\",\"LAKSHADWEEP\",\"LAKSHADWEEP\",\"LAKSHADWEEP\",\"LAKSHADWEEP\",\"LAKSHADWEEP\",\"LAKSHADWEEP\",\"LAKSHADWEEP\",\"LAKSHADWEEP\",\"LAKSHADWEEP\",\"LAKSHADWEEP\",\"LAKSHADWEEP\",\"LAKSHADWEEP\",\"LAKSHADWEEP\",\"LAKSHADWEEP\",\"LAKSHADWEEP\",\"LAKSHADWEEP\",\"LAKSHADWEEP\",\"LAKSHADWEEP\",\"LAKSHADWEEP\",\"LAKSHADWEEP\",\"LAKSHADWEEP\",\"LAKSHADWEEP\",\"LAKSHADWEEP\",\"LAKSHADWEEP\",\"LAKSHADWEEP\",\"LAKSHADWEEP\",\"LAKSHADWEEP\"],\"yaxis\":\"y\",\"type\":\"bar\"}],                        {\"template\":{\"data\":{\"histogram2dcontour\":[{\"type\":\"histogram2dcontour\",\"colorbar\":{\"outlinewidth\":0,\"ticks\":\"\"},\"colorscale\":[[0.0,\"#0d0887\"],[0.1111111111111111,\"#46039f\"],[0.2222222222222222,\"#7201a8\"],[0.3333333333333333,\"#9c179e\"],[0.4444444444444444,\"#bd3786\"],[0.5555555555555556,\"#d8576b\"],[0.6666666666666666,\"#ed7953\"],[0.7777777777777778,\"#fb9f3a\"],[0.8888888888888888,\"#fdca26\"],[1.0,\"#f0f921\"]]}],\"choropleth\":[{\"type\":\"choropleth\",\"colorbar\":{\"outlinewidth\":0,\"ticks\":\"\"}}],\"histogram2d\":[{\"type\":\"histogram2d\",\"colorbar\":{\"outlinewidth\":0,\"ticks\":\"\"},\"colorscale\":[[0.0,\"#0d0887\"],[0.1111111111111111,\"#46039f\"],[0.2222222222222222,\"#7201a8\"],[0.3333333333333333,\"#9c179e\"],[0.4444444444444444,\"#bd3786\"],[0.5555555555555556,\"#d8576b\"],[0.6666666666666666,\"#ed7953\"],[0.7777777777777778,\"#fb9f3a\"],[0.8888888888888888,\"#fdca26\"],[1.0,\"#f0f921\"]]}],\"heatmap\":[{\"type\":\"heatmap\",\"colorbar\":{\"outlinewidth\":0,\"ticks\":\"\"},\"colorscale\":[[0.0,\"#0d0887\"],[0.1111111111111111,\"#46039f\"],[0.2222222222222222,\"#7201a8\"],[0.3333333333333333,\"#9c179e\"],[0.4444444444444444,\"#bd3786\"],[0.5555555555555556,\"#d8576b\"],[0.6666666666666666,\"#ed7953\"],[0.7777777777777778,\"#fb9f3a\"],[0.8888888888888888,\"#fdca26\"],[1.0,\"#f0f921\"]]}],\"heatmapgl\":[{\"type\":\"heatmapgl\",\"colorbar\":{\"outlinewidth\":0,\"ticks\":\"\"},\"colorscale\":[[0.0,\"#0d0887\"],[0.1111111111111111,\"#46039f\"],[0.2222222222222222,\"#7201a8\"],[0.3333333333333333,\"#9c179e\"],[0.4444444444444444,\"#bd3786\"],[0.5555555555555556,\"#d8576b\"],[0.6666666666666666,\"#ed7953\"],[0.7777777777777778,\"#fb9f3a\"],[0.8888888888888888,\"#fdca26\"],[1.0,\"#f0f921\"]]}],\"contourcarpet\":[{\"type\":\"contourcarpet\",\"colorbar\":{\"outlinewidth\":0,\"ticks\":\"\"}}],\"contour\":[{\"type\":\"contour\",\"colorbar\":{\"outlinewidth\":0,\"ticks\":\"\"},\"colorscale\":[[0.0,\"#0d0887\"],[0.1111111111111111,\"#46039f\"],[0.2222222222222222,\"#7201a8\"],[0.3333333333333333,\"#9c179e\"],[0.4444444444444444,\"#bd3786\"],[0.5555555555555556,\"#d8576b\"],[0.6666666666666666,\"#ed7953\"],[0.7777777777777778,\"#fb9f3a\"],[0.8888888888888888,\"#fdca26\"],[1.0,\"#f0f921\"]]}],\"surface\":[{\"type\":\"surface\",\"colorbar\":{\"outlinewidth\":0,\"ticks\":\"\"},\"colorscale\":[[0.0,\"#0d0887\"],[0.1111111111111111,\"#46039f\"],[0.2222222222222222,\"#7201a8\"],[0.3333333333333333,\"#9c179e\"],[0.4444444444444444,\"#bd3786\"],[0.5555555555555556,\"#d8576b\"],[0.6666666666666666,\"#ed7953\"],[0.7777777777777778,\"#fb9f3a\"],[0.8888888888888888,\"#fdca26\"],[1.0,\"#f0f921\"]]}],\"mesh3d\":[{\"type\":\"mesh3d\",\"colorbar\":{\"outlinewidth\":0,\"ticks\":\"\"}}],\"scatter\":[{\"fillpattern\":{\"fillmode\":\"overlay\",\"size\":10,\"solidity\":0.2},\"type\":\"scatter\"}],\"parcoords\":[{\"type\":\"parcoords\",\"line\":{\"colorbar\":{\"outlinewidth\":0,\"ticks\":\"\"}}}],\"scatterpolargl\":[{\"type\":\"scatterpolargl\",\"marker\":{\"colorbar\":{\"outlinewidth\":0,\"ticks\":\"\"}}}],\"bar\":[{\"error_x\":{\"color\":\"#2a3f5f\"},\"error_y\":{\"color\":\"#2a3f5f\"},\"marker\":{\"line\":{\"color\":\"#E5ECF6\",\"width\":0.5},\"pattern\":{\"fillmode\":\"overlay\",\"size\":10,\"solidity\":0.2}},\"type\":\"bar\"}],\"scattergeo\":[{\"type\":\"scattergeo\",\"marker\":{\"colorbar\":{\"outlinewidth\":0,\"ticks\":\"\"}}}],\"scatterpolar\":[{\"type\":\"scatterpolar\",\"marker\":{\"colorbar\":{\"outlinewidth\":0,\"ticks\":\"\"}}}],\"histogram\":[{\"marker\":{\"pattern\":{\"fillmode\":\"overlay\",\"size\":10,\"solidity\":0.2}},\"type\":\"histogram\"}],\"scattergl\":[{\"type\":\"scattergl\",\"marker\":{\"colorbar\":{\"outlinewidth\":0,\"ticks\":\"\"}}}],\"scatter3d\":[{\"type\":\"scatter3d\",\"line\":{\"colorbar\":{\"outlinewidth\":0,\"ticks\":\"\"}},\"marker\":{\"colorbar\":{\"outlinewidth\":0,\"ticks\":\"\"}}}],\"scattermapbox\":[{\"type\":\"scattermapbox\",\"marker\":{\"colorbar\":{\"outlinewidth\":0,\"ticks\":\"\"}}}],\"scatterternary\":[{\"type\":\"scatterternary\",\"marker\":{\"colorbar\":{\"outlinewidth\":0,\"ticks\":\"\"}}}],\"scattercarpet\":[{\"type\":\"scattercarpet\",\"marker\":{\"colorbar\":{\"outlinewidth\":0,\"ticks\":\"\"}}}],\"carpet\":[{\"aaxis\":{\"endlinecolor\":\"#2a3f5f\",\"gridcolor\":\"white\",\"linecolor\":\"white\",\"minorgridcolor\":\"white\",\"startlinecolor\":\"#2a3f5f\"},\"baxis\":{\"endlinecolor\":\"#2a3f5f\",\"gridcolor\":\"white\",\"linecolor\":\"white\",\"minorgridcolor\":\"white\",\"startlinecolor\":\"#2a3f5f\"},\"type\":\"carpet\"}],\"table\":[{\"cells\":{\"fill\":{\"color\":\"#EBF0F8\"},\"line\":{\"color\":\"white\"}},\"header\":{\"fill\":{\"color\":\"#C8D4E3\"},\"line\":{\"color\":\"white\"}},\"type\":\"table\"}],\"barpolar\":[{\"marker\":{\"line\":{\"color\":\"#E5ECF6\",\"width\":0.5},\"pattern\":{\"fillmode\":\"overlay\",\"size\":10,\"solidity\":0.2}},\"type\":\"barpolar\"}],\"pie\":[{\"automargin\":true,\"type\":\"pie\"}]},\"layout\":{\"autotypenumbers\":\"strict\",\"colorway\":[\"#636efa\",\"#EF553B\",\"#00cc96\",\"#ab63fa\",\"#FFA15A\",\"#19d3f3\",\"#FF6692\",\"#B6E880\",\"#FF97FF\",\"#FECB52\"],\"font\":{\"color\":\"#2a3f5f\"},\"hovermode\":\"closest\",\"hoverlabel\":{\"align\":\"left\"},\"paper_bgcolor\":\"white\",\"plot_bgcolor\":\"#E5ECF6\",\"polar\":{\"bgcolor\":\"#E5ECF6\",\"angularaxis\":{\"gridcolor\":\"white\",\"linecolor\":\"white\",\"ticks\":\"\"},\"radialaxis\":{\"gridcolor\":\"white\",\"linecolor\":\"white\",\"ticks\":\"\"}},\"ternary\":{\"bgcolor\":\"#E5ECF6\",\"aaxis\":{\"gridcolor\":\"white\",\"linecolor\":\"white\",\"ticks\":\"\"},\"baxis\":{\"gridcolor\":\"white\",\"linecolor\":\"white\",\"ticks\":\"\"},\"caxis\":{\"gridcolor\":\"white\",\"linecolor\":\"white\",\"ticks\":\"\"}},\"coloraxis\":{\"colorbar\":{\"outlinewidth\":0,\"ticks\":\"\"}},\"colorscale\":{\"sequential\":[[0.0,\"#0d0887\"],[0.1111111111111111,\"#46039f\"],[0.2222222222222222,\"#7201a8\"],[0.3333333333333333,\"#9c179e\"],[0.4444444444444444,\"#bd3786\"],[0.5555555555555556,\"#d8576b\"],[0.6666666666666666,\"#ed7953\"],[0.7777777777777778,\"#fb9f3a\"],[0.8888888888888888,\"#fdca26\"],[1.0,\"#f0f921\"]],\"sequentialminus\":[[0.0,\"#0d0887\"],[0.1111111111111111,\"#46039f\"],[0.2222222222222222,\"#7201a8\"],[0.3333333333333333,\"#9c179e\"],[0.4444444444444444,\"#bd3786\"],[0.5555555555555556,\"#d8576b\"],[0.6666666666666666,\"#ed7953\"],[0.7777777777777778,\"#fb9f3a\"],[0.8888888888888888,\"#fdca26\"],[1.0,\"#f0f921\"]],\"diverging\":[[0,\"#8e0152\"],[0.1,\"#c51b7d\"],[0.2,\"#de77ae\"],[0.3,\"#f1b6da\"],[0.4,\"#fde0ef\"],[0.5,\"#f7f7f7\"],[0.6,\"#e6f5d0\"],[0.7,\"#b8e186\"],[0.8,\"#7fbc41\"],[0.9,\"#4d9221\"],[1,\"#276419\"]]},\"xaxis\":{\"gridcolor\":\"white\",\"linecolor\":\"white\",\"ticks\":\"\",\"title\":{\"standoff\":15},\"zerolinecolor\":\"white\",\"automargin\":true,\"zerolinewidth\":2},\"yaxis\":{\"gridcolor\":\"white\",\"linecolor\":\"white\",\"ticks\":\"\",\"title\":{\"standoff\":15},\"zerolinecolor\":\"white\",\"automargin\":true,\"zerolinewidth\":2},\"scene\":{\"xaxis\":{\"backgroundcolor\":\"#E5ECF6\",\"gridcolor\":\"white\",\"linecolor\":\"white\",\"showbackground\":true,\"ticks\":\"\",\"zerolinecolor\":\"white\",\"gridwidth\":2},\"yaxis\":{\"backgroundcolor\":\"#E5ECF6\",\"gridcolor\":\"white\",\"linecolor\":\"white\",\"showbackground\":true,\"ticks\":\"\",\"zerolinecolor\":\"white\",\"gridwidth\":2},\"zaxis\":{\"backgroundcolor\":\"#E5ECF6\",\"gridcolor\":\"white\",\"linecolor\":\"white\",\"showbackground\":true,\"ticks\":\"\",\"zerolinecolor\":\"white\",\"gridwidth\":2}},\"shapedefaults\":{\"line\":{\"color\":\"#2a3f5f\"}},\"annotationdefaults\":{\"arrowcolor\":\"#2a3f5f\",\"arrowhead\":0,\"arrowwidth\":1},\"geo\":{\"bgcolor\":\"white\",\"landcolor\":\"#E5ECF6\",\"subunitcolor\":\"white\",\"showland\":true,\"showlakes\":true,\"lakecolor\":\"white\"},\"title\":{\"x\":0.05},\"mapbox\":{\"style\":\"light\"}}},\"xaxis\":{\"anchor\":\"y\",\"domain\":[0.0,1.0],\"title\":{\"text\":\"Rainfall in MM\"}},\"yaxis\":{\"anchor\":\"x\",\"domain\":[0.0,1.0],\"title\":{\"text\":\"Division\"},\"categoryorder\":\"total descending\"},\"legend\":{\"title\":{\"text\":\"States\"},\"tracegroupgap\":0},\"margin\":{\"t\":60},\"barmode\":\"relative\",\"height\":1000,\"width\":1100,\"title\":{\"text\":\"Annual Rainfall  V/S  Division\"}},                        {\"responsive\": true}                    ).then(function(){\n",
              "                            \n",
              "var gd = document.getElementById('ce02eafb-f2ae-4360-801d-8703700951e7');\n",
              "var x = new MutationObserver(function (mutations, observer) {{\n",
              "        var display = window.getComputedStyle(gd).display;\n",
              "        if (!display || display === 'none') {{\n",
              "            console.log([gd, 'removed!']);\n",
              "            Plotly.purge(gd);\n",
              "            observer.disconnect();\n",
              "        }}\n",
              "}});\n",
              "\n",
              "// Listen for the removal of the full notebook cells\n",
              "var notebookContainer = gd.closest('#notebook-container');\n",
              "if (notebookContainer) {{\n",
              "    x.observe(notebookContainer, {childList: true});\n",
              "}}\n",
              "\n",
              "// Listen for the clearing of the current output cell\n",
              "var outputEl = gd.closest('.output');\n",
              "if (outputEl) {{\n",
              "    x.observe(outputEl, {childList: true});\n",
              "}}\n",
              "\n",
              "                        })                };                            </script>        </div>\n",
              "</body>\n",
              "</html>"
            ]
          },
          "metadata": {}
        }
      ]
    },
    {
      "cell_type": "markdown",
      "source": [
        "###The Above Plot shows the total rainfall from year 1901-2015 in each division. From this plot we can say :-\n",
        "\n",
        "\n",
        "*   West Rajasthan, Haryana, Punjab, Kutch, Delhi have received the least rainfall.\n",
        "*   Coastal Karnataka, Goa, Kerala, Arunachal Pradesh, Meghalaya, Assam, Tripura and Andaman received the most rainfall.\n"
      ],
      "metadata": {
        "id": "N_7g8mc0IWUq"
      }
    },
    {
      "cell_type": "code",
      "source": [
        "annual_year = data.groupby('YEAR').sum()['ANNUAL']\n",
        "\n",
        "px.line(annual_year, orientation = 'v', width = 1100, height = 1000 ,markers = True).update_layout( title = 'Annual Rainfall over Years',\n",
        "xaxis_title=\"Year\", yaxis_title=\"Rainfall in MM\", showlegend = False)\n",
        "\n",
        "# Visualization showing the annual rainfall over years from 1901 to 2015"
      ],
      "metadata": {
        "colab": {
          "base_uri": "https://localhost:8080/",
          "height": 1000
        },
        "id": "xQ_5kMEse2az",
        "outputId": "bcc84805-f3fd-4f53-d4bd-b8c2c0d3a855"
      },
      "execution_count": null,
      "outputs": [
        {
          "output_type": "display_data",
          "data": {
            "text/html": [
              "<html>\n",
              "<head><meta charset=\"utf-8\" /></head>\n",
              "<body>\n",
              "    <div>            <script src=\"https://cdnjs.cloudflare.com/ajax/libs/mathjax/2.7.5/MathJax.js?config=TeX-AMS-MML_SVG\"></script><script type=\"text/javascript\">if (window.MathJax && window.MathJax.Hub && window.MathJax.Hub.Config) {window.MathJax.Hub.Config({SVG: {font: \"STIX-Web\"}});}</script>                <script type=\"text/javascript\">window.PlotlyConfig = {MathJaxConfig: 'local'};</script>\n",
              "        <script src=\"https://cdn.plot.ly/plotly-2.18.2.min.js\"></script>                <div id=\"01776485-ae60-4eee-8240-c50ba4a02e4e\" class=\"plotly-graph-div\" style=\"height:1000px; width:1100px;\"></div>            <script type=\"text/javascript\">                                    window.PLOTLYENV=window.PLOTLYENV || {};                                    if (document.getElementById(\"01776485-ae60-4eee-8240-c50ba4a02e4e\")) {                    Plotly.newPlot(                        \"01776485-ae60-4eee-8240-c50ba4a02e4e\",                        [{\"hovertemplate\":\"variable=ANNUAL<br>YEAR=%{x}<br>value=%{y}<extra></extra>\",\"legendgroup\":\"ANNUAL\",\"line\":{\"color\":\"#636efa\",\"dash\":\"solid\"},\"marker\":{\"symbol\":\"circle\"},\"mode\":\"lines+markers\",\"name\":\"ANNUAL\",\"orientation\":\"v\",\"showlegend\":true,\"x\":[1901,1902,1903,1904,1905,1906,1907,1908,1909,1910,1911,1912,1913,1914,1915,1916,1917,1918,1919,1920,1921,1922,1923,1924,1925,1926,1927,1928,1929,1930,1931,1932,1933,1934,1935,1936,1937,1938,1939,1940,1941,1942,1943,1944,1945,1946,1947,1948,1949,1950,1951,1952,1953,1954,1955,1956,1957,1958,1959,1960,1961,1962,1963,1964,1965,1966,1967,1968,1969,1970,1971,1972,1973,1974,1975,1976,1977,1978,1979,1980,1981,1982,1983,1984,1985,1986,1987,1988,1989,1990,1991,1992,1993,1994,1995,1996,1997,1998,1999,2000,2001,2002,2003,2004,2005,2006,2007,2008,2009,2010,2011,2012,2013,2014,2015],\"xaxis\":\"x\",\"y\":[44947.5,46805.6,49007.9088997555,43287.0,41516.2,47180.2,45443.9,46453.7,45677.8,50265.1,44096.9,46771.8,45008.6,51352.2,47181.7,54810.9088997555,57910.617799511005,44223.5,53781.7,45894.708899755504,53247.6088997555,53951.3,49633.4088997555,53946.5088997555,51823.1,53174.3,53302.1088997555,52166.9088997555,52023.208899755504,50922.200000000004,56101.5088997555,51852.1088997555,60003.0,52131.200000000004,49075.5,54658.1088997555,52675.6,55991.4,47938.3,52238.5,46743.4,53650.6088997555,51800.6088997555,51214.6,49532.5,57075.108899755505,51681.1088997555,54236.0,55649.8088997555,49441.3088997555,47334.9,47677.3,51064.3088997555,51397.2,54724.4,56449.4,47813.3088997555,56184.1,59336.3,50899.1,61815.6,49839.708899755504,53152.4,53791.2,42796.2,46223.1,49215.700000000004,46980.1,49414.7,55112.2,53177.2,41273.6,50610.0,47361.5,55811.8,48421.3,54270.8,53601.2,43830.3,51730.1,51531.4,46445.4,55844.7,49830.5,48582.3,46180.3,46388.0,57796.9,48520.7,58114.6,50407.9,47706.7,51514.3,54246.3,54038.2,50407.0,50982.3,54964.0,49968.8,47757.608899755505,46897.3,41357.9,48760.7,46753.2,52431.5,50646.2,54506.4,49226.2,43157.6088997555,52855.0,50146.4,44935.5088997555,53106.2,44796.1,46101.0],\"yaxis\":\"y\",\"type\":\"scatter\"}],                        {\"template\":{\"data\":{\"histogram2dcontour\":[{\"type\":\"histogram2dcontour\",\"colorbar\":{\"outlinewidth\":0,\"ticks\":\"\"},\"colorscale\":[[0.0,\"#0d0887\"],[0.1111111111111111,\"#46039f\"],[0.2222222222222222,\"#7201a8\"],[0.3333333333333333,\"#9c179e\"],[0.4444444444444444,\"#bd3786\"],[0.5555555555555556,\"#d8576b\"],[0.6666666666666666,\"#ed7953\"],[0.7777777777777778,\"#fb9f3a\"],[0.8888888888888888,\"#fdca26\"],[1.0,\"#f0f921\"]]}],\"choropleth\":[{\"type\":\"choropleth\",\"colorbar\":{\"outlinewidth\":0,\"ticks\":\"\"}}],\"histogram2d\":[{\"type\":\"histogram2d\",\"colorbar\":{\"outlinewidth\":0,\"ticks\":\"\"},\"colorscale\":[[0.0,\"#0d0887\"],[0.1111111111111111,\"#46039f\"],[0.2222222222222222,\"#7201a8\"],[0.3333333333333333,\"#9c179e\"],[0.4444444444444444,\"#bd3786\"],[0.5555555555555556,\"#d8576b\"],[0.6666666666666666,\"#ed7953\"],[0.7777777777777778,\"#fb9f3a\"],[0.8888888888888888,\"#fdca26\"],[1.0,\"#f0f921\"]]}],\"heatmap\":[{\"type\":\"heatmap\",\"colorbar\":{\"outlinewidth\":0,\"ticks\":\"\"},\"colorscale\":[[0.0,\"#0d0887\"],[0.1111111111111111,\"#46039f\"],[0.2222222222222222,\"#7201a8\"],[0.3333333333333333,\"#9c179e\"],[0.4444444444444444,\"#bd3786\"],[0.5555555555555556,\"#d8576b\"],[0.6666666666666666,\"#ed7953\"],[0.7777777777777778,\"#fb9f3a\"],[0.8888888888888888,\"#fdca26\"],[1.0,\"#f0f921\"]]}],\"heatmapgl\":[{\"type\":\"heatmapgl\",\"colorbar\":{\"outlinewidth\":0,\"ticks\":\"\"},\"colorscale\":[[0.0,\"#0d0887\"],[0.1111111111111111,\"#46039f\"],[0.2222222222222222,\"#7201a8\"],[0.3333333333333333,\"#9c179e\"],[0.4444444444444444,\"#bd3786\"],[0.5555555555555556,\"#d8576b\"],[0.6666666666666666,\"#ed7953\"],[0.7777777777777778,\"#fb9f3a\"],[0.8888888888888888,\"#fdca26\"],[1.0,\"#f0f921\"]]}],\"contourcarpet\":[{\"type\":\"contourcarpet\",\"colorbar\":{\"outlinewidth\":0,\"ticks\":\"\"}}],\"contour\":[{\"type\":\"contour\",\"colorbar\":{\"outlinewidth\":0,\"ticks\":\"\"},\"colorscale\":[[0.0,\"#0d0887\"],[0.1111111111111111,\"#46039f\"],[0.2222222222222222,\"#7201a8\"],[0.3333333333333333,\"#9c179e\"],[0.4444444444444444,\"#bd3786\"],[0.5555555555555556,\"#d8576b\"],[0.6666666666666666,\"#ed7953\"],[0.7777777777777778,\"#fb9f3a\"],[0.8888888888888888,\"#fdca26\"],[1.0,\"#f0f921\"]]}],\"surface\":[{\"type\":\"surface\",\"colorbar\":{\"outlinewidth\":0,\"ticks\":\"\"},\"colorscale\":[[0.0,\"#0d0887\"],[0.1111111111111111,\"#46039f\"],[0.2222222222222222,\"#7201a8\"],[0.3333333333333333,\"#9c179e\"],[0.4444444444444444,\"#bd3786\"],[0.5555555555555556,\"#d8576b\"],[0.6666666666666666,\"#ed7953\"],[0.7777777777777778,\"#fb9f3a\"],[0.8888888888888888,\"#fdca26\"],[1.0,\"#f0f921\"]]}],\"mesh3d\":[{\"type\":\"mesh3d\",\"colorbar\":{\"outlinewidth\":0,\"ticks\":\"\"}}],\"scatter\":[{\"fillpattern\":{\"fillmode\":\"overlay\",\"size\":10,\"solidity\":0.2},\"type\":\"scatter\"}],\"parcoords\":[{\"type\":\"parcoords\",\"line\":{\"colorbar\":{\"outlinewidth\":0,\"ticks\":\"\"}}}],\"scatterpolargl\":[{\"type\":\"scatterpolargl\",\"marker\":{\"colorbar\":{\"outlinewidth\":0,\"ticks\":\"\"}}}],\"bar\":[{\"error_x\":{\"color\":\"#2a3f5f\"},\"error_y\":{\"color\":\"#2a3f5f\"},\"marker\":{\"line\":{\"color\":\"#E5ECF6\",\"width\":0.5},\"pattern\":{\"fillmode\":\"overlay\",\"size\":10,\"solidity\":0.2}},\"type\":\"bar\"}],\"scattergeo\":[{\"type\":\"scattergeo\",\"marker\":{\"colorbar\":{\"outlinewidth\":0,\"ticks\":\"\"}}}],\"scatterpolar\":[{\"type\":\"scatterpolar\",\"marker\":{\"colorbar\":{\"outlinewidth\":0,\"ticks\":\"\"}}}],\"histogram\":[{\"marker\":{\"pattern\":{\"fillmode\":\"overlay\",\"size\":10,\"solidity\":0.2}},\"type\":\"histogram\"}],\"scattergl\":[{\"type\":\"scattergl\",\"marker\":{\"colorbar\":{\"outlinewidth\":0,\"ticks\":\"\"}}}],\"scatter3d\":[{\"type\":\"scatter3d\",\"line\":{\"colorbar\":{\"outlinewidth\":0,\"ticks\":\"\"}},\"marker\":{\"colorbar\":{\"outlinewidth\":0,\"ticks\":\"\"}}}],\"scattermapbox\":[{\"type\":\"scattermapbox\",\"marker\":{\"colorbar\":{\"outlinewidth\":0,\"ticks\":\"\"}}}],\"scatterternary\":[{\"type\":\"scatterternary\",\"marker\":{\"colorbar\":{\"outlinewidth\":0,\"ticks\":\"\"}}}],\"scattercarpet\":[{\"type\":\"scattercarpet\",\"marker\":{\"colorbar\":{\"outlinewidth\":0,\"ticks\":\"\"}}}],\"carpet\":[{\"aaxis\":{\"endlinecolor\":\"#2a3f5f\",\"gridcolor\":\"white\",\"linecolor\":\"white\",\"minorgridcolor\":\"white\",\"startlinecolor\":\"#2a3f5f\"},\"baxis\":{\"endlinecolor\":\"#2a3f5f\",\"gridcolor\":\"white\",\"linecolor\":\"white\",\"minorgridcolor\":\"white\",\"startlinecolor\":\"#2a3f5f\"},\"type\":\"carpet\"}],\"table\":[{\"cells\":{\"fill\":{\"color\":\"#EBF0F8\"},\"line\":{\"color\":\"white\"}},\"header\":{\"fill\":{\"color\":\"#C8D4E3\"},\"line\":{\"color\":\"white\"}},\"type\":\"table\"}],\"barpolar\":[{\"marker\":{\"line\":{\"color\":\"#E5ECF6\",\"width\":0.5},\"pattern\":{\"fillmode\":\"overlay\",\"size\":10,\"solidity\":0.2}},\"type\":\"barpolar\"}],\"pie\":[{\"automargin\":true,\"type\":\"pie\"}]},\"layout\":{\"autotypenumbers\":\"strict\",\"colorway\":[\"#636efa\",\"#EF553B\",\"#00cc96\",\"#ab63fa\",\"#FFA15A\",\"#19d3f3\",\"#FF6692\",\"#B6E880\",\"#FF97FF\",\"#FECB52\"],\"font\":{\"color\":\"#2a3f5f\"},\"hovermode\":\"closest\",\"hoverlabel\":{\"align\":\"left\"},\"paper_bgcolor\":\"white\",\"plot_bgcolor\":\"#E5ECF6\",\"polar\":{\"bgcolor\":\"#E5ECF6\",\"angularaxis\":{\"gridcolor\":\"white\",\"linecolor\":\"white\",\"ticks\":\"\"},\"radialaxis\":{\"gridcolor\":\"white\",\"linecolor\":\"white\",\"ticks\":\"\"}},\"ternary\":{\"bgcolor\":\"#E5ECF6\",\"aaxis\":{\"gridcolor\":\"white\",\"linecolor\":\"white\",\"ticks\":\"\"},\"baxis\":{\"gridcolor\":\"white\",\"linecolor\":\"white\",\"ticks\":\"\"},\"caxis\":{\"gridcolor\":\"white\",\"linecolor\":\"white\",\"ticks\":\"\"}},\"coloraxis\":{\"colorbar\":{\"outlinewidth\":0,\"ticks\":\"\"}},\"colorscale\":{\"sequential\":[[0.0,\"#0d0887\"],[0.1111111111111111,\"#46039f\"],[0.2222222222222222,\"#7201a8\"],[0.3333333333333333,\"#9c179e\"],[0.4444444444444444,\"#bd3786\"],[0.5555555555555556,\"#d8576b\"],[0.6666666666666666,\"#ed7953\"],[0.7777777777777778,\"#fb9f3a\"],[0.8888888888888888,\"#fdca26\"],[1.0,\"#f0f921\"]],\"sequentialminus\":[[0.0,\"#0d0887\"],[0.1111111111111111,\"#46039f\"],[0.2222222222222222,\"#7201a8\"],[0.3333333333333333,\"#9c179e\"],[0.4444444444444444,\"#bd3786\"],[0.5555555555555556,\"#d8576b\"],[0.6666666666666666,\"#ed7953\"],[0.7777777777777778,\"#fb9f3a\"],[0.8888888888888888,\"#fdca26\"],[1.0,\"#f0f921\"]],\"diverging\":[[0,\"#8e0152\"],[0.1,\"#c51b7d\"],[0.2,\"#de77ae\"],[0.3,\"#f1b6da\"],[0.4,\"#fde0ef\"],[0.5,\"#f7f7f7\"],[0.6,\"#e6f5d0\"],[0.7,\"#b8e186\"],[0.8,\"#7fbc41\"],[0.9,\"#4d9221\"],[1,\"#276419\"]]},\"xaxis\":{\"gridcolor\":\"white\",\"linecolor\":\"white\",\"ticks\":\"\",\"title\":{\"standoff\":15},\"zerolinecolor\":\"white\",\"automargin\":true,\"zerolinewidth\":2},\"yaxis\":{\"gridcolor\":\"white\",\"linecolor\":\"white\",\"ticks\":\"\",\"title\":{\"standoff\":15},\"zerolinecolor\":\"white\",\"automargin\":true,\"zerolinewidth\":2},\"scene\":{\"xaxis\":{\"backgroundcolor\":\"#E5ECF6\",\"gridcolor\":\"white\",\"linecolor\":\"white\",\"showbackground\":true,\"ticks\":\"\",\"zerolinecolor\":\"white\",\"gridwidth\":2},\"yaxis\":{\"backgroundcolor\":\"#E5ECF6\",\"gridcolor\":\"white\",\"linecolor\":\"white\",\"showbackground\":true,\"ticks\":\"\",\"zerolinecolor\":\"white\",\"gridwidth\":2},\"zaxis\":{\"backgroundcolor\":\"#E5ECF6\",\"gridcolor\":\"white\",\"linecolor\":\"white\",\"showbackground\":true,\"ticks\":\"\",\"zerolinecolor\":\"white\",\"gridwidth\":2}},\"shapedefaults\":{\"line\":{\"color\":\"#2a3f5f\"}},\"annotationdefaults\":{\"arrowcolor\":\"#2a3f5f\",\"arrowhead\":0,\"arrowwidth\":1},\"geo\":{\"bgcolor\":\"white\",\"landcolor\":\"#E5ECF6\",\"subunitcolor\":\"white\",\"showland\":true,\"showlakes\":true,\"lakecolor\":\"white\"},\"title\":{\"x\":0.05},\"mapbox\":{\"style\":\"light\"}}},\"xaxis\":{\"anchor\":\"y\",\"domain\":[0.0,1.0],\"title\":{\"text\":\"Year\"}},\"yaxis\":{\"anchor\":\"x\",\"domain\":[0.0,1.0],\"title\":{\"text\":\"Rainfall in MM\"}},\"legend\":{\"title\":{\"text\":\"variable\"},\"tracegroupgap\":0},\"margin\":{\"t\":60},\"height\":1000,\"width\":1100,\"title\":{\"text\":\"Annual Rainfall over Years\"},\"showlegend\":false},                        {\"responsive\": true}                    ).then(function(){\n",
              "                            \n",
              "var gd = document.getElementById('01776485-ae60-4eee-8240-c50ba4a02e4e');\n",
              "var x = new MutationObserver(function (mutations, observer) {{\n",
              "        var display = window.getComputedStyle(gd).display;\n",
              "        if (!display || display === 'none') {{\n",
              "            console.log([gd, 'removed!']);\n",
              "            Plotly.purge(gd);\n",
              "            observer.disconnect();\n",
              "        }}\n",
              "}});\n",
              "\n",
              "// Listen for the removal of the full notebook cells\n",
              "var notebookContainer = gd.closest('#notebook-container');\n",
              "if (notebookContainer) {{\n",
              "    x.observe(notebookContainer, {childList: true});\n",
              "}}\n",
              "\n",
              "// Listen for the clearing of the current output cell\n",
              "var outputEl = gd.closest('.output');\n",
              "if (outputEl) {{\n",
              "    x.observe(outputEl, {childList: true});\n",
              "}}\n",
              "\n",
              "                        })                };                            </script>        </div>\n",
              "</body>\n",
              "</html>"
            ]
          },
          "metadata": {}
        }
      ]
    },
    {
      "cell_type": "markdown",
      "source": [
        "###The Above Plot shows the total rainfall from year 1901-2015 in each division. From this plot we can say :-\n",
        "\n",
        "*   The Maximum Rainfall happened from the 1950s.\n",
        "\n"
      ],
      "metadata": {
        "id": "TuEF6zFVhWgh"
      }
    },
    {
      "cell_type": "code",
      "source": [
        "year_annual_month = data[['YEAR','JAN','FEB','MAR','APR','MAY','JUN','JUL','AUG','SEP','OCT','NOV','DEC']].groupby('YEAR').sum()\n",
        "\n",
        "px.line(year_annual_month, orientation = 'v', width = 1100, height = 1000 ).update_layout( title = 'Year V/S Rainfall in each Month',\n",
        "xaxis_title=\"Year\", yaxis_title=\"Rainfall in MM\", legend = dict(title = 'Months'))\n",
        "\n",
        "# Visualization showing Annual Rainfall for each Month in every Year"
      ],
      "metadata": {
        "id": "Vy53AkxRCiO2",
        "colab": {
          "base_uri": "https://localhost:8080/",
          "height": 1000
        },
        "outputId": "e2df88db-796b-4220-dae3-a94a4c4948f7"
      },
      "execution_count": null,
      "outputs": [
        {
          "output_type": "display_data",
          "data": {
            "text/html": [
              "<html>\n",
              "<head><meta charset=\"utf-8\" /></head>\n",
              "<body>\n",
              "    <div>            <script src=\"https://cdnjs.cloudflare.com/ajax/libs/mathjax/2.7.5/MathJax.js?config=TeX-AMS-MML_SVG\"></script><script type=\"text/javascript\">if (window.MathJax && window.MathJax.Hub && window.MathJax.Hub.Config) {window.MathJax.Hub.Config({SVG: {font: \"STIX-Web\"}});}</script>                <script type=\"text/javascript\">window.PlotlyConfig = {MathJaxConfig: 'local'};</script>\n",
              "        <script src=\"https://cdn.plot.ly/plotly-2.18.2.min.js\"></script>                <div id=\"ac26e343-55fd-44a1-a8e5-96dae7e939b4\" class=\"plotly-graph-div\" style=\"height:1000px; width:1100px;\"></div>            <script type=\"text/javascript\">                                    window.PLOTLYENV=window.PLOTLYENV || {};                                    if (document.getElementById(\"ac26e343-55fd-44a1-a8e5-96dae7e939b4\")) {                    Plotly.newPlot(                        \"ac26e343-55fd-44a1-a8e5-96dae7e939b4\",                        [{\"hovertemplate\":\"variable=JAN<br>YEAR=%{x}<br>value=%{y}<extra></extra>\",\"legendgroup\":\"JAN\",\"line\":{\"color\":\"#636efa\",\"dash\":\"solid\"},\"marker\":{\"symbol\":\"circle\"},\"mode\":\"lines\",\"name\":\"JAN\",\"showlegend\":true,\"x\":[1901,1902,1903,1904,1905,1906,1907,1908,1909,1910,1911,1912,1913,1914,1915,1916,1917,1918,1919,1920,1921,1922,1923,1924,1925,1926,1927,1928,1929,1930,1931,1932,1933,1934,1935,1936,1937,1938,1939,1940,1941,1942,1943,1944,1945,1946,1947,1948,1949,1950,1951,1952,1953,1954,1955,1956,1957,1958,1959,1960,1961,1962,1963,1964,1965,1966,1967,1968,1969,1970,1971,1972,1973,1974,1975,1976,1977,1978,1979,1980,1981,1982,1983,1984,1985,1986,1987,1988,1989,1990,1991,1992,1993,1994,1995,1996,1997,1998,1999,2000,2001,2002,2003,2004,2005,2006,2007,2008,2009,2010,2011,2012,2013,2014,2015],\"xaxis\":\"x\",\"y\":[1232.7,298.2,589.8,409.4,812.0,742.0,684.1,681.3,829.3000000000001,438.59999999999997,1359.0,1150.1000000000001,301.5,123.8,665.8,146.4,242.2573200389105,477.90000000000003,1704.6,943.2,1311.4,1217.2,788.3000000000001,752.4,485.3,1353.5,549.8,815.7,1088.1,811.9,397.5573200389105,265.8,539.6,942.2,913.1,380.6,213.6,1044.7,429.2,422.4,817.7,730.6,1885.0,972.0,1163.1,210.8,742.6,813.3,353.8,879.3,568.6,334.3,1034.7,1156.0,810.8,601.3000000000001,1377.0573200389106,494.90000000000003,1105.6,571.3,995.6,654.0,429.8,562.6,347.2,526.8,529.9,971.1999999999999,515.4,879.3000000000001,621.2,306.3,628.4,480.59999999999997,794.8,324.7,665.1,480.7,744.1,409.59999999999997,930.8,756.7,646.9,762.3,734.9,476.9,505.3,250.5,608.8,420.9,446.2,657.6,576.4,765.9,1194.5,763.6,455.7,557.4,568.5,685.2,359.8,595.6,314.4,776.5,1085.6,442.6,87.7,699.1,296.7,359.4,516.3,980.9573200389106,435.9,582.5,685.9],\"yaxis\":\"y\",\"type\":\"scattergl\"},{\"hovertemplate\":\"variable=FEB<br>YEAR=%{x}<br>value=%{y}<extra></extra>\",\"legendgroup\":\"FEB\",\"line\":{\"color\":\"#EF553B\",\"dash\":\"solid\"},\"marker\":{\"symbol\":\"circle\"},\"mode\":\"lines\",\"name\":\"FEB\",\"showlegend\":true,\"x\":[1901,1902,1903,1904,1905,1906,1907,1908,1909,1910,1911,1912,1913,1914,1915,1916,1917,1918,1919,1920,1921,1922,1923,1924,1925,1926,1927,1928,1929,1930,1931,1932,1933,1934,1935,1936,1937,1938,1939,1940,1941,1942,1943,1944,1945,1946,1947,1948,1949,1950,1951,1952,1953,1954,1955,1956,1957,1958,1959,1960,1961,1962,1963,1964,1965,1966,1967,1968,1969,1970,1971,1972,1973,1974,1975,1976,1977,1978,1979,1980,1981,1982,1983,1984,1985,1986,1987,1988,1989,1990,1991,1992,1993,1994,1995,1996,1997,1998,1999,2000,2001,2002,2003,2004,2005,2006,2007,2008,2009,2010,2011,2012,2013,2014,2015],\"xaxis\":\"x\",\"y\":[1417.8,290.7,502.0,328.7,716.7,1604.2,1383.1000000000001,680.1999999999999,457.3,349.0,147.2,701.1,1278.4,919.5,1248.3,636.4,1406.4,129.2,649.8,793.8053245805982,245.1,421.1,1415.1,702.6999999999999,398.6,387.2,1334.0,1431.9,820.5,867.6999999999999,1131.4,766.9,955.4,635.0,736.8,1394.3,1818.1,1072.5,1037.5,993.7,576.9,1394.1000000000001,409.0,1265.9,365.6,594.4,687.7,1006.8,946.6,865.2,374.2,664.0,464.9,1172.1,217.7,414.0,484.0053245805981,578.3,871.9,197.2,1421.8,749.7,454.1,491.90000000000003,958.9,705.5,410.7,698.0,422.0,981.6,794.6,890.8,735.1,390.4,669.8,773.7,431.29999999999995,923.1999999999999,1142.0,666.7,695.5,766.3,796.8,1405.2,352.1,1095.2,675.1,920.6,484.8,1434.7,759.6,660.7,809.2,987.3,930.0,772.6,347.0,978.4,380.3,993.1053245805981,393.9,707.9,1264.7,339.4,1244.3,336.3,1253.9,640.4000000000001,382.8,462.09999999999997,819.7,347.9,1316.3,923.3000000000001,605.7],\"yaxis\":\"y\",\"type\":\"scattergl\"},{\"hovertemplate\":\"variable=MAR<br>YEAR=%{x}<br>value=%{y}<extra></extra>\",\"legendgroup\":\"MAR\",\"line\":{\"color\":\"#00cc96\",\"dash\":\"solid\"},\"marker\":{\"symbol\":\"circle\"},\"mode\":\"lines\",\"name\":\"MAR\",\"showlegend\":true,\"x\":[1901,1902,1903,1904,1905,1906,1907,1908,1909,1910,1911,1912,1913,1914,1915,1916,1917,1918,1919,1920,1921,1922,1923,1924,1925,1926,1927,1928,1929,1930,1931,1932,1933,1934,1935,1936,1937,1938,1939,1940,1941,1942,1943,1944,1945,1946,1947,1948,1949,1950,1951,1952,1953,1954,1955,1956,1957,1958,1959,1960,1961,1962,1963,1964,1965,1966,1967,1968,1969,1970,1971,1972,1973,1974,1975,1976,1977,1978,1979,1980,1981,1982,1983,1984,1985,1986,1987,1988,1989,1990,1991,1992,1993,1994,1995,1996,1997,1998,1999,2000,2001,2002,2003,2004,2005,2006,2007,2008,2009,2010,2011,2012,2013,2014,2015],\"xaxis\":\"x\",\"y\":[738.4,733.3,930.1999999999999,1010.8,1432.9,933.5,1421.3,268.1,251.6,688.4,1552.4,731.3,891.3000000000001,903.0,1582.5,410.0,881.618394160584,1287.0,629.7,2093.8,699.8,476.1,779.759197080292,482.7,612.7,2014.9,852.6,804.859197080292,715.5,1009.8,749.4,715.0,781.1,597.9,640.4,1398.8,629.3,1145.8,976.2,1815.3,580.5,790.759197080292,996.5,1855.5,620.7,933.6,1088.1,1354.8,792.1,1244.2,1493.2,1338.3,938.1,661.0,845.2,1086.7,966.359197080292,610.8,802.9,1163.8999999999999,1006.7,568.1,1262.1,663.8,965.6,636.6,2071.1,1025.8,680.4,775.9,448.2,609.1,640.0,760.0,857.0,826.1999999999999,562.0,1438.0,880.5,1128.8,1550.3,1569.5,1311.7,885.7,790.4,836.5,897.8,1715.5,922.5,1708.5,916.0,763.6,1399.4,1052.0,919.2,988.4,1005.5,1522.6000000000001,331.9,825.2,889.1,884.3000000000001,1356.3,500.1,1475.8,1246.1,1031.5,1814.6,615.5,668.5,998.8,428.1,629.2,1059.9,1862.3],\"yaxis\":\"y\",\"type\":\"scattergl\"},{\"hovertemplate\":\"variable=APR<br>YEAR=%{x}<br>value=%{y}<extra></extra>\",\"legendgroup\":\"APR\",\"line\":{\"color\":\"#ab63fa\",\"dash\":\"solid\"},\"marker\":{\"symbol\":\"circle\"},\"mode\":\"lines\",\"name\":\"APR\",\"showlegend\":true,\"x\":[1901,1902,1903,1904,1905,1906,1907,1908,1909,1910,1911,1912,1913,1914,1915,1916,1917,1918,1919,1920,1921,1922,1923,1924,1925,1926,1927,1928,1929,1930,1931,1932,1933,1934,1935,1936,1937,1938,1939,1940,1941,1942,1943,1944,1945,1946,1947,1948,1949,1950,1951,1952,1953,1954,1955,1956,1957,1958,1959,1960,1961,1962,1963,1964,1965,1966,1967,1968,1969,1970,1971,1972,1973,1974,1975,1976,1977,1978,1979,1980,1981,1982,1983,1984,1985,1986,1987,1988,1989,1990,1991,1992,1993,1994,1995,1996,1997,1998,1999,2000,2001,2002,2003,2004,2005,2006,2007,2008,2009,2010,2011,2012,2013,2014,2015],\"xaxis\":\"x\",\"y\":[1623.6,1602.0,594.1,1449.1,1216.4,567.4,2330.6,1304.0,2215.6,1096.6,963.1,1621.3,952.9,1602.6,1357.8,1467.8,1605.627431906615,1432.8,1301.5,1522.9,1903.4,1719.2,1292.0,1356.4,1848.3000000000002,1496.9,1602.7,1379.2,2396.7,1787.8999999999999,1500.0,1278.8999999999999,1956.0,1922.8999999999999,1664.7,1375.0274319066148,2224.8,1541.9,1653.6000000000001,1016.3,1304.2,2016.0274319066148,1906.2274319066148,1244.1,1687.8,2101.8,1861.8999999999999,1774.9,2317.2,1160.4,2284.0,1408.5,1599.2,1039.3,1378.5,1382.6,1331.3,1412.5,1203.6,954.1,1162.2,1684.9,1833.5,1546.3,1556.0,1143.1,1121.6,1379.8,1513.1,1266.0,2085.7,1542.9,1109.1000000000001,1676.7,1146.2,1602.3,2619.4,1394.7,865.5,1482.4,1550.7,1951.3,2017.1,1844.8,1467.5,1741.7,1586.7,1721.3,1342.1,1634.8,1826.2,856.0,1101.7,1949.8,1472.8,1276.9,1625.4,1464.2,1081.2,1705.1000000000001,1928.8,1751.1,1425.1,1975.8,1627.3,1334.5,1522.6,1458.2,1104.4,1775.3,1775.7,2096.7,1137.6,793.9,2744.1],\"yaxis\":\"y\",\"type\":\"scattergl\"},{\"hovertemplate\":\"variable=MAY<br>YEAR=%{x}<br>value=%{y}<extra></extra>\",\"legendgroup\":\"MAY\",\"line\":{\"color\":\"#FFA15A\",\"dash\":\"solid\"},\"marker\":{\"symbol\":\"circle\"},\"mode\":\"lines\",\"name\":\"MAY\",\"showlegend\":true,\"x\":[1901,1902,1903,1904,1905,1906,1907,1908,1909,1910,1911,1912,1913,1914,1915,1916,1917,1918,1919,1920,1921,1922,1923,1924,1925,1926,1927,1928,1929,1930,1931,1932,1933,1934,1935,1936,1937,1938,1939,1940,1941,1942,1943,1944,1945,1946,1947,1948,1949,1950,1951,1952,1953,1954,1955,1956,1957,1958,1959,1960,1961,1962,1963,1964,1965,1966,1967,1968,1969,1970,1971,1972,1973,1974,1975,1976,1977,1978,1979,1980,1981,1982,1983,1984,1985,1986,1987,1988,1989,1990,1991,1992,1993,1994,1995,1996,1997,1998,1999,2000,2001,2002,2003,2004,2005,2006,2007,2008,2009,2010,2011,2012,2013,2014,2015],\"xaxis\":\"x\",\"y\":[2465.2,2521.4,2808.3,3235.9,2675.3,2240.4,1883.8999999999999,2541.4,2355.5,2048.8,2440.4,2123.9,3278.1,2950.7,2877.2,3027.6,3053.945416970581,5771.6,2926.1,2390.8,2707.8,2507.2,2688.0,2895.8,4609.6,2812.7,2905.4,2818.3,3244.0,2783.6,2795.5,4599.2,5471.6,2089.3,2180.9,4086.6,2746.7,3535.7999999999997,2165.7000000000003,3518.3,3946.5,2878.5454169705813,4296.0,2764.2,2225.7,3287.345416970581,2445.3,3861.4,4710.3,2505.5,2725.5,3449.2,2209.8,2631.6,4040.7000000000003,4534.9,3278.0,3805.1,3702.9,3871.6,5100.5,3977.7999999999997,2883.1,2599.2999999999997,2451.1,2741.2,2480.3,2129.4,2997.4,3476.5,3950.7,2901.8,2839.4,3187.1,2653.1,2452.0,3937.9,3493.2,2023.0,3035.9,3168.9,2593.7999999999997,3073.1,2734.9,2991.0,2280.2,2623.2,3334.6,2708.0,5458.1,3020.5,2622.4,3040.3,2521.0,3713.1,2533.6,2164.4,2527.5,4734.2,3827.9,3543.9,3090.5,1916.3,4252.0,2341.9,4419.4,2596.2,2504.2,2863.8,3108.7,2576.2,1808.8,2980.9,3276.5,2718.9],\"yaxis\":\"y\",\"type\":\"scattergl\"},{\"hovertemplate\":\"variable=JUN<br>YEAR=%{x}<br>value=%{y}<extra></extra>\",\"legendgroup\":\"JUN\",\"line\":{\"color\":\"#19d3f3\",\"dash\":\"solid\"},\"marker\":{\"symbol\":\"circle\"},\"mode\":\"lines\",\"name\":\"JUN\",\"showlegend\":true,\"x\":[1901,1902,1903,1904,1905,1906,1907,1908,1909,1910,1911,1912,1913,1914,1915,1916,1917,1918,1919,1920,1921,1922,1923,1924,1925,1926,1927,1928,1929,1930,1931,1932,1933,1934,1935,1936,1937,1938,1939,1940,1941,1942,1943,1944,1945,1946,1947,1948,1949,1950,1951,1952,1953,1954,1955,1956,1957,1958,1959,1960,1961,1962,1963,1964,1965,1966,1967,1968,1969,1970,1971,1972,1973,1974,1975,1976,1977,1978,1979,1980,1981,1982,1983,1984,1985,1986,1987,1988,1989,1990,1991,1992,1993,1994,1995,1996,1997,1998,1999,2000,2001,2002,2003,2004,2005,2006,2007,2008,2009,2010,2011,2012,2013,2014,2015],\"xaxis\":\"x\",\"y\":[6811.3,5908.7,6019.6,8312.0,5768.2,8192.0,7266.6,6663.0,9186.1,9841.2,9035.1,6384.8,9813.3,7461.0,7375.400000000001,10947.7,10277.234444174168,9300.8,9122.7,8456.2,8828.4,9820.9,6218.5,7769.8,10009.5,5704.7,8661.5,8614.9,10052.0,9047.7,6809.1,6941.634444174167,10145.5,10536.9,7877.2,11217.4,8128.3,12418.3,8596.2,8076.799999999999,8518.9,9729.934444174167,8419.0,7408.3,7276.9,10083.334444174166,7133.6,7703.5,8185.599999999999,7076.534444174167,8484.1,8353.7,7949.2,7930.7,8689.9,9761.5,8066.5,7195.5,8749.3,7796.1,9391.3,6450.2,7894.9,8351.9,6451.6,7746.099999999999,7145.6,7960.900000000001,6680.5,9707.2,10710.800000000001,6405.9,7689.5,5921.9,9165.1,7375.7,8746.5,10498.9,6859.9,10450.5,8279.8,7053.1,7229.2,9478.0,8511.4,8594.2,6811.2,7374.5,8969.0,8802.2,9453.3,7237.3,7700.2,9480.6,7086.8,8518.6,8149.5,8634.3,8329.9,8856.8,9449.2,8070.2,8096.8,7987.7,7261.9,7468.9,9734.4,9338.7,4933.7,7294.3,8679.7,6599.1,10707.1,5121.4,8616.8],\"yaxis\":\"y\",\"type\":\"scattergl\"},{\"hovertemplate\":\"variable=JUL<br>YEAR=%{x}<br>value=%{y}<extra></extra>\",\"legendgroup\":\"JUL\",\"line\":{\"color\":\"#FF6692\",\"dash\":\"solid\"},\"marker\":{\"symbol\":\"circle\"},\"mode\":\"lines\",\"name\":\"JUL\",\"showlegend\":true,\"x\":[1901,1902,1903,1904,1905,1906,1907,1908,1909,1910,1911,1912,1913,1914,1915,1916,1917,1918,1919,1920,1921,1922,1923,1924,1925,1926,1927,1928,1929,1930,1931,1932,1933,1934,1935,1936,1937,1938,1939,1940,1941,1942,1943,1944,1945,1946,1947,1948,1949,1950,1951,1952,1953,1954,1955,1956,1957,1958,1959,1960,1961,1962,1963,1964,1965,1966,1967,1968,1969,1970,1971,1972,1973,1974,1975,1976,1977,1978,1979,1980,1981,1982,1983,1984,1985,1986,1987,1988,1989,1990,1991,1992,1993,1994,1995,1996,1997,1998,1999,2000,2001,2002,2003,2004,2005,2006,2007,2008,2009,2010,2011,2012,2013,2014,2015],\"xaxis\":\"x\",\"y\":[10192.3,12290.1,12673.8,10919.0,10091.0,12094.8,10602.6,13822.6,12117.8,10056.7,7794.8,13546.3,11365.5,14658.5,9919.5,11585.114334387928,11764.214334387929,7604.6,12900.7,12171.1,12953.4,13931.7,15314.1,14745.2,12275.9,13845.6,14404.214334387929,12877.1,11983.1,11149.3,14524.6,13644.91433438793,12609.3,11891.4,12735.4,12610.699999999999,14670.9,12630.0,11801.3,13130.4,10000.8,14228.01433438793,12565.9,13866.6,13869.7,13430.91433438793,13581.6,14037.0,14443.5,14406.6,11910.9,11569.3,14823.7,13295.9,10264.0,13871.2,13230.2,13174.5,16196.5,13546.2,14942.1,12491.2,11589.1,14643.4,11782.2,11489.5,13826.0,14211.7,13338.1,11646.1,11395.0,9583.7,11130.8,13051.5,12716.9,12865.4,13968.5,12441.4,10901.800000000001,12784.3,12878.8,10650.5,12212.6,12576.7,11690.699999999999,10051.6,9117.4,16043.0,12667.6,12201.7,12661.6,11656.1,13649.2,14697.2,13942.9,11849.0,13252.7,12434.6,12398.7,10862.1,11014.6,6632.5,12927.7,10472.4,14160.7,12216.2,13069.8,10557.8,12332.114334387928,13004.1,11329.6,10632.5,13412.4,11150.4,9715.4],\"yaxis\":\"y\",\"type\":\"scattergl\"},{\"hovertemplate\":\"variable=AUG<br>YEAR=%{x}<br>value=%{y}<extra></extra>\",\"legendgroup\":\"AUG\",\"line\":{\"color\":\"#B6E880\",\"dash\":\"solid\"},\"marker\":{\"symbol\":\"circle\"},\"mode\":\"lines\",\"name\":\"AUG\",\"showlegend\":true,\"x\":[1901,1902,1903,1904,1905,1906,1907,1908,1909,1910,1911,1912,1913,1914,1915,1916,1917,1918,1919,1920,1921,1922,1923,1924,1925,1926,1927,1928,1929,1930,1931,1932,1933,1934,1935,1936,1937,1938,1939,1940,1941,1942,1943,1944,1945,1946,1947,1948,1949,1950,1951,1952,1953,1954,1955,1956,1957,1958,1959,1960,1961,1962,1963,1964,1965,1966,1967,1968,1969,1970,1971,1972,1973,1974,1975,1976,1977,1978,1979,1980,1981,1982,1983,1984,1985,1986,1987,1988,1989,1990,1991,1992,1993,1994,1995,1996,1997,1998,1999,2000,2001,2002,2003,2004,2005,2006,2007,2008,2009,2010,2011,2012,2013,2014,2015],\"xaxis\":\"x\",\"y\":[10546.4,8393.0,10481.9,7595.5,8637.3,10148.4,11843.6,11436.7,8957.7,11131.9,8145.599999999999,10289.1,7382.6,10279.5,8630.6,11704.5,11527.563497081712,9930.2,10452.3,8051.4,11572.4,9274.9,10996.7,10733.1,10116.800000000001,13133.8,9809.6,10225.9,9545.0,8774.5,12817.8,9853.263497081713,12293.2,11893.4,10453.7,9721.9,8474.7,10228.4,9397.6,12184.2,9275.3,11173.063497081712,8740.7,9963.4,9835.7,12041.563497081712,11939.6,11200.0,10183.3,9511.9,8344.4,10381.1,10996.7,9982.8,11974.9,9781.4,11067.6,13576.1,10376.7,9479.9,11949.9,12002.300000000001,13805.8,11345.9,8674.9,8544.2,10521.0,8242.2,10714.7,13084.5,10982.8,8295.6,12143.3,9927.1,11451.5,11676.0,9725.6,11080.4,8439.9,11335.9,10374.9,11445.8,13031.8,9405.199999999999,9493.8,9528.7,10817.8,12600.4,9677.1,12212.4,10689.4,11894.9,8636.5,11183.5,11335.0,11256.1,10954.4,10551.0,8738.0,10070.6,8741.1,9969.0,9517.9,10279.4,8309.0,10986.5,11178.0,11055.1,7930.5,11006.2,11858.1,10674.2,9516.2,10484.1,8485.7],\"yaxis\":\"y\",\"type\":\"scattergl\"},{\"hovertemplate\":\"variable=SEP<br>YEAR=%{x}<br>value=%{y}<extra></extra>\",\"legendgroup\":\"SEP\",\"line\":{\"color\":\"#FF97FF\",\"dash\":\"solid\"},\"marker\":{\"symbol\":\"circle\"},\"mode\":\"lines\",\"name\":\"SEP\",\"showlegend\":true,\"x\":[1901,1902,1903,1904,1905,1906,1907,1908,1909,1910,1911,1912,1913,1914,1915,1916,1917,1918,1919,1920,1921,1922,1923,1924,1925,1926,1927,1928,1929,1930,1931,1932,1933,1934,1935,1936,1937,1938,1939,1940,1941,1942,1943,1944,1945,1946,1947,1948,1949,1950,1951,1952,1953,1954,1955,1956,1957,1958,1959,1960,1961,1962,1963,1964,1965,1966,1967,1968,1969,1970,1971,1972,1973,1974,1975,1976,1977,1978,1979,1980,1981,1982,1983,1984,1985,1986,1987,1988,1989,1990,1991,1992,1993,1994,1995,1996,1997,1998,1999,2000,2001,2002,2003,2004,2005,2006,2007,2008,2009,2010,2011,2012,2013,2014,2015],\"xaxis\":\"x\",\"y\":[4695.4,9051.4,7581.7,5859.1,6274.1,6265.0,4112.9,6180.3,6006.3,7928.5,6663.2,4855.8,4709.7,7685.8,7095.5,8988.3,11122.56192214112,4513.4,6842.400000000001,5790.5,8398.361922141119,8297.8,7617.0,9579.1,5612.7,8164.1,7350.1,5807.3,5380.9,7747.9,7837.3,7465.961922141119,9298.3,6609.6,7823.3,7891.099999999999,6986.8,7396.3,6273.3,5406.5,6469.0,7146.361922141119,8170.5,6197.6,8101.2,6341.661922141119,9577.46192214112,6587.6,9435.2,8704.9,5352.4,4741.8,7060.1,9327.5,8466.6,6492.6,5431.7,8566.4,9675.8,8091.6,9066.6,8685.1,6861.3,8630.8,5402.5,6438.7,6540.2,5754.5,7656.6,8530.6,6430.6,5291.9,6969.2,6501.1,9502.1,5688.9,6089.6,6632.599999999999,5871.0,5642.3,7854.8,5091.8,10337.5,5883.8,5999.6,5651.4,6201.8,9563.2,6930.5,7585.1,5766.3,6496.3,8274.2,6204.900000000001,7836.4,6567.6,6214.3,8649.7,6934.900000000001,5725.4,4913.6,5501.6,6555.9,5322.1,8553.1,7631.5,9742.0,6931.9,6286.2,7978.5,8128.4,8453.1,6452.900000000001,7141.4,5690.2],\"yaxis\":\"y\",\"type\":\"scattergl\"},{\"hovertemplate\":\"variable=OCT<br>YEAR=%{x}<br>value=%{y}<extra></extra>\",\"legendgroup\":\"OCT\",\"line\":{\"color\":\"#FECB52\",\"dash\":\"solid\"},\"marker\":{\"symbol\":\"circle\"},\"mode\":\"lines\",\"name\":\"OCT\",\"showlegend\":true,\"x\":[1901,1902,1903,1904,1905,1906,1907,1908,1909,1910,1911,1912,1913,1914,1915,1916,1917,1918,1919,1920,1921,1922,1923,1924,1925,1926,1927,1928,1929,1930,1931,1932,1933,1934,1935,1936,1937,1938,1939,1940,1941,1942,1943,1944,1945,1946,1947,1948,1949,1950,1951,1952,1953,1954,1955,1956,1957,1958,1959,1960,1961,1962,1963,1964,1965,1966,1967,1968,1969,1970,1971,1972,1973,1974,1975,1976,1977,1978,1979,1980,1981,1982,1983,1984,1985,1986,1987,1988,1989,1990,1991,1992,1993,1994,1995,1996,1997,1998,1999,2000,2001,2002,2003,2004,2005,2006,2007,2008,2009,2010,2011,2012,2013,2014,2015],\"xaxis\":\"x\",\"y\":[2579.4,3035.0,4387.1,2959.3,2735.9,2525.0,1440.7,1850.0,1836.0,4621.8,3422.8,3009.1,3323.7,2350.7,3731.8,5692.307009004624,6432.7070090046245,1099.9,3981.6,2610.1,3419.3,2726.1,2419.8,2940.3,3080.1,2706.4,3120.207009004624,5516.1,4483.8,3986.6,5030.3,3505.707009004624,4205.3,3056.8,2479.0,2875.1,4440.9,3408.5,3941.1,2845.9,2951.8,1780.007009004624,3865.6,3759.4,3271.5,3702.407009004624,3025.1,2736.1,4003.7,2669.5,3582.4,4001.8,4192.107009004624,3345.0,6277.0,6256.3,3052.5,4737.5,5102.4,3112.1,5171.3,3712.5,4242.6,3123.6,1591.5,2727.6,2225.3,3043.1,2421.0,3422.5,4309.5,2977.1,4627.1,4315.2,5175.7,1684.8,3927.6,2299.5,2441.0,2459.8,2112.0,2152.1,3539.5,3160.4,4661.7,3055.8,3974.5,2404.6,2645.0,4242.0,2915.6,2885.6,4194.6,3706.4,3413.8,4230.0,2514.6,5169.9,5383.9,2287.5,4304.6,2902.1,4188.1,3780.4,4240.3,2780.6,2743.8,2556.8,3364.4,3440.5,1923.3,2758.6,5213.3,2921.5,2204.3],\"yaxis\":\"y\",\"type\":\"scattergl\"},{\"hovertemplate\":\"variable=NOV<br>YEAR=%{x}<br>value=%{y}<extra></extra>\",\"legendgroup\":\"NOV\",\"line\":{\"color\":\"#636efa\",\"dash\":\"solid\"},\"marker\":{\"symbol\":\"circle\"},\"mode\":\"lines\",\"name\":\"NOV\",\"showlegend\":true,\"x\":[1901,1902,1903,1904,1905,1906,1907,1908,1909,1910,1911,1912,1913,1914,1915,1916,1917,1918,1919,1920,1921,1922,1923,1924,1925,1926,1927,1928,1929,1930,1931,1932,1933,1934,1935,1936,1937,1938,1939,1940,1941,1942,1943,1944,1945,1946,1947,1948,1949,1950,1951,1952,1953,1954,1955,1956,1957,1958,1959,1960,1961,1962,1963,1964,1965,1966,1967,1968,1969,1970,1971,1972,1973,1974,1975,1976,1977,1978,1979,1980,1981,1982,1983,1984,1985,1986,1987,1988,1989,1990,1991,1992,1993,1994,1995,1996,1997,1998,1999,2000,2001,2002,2003,2004,2005,2006,2007,2008,2009,2010,2011,2012,2013,2014,2015],\"xaxis\":\"x\",\"y\":[2266.5,1521.0,1689.6661632155906,691.5,560.9,889.1,1761.5,561.2,516.7,1768.5,1784.0,2117.8,800.8,1138.2,2063.6,2067.866163215591,1336.8661632155909,2045.4,2357.2,1539.0,833.3,2859.5,946.8,2406.9,1826.6,678.1,2335.766163215591,998.9,1033.3661632155909,2297.4,1699.9,2558.6661632155906,1078.3,1557.5,1027.7,2343.7,1112.2,1209.7,1484.0,1914.3,1328.3,760.9661632155908,922.9000000000001,1340.4,871.5,2845.5661632155907,350.2,2845.6,508.2661632155907,1136.2,1584.2,621.9,737.9,222.3,1426.7,1815.0,1367.8,1430.6,1224.2,1737.5,1049.8,768.6661632155907,1182.6,1317.2,921.4,2527.6,533.2,1017.9,1824.9,1060.5,811.4,1584.0,1166.5,758.4,1435.1,2571.1,2990.8,2265.0,3101.3,1134.0,1428.7,1938.1,733.0,780.2,934.9,1994.7,1969.1,1205.9,1015.8,1570.2,1240.0,1802.6000000000001,1445.4,1248.8,1915.1,768.8,2504.6,1778.5,777.5,715.3,1054.4,956.2,640.5,890.6,1449.3,1384.2,864.1,1200.4,2184.6661632155906,2701.6,1074.9,1395.2,986.1,760.1,2000.4],\"yaxis\":\"y\",\"type\":\"scattergl\"},{\"hovertemplate\":\"variable=DEC<br>YEAR=%{x}<br>value=%{y}<extra></extra>\",\"legendgroup\":\"DEC\",\"line\":{\"color\":\"#EF553B\",\"dash\":\"solid\"},\"marker\":{\"symbol\":\"circle\"},\"mode\":\"lines\",\"name\":\"DEC\",\"showlegend\":true,\"x\":[1901,1902,1903,1904,1905,1906,1907,1908,1909,1910,1911,1912,1913,1914,1915,1916,1917,1918,1919,1920,1921,1922,1923,1924,1925,1926,1927,1928,1929,1930,1931,1932,1933,1934,1935,1936,1937,1938,1939,1940,1941,1942,1943,1944,1945,1946,1947,1948,1949,1950,1951,1952,1953,1954,1955,1956,1957,1958,1959,1960,1961,1962,1963,1964,1965,1966,1967,1968,1969,1970,1971,1972,1973,1974,1975,1976,1977,1978,1979,1980,1981,1982,1983,1984,1985,1986,1987,1988,1989,1990,1991,1992,1993,1994,1995,1996,1997,1998,1999,2000,2001,2002,2003,2004,2005,2006,2007,2008,2009,2010,2011,2012,2013,2014,2015],\"xaxis\":\"x\",\"y\":[378.3,1160.3,777.4705796395518,517.0,595.1999999999999,978.3,712.5,464.4,947.9,295.1,789.4,240.1,910.5,1279.3,633.4,245.67057963955187,526.9705796395519,632.2,912.8,192.4,553.3,699.0,824.7,520.3705796395519,947.8,876.0,378.4705796395519,899.6,1432.0,658.1,1022.9,617.1705796395519,668.9,397.6,543.1,1032.7,1228.7,358.7,182.70000000000002,916.2,972.6,1032.5705796395519,205.0,576.8000000000001,242.7,1454.770579639552,930.3,314.6,154.0,491.8,630.9,814.3,322.3,632.7,332.9,451.2,593.8,601.7,324.5,378.8,557.1,1495.0705796395519,713.2,514.2,1693.7,997.0999999999999,1810.9,544.5,650.5,280.2,637.1,885.0,931.7,391.1,244.0,581.0,606.6,653.4,560.1,1198.7,707.0,475.8,916.1,913.3,955.0,874.1,1207.4,662.9,549.8,844.5,713.8,173.0,686.6,449.3,278.2,881.5,1794.9,695.8,310.8,427.6,304.9,297.5,555.4,177.1,681.6,398.9,682.3,468.9,556.8705796395519,1056.6,465.5,487.40000000000003,317.5,582.0,770.8],\"yaxis\":\"y\",\"type\":\"scattergl\"}],                        {\"template\":{\"data\":{\"histogram2dcontour\":[{\"type\":\"histogram2dcontour\",\"colorbar\":{\"outlinewidth\":0,\"ticks\":\"\"},\"colorscale\":[[0.0,\"#0d0887\"],[0.1111111111111111,\"#46039f\"],[0.2222222222222222,\"#7201a8\"],[0.3333333333333333,\"#9c179e\"],[0.4444444444444444,\"#bd3786\"],[0.5555555555555556,\"#d8576b\"],[0.6666666666666666,\"#ed7953\"],[0.7777777777777778,\"#fb9f3a\"],[0.8888888888888888,\"#fdca26\"],[1.0,\"#f0f921\"]]}],\"choropleth\":[{\"type\":\"choropleth\",\"colorbar\":{\"outlinewidth\":0,\"ticks\":\"\"}}],\"histogram2d\":[{\"type\":\"histogram2d\",\"colorbar\":{\"outlinewidth\":0,\"ticks\":\"\"},\"colorscale\":[[0.0,\"#0d0887\"],[0.1111111111111111,\"#46039f\"],[0.2222222222222222,\"#7201a8\"],[0.3333333333333333,\"#9c179e\"],[0.4444444444444444,\"#bd3786\"],[0.5555555555555556,\"#d8576b\"],[0.6666666666666666,\"#ed7953\"],[0.7777777777777778,\"#fb9f3a\"],[0.8888888888888888,\"#fdca26\"],[1.0,\"#f0f921\"]]}],\"heatmap\":[{\"type\":\"heatmap\",\"colorbar\":{\"outlinewidth\":0,\"ticks\":\"\"},\"colorscale\":[[0.0,\"#0d0887\"],[0.1111111111111111,\"#46039f\"],[0.2222222222222222,\"#7201a8\"],[0.3333333333333333,\"#9c179e\"],[0.4444444444444444,\"#bd3786\"],[0.5555555555555556,\"#d8576b\"],[0.6666666666666666,\"#ed7953\"],[0.7777777777777778,\"#fb9f3a\"],[0.8888888888888888,\"#fdca26\"],[1.0,\"#f0f921\"]]}],\"heatmapgl\":[{\"type\":\"heatmapgl\",\"colorbar\":{\"outlinewidth\":0,\"ticks\":\"\"},\"colorscale\":[[0.0,\"#0d0887\"],[0.1111111111111111,\"#46039f\"],[0.2222222222222222,\"#7201a8\"],[0.3333333333333333,\"#9c179e\"],[0.4444444444444444,\"#bd3786\"],[0.5555555555555556,\"#d8576b\"],[0.6666666666666666,\"#ed7953\"],[0.7777777777777778,\"#fb9f3a\"],[0.8888888888888888,\"#fdca26\"],[1.0,\"#f0f921\"]]}],\"contourcarpet\":[{\"type\":\"contourcarpet\",\"colorbar\":{\"outlinewidth\":0,\"ticks\":\"\"}}],\"contour\":[{\"type\":\"contour\",\"colorbar\":{\"outlinewidth\":0,\"ticks\":\"\"},\"colorscale\":[[0.0,\"#0d0887\"],[0.1111111111111111,\"#46039f\"],[0.2222222222222222,\"#7201a8\"],[0.3333333333333333,\"#9c179e\"],[0.4444444444444444,\"#bd3786\"],[0.5555555555555556,\"#d8576b\"],[0.6666666666666666,\"#ed7953\"],[0.7777777777777778,\"#fb9f3a\"],[0.8888888888888888,\"#fdca26\"],[1.0,\"#f0f921\"]]}],\"surface\":[{\"type\":\"surface\",\"colorbar\":{\"outlinewidth\":0,\"ticks\":\"\"},\"colorscale\":[[0.0,\"#0d0887\"],[0.1111111111111111,\"#46039f\"],[0.2222222222222222,\"#7201a8\"],[0.3333333333333333,\"#9c179e\"],[0.4444444444444444,\"#bd3786\"],[0.5555555555555556,\"#d8576b\"],[0.6666666666666666,\"#ed7953\"],[0.7777777777777778,\"#fb9f3a\"],[0.8888888888888888,\"#fdca26\"],[1.0,\"#f0f921\"]]}],\"mesh3d\":[{\"type\":\"mesh3d\",\"colorbar\":{\"outlinewidth\":0,\"ticks\":\"\"}}],\"scatter\":[{\"fillpattern\":{\"fillmode\":\"overlay\",\"size\":10,\"solidity\":0.2},\"type\":\"scatter\"}],\"parcoords\":[{\"type\":\"parcoords\",\"line\":{\"colorbar\":{\"outlinewidth\":0,\"ticks\":\"\"}}}],\"scatterpolargl\":[{\"type\":\"scatterpolargl\",\"marker\":{\"colorbar\":{\"outlinewidth\":0,\"ticks\":\"\"}}}],\"bar\":[{\"error_x\":{\"color\":\"#2a3f5f\"},\"error_y\":{\"color\":\"#2a3f5f\"},\"marker\":{\"line\":{\"color\":\"#E5ECF6\",\"width\":0.5},\"pattern\":{\"fillmode\":\"overlay\",\"size\":10,\"solidity\":0.2}},\"type\":\"bar\"}],\"scattergeo\":[{\"type\":\"scattergeo\",\"marker\":{\"colorbar\":{\"outlinewidth\":0,\"ticks\":\"\"}}}],\"scatterpolar\":[{\"type\":\"scatterpolar\",\"marker\":{\"colorbar\":{\"outlinewidth\":0,\"ticks\":\"\"}}}],\"histogram\":[{\"marker\":{\"pattern\":{\"fillmode\":\"overlay\",\"size\":10,\"solidity\":0.2}},\"type\":\"histogram\"}],\"scattergl\":[{\"type\":\"scattergl\",\"marker\":{\"colorbar\":{\"outlinewidth\":0,\"ticks\":\"\"}}}],\"scatter3d\":[{\"type\":\"scatter3d\",\"line\":{\"colorbar\":{\"outlinewidth\":0,\"ticks\":\"\"}},\"marker\":{\"colorbar\":{\"outlinewidth\":0,\"ticks\":\"\"}}}],\"scattermapbox\":[{\"type\":\"scattermapbox\",\"marker\":{\"colorbar\":{\"outlinewidth\":0,\"ticks\":\"\"}}}],\"scatterternary\":[{\"type\":\"scatterternary\",\"marker\":{\"colorbar\":{\"outlinewidth\":0,\"ticks\":\"\"}}}],\"scattercarpet\":[{\"type\":\"scattercarpet\",\"marker\":{\"colorbar\":{\"outlinewidth\":0,\"ticks\":\"\"}}}],\"carpet\":[{\"aaxis\":{\"endlinecolor\":\"#2a3f5f\",\"gridcolor\":\"white\",\"linecolor\":\"white\",\"minorgridcolor\":\"white\",\"startlinecolor\":\"#2a3f5f\"},\"baxis\":{\"endlinecolor\":\"#2a3f5f\",\"gridcolor\":\"white\",\"linecolor\":\"white\",\"minorgridcolor\":\"white\",\"startlinecolor\":\"#2a3f5f\"},\"type\":\"carpet\"}],\"table\":[{\"cells\":{\"fill\":{\"color\":\"#EBF0F8\"},\"line\":{\"color\":\"white\"}},\"header\":{\"fill\":{\"color\":\"#C8D4E3\"},\"line\":{\"color\":\"white\"}},\"type\":\"table\"}],\"barpolar\":[{\"marker\":{\"line\":{\"color\":\"#E5ECF6\",\"width\":0.5},\"pattern\":{\"fillmode\":\"overlay\",\"size\":10,\"solidity\":0.2}},\"type\":\"barpolar\"}],\"pie\":[{\"automargin\":true,\"type\":\"pie\"}]},\"layout\":{\"autotypenumbers\":\"strict\",\"colorway\":[\"#636efa\",\"#EF553B\",\"#00cc96\",\"#ab63fa\",\"#FFA15A\",\"#19d3f3\",\"#FF6692\",\"#B6E880\",\"#FF97FF\",\"#FECB52\"],\"font\":{\"color\":\"#2a3f5f\"},\"hovermode\":\"closest\",\"hoverlabel\":{\"align\":\"left\"},\"paper_bgcolor\":\"white\",\"plot_bgcolor\":\"#E5ECF6\",\"polar\":{\"bgcolor\":\"#E5ECF6\",\"angularaxis\":{\"gridcolor\":\"white\",\"linecolor\":\"white\",\"ticks\":\"\"},\"radialaxis\":{\"gridcolor\":\"white\",\"linecolor\":\"white\",\"ticks\":\"\"}},\"ternary\":{\"bgcolor\":\"#E5ECF6\",\"aaxis\":{\"gridcolor\":\"white\",\"linecolor\":\"white\",\"ticks\":\"\"},\"baxis\":{\"gridcolor\":\"white\",\"linecolor\":\"white\",\"ticks\":\"\"},\"caxis\":{\"gridcolor\":\"white\",\"linecolor\":\"white\",\"ticks\":\"\"}},\"coloraxis\":{\"colorbar\":{\"outlinewidth\":0,\"ticks\":\"\"}},\"colorscale\":{\"sequential\":[[0.0,\"#0d0887\"],[0.1111111111111111,\"#46039f\"],[0.2222222222222222,\"#7201a8\"],[0.3333333333333333,\"#9c179e\"],[0.4444444444444444,\"#bd3786\"],[0.5555555555555556,\"#d8576b\"],[0.6666666666666666,\"#ed7953\"],[0.7777777777777778,\"#fb9f3a\"],[0.8888888888888888,\"#fdca26\"],[1.0,\"#f0f921\"]],\"sequentialminus\":[[0.0,\"#0d0887\"],[0.1111111111111111,\"#46039f\"],[0.2222222222222222,\"#7201a8\"],[0.3333333333333333,\"#9c179e\"],[0.4444444444444444,\"#bd3786\"],[0.5555555555555556,\"#d8576b\"],[0.6666666666666666,\"#ed7953\"],[0.7777777777777778,\"#fb9f3a\"],[0.8888888888888888,\"#fdca26\"],[1.0,\"#f0f921\"]],\"diverging\":[[0,\"#8e0152\"],[0.1,\"#c51b7d\"],[0.2,\"#de77ae\"],[0.3,\"#f1b6da\"],[0.4,\"#fde0ef\"],[0.5,\"#f7f7f7\"],[0.6,\"#e6f5d0\"],[0.7,\"#b8e186\"],[0.8,\"#7fbc41\"],[0.9,\"#4d9221\"],[1,\"#276419\"]]},\"xaxis\":{\"gridcolor\":\"white\",\"linecolor\":\"white\",\"ticks\":\"\",\"title\":{\"standoff\":15},\"zerolinecolor\":\"white\",\"automargin\":true,\"zerolinewidth\":2},\"yaxis\":{\"gridcolor\":\"white\",\"linecolor\":\"white\",\"ticks\":\"\",\"title\":{\"standoff\":15},\"zerolinecolor\":\"white\",\"automargin\":true,\"zerolinewidth\":2},\"scene\":{\"xaxis\":{\"backgroundcolor\":\"#E5ECF6\",\"gridcolor\":\"white\",\"linecolor\":\"white\",\"showbackground\":true,\"ticks\":\"\",\"zerolinecolor\":\"white\",\"gridwidth\":2},\"yaxis\":{\"backgroundcolor\":\"#E5ECF6\",\"gridcolor\":\"white\",\"linecolor\":\"white\",\"showbackground\":true,\"ticks\":\"\",\"zerolinecolor\":\"white\",\"gridwidth\":2},\"zaxis\":{\"backgroundcolor\":\"#E5ECF6\",\"gridcolor\":\"white\",\"linecolor\":\"white\",\"showbackground\":true,\"ticks\":\"\",\"zerolinecolor\":\"white\",\"gridwidth\":2}},\"shapedefaults\":{\"line\":{\"color\":\"#2a3f5f\"}},\"annotationdefaults\":{\"arrowcolor\":\"#2a3f5f\",\"arrowhead\":0,\"arrowwidth\":1},\"geo\":{\"bgcolor\":\"white\",\"landcolor\":\"#E5ECF6\",\"subunitcolor\":\"white\",\"showland\":true,\"showlakes\":true,\"lakecolor\":\"white\"},\"title\":{\"x\":0.05},\"mapbox\":{\"style\":\"light\"}}},\"xaxis\":{\"anchor\":\"y\",\"domain\":[0.0,1.0],\"title\":{\"text\":\"Year\"}},\"yaxis\":{\"anchor\":\"x\",\"domain\":[0.0,1.0],\"title\":{\"text\":\"Rainfall in MM\"}},\"legend\":{\"title\":{\"text\":\"Months\"},\"tracegroupgap\":0},\"margin\":{\"t\":60},\"height\":1000,\"width\":1100,\"title\":{\"text\":\"Year V/S Rainfall in each Month\"}},                        {\"responsive\": true}                    ).then(function(){\n",
              "                            \n",
              "var gd = document.getElementById('ac26e343-55fd-44a1-a8e5-96dae7e939b4');\n",
              "var x = new MutationObserver(function (mutations, observer) {{\n",
              "        var display = window.getComputedStyle(gd).display;\n",
              "        if (!display || display === 'none') {{\n",
              "            console.log([gd, 'removed!']);\n",
              "            Plotly.purge(gd);\n",
              "            observer.disconnect();\n",
              "        }}\n",
              "}});\n",
              "\n",
              "// Listen for the removal of the full notebook cells\n",
              "var notebookContainer = gd.closest('#notebook-container');\n",
              "if (notebookContainer) {{\n",
              "    x.observe(notebookContainer, {childList: true});\n",
              "}}\n",
              "\n",
              "// Listen for the clearing of the current output cell\n",
              "var outputEl = gd.closest('.output');\n",
              "if (outputEl) {{\n",
              "    x.observe(outputEl, {childList: true});\n",
              "}}\n",
              "\n",
              "                        })                };                            </script>        </div>\n",
              "</body>\n",
              "</html>"
            ]
          },
          "metadata": {}
        }
      ]
    },
    {
      "cell_type": "markdown",
      "source": [
        "###The Above Plot shows the year v/s rainfall in each month. From this plot we can say :-\n",
        "\n",
        "\n",
        "*   July experiences the heavy rainfall.\n",
        "*   February experiences the least rainfall.\n",
        "\n"
      ],
      "metadata": {
        "id": "gw-kLePAlrdW"
      }
    },
    {
      "cell_type": "code",
      "source": [
        "annual_year_quaterly = data[['YEAR','Jan-Mar','Apr-Jun','Jul-Sep','Oct-Dec']].groupby('YEAR').sum()\n",
        "\n",
        "px.line(annual_year_quaterly, orientation = 'v', width = 1100, height = 1000 ).update_layout( title = 'Quaterly Rainfall V/S Year',\n",
        "xaxis_title=\"Year\", yaxis_title=\"Rainfall in MM\", legend = dict(title = 'Quarters'))\n",
        "\n",
        "# Visualizations showing the comparison of quaterly rainfall for each year."
      ],
      "metadata": {
        "id": "GG5Vu8ftHpkY",
        "colab": {
          "base_uri": "https://localhost:8080/",
          "height": 1000
        },
        "outputId": "548e6e50-d36d-4e85-a0e4-d008e687ba5b"
      },
      "execution_count": null,
      "outputs": [
        {
          "output_type": "display_data",
          "data": {
            "text/html": [
              "<html>\n",
              "<head><meta charset=\"utf-8\" /></head>\n",
              "<body>\n",
              "    <div>            <script src=\"https://cdnjs.cloudflare.com/ajax/libs/mathjax/2.7.5/MathJax.js?config=TeX-AMS-MML_SVG\"></script><script type=\"text/javascript\">if (window.MathJax && window.MathJax.Hub && window.MathJax.Hub.Config) {window.MathJax.Hub.Config({SVG: {font: \"STIX-Web\"}});}</script>                <script type=\"text/javascript\">window.PlotlyConfig = {MathJaxConfig: 'local'};</script>\n",
              "        <script src=\"https://cdn.plot.ly/plotly-2.18.2.min.js\"></script>                <div id=\"48943e9e-fc25-4129-9c8f-f515fed6ac57\" class=\"plotly-graph-div\" style=\"height:1000px; width:1100px;\"></div>            <script type=\"text/javascript\">                                    window.PLOTLYENV=window.PLOTLYENV || {};                                    if (document.getElementById(\"48943e9e-fc25-4129-9c8f-f515fed6ac57\")) {                    Plotly.newPlot(                        \"48943e9e-fc25-4129-9c8f-f515fed6ac57\",                        [{\"hovertemplate\":\"variable=Jan-Mar<br>YEAR=%{x}<br>value=%{y}<extra></extra>\",\"legendgroup\":\"Jan-Mar\",\"line\":{\"color\":\"#636efa\",\"dash\":\"solid\"},\"marker\":{\"symbol\":\"circle\"},\"mode\":\"lines\",\"name\":\"Jan-Mar\",\"orientation\":\"v\",\"showlegend\":true,\"x\":[1901,1902,1903,1904,1905,1906,1907,1908,1909,1910,1911,1912,1913,1914,1915,1916,1917,1918,1919,1920,1921,1922,1923,1924,1925,1926,1927,1928,1929,1930,1931,1932,1933,1934,1935,1936,1937,1938,1939,1940,1941,1942,1943,1944,1945,1946,1947,1948,1949,1950,1951,1952,1953,1954,1955,1956,1957,1958,1959,1960,1961,1962,1963,1964,1965,1966,1967,1968,1969,1970,1971,1972,1973,1974,1975,1976,1977,1978,1979,1980,1981,1982,1983,1984,1985,1986,1987,1988,1989,1990,1991,1992,1993,1994,1995,1996,1997,1998,1999,2000,2001,2002,2003,2004,2005,2006,2007,2008,2009,2010,2011,2012,2013,2014,2015],\"xaxis\":\"x\",\"y\":[2650.3,588.5,1091.9,737.6999999999999,1528.6,2346.2,2067.6,1361.6,1286.8,787.3,1506.0,1851.5,1580.1,1043.3,1914.4,782.9,1602.1477858880778,606.8,2354.4,1673.4477858880778,1556.4,1638.5,2203.4,1455.3,883.9000000000001,1740.8,1884.1000000000001,2247.5,1908.6,1679.6,1550.1477858880778,1032.7,1495.1,1577.3,1649.6,1774.9,2031.7,2117.4,1466.8999999999999,1415.7,1394.4,2125.0,2293.5,2237.8,1528.9,805.2,1430.2,1820.0,1300.3,1744.7,943.0,998.0,1499.6,2328.2,1028.5,1015.2,1861.247785888078,1073.4,1977.1,768.4,2417.3,1403.6000000000001,883.5,1054.5,1306.2,1232.4,940.6,1669.3,937.9,1860.7,1415.8,1196.9,1363.3,870.7,1464.5,1098.3999999999999,1096.2,1403.8,1886.1,1075.9,1626.4,1523.3,1443.3,2167.6,1087.4,1571.9,1180.2,1170.8999999999999,1093.4,1855.7,1205.8,1318.4,1385.5,1753.1,2125.4,1536.4,802.6,1535.8,948.6,1697.1477858880778,753.6,1303.7,1579.5,1115.8,2329.8,778.6999999999999,1341.7,1339.2,679.5,821.4,1335.8,1339.3477858880779,1752.3,1505.9,1291.5],\"yaxis\":\"y\",\"type\":\"scatter\"},{\"hovertemplate\":\"variable=Apr-Jun<br>YEAR=%{x}<br>value=%{y}<extra></extra>\",\"legendgroup\":\"Apr-Jun\",\"line\":{\"color\":\"#EF553B\",\"dash\":\"solid\"},\"marker\":{\"symbol\":\"circle\"},\"mode\":\"lines\",\"name\":\"Apr-Jun\",\"orientation\":\"v\",\"showlegend\":true,\"x\":[1901,1902,1903,1904,1905,1906,1907,1908,1909,1910,1911,1912,1913,1914,1915,1916,1917,1918,1919,1920,1921,1922,1923,1924,1925,1926,1927,1928,1929,1930,1931,1932,1933,1934,1935,1936,1937,1938,1939,1940,1941,1942,1943,1944,1945,1946,1947,1948,1949,1950,1951,1952,1953,1954,1955,1956,1957,1958,1959,1960,1961,1962,1963,1964,1965,1966,1967,1968,1969,1970,1971,1972,1973,1974,1975,1976,1977,1978,1979,1980,1981,1982,1983,1984,1985,1986,1987,1988,1989,1990,1991,1992,1993,1994,1995,1996,1997,1998,1999,2000,2001,2002,2003,2004,2005,2006,2007,2008,2009,2010,2011,2012,2013,2014,2015],\"xaxis\":\"x\",\"y\":[4827.2,4857.2,4331.9,5695.7,5324.5,3741.6,5635.7,4113.7,4822.2,3833.9,4956.1,4476.7,5122.3,5456.2,5817.8,4905.3,5292.003506208912,8491.0,4857.1,6007.9,5311.7,4702.6,4503.601753104455,4735.4,7070.5,6324.6,5360.8,4917.301753104456,6355.8,5581.1,5045.1,6592.8,8208.9,4610.5,4486.1,6662.401753104456,5600.9,6223.4,4795.6,6349.2,5831.7,5685.301753104456,7165.301753104456,5864.0,4534.1,6351.301753104456,5394.8,6991.2,7819.7,4909.5,6502.6,6196.0,4747.0,4331.8,6264.4,7004.3,5008.701753104456,5828.1,5709.900000000001,5989.8,7269.8,6231.3,5978.8,4809.3,4972.2,4520.4,5672.5,4534.7,5191.2,5518.3,6485.0,5054.099999999999,4589.0,5623.9,4656.5,4880.6,7118.8,6326.0,3768.8,5647.4,6269.6,6115.0,6401.8,5465.3,5249.0,4858.7,5107.4,6771.3,4972.1,8801.7,5762.8,4242.4,5541.5,5523.2,6105.2,4798.3,4795.3,5514.3,6147.200000000001,6358.0,6361.5,5725.3,4698.2,6728.4,5445.3,7000.1,5150.4,5777.2,4583.6,5552.3,5350.5,4333.4,4747.7,5130.0,7325.2],\"yaxis\":\"y\",\"type\":\"scatter\"},{\"hovertemplate\":\"variable=Jul-Sep<br>YEAR=%{x}<br>value=%{y}<extra></extra>\",\"legendgroup\":\"Jul-Sep\",\"line\":{\"color\":\"#00cc96\",\"dash\":\"solid\"},\"marker\":{\"symbol\":\"circle\"},\"mode\":\"lines\",\"name\":\"Jul-Sep\",\"orientation\":\"v\",\"showlegend\":true,\"x\":[1901,1902,1903,1904,1905,1906,1907,1908,1909,1910,1911,1912,1913,1914,1915,1916,1917,1918,1919,1920,1921,1922,1923,1924,1925,1926,1927,1928,1929,1930,1931,1932,1933,1934,1935,1936,1937,1938,1939,1940,1941,1942,1943,1944,1945,1946,1947,1948,1949,1950,1951,1952,1953,1954,1955,1956,1957,1958,1959,1960,1961,1962,1963,1964,1965,1966,1967,1968,1969,1970,1971,1972,1973,1974,1975,1976,1977,1978,1979,1980,1981,1982,1983,1984,1985,1986,1987,1988,1989,1990,1991,1992,1993,1994,1995,1996,1997,1998,1999,2000,2001,2002,2003,2004,2005,2006,2007,2008,2009,2010,2011,2012,2013,2014,2015],\"xaxis\":\"x\",\"y\":[32245.7,35643.5,36756.8,32685.6,30771.0,36699.5,33825.9,38103.5,36268.0,38958.5,31638.2,35076.6,33271.2,40084.2,33020.3,41854.72476863127,44690.924768631274,31348.4,39318.5,34469.5,41894.72476863127,41325.8,40146.3,42827.700000000004,38014.9,40848.8,40463.824768631275,37525.8,36961.8,36719.4,41989.3,37905.52476863127,44346.2,40931.3,38890.2,41441.3,38261.2,42673.4,36068.4,38797.7,34264.4,42276.924768631274,37896.4,37436.1,39083.4,41896.924768631274,41349.52476863127,39528.299999999996,42247.1,39629.72476863127,34091.4,35045.4,40829.8,40536.7,39394.8,39907.1,37795.5,42512.9,44998.7,38913.1,45349.9,39628.9,40151.6,42972.3,32311.1,34218.6,38032.6,36169.5,38389.9,42969.1,39518.7,29577.0,37932.2,35401.6,42835.3,37605.6,38530.4,40653.2,32072.3,40213.8,39387.6,34240.9,42810.4,37344.0,35695.0,33825.0,32949.0,45581.5,38244.2,40801.3,38570.2,37285.0,38260.8,41565.8,40200.6,38191.4,38570.6,40269.8,36400.8,35515.1,34118.1,30173.1,37098.6,34060.9,38285.2,38303.3,43723.8,37883.7,31988.62476863127,39282.6,39996.3,36358.4,40088.7,33896.6,32508.3],\"yaxis\":\"y\",\"type\":\"scatter\"},{\"hovertemplate\":\"variable=Oct-Dec<br>YEAR=%{x}<br>value=%{y}<extra></extra>\",\"legendgroup\":\"Oct-Dec\",\"line\":{\"color\":\"#ab63fa\",\"dash\":\"solid\"},\"marker\":{\"symbol\":\"circle\"},\"mode\":\"lines\",\"name\":\"Oct-Dec\",\"orientation\":\"v\",\"showlegend\":true,\"x\":[1901,1902,1903,1904,1905,1906,1907,1908,1909,1910,1911,1912,1913,1914,1915,1916,1917,1918,1919,1920,1921,1922,1923,1924,1925,1926,1927,1928,1929,1930,1931,1932,1933,1934,1935,1936,1937,1938,1939,1940,1941,1942,1943,1944,1945,1946,1947,1948,1949,1950,1951,1952,1953,1954,1955,1956,1957,1958,1959,1960,1961,1962,1963,1964,1965,1966,1967,1968,1969,1970,1971,1972,1973,1974,1975,1976,1977,1978,1979,1980,1981,1982,1983,1984,1985,1986,1987,1988,1989,1990,1991,1992,1993,1994,1995,1996,1997,1998,1999,2000,2001,2002,2003,2004,2005,2006,2007,2008,2009,2010,2011,2012,2013,2014,2015],\"xaxis\":\"x\",\"y\":[5224.2,5716.7,6870.3004874482085,4168.0,3892.2,4392.8,3914.6000000000004,2875.2,3300.6,6685.5,5996.7,5367.3,5035.1,4768.4,6429.0,8005.500487448208,8296.50048744821,3777.4,7251.8,4341.4,4805.6,6284.6,4191.9,5292.900487448209,5854.3,4260.4,5834.8004874482085,7414.1,6934.200487448208,6942.3,7753.4,6681.400487448209,5952.8,5012.4,4049.8,6251.6,6781.7,4977.1,5608.1,5675.7,5252.9,3573.500487448209,4993.4,5676.9,4385.8,8002.8004874482085,4305.2,5896.6,4691.500487448208,4297.7,5797.5,5438.1,5277.500487448208,4199.9,8036.2,8522.6,5013.8,6769.7,6650.8,5227.9,6778.7,5816.400487448209,6138.4,4955.5,4206.5,6252.3,4569.5,4606.1,4896.7,4763.8,5758.1,5445.9,6725.1,5464.9,6854.8,4837.3,7525.4,5218.1,6102.7,4792.7,4248.0,4565.8,5188.6,4853.9,6551.5,5924.2,7151.3,4273.4,4210.3,6656.7,4869.4,4861.0,6326.6,5404.5,5607.4,5881.1,6813.7,7644.2,6472.3,3430.5,5664.3,4155.7,5384.0,4848.2,6371.2,4564.0,4290.3,4225.7,6193.400487448209,7198.5,3463.5,4640.9,6516.9,4263.1,4976.0],\"yaxis\":\"y\",\"type\":\"scatter\"}],                        {\"template\":{\"data\":{\"histogram2dcontour\":[{\"type\":\"histogram2dcontour\",\"colorbar\":{\"outlinewidth\":0,\"ticks\":\"\"},\"colorscale\":[[0.0,\"#0d0887\"],[0.1111111111111111,\"#46039f\"],[0.2222222222222222,\"#7201a8\"],[0.3333333333333333,\"#9c179e\"],[0.4444444444444444,\"#bd3786\"],[0.5555555555555556,\"#d8576b\"],[0.6666666666666666,\"#ed7953\"],[0.7777777777777778,\"#fb9f3a\"],[0.8888888888888888,\"#fdca26\"],[1.0,\"#f0f921\"]]}],\"choropleth\":[{\"type\":\"choropleth\",\"colorbar\":{\"outlinewidth\":0,\"ticks\":\"\"}}],\"histogram2d\":[{\"type\":\"histogram2d\",\"colorbar\":{\"outlinewidth\":0,\"ticks\":\"\"},\"colorscale\":[[0.0,\"#0d0887\"],[0.1111111111111111,\"#46039f\"],[0.2222222222222222,\"#7201a8\"],[0.3333333333333333,\"#9c179e\"],[0.4444444444444444,\"#bd3786\"],[0.5555555555555556,\"#d8576b\"],[0.6666666666666666,\"#ed7953\"],[0.7777777777777778,\"#fb9f3a\"],[0.8888888888888888,\"#fdca26\"],[1.0,\"#f0f921\"]]}],\"heatmap\":[{\"type\":\"heatmap\",\"colorbar\":{\"outlinewidth\":0,\"ticks\":\"\"},\"colorscale\":[[0.0,\"#0d0887\"],[0.1111111111111111,\"#46039f\"],[0.2222222222222222,\"#7201a8\"],[0.3333333333333333,\"#9c179e\"],[0.4444444444444444,\"#bd3786\"],[0.5555555555555556,\"#d8576b\"],[0.6666666666666666,\"#ed7953\"],[0.7777777777777778,\"#fb9f3a\"],[0.8888888888888888,\"#fdca26\"],[1.0,\"#f0f921\"]]}],\"heatmapgl\":[{\"type\":\"heatmapgl\",\"colorbar\":{\"outlinewidth\":0,\"ticks\":\"\"},\"colorscale\":[[0.0,\"#0d0887\"],[0.1111111111111111,\"#46039f\"],[0.2222222222222222,\"#7201a8\"],[0.3333333333333333,\"#9c179e\"],[0.4444444444444444,\"#bd3786\"],[0.5555555555555556,\"#d8576b\"],[0.6666666666666666,\"#ed7953\"],[0.7777777777777778,\"#fb9f3a\"],[0.8888888888888888,\"#fdca26\"],[1.0,\"#f0f921\"]]}],\"contourcarpet\":[{\"type\":\"contourcarpet\",\"colorbar\":{\"outlinewidth\":0,\"ticks\":\"\"}}],\"contour\":[{\"type\":\"contour\",\"colorbar\":{\"outlinewidth\":0,\"ticks\":\"\"},\"colorscale\":[[0.0,\"#0d0887\"],[0.1111111111111111,\"#46039f\"],[0.2222222222222222,\"#7201a8\"],[0.3333333333333333,\"#9c179e\"],[0.4444444444444444,\"#bd3786\"],[0.5555555555555556,\"#d8576b\"],[0.6666666666666666,\"#ed7953\"],[0.7777777777777778,\"#fb9f3a\"],[0.8888888888888888,\"#fdca26\"],[1.0,\"#f0f921\"]]}],\"surface\":[{\"type\":\"surface\",\"colorbar\":{\"outlinewidth\":0,\"ticks\":\"\"},\"colorscale\":[[0.0,\"#0d0887\"],[0.1111111111111111,\"#46039f\"],[0.2222222222222222,\"#7201a8\"],[0.3333333333333333,\"#9c179e\"],[0.4444444444444444,\"#bd3786\"],[0.5555555555555556,\"#d8576b\"],[0.6666666666666666,\"#ed7953\"],[0.7777777777777778,\"#fb9f3a\"],[0.8888888888888888,\"#fdca26\"],[1.0,\"#f0f921\"]]}],\"mesh3d\":[{\"type\":\"mesh3d\",\"colorbar\":{\"outlinewidth\":0,\"ticks\":\"\"}}],\"scatter\":[{\"fillpattern\":{\"fillmode\":\"overlay\",\"size\":10,\"solidity\":0.2},\"type\":\"scatter\"}],\"parcoords\":[{\"type\":\"parcoords\",\"line\":{\"colorbar\":{\"outlinewidth\":0,\"ticks\":\"\"}}}],\"scatterpolargl\":[{\"type\":\"scatterpolargl\",\"marker\":{\"colorbar\":{\"outlinewidth\":0,\"ticks\":\"\"}}}],\"bar\":[{\"error_x\":{\"color\":\"#2a3f5f\"},\"error_y\":{\"color\":\"#2a3f5f\"},\"marker\":{\"line\":{\"color\":\"#E5ECF6\",\"width\":0.5},\"pattern\":{\"fillmode\":\"overlay\",\"size\":10,\"solidity\":0.2}},\"type\":\"bar\"}],\"scattergeo\":[{\"type\":\"scattergeo\",\"marker\":{\"colorbar\":{\"outlinewidth\":0,\"ticks\":\"\"}}}],\"scatterpolar\":[{\"type\":\"scatterpolar\",\"marker\":{\"colorbar\":{\"outlinewidth\":0,\"ticks\":\"\"}}}],\"histogram\":[{\"marker\":{\"pattern\":{\"fillmode\":\"overlay\",\"size\":10,\"solidity\":0.2}},\"type\":\"histogram\"}],\"scattergl\":[{\"type\":\"scattergl\",\"marker\":{\"colorbar\":{\"outlinewidth\":0,\"ticks\":\"\"}}}],\"scatter3d\":[{\"type\":\"scatter3d\",\"line\":{\"colorbar\":{\"outlinewidth\":0,\"ticks\":\"\"}},\"marker\":{\"colorbar\":{\"outlinewidth\":0,\"ticks\":\"\"}}}],\"scattermapbox\":[{\"type\":\"scattermapbox\",\"marker\":{\"colorbar\":{\"outlinewidth\":0,\"ticks\":\"\"}}}],\"scatterternary\":[{\"type\":\"scatterternary\",\"marker\":{\"colorbar\":{\"outlinewidth\":0,\"ticks\":\"\"}}}],\"scattercarpet\":[{\"type\":\"scattercarpet\",\"marker\":{\"colorbar\":{\"outlinewidth\":0,\"ticks\":\"\"}}}],\"carpet\":[{\"aaxis\":{\"endlinecolor\":\"#2a3f5f\",\"gridcolor\":\"white\",\"linecolor\":\"white\",\"minorgridcolor\":\"white\",\"startlinecolor\":\"#2a3f5f\"},\"baxis\":{\"endlinecolor\":\"#2a3f5f\",\"gridcolor\":\"white\",\"linecolor\":\"white\",\"minorgridcolor\":\"white\",\"startlinecolor\":\"#2a3f5f\"},\"type\":\"carpet\"}],\"table\":[{\"cells\":{\"fill\":{\"color\":\"#EBF0F8\"},\"line\":{\"color\":\"white\"}},\"header\":{\"fill\":{\"color\":\"#C8D4E3\"},\"line\":{\"color\":\"white\"}},\"type\":\"table\"}],\"barpolar\":[{\"marker\":{\"line\":{\"color\":\"#E5ECF6\",\"width\":0.5},\"pattern\":{\"fillmode\":\"overlay\",\"size\":10,\"solidity\":0.2}},\"type\":\"barpolar\"}],\"pie\":[{\"automargin\":true,\"type\":\"pie\"}]},\"layout\":{\"autotypenumbers\":\"strict\",\"colorway\":[\"#636efa\",\"#EF553B\",\"#00cc96\",\"#ab63fa\",\"#FFA15A\",\"#19d3f3\",\"#FF6692\",\"#B6E880\",\"#FF97FF\",\"#FECB52\"],\"font\":{\"color\":\"#2a3f5f\"},\"hovermode\":\"closest\",\"hoverlabel\":{\"align\":\"left\"},\"paper_bgcolor\":\"white\",\"plot_bgcolor\":\"#E5ECF6\",\"polar\":{\"bgcolor\":\"#E5ECF6\",\"angularaxis\":{\"gridcolor\":\"white\",\"linecolor\":\"white\",\"ticks\":\"\"},\"radialaxis\":{\"gridcolor\":\"white\",\"linecolor\":\"white\",\"ticks\":\"\"}},\"ternary\":{\"bgcolor\":\"#E5ECF6\",\"aaxis\":{\"gridcolor\":\"white\",\"linecolor\":\"white\",\"ticks\":\"\"},\"baxis\":{\"gridcolor\":\"white\",\"linecolor\":\"white\",\"ticks\":\"\"},\"caxis\":{\"gridcolor\":\"white\",\"linecolor\":\"white\",\"ticks\":\"\"}},\"coloraxis\":{\"colorbar\":{\"outlinewidth\":0,\"ticks\":\"\"}},\"colorscale\":{\"sequential\":[[0.0,\"#0d0887\"],[0.1111111111111111,\"#46039f\"],[0.2222222222222222,\"#7201a8\"],[0.3333333333333333,\"#9c179e\"],[0.4444444444444444,\"#bd3786\"],[0.5555555555555556,\"#d8576b\"],[0.6666666666666666,\"#ed7953\"],[0.7777777777777778,\"#fb9f3a\"],[0.8888888888888888,\"#fdca26\"],[1.0,\"#f0f921\"]],\"sequentialminus\":[[0.0,\"#0d0887\"],[0.1111111111111111,\"#46039f\"],[0.2222222222222222,\"#7201a8\"],[0.3333333333333333,\"#9c179e\"],[0.4444444444444444,\"#bd3786\"],[0.5555555555555556,\"#d8576b\"],[0.6666666666666666,\"#ed7953\"],[0.7777777777777778,\"#fb9f3a\"],[0.8888888888888888,\"#fdca26\"],[1.0,\"#f0f921\"]],\"diverging\":[[0,\"#8e0152\"],[0.1,\"#c51b7d\"],[0.2,\"#de77ae\"],[0.3,\"#f1b6da\"],[0.4,\"#fde0ef\"],[0.5,\"#f7f7f7\"],[0.6,\"#e6f5d0\"],[0.7,\"#b8e186\"],[0.8,\"#7fbc41\"],[0.9,\"#4d9221\"],[1,\"#276419\"]]},\"xaxis\":{\"gridcolor\":\"white\",\"linecolor\":\"white\",\"ticks\":\"\",\"title\":{\"standoff\":15},\"zerolinecolor\":\"white\",\"automargin\":true,\"zerolinewidth\":2},\"yaxis\":{\"gridcolor\":\"white\",\"linecolor\":\"white\",\"ticks\":\"\",\"title\":{\"standoff\":15},\"zerolinecolor\":\"white\",\"automargin\":true,\"zerolinewidth\":2},\"scene\":{\"xaxis\":{\"backgroundcolor\":\"#E5ECF6\",\"gridcolor\":\"white\",\"linecolor\":\"white\",\"showbackground\":true,\"ticks\":\"\",\"zerolinecolor\":\"white\",\"gridwidth\":2},\"yaxis\":{\"backgroundcolor\":\"#E5ECF6\",\"gridcolor\":\"white\",\"linecolor\":\"white\",\"showbackground\":true,\"ticks\":\"\",\"zerolinecolor\":\"white\",\"gridwidth\":2},\"zaxis\":{\"backgroundcolor\":\"#E5ECF6\",\"gridcolor\":\"white\",\"linecolor\":\"white\",\"showbackground\":true,\"ticks\":\"\",\"zerolinecolor\":\"white\",\"gridwidth\":2}},\"shapedefaults\":{\"line\":{\"color\":\"#2a3f5f\"}},\"annotationdefaults\":{\"arrowcolor\":\"#2a3f5f\",\"arrowhead\":0,\"arrowwidth\":1},\"geo\":{\"bgcolor\":\"white\",\"landcolor\":\"#E5ECF6\",\"subunitcolor\":\"white\",\"showland\":true,\"showlakes\":true,\"lakecolor\":\"white\"},\"title\":{\"x\":0.05},\"mapbox\":{\"style\":\"light\"}}},\"xaxis\":{\"anchor\":\"y\",\"domain\":[0.0,1.0],\"title\":{\"text\":\"Year\"}},\"yaxis\":{\"anchor\":\"x\",\"domain\":[0.0,1.0],\"title\":{\"text\":\"Rainfall in MM\"}},\"legend\":{\"title\":{\"text\":\"Quarters\"},\"tracegroupgap\":0},\"margin\":{\"t\":60},\"height\":1000,\"width\":1100,\"title\":{\"text\":\"Quaterly Rainfall V/S Year\"}},                        {\"responsive\": true}                    ).then(function(){\n",
              "                            \n",
              "var gd = document.getElementById('48943e9e-fc25-4129-9c8f-f515fed6ac57');\n",
              "var x = new MutationObserver(function (mutations, observer) {{\n",
              "        var display = window.getComputedStyle(gd).display;\n",
              "        if (!display || display === 'none') {{\n",
              "            console.log([gd, 'removed!']);\n",
              "            Plotly.purge(gd);\n",
              "            observer.disconnect();\n",
              "        }}\n",
              "}});\n",
              "\n",
              "// Listen for the removal of the full notebook cells\n",
              "var notebookContainer = gd.closest('#notebook-container');\n",
              "if (notebookContainer) {{\n",
              "    x.observe(notebookContainer, {childList: true});\n",
              "}}\n",
              "\n",
              "// Listen for the clearing of the current output cell\n",
              "var outputEl = gd.closest('.output');\n",
              "if (outputEl) {{\n",
              "    x.observe(outputEl, {childList: true});\n",
              "}}\n",
              "\n",
              "                        })                };                            </script>        </div>\n",
              "</body>\n",
              "</html>"
            ]
          },
          "metadata": {}
        }
      ]
    },
    {
      "cell_type": "markdown",
      "source": [
        "###From this plot we can say :-\n",
        "\n",
        "\n",
        "*   quaterly combination July,August,September receives huge rainfall.\n",
        "*   quaterly combination January,February,March receives least rainfall.\n",
        "\n"
      ],
      "metadata": {
        "id": "nS5pjQ-GmnkH"
      }
    },
    {
      "cell_type": "code",
      "source": [
        "div_annual_monthly = data[['DIVISION','JAN','FEB','MAR','APR','MAY','JUN','JUL','AUG','SEP','OCT','NOV','DEC']].groupby('DIVISION').sum()\n",
        "\n",
        "px.bar(div_annual_monthly, orientation = 'h', width = 1100, height = 1000).update_layout(title = 'Division V/S Rainfall in each Month',\n",
        "xaxis_title = 'Rainfall in MM',yaxis_title = 'Division', legend = dict(title = 'Months'))\n",
        "\n",
        "# Visualization shows the divisions V/S rainfall in every month"
      ],
      "metadata": {
        "colab": {
          "base_uri": "https://localhost:8080/",
          "height": 1000
        },
        "id": "PsrCq5k0Eefr",
        "outputId": "326a0393-6cd5-4e62-e3aa-7a696edc461d"
      },
      "execution_count": null,
      "outputs": [
        {
          "output_type": "display_data",
          "data": {
            "text/html": [
              "<html>\n",
              "<head><meta charset=\"utf-8\" /></head>\n",
              "<body>\n",
              "    <div>            <script src=\"https://cdnjs.cloudflare.com/ajax/libs/mathjax/2.7.5/MathJax.js?config=TeX-AMS-MML_SVG\"></script><script type=\"text/javascript\">if (window.MathJax && window.MathJax.Hub && window.MathJax.Hub.Config) {window.MathJax.Hub.Config({SVG: {font: \"STIX-Web\"}});}</script>                <script type=\"text/javascript\">window.PlotlyConfig = {MathJaxConfig: 'local'};</script>\n",
              "        <script src=\"https://cdn.plot.ly/plotly-2.18.2.min.js\"></script>                <div id=\"106eb818-0b96-4f0f-89df-7dfca1e9da86\" class=\"plotly-graph-div\" style=\"height:1000px; width:1100px;\"></div>            <script type=\"text/javascript\">                                    window.PLOTLYENV=window.PLOTLYENV || {};                                    if (document.getElementById(\"106eb818-0b96-4f0f-89df-7dfca1e9da86\")) {                    Plotly.newPlot(                        \"106eb818-0b96-4f0f-89df-7dfca1e9da86\",                        [{\"alignmentgroup\":\"True\",\"hovertemplate\":\"variable=JAN<br>value=%{x}<br>DIVISION=%{y}<extra></extra>\",\"legendgroup\":\"JAN\",\"marker\":{\"color\":\"#636efa\",\"pattern\":{\"shape\":\"\"}},\"name\":\"JAN\",\"offsetgroup\":\"JAN\",\"orientation\":\"h\",\"showlegend\":true,\"textposition\":\"auto\",\"x\":[5790.1,4559.557320038911,1952.1,1539.4,1633.8,860.6,239.8573200389105,2231.2,738.6,1841.4,1448.5,205.4,1942.3,9681.8,11733.5,2026.5,1408.4,145.2,3117.314640077821,351.3,575.1,1612.9,346.5,1417.9,2903.3,1134.8,131.0,336.8,1619.6,2739.2,885.8,6186.7,1214.8,1062.8,382.7,2031.6],\"xaxis\":\"x\",\"y\":[\"ANDAMAN & NICOBAR ISLANDS\",\"ARUNACHAL PRADESH\",\"ASSAM & MEGHALAYA\",\"BIHAR\",\"CHHATTISGARH\",\"COASTAL ANDHRA PRADESH\",\"COASTAL KARNATAKA\",\"EAST MADHYA PRADESH\",\"EAST RAJASTHAN\",\"EAST UTTAR PRADESH\",\"GANGETIC WEST BENGAL\",\"GUJARAT REGION\",\"HARYANA DELHI & CHANDIGARH\",\"HIMACHAL PRADESH\",\"JAMMU & KASHMIR\",\"JHARKHAND\",\"KERALA\",\"KONKAN & GOA\",\"LAKSHADWEEP\",\"MADHYA MAHARASHTRA\",\"MATATHWADA\",\"NAGA MANI MIZO TRIPURA\",\"NORTH INTERIOR KARNATAKA\",\"ORISSA\",\"PUNJAB\",\"RAYALSEEMA\",\"SAURASHTRA & KUTCH\",\"SOUTH INTERIOR KARNATAKA\",\"SUB HIMALAYAN WEST BENGAL & SIKKIM\",\"TAMIL NADU\",\"TELANGANA\",\"UTTARAKHAND\",\"VIDARBHA\",\"WEST MADHYA PRADESH\",\"WEST RAJASTHAN\",\"WEST UTTAR PRADESH\"],\"yaxis\":\"y\",\"type\":\"bar\"},{\"alignmentgroup\":\"True\",\"hovertemplate\":\"variable=FEB<br>value=%{x}<br>DIVISION=%{y}<extra></extra>\",\"legendgroup\":\"FEB\",\"marker\":{\"color\":\"#EF553B\",\"pattern\":{\"shape\":\"\"}},\"name\":\"FEB\",\"offsetgroup\":\"FEB\",\"orientation\":\"h\",\"showlegend\":true,\"textposition\":\"auto\",\"x\":[3079.4,8769.005324580598,3615.8,1655.3,2214.8,1486.2,174.6,2149.8,623.0,1825.5,2582.0,137.0,2004.9,10452.9,13276.8,2781.4,1782.1,62.9,1811.105324580598,168.8,511.0,4215.0,364.8,2267.7,3080.5,653.2,185.79999999999998,478.8,2642.1,1543.6000000000001,1114.2,7297.0,1378.0,740.9053245805981,567.0,2057.8],\"xaxis\":\"x\",\"y\":[\"ANDAMAN & NICOBAR ISLANDS\",\"ARUNACHAL PRADESH\",\"ASSAM & MEGHALAYA\",\"BIHAR\",\"CHHATTISGARH\",\"COASTAL ANDHRA PRADESH\",\"COASTAL KARNATAKA\",\"EAST MADHYA PRADESH\",\"EAST RAJASTHAN\",\"EAST UTTAR PRADESH\",\"GANGETIC WEST BENGAL\",\"GUJARAT REGION\",\"HARYANA DELHI & CHANDIGARH\",\"HIMACHAL PRADESH\",\"JAMMU & KASHMIR\",\"JHARKHAND\",\"KERALA\",\"KONKAN & GOA\",\"LAKSHADWEEP\",\"MADHYA MAHARASHTRA\",\"MATATHWADA\",\"NAGA MANI MIZO TRIPURA\",\"NORTH INTERIOR KARNATAKA\",\"ORISSA\",\"PUNJAB\",\"RAYALSEEMA\",\"SAURASHTRA & KUTCH\",\"SOUTH INTERIOR KARNATAKA\",\"SUB HIMALAYAN WEST BENGAL & SIKKIM\",\"TAMIL NADU\",\"TELANGANA\",\"UTTARAKHAND\",\"VIDARBHA\",\"WEST MADHYA PRADESH\",\"WEST RAJASTHAN\",\"WEST UTTAR PRADESH\"],\"yaxis\":\"y\",\"type\":\"bar\"},{\"alignmentgroup\":\"True\",\"hovertemplate\":\"variable=MAR<br>value=%{x}<br>DIVISION=%{y}<extra></extra>\",\"legendgroup\":\"MAR\",\"marker\":{\"color\":\"#00cc96\",\"pattern\":{\"shape\":\"\"}},\"name\":\"MAR\",\"offsetgroup\":\"MAR\",\"orientation\":\"h\",\"showlegend\":true,\"textposition\":\"auto\",\"x\":[3491.718394160584,14639.818394160584,9088.1,1164.3,1755.7,1520.5,731.1,1568.3,519.4,1024.4,3345.4,140.4,1487.6,11631.8,15108.5,2118.7,4233.7,158.1,1662.018394160584,413.6,817.1,8877.9,819.2,2430.5,2719.9,928.8,149.10000000000002,1090.8,4960.6,2239.7,1450.7,6586.3,1365.3,594.9,458.4,1318.1],\"xaxis\":\"x\",\"y\":[\"ANDAMAN & NICOBAR ISLANDS\",\"ARUNACHAL PRADESH\",\"ASSAM & MEGHALAYA\",\"BIHAR\",\"CHHATTISGARH\",\"COASTAL ANDHRA PRADESH\",\"COASTAL KARNATAKA\",\"EAST MADHYA PRADESH\",\"EAST RAJASTHAN\",\"EAST UTTAR PRADESH\",\"GANGETIC WEST BENGAL\",\"GUJARAT REGION\",\"HARYANA DELHI & CHANDIGARH\",\"HIMACHAL PRADESH\",\"JAMMU & KASHMIR\",\"JHARKHAND\",\"KERALA\",\"KONKAN & GOA\",\"LAKSHADWEEP\",\"MADHYA MAHARASHTRA\",\"MATATHWADA\",\"NAGA MANI MIZO TRIPURA\",\"NORTH INTERIOR KARNATAKA\",\"ORISSA\",\"PUNJAB\",\"RAYALSEEMA\",\"SAURASHTRA & KUTCH\",\"SOUTH INTERIOR KARNATAKA\",\"SUB HIMALAYAN WEST BENGAL & SIKKIM\",\"TAMIL NADU\",\"TELANGANA\",\"UTTARAKHAND\",\"VIDARBHA\",\"WEST MADHYA PRADESH\",\"WEST RAJASTHAN\",\"WEST UTTAR PRADESH\"],\"yaxis\":\"y\",\"type\":\"bar\"},{\"alignmentgroup\":\"True\",\"hovertemplate\":\"variable=APR<br>value=%{x}<br>DIVISION=%{y}<extra></extra>\",\"legendgroup\":\"APR\",\"marker\":{\"color\":\"#ab63fa\",\"pattern\":{\"shape\":\"\"}},\"name\":\"APR\",\"offsetgroup\":\"APR\",\"orientation\":\"h\",\"showlegend\":true,\"textposition\":\"auto\",\"x\":[7886.35486381323,25592.1,23358.3,1945.6,1928.8999999999999,3075.2,3555.4,826.7,361.6,739.5,5161.8,128.4,877.9,7179.3,10775.8,2227.2,12716.0,490.6,5144.5548638132295,1051.9,873.4,19634.3,2794.6,3928.4,1455.9,2278.0,136.10000000000002,4862.3,12728.4,5174.5,2091.3,4044.1,1085.1,273.2,410.7,719.1],\"xaxis\":\"x\",\"y\":[\"ANDAMAN & NICOBAR ISLANDS\",\"ARUNACHAL PRADESH\",\"ASSAM & MEGHALAYA\",\"BIHAR\",\"CHHATTISGARH\",\"COASTAL ANDHRA PRADESH\",\"COASTAL KARNATAKA\",\"EAST MADHYA PRADESH\",\"EAST RAJASTHAN\",\"EAST UTTAR PRADESH\",\"GANGETIC WEST BENGAL\",\"GUJARAT REGION\",\"HARYANA DELHI & CHANDIGARH\",\"HIMACHAL PRADESH\",\"JAMMU & KASHMIR\",\"JHARKHAND\",\"KERALA\",\"KONKAN & GOA\",\"LAKSHADWEEP\",\"MADHYA MAHARASHTRA\",\"MATATHWADA\",\"NAGA MANI MIZO TRIPURA\",\"NORTH INTERIOR KARNATAKA\",\"ORISSA\",\"PUNJAB\",\"RAYALSEEMA\",\"SAURASHTRA & KUTCH\",\"SOUTH INTERIOR KARNATAKA\",\"SUB HIMALAYAN WEST BENGAL & SIKKIM\",\"TAMIL NADU\",\"TELANGANA\",\"UTTARAKHAND\",\"VIDARBHA\",\"WEST MADHYA PRADESH\",\"WEST RAJASTHAN\",\"WEST UTTAR PRADESH\"],\"yaxis\":\"y\",\"type\":\"bar\"},{\"alignmentgroup\":\"True\",\"hovertemplate\":\"variable=MAY<br>value=%{x}<br>DIVISION=%{y}<extra></extra>\",\"legendgroup\":\"MAY\",\"marker\":{\"color\":\"#FFA15A\",\"pattern\":{\"shape\":\"\"}},\"name\":\"MAY\",\"offsetgroup\":\"MAY\",\"orientation\":\"h\",\"showlegend\":true,\"textposition\":\"auto\",\"x\":[39004.94541697058,34776.7,39277.0,6104.4,2420.6,7193.2,14120.6,1066.4,1129.3,1979.3,12395.6,668.1,1671.4,6688.0,7759.8,5556.5,26436.4,3854.3,18527.59083394116,2638.5,1799.4,33446.5,5409.1,7461.9,1625.7,5804.7,536.2,10591.5,30951.5,8040.9,2918.0,6363.9,1328.3999999999999,880.6,1086.0,1415.2],\"xaxis\":\"x\",\"y\":[\"ANDAMAN & NICOBAR ISLANDS\",\"ARUNACHAL PRADESH\",\"ASSAM & MEGHALAYA\",\"BIHAR\",\"CHHATTISGARH\",\"COASTAL ANDHRA PRADESH\",\"COASTAL KARNATAKA\",\"EAST MADHYA PRADESH\",\"EAST RAJASTHAN\",\"EAST UTTAR PRADESH\",\"GANGETIC WEST BENGAL\",\"GUJARAT REGION\",\"HARYANA DELHI & CHANDIGARH\",\"HIMACHAL PRADESH\",\"JAMMU & KASHMIR\",\"JHARKHAND\",\"KERALA\",\"KONKAN & GOA\",\"LAKSHADWEEP\",\"MADHYA MAHARASHTRA\",\"MATATHWADA\",\"NAGA MANI MIZO TRIPURA\",\"NORTH INTERIOR KARNATAKA\",\"ORISSA\",\"PUNJAB\",\"RAYALSEEMA\",\"SAURASHTRA & KUTCH\",\"SOUTH INTERIOR KARNATAKA\",\"SUB HIMALAYAN WEST BENGAL & SIKKIM\",\"TAMIL NADU\",\"TELANGANA\",\"UTTARAKHAND\",\"VIDARBHA\",\"WEST MADHYA PRADESH\",\"WEST RAJASTHAN\",\"WEST UTTAR PRADESH\"],\"yaxis\":\"y\",\"type\":\"bar\"},{\"alignmentgroup\":\"True\",\"hovertemplate\":\"variable=JUN<br>value=%{x}<br>DIVISION=%{y}<extra></extra>\",\"legendgroup\":\"JUN\",\"marker\":{\"color\":\"#19d3f3\",\"pattern\":{\"shape\":\"\"}},\"name\":\"JUN\",\"offsetgroup\":\"JUN\",\"orientation\":\"h\",\"showlegend\":true,\"textposition\":\"auto\",\"x\":[51391.16888834834,62378.13444417417,58668.6,20046.3,22800.6,14224.8,96752.5,16218.4,7290.9,12731.9,28427.6,13947.7,5592.0,10490.4,7387.0,22377.7,75244.8,79185.5,37154.768888348335,16954.0,15750.1,51247.9,11614.2,24249.0,5343.7,7445.4,8552.7,16263.0,61856.4,5986.5,16344.5,18693.4,19961.5,12854.9,3293.3,8923.7],\"xaxis\":\"x\",\"y\":[\"ANDAMAN & NICOBAR ISLANDS\",\"ARUNACHAL PRADESH\",\"ASSAM & MEGHALAYA\",\"BIHAR\",\"CHHATTISGARH\",\"COASTAL ANDHRA PRADESH\",\"COASTAL KARNATAKA\",\"EAST MADHYA PRADESH\",\"EAST RAJASTHAN\",\"EAST UTTAR PRADESH\",\"GANGETIC WEST BENGAL\",\"GUJARAT REGION\",\"HARYANA DELHI & CHANDIGARH\",\"HIMACHAL PRADESH\",\"JAMMU & KASHMIR\",\"JHARKHAND\",\"KERALA\",\"KONKAN & GOA\",\"LAKSHADWEEP\",\"MADHYA MAHARASHTRA\",\"MATATHWADA\",\"NAGA MANI MIZO TRIPURA\",\"NORTH INTERIOR KARNATAKA\",\"ORISSA\",\"PUNJAB\",\"RAYALSEEMA\",\"SAURASHTRA & KUTCH\",\"SOUTH INTERIOR KARNATAKA\",\"SUB HIMALAYAN WEST BENGAL & SIKKIM\",\"TAMIL NADU\",\"TELANGANA\",\"UTTARAKHAND\",\"VIDARBHA\",\"WEST MADHYA PRADESH\",\"WEST RAJASTHAN\",\"WEST UTTAR PRADESH\"],\"yaxis\":\"y\",\"type\":\"bar\"},{\"alignmentgroup\":\"True\",\"hovertemplate\":\"variable=JUL<br>value=%{x}<br>DIVISION=%{y}<extra></extra>\",\"legendgroup\":\"JUL\",\"marker\":{\"color\":\"#FF6692\",\"pattern\":{\"shape\":\"\"}},\"name\":\"JUL\",\"offsetgroup\":\"JUL\",\"orientation\":\"h\",\"showlegend\":true,\"textposition\":\"auto\",\"x\":[43899.028668775856,67023.51433438793,56936.8,37310.8,45836.4,19989.8,129608.3,42708.5,25685.0,33415.4,37533.4,40125.9,17251.8,32232.7,20848.71433438793,38752.2,80609.6,123398.5,32335.743003163785,28632.7,20774.6,50448.7,15931.1,40384.9,19430.8,11049.4,22421.6,26606.3,74336.3,8201.2,28462.4,44930.3,37884.3,34843.0,10944.7,28349.8],\"xaxis\":\"x\",\"y\":[\"ANDAMAN & NICOBAR ISLANDS\",\"ARUNACHAL PRADESH\",\"ASSAM & MEGHALAYA\",\"BIHAR\",\"CHHATTISGARH\",\"COASTAL ANDHRA PRADESH\",\"COASTAL KARNATAKA\",\"EAST MADHYA PRADESH\",\"EAST RAJASTHAN\",\"EAST UTTAR PRADESH\",\"GANGETIC WEST BENGAL\",\"GUJARAT REGION\",\"HARYANA DELHI & CHANDIGARH\",\"HIMACHAL PRADESH\",\"JAMMU & KASHMIR\",\"JHARKHAND\",\"KERALA\",\"KONKAN & GOA\",\"LAKSHADWEEP\",\"MADHYA MAHARASHTRA\",\"MATATHWADA\",\"NAGA MANI MIZO TRIPURA\",\"NORTH INTERIOR KARNATAKA\",\"ORISSA\",\"PUNJAB\",\"RAYALSEEMA\",\"SAURASHTRA & KUTCH\",\"SOUTH INTERIOR KARNATAKA\",\"SUB HIMALAYAN WEST BENGAL & SIKKIM\",\"TAMIL NADU\",\"TELANGANA\",\"UTTARAKHAND\",\"VIDARBHA\",\"WEST MADHYA PRADESH\",\"WEST RAJASTHAN\",\"WEST UTTAR PRADESH\"],\"yaxis\":\"y\",\"type\":\"bar\"},{\"alignmentgroup\":\"True\",\"hovertemplate\":\"variable=AUG<br>value=%{x}<br>DIVISION=%{y}<extra></extra>\",\"legendgroup\":\"AUG\",\"marker\":{\"color\":\"#B6E880\",\"pattern\":{\"shape\":\"\"}},\"name\":\"AUG\",\"offsetgroup\":\"AUG\",\"orientation\":\"h\",\"showlegend\":true,\"textposition\":\"auto\",\"x\":[43785.626994163424,48037.3,46528.2,34459.0,44835.4,20231.2,82066.1,42477.4,25101.9,31695.6,35809.0,29807.2,17346.7,31502.3,20811.9,37435.3,48527.4,78517.0,23875.826994163424,21205.7,19145.7,47297.4,13737.8,40869.0,18189.3,12363.8,13658.6,20037.5,59887.8,11027.1,24731.8,43932.7,32884.2,33132.5,10873.9,28899.4],\"xaxis\":\"x\",\"y\":[\"ANDAMAN & NICOBAR ISLANDS\",\"ARUNACHAL PRADESH\",\"ASSAM & MEGHALAYA\",\"BIHAR\",\"CHHATTISGARH\",\"COASTAL ANDHRA PRADESH\",\"COASTAL KARNATAKA\",\"EAST MADHYA PRADESH\",\"EAST RAJASTHAN\",\"EAST UTTAR PRADESH\",\"GANGETIC WEST BENGAL\",\"GUJARAT REGION\",\"HARYANA DELHI & CHANDIGARH\",\"HIMACHAL PRADESH\",\"JAMMU & KASHMIR\",\"JHARKHAND\",\"KERALA\",\"KONKAN & GOA\",\"LAKSHADWEEP\",\"MADHYA MAHARASHTRA\",\"MATATHWADA\",\"NAGA MANI MIZO TRIPURA\",\"NORTH INTERIOR KARNATAKA\",\"ORISSA\",\"PUNJAB\",\"RAYALSEEMA\",\"SAURASHTRA & KUTCH\",\"SOUTH INTERIOR KARNATAKA\",\"SUB HIMALAYAN WEST BENGAL & SIKKIM\",\"TAMIL NADU\",\"TELANGANA\",\"UTTARAKHAND\",\"VIDARBHA\",\"WEST MADHYA PRADESH\",\"WEST RAJASTHAN\",\"WEST UTTAR PRADESH\"],\"yaxis\":\"y\",\"type\":\"bar\"},{\"alignmentgroup\":\"True\",\"hovertemplate\":\"variable=SEP<br>value=%{x}<br>DIVISION=%{y}<extra></extra>\",\"legendgroup\":\"SEP\",\"marker\":{\"color\":\"#FF97FF\",\"pattern\":{\"shape\":\"\"}},\"name\":\"SEP\",\"offsetgroup\":\"SEP\",\"orientation\":\"h\",\"showlegend\":true,\"textposition\":\"auto\",\"x\":[47616.68576642336,41917.0,35734.5,24999.2,25044.7,20896.4,34460.0,22337.2,11267.5,21228.0,28256.7,17116.8,10155.3,14975.2,10268.3,26153.5,28246.2,40224.7,18703.985766423357,18080.5,20524.8,36150.3,16438.2,27761.4,9980.8,15147.8,8673.1,15791.1,48454.3,12833.7,20182.9,22551.1,20176.7,18534.4,4639.4,16819.3],\"xaxis\":\"x\",\"y\":[\"ANDAMAN & NICOBAR ISLANDS\",\"ARUNACHAL PRADESH\",\"ASSAM & MEGHALAYA\",\"BIHAR\",\"CHHATTISGARH\",\"COASTAL ANDHRA PRADESH\",\"COASTAL KARNATAKA\",\"EAST MADHYA PRADESH\",\"EAST RAJASTHAN\",\"EAST UTTAR PRADESH\",\"GANGETIC WEST BENGAL\",\"GUJARAT REGION\",\"HARYANA DELHI & CHANDIGARH\",\"HIMACHAL PRADESH\",\"JAMMU & KASHMIR\",\"JHARKHAND\",\"KERALA\",\"KONKAN & GOA\",\"LAKSHADWEEP\",\"MADHYA MAHARASHTRA\",\"MATATHWADA\",\"NAGA MANI MIZO TRIPURA\",\"NORTH INTERIOR KARNATAKA\",\"ORISSA\",\"PUNJAB\",\"RAYALSEEMA\",\"SAURASHTRA & KUTCH\",\"SOUTH INTERIOR KARNATAKA\",\"SUB HIMALAYAN WEST BENGAL & SIKKIM\",\"TAMIL NADU\",\"TELANGANA\",\"UTTARAKHAND\",\"VIDARBHA\",\"WEST MADHYA PRADESH\",\"WEST RAJASTHAN\",\"WEST UTTAR PRADESH\"],\"yaxis\":\"y\",\"type\":\"bar\"},{\"alignmentgroup\":\"True\",\"hovertemplate\":\"variable=OCT<br>value=%{x}<br>DIVISION=%{y}<extra></extra>\",\"legendgroup\":\"OCT\",\"marker\":{\"color\":\"#FECB52\",\"pattern\":{\"shape\":\"\"}},\"name\":\"OCT\",\"offsetgroup\":\"OCT\",\"orientation\":\"h\",\"showlegend\":true,\"textposition\":\"auto\",\"x\":[31539.614018009248,18686.214018009247,17493.6,7253.6,7320.900000000001,21333.8,21223.5,4563.9,1651.5,4935.9,13310.8,2365.0,1474.7,3597.0,3929.2,9201.8,33824.1,13039.5,18793.321027013873,8072.4,6736.7,20125.7,11004.2,13063.1,1591.2,15562.699999999999,1668.7,16001.5,16519.3,21067.6,8536.1,4493.5,5997.1,3230.0,589.7,3309.4],\"xaxis\":\"x\",\"y\":[\"ANDAMAN & NICOBAR ISLANDS\",\"ARUNACHAL PRADESH\",\"ASSAM & MEGHALAYA\",\"BIHAR\",\"CHHATTISGARH\",\"COASTAL ANDHRA PRADESH\",\"COASTAL KARNATAKA\",\"EAST MADHYA PRADESH\",\"EAST RAJASTHAN\",\"EAST UTTAR PRADESH\",\"GANGETIC WEST BENGAL\",\"GUJARAT REGION\",\"HARYANA DELHI & CHANDIGARH\",\"HIMACHAL PRADESH\",\"JAMMU & KASHMIR\",\"JHARKHAND\",\"KERALA\",\"KONKAN & GOA\",\"LAKSHADWEEP\",\"MADHYA MAHARASHTRA\",\"MATATHWADA\",\"NAGA MANI MIZO TRIPURA\",\"NORTH INTERIOR KARNATAKA\",\"ORISSA\",\"PUNJAB\",\"RAYALSEEMA\",\"SAURASHTRA & KUTCH\",\"SOUTH INTERIOR KARNATAKA\",\"SUB HIMALAYAN WEST BENGAL & SIKKIM\",\"TAMIL NADU\",\"TELANGANA\",\"UTTARAKHAND\",\"VIDARBHA\",\"WEST MADHYA PRADESH\",\"WEST RAJASTHAN\",\"WEST UTTAR PRADESH\"],\"yaxis\":\"y\",\"type\":\"bar\"},{\"alignmentgroup\":\"True\",\"hovertemplate\":\"variable=NOV<br>value=%{x}<br>DIVISION=%{y}<extra></extra>\",\"legendgroup\":\"NOV\",\"marker\":{\"color\":\"#636efa\",\"pattern\":{\"shape\":\"\"}},\"name\":\"NOV\",\"offsetgroup\":\"NOV\",\"orientation\":\"h\",\"showlegend\":true,\"textposition\":\"auto\",\"x\":[25324.13232643118,3470.9323264311815,3097.9,825.5,1353.8,8958.9,7314.9,1461.1,560.5,527.9,2481.6,796.8,375.4,1920.0,2791.0661632155907,1371.2,18809.4,2837.2,13721.996979293544,2983.7,2580.2,5385.9,3358.9,3215.6,476.1,11805.2,701.1,6259.6,1850.2,20343.9,2328.8,941.6,1791.1,1419.2,191.7,456.09999999999997],\"xaxis\":\"x\",\"y\":[\"ANDAMAN & NICOBAR ISLANDS\",\"ARUNACHAL PRADESH\",\"ASSAM & MEGHALAYA\",\"BIHAR\",\"CHHATTISGARH\",\"COASTAL ANDHRA PRADESH\",\"COASTAL KARNATAKA\",\"EAST MADHYA PRADESH\",\"EAST RAJASTHAN\",\"EAST UTTAR PRADESH\",\"GANGETIC WEST BENGAL\",\"GUJARAT REGION\",\"HARYANA DELHI & CHANDIGARH\",\"HIMACHAL PRADESH\",\"JAMMU & KASHMIR\",\"JHARKHAND\",\"KERALA\",\"KONKAN & GOA\",\"LAKSHADWEEP\",\"MADHYA MAHARASHTRA\",\"MATATHWADA\",\"NAGA MANI MIZO TRIPURA\",\"NORTH INTERIOR KARNATAKA\",\"ORISSA\",\"PUNJAB\",\"RAYALSEEMA\",\"SAURASHTRA & KUTCH\",\"SOUTH INTERIOR KARNATAKA\",\"SUB HIMALAYAN WEST BENGAL & SIKKIM\",\"TAMIL NADU\",\"TELANGANA\",\"UTTARAKHAND\",\"VIDARBHA\",\"WEST MADHYA PRADESH\",\"WEST RAJASTHAN\",\"WEST UTTAR PRADESH\"],\"yaxis\":\"y\",\"type\":\"bar\"},{\"alignmentgroup\":\"True\",\"hovertemplate\":\"variable=DEC<br>value=%{x}<br>DIVISION=%{y}<extra></extra>\",\"legendgroup\":\"DEC\",\"marker\":{\"color\":\"#EF553B\",\"pattern\":{\"shape\":\"\"}},\"name\":\"DEC\",\"offsetgroup\":\"DEC\",\"orientation\":\"h\",\"showlegend\":true,\"textposition\":\"auto\",\"x\":[16443.111738918655,2365.441159279104,1029.4,424.9,603.6,1313.3,1450.6,966.5,419.9,664.3,654.4,154.0,826.4,4587.7,6337.370579639552,568.0,4594.3,519.4,6764.682318558207,672.6,839.8,1425.9,727.7,640.3,1459.9,3939.9,127.5,1324.5,696.9,9330.8,591.3,2534.1,911.7,724.1,218.79999999999998,818.2],\"xaxis\":\"x\",\"y\":[\"ANDAMAN & NICOBAR ISLANDS\",\"ARUNACHAL PRADESH\",\"ASSAM & MEGHALAYA\",\"BIHAR\",\"CHHATTISGARH\",\"COASTAL ANDHRA PRADESH\",\"COASTAL KARNATAKA\",\"EAST MADHYA PRADESH\",\"EAST RAJASTHAN\",\"EAST UTTAR PRADESH\",\"GANGETIC WEST BENGAL\",\"GUJARAT REGION\",\"HARYANA DELHI & CHANDIGARH\",\"HIMACHAL PRADESH\",\"JAMMU & KASHMIR\",\"JHARKHAND\",\"KERALA\",\"KONKAN & GOA\",\"LAKSHADWEEP\",\"MADHYA MAHARASHTRA\",\"MATATHWADA\",\"NAGA MANI MIZO TRIPURA\",\"NORTH INTERIOR KARNATAKA\",\"ORISSA\",\"PUNJAB\",\"RAYALSEEMA\",\"SAURASHTRA & KUTCH\",\"SOUTH INTERIOR KARNATAKA\",\"SUB HIMALAYAN WEST BENGAL & SIKKIM\",\"TAMIL NADU\",\"TELANGANA\",\"UTTARAKHAND\",\"VIDARBHA\",\"WEST MADHYA PRADESH\",\"WEST RAJASTHAN\",\"WEST UTTAR PRADESH\"],\"yaxis\":\"y\",\"type\":\"bar\"}],                        {\"template\":{\"data\":{\"histogram2dcontour\":[{\"type\":\"histogram2dcontour\",\"colorbar\":{\"outlinewidth\":0,\"ticks\":\"\"},\"colorscale\":[[0.0,\"#0d0887\"],[0.1111111111111111,\"#46039f\"],[0.2222222222222222,\"#7201a8\"],[0.3333333333333333,\"#9c179e\"],[0.4444444444444444,\"#bd3786\"],[0.5555555555555556,\"#d8576b\"],[0.6666666666666666,\"#ed7953\"],[0.7777777777777778,\"#fb9f3a\"],[0.8888888888888888,\"#fdca26\"],[1.0,\"#f0f921\"]]}],\"choropleth\":[{\"type\":\"choropleth\",\"colorbar\":{\"outlinewidth\":0,\"ticks\":\"\"}}],\"histogram2d\":[{\"type\":\"histogram2d\",\"colorbar\":{\"outlinewidth\":0,\"ticks\":\"\"},\"colorscale\":[[0.0,\"#0d0887\"],[0.1111111111111111,\"#46039f\"],[0.2222222222222222,\"#7201a8\"],[0.3333333333333333,\"#9c179e\"],[0.4444444444444444,\"#bd3786\"],[0.5555555555555556,\"#d8576b\"],[0.6666666666666666,\"#ed7953\"],[0.7777777777777778,\"#fb9f3a\"],[0.8888888888888888,\"#fdca26\"],[1.0,\"#f0f921\"]]}],\"heatmap\":[{\"type\":\"heatmap\",\"colorbar\":{\"outlinewidth\":0,\"ticks\":\"\"},\"colorscale\":[[0.0,\"#0d0887\"],[0.1111111111111111,\"#46039f\"],[0.2222222222222222,\"#7201a8\"],[0.3333333333333333,\"#9c179e\"],[0.4444444444444444,\"#bd3786\"],[0.5555555555555556,\"#d8576b\"],[0.6666666666666666,\"#ed7953\"],[0.7777777777777778,\"#fb9f3a\"],[0.8888888888888888,\"#fdca26\"],[1.0,\"#f0f921\"]]}],\"heatmapgl\":[{\"type\":\"heatmapgl\",\"colorbar\":{\"outlinewidth\":0,\"ticks\":\"\"},\"colorscale\":[[0.0,\"#0d0887\"],[0.1111111111111111,\"#46039f\"],[0.2222222222222222,\"#7201a8\"],[0.3333333333333333,\"#9c179e\"],[0.4444444444444444,\"#bd3786\"],[0.5555555555555556,\"#d8576b\"],[0.6666666666666666,\"#ed7953\"],[0.7777777777777778,\"#fb9f3a\"],[0.8888888888888888,\"#fdca26\"],[1.0,\"#f0f921\"]]}],\"contourcarpet\":[{\"type\":\"contourcarpet\",\"colorbar\":{\"outlinewidth\":0,\"ticks\":\"\"}}],\"contour\":[{\"type\":\"contour\",\"colorbar\":{\"outlinewidth\":0,\"ticks\":\"\"},\"colorscale\":[[0.0,\"#0d0887\"],[0.1111111111111111,\"#46039f\"],[0.2222222222222222,\"#7201a8\"],[0.3333333333333333,\"#9c179e\"],[0.4444444444444444,\"#bd3786\"],[0.5555555555555556,\"#d8576b\"],[0.6666666666666666,\"#ed7953\"],[0.7777777777777778,\"#fb9f3a\"],[0.8888888888888888,\"#fdca26\"],[1.0,\"#f0f921\"]]}],\"surface\":[{\"type\":\"surface\",\"colorbar\":{\"outlinewidth\":0,\"ticks\":\"\"},\"colorscale\":[[0.0,\"#0d0887\"],[0.1111111111111111,\"#46039f\"],[0.2222222222222222,\"#7201a8\"],[0.3333333333333333,\"#9c179e\"],[0.4444444444444444,\"#bd3786\"],[0.5555555555555556,\"#d8576b\"],[0.6666666666666666,\"#ed7953\"],[0.7777777777777778,\"#fb9f3a\"],[0.8888888888888888,\"#fdca26\"],[1.0,\"#f0f921\"]]}],\"mesh3d\":[{\"type\":\"mesh3d\",\"colorbar\":{\"outlinewidth\":0,\"ticks\":\"\"}}],\"scatter\":[{\"fillpattern\":{\"fillmode\":\"overlay\",\"size\":10,\"solidity\":0.2},\"type\":\"scatter\"}],\"parcoords\":[{\"type\":\"parcoords\",\"line\":{\"colorbar\":{\"outlinewidth\":0,\"ticks\":\"\"}}}],\"scatterpolargl\":[{\"type\":\"scatterpolargl\",\"marker\":{\"colorbar\":{\"outlinewidth\":0,\"ticks\":\"\"}}}],\"bar\":[{\"error_x\":{\"color\":\"#2a3f5f\"},\"error_y\":{\"color\":\"#2a3f5f\"},\"marker\":{\"line\":{\"color\":\"#E5ECF6\",\"width\":0.5},\"pattern\":{\"fillmode\":\"overlay\",\"size\":10,\"solidity\":0.2}},\"type\":\"bar\"}],\"scattergeo\":[{\"type\":\"scattergeo\",\"marker\":{\"colorbar\":{\"outlinewidth\":0,\"ticks\":\"\"}}}],\"scatterpolar\":[{\"type\":\"scatterpolar\",\"marker\":{\"colorbar\":{\"outlinewidth\":0,\"ticks\":\"\"}}}],\"histogram\":[{\"marker\":{\"pattern\":{\"fillmode\":\"overlay\",\"size\":10,\"solidity\":0.2}},\"type\":\"histogram\"}],\"scattergl\":[{\"type\":\"scattergl\",\"marker\":{\"colorbar\":{\"outlinewidth\":0,\"ticks\":\"\"}}}],\"scatter3d\":[{\"type\":\"scatter3d\",\"line\":{\"colorbar\":{\"outlinewidth\":0,\"ticks\":\"\"}},\"marker\":{\"colorbar\":{\"outlinewidth\":0,\"ticks\":\"\"}}}],\"scattermapbox\":[{\"type\":\"scattermapbox\",\"marker\":{\"colorbar\":{\"outlinewidth\":0,\"ticks\":\"\"}}}],\"scatterternary\":[{\"type\":\"scatterternary\",\"marker\":{\"colorbar\":{\"outlinewidth\":0,\"ticks\":\"\"}}}],\"scattercarpet\":[{\"type\":\"scattercarpet\",\"marker\":{\"colorbar\":{\"outlinewidth\":0,\"ticks\":\"\"}}}],\"carpet\":[{\"aaxis\":{\"endlinecolor\":\"#2a3f5f\",\"gridcolor\":\"white\",\"linecolor\":\"white\",\"minorgridcolor\":\"white\",\"startlinecolor\":\"#2a3f5f\"},\"baxis\":{\"endlinecolor\":\"#2a3f5f\",\"gridcolor\":\"white\",\"linecolor\":\"white\",\"minorgridcolor\":\"white\",\"startlinecolor\":\"#2a3f5f\"},\"type\":\"carpet\"}],\"table\":[{\"cells\":{\"fill\":{\"color\":\"#EBF0F8\"},\"line\":{\"color\":\"white\"}},\"header\":{\"fill\":{\"color\":\"#C8D4E3\"},\"line\":{\"color\":\"white\"}},\"type\":\"table\"}],\"barpolar\":[{\"marker\":{\"line\":{\"color\":\"#E5ECF6\",\"width\":0.5},\"pattern\":{\"fillmode\":\"overlay\",\"size\":10,\"solidity\":0.2}},\"type\":\"barpolar\"}],\"pie\":[{\"automargin\":true,\"type\":\"pie\"}]},\"layout\":{\"autotypenumbers\":\"strict\",\"colorway\":[\"#636efa\",\"#EF553B\",\"#00cc96\",\"#ab63fa\",\"#FFA15A\",\"#19d3f3\",\"#FF6692\",\"#B6E880\",\"#FF97FF\",\"#FECB52\"],\"font\":{\"color\":\"#2a3f5f\"},\"hovermode\":\"closest\",\"hoverlabel\":{\"align\":\"left\"},\"paper_bgcolor\":\"white\",\"plot_bgcolor\":\"#E5ECF6\",\"polar\":{\"bgcolor\":\"#E5ECF6\",\"angularaxis\":{\"gridcolor\":\"white\",\"linecolor\":\"white\",\"ticks\":\"\"},\"radialaxis\":{\"gridcolor\":\"white\",\"linecolor\":\"white\",\"ticks\":\"\"}},\"ternary\":{\"bgcolor\":\"#E5ECF6\",\"aaxis\":{\"gridcolor\":\"white\",\"linecolor\":\"white\",\"ticks\":\"\"},\"baxis\":{\"gridcolor\":\"white\",\"linecolor\":\"white\",\"ticks\":\"\"},\"caxis\":{\"gridcolor\":\"white\",\"linecolor\":\"white\",\"ticks\":\"\"}},\"coloraxis\":{\"colorbar\":{\"outlinewidth\":0,\"ticks\":\"\"}},\"colorscale\":{\"sequential\":[[0.0,\"#0d0887\"],[0.1111111111111111,\"#46039f\"],[0.2222222222222222,\"#7201a8\"],[0.3333333333333333,\"#9c179e\"],[0.4444444444444444,\"#bd3786\"],[0.5555555555555556,\"#d8576b\"],[0.6666666666666666,\"#ed7953\"],[0.7777777777777778,\"#fb9f3a\"],[0.8888888888888888,\"#fdca26\"],[1.0,\"#f0f921\"]],\"sequentialminus\":[[0.0,\"#0d0887\"],[0.1111111111111111,\"#46039f\"],[0.2222222222222222,\"#7201a8\"],[0.3333333333333333,\"#9c179e\"],[0.4444444444444444,\"#bd3786\"],[0.5555555555555556,\"#d8576b\"],[0.6666666666666666,\"#ed7953\"],[0.7777777777777778,\"#fb9f3a\"],[0.8888888888888888,\"#fdca26\"],[1.0,\"#f0f921\"]],\"diverging\":[[0,\"#8e0152\"],[0.1,\"#c51b7d\"],[0.2,\"#de77ae\"],[0.3,\"#f1b6da\"],[0.4,\"#fde0ef\"],[0.5,\"#f7f7f7\"],[0.6,\"#e6f5d0\"],[0.7,\"#b8e186\"],[0.8,\"#7fbc41\"],[0.9,\"#4d9221\"],[1,\"#276419\"]]},\"xaxis\":{\"gridcolor\":\"white\",\"linecolor\":\"white\",\"ticks\":\"\",\"title\":{\"standoff\":15},\"zerolinecolor\":\"white\",\"automargin\":true,\"zerolinewidth\":2},\"yaxis\":{\"gridcolor\":\"white\",\"linecolor\":\"white\",\"ticks\":\"\",\"title\":{\"standoff\":15},\"zerolinecolor\":\"white\",\"automargin\":true,\"zerolinewidth\":2},\"scene\":{\"xaxis\":{\"backgroundcolor\":\"#E5ECF6\",\"gridcolor\":\"white\",\"linecolor\":\"white\",\"showbackground\":true,\"ticks\":\"\",\"zerolinecolor\":\"white\",\"gridwidth\":2},\"yaxis\":{\"backgroundcolor\":\"#E5ECF6\",\"gridcolor\":\"white\",\"linecolor\":\"white\",\"showbackground\":true,\"ticks\":\"\",\"zerolinecolor\":\"white\",\"gridwidth\":2},\"zaxis\":{\"backgroundcolor\":\"#E5ECF6\",\"gridcolor\":\"white\",\"linecolor\":\"white\",\"showbackground\":true,\"ticks\":\"\",\"zerolinecolor\":\"white\",\"gridwidth\":2}},\"shapedefaults\":{\"line\":{\"color\":\"#2a3f5f\"}},\"annotationdefaults\":{\"arrowcolor\":\"#2a3f5f\",\"arrowhead\":0,\"arrowwidth\":1},\"geo\":{\"bgcolor\":\"white\",\"landcolor\":\"#E5ECF6\",\"subunitcolor\":\"white\",\"showland\":true,\"showlakes\":true,\"lakecolor\":\"white\"},\"title\":{\"x\":0.05},\"mapbox\":{\"style\":\"light\"}}},\"xaxis\":{\"anchor\":\"y\",\"domain\":[0.0,1.0],\"title\":{\"text\":\"Rainfall in MM\"}},\"yaxis\":{\"anchor\":\"x\",\"domain\":[0.0,1.0],\"title\":{\"text\":\"Division\"}},\"legend\":{\"title\":{\"text\":\"Months\"},\"tracegroupgap\":0},\"margin\":{\"t\":60},\"barmode\":\"relative\",\"height\":1000,\"width\":1100,\"title\":{\"text\":\"Division V/S Rainfall in each Month\"}},                        {\"responsive\": true}                    ).then(function(){\n",
              "                            \n",
              "var gd = document.getElementById('106eb818-0b96-4f0f-89df-7dfca1e9da86');\n",
              "var x = new MutationObserver(function (mutations, observer) {{\n",
              "        var display = window.getComputedStyle(gd).display;\n",
              "        if (!display || display === 'none') {{\n",
              "            console.log([gd, 'removed!']);\n",
              "            Plotly.purge(gd);\n",
              "            observer.disconnect();\n",
              "        }}\n",
              "}});\n",
              "\n",
              "// Listen for the removal of the full notebook cells\n",
              "var notebookContainer = gd.closest('#notebook-container');\n",
              "if (notebookContainer) {{\n",
              "    x.observe(notebookContainer, {childList: true});\n",
              "}}\n",
              "\n",
              "// Listen for the clearing of the current output cell\n",
              "var outputEl = gd.closest('.output');\n",
              "if (outputEl) {{\n",
              "    x.observe(outputEl, {childList: true});\n",
              "}}\n",
              "\n",
              "                        })                };                            </script>        </div>\n",
              "</body>\n",
              "</html>"
            ]
          },
          "metadata": {}
        }
      ]
    },
    {
      "cell_type": "code",
      "source": [
        "div_annual_quaterly = data[['DIVISION','Jan-Mar','Apr-Jun','Jul-Sep','Oct-Dec']].groupby('DIVISION').sum()\n",
        "\n",
        "px.bar(div_annual_quaterly, orientation = 'h', width = 1100, height = 1000).update_layout(title = 'Division V/S Rainfall in each Month',\n",
        "xaxis_title = 'Rainfall in MM',yaxis_title = 'Division', legend = dict(title = 'Quarters'))\n",
        "\n",
        "#Visualization shows the Division V/S rainfall in quarters"
      ],
      "metadata": {
        "colab": {
          "base_uri": "https://localhost:8080/",
          "height": 1000
        },
        "id": "LlODLvvcPKdt",
        "outputId": "fd89c4a1-9b87-491b-981c-a491c3db3cf7"
      },
      "execution_count": null,
      "outputs": [
        {
          "output_type": "display_data",
          "data": {
            "text/html": [
              "<html>\n",
              "<head><meta charset=\"utf-8\" /></head>\n",
              "<body>\n",
              "    <div>            <script src=\"https://cdnjs.cloudflare.com/ajax/libs/mathjax/2.7.5/MathJax.js?config=TeX-AMS-MML_SVG\"></script><script type=\"text/javascript\">if (window.MathJax && window.MathJax.Hub && window.MathJax.Hub.Config) {window.MathJax.Hub.Config({SVG: {font: \"STIX-Web\"}});}</script>                <script type=\"text/javascript\">window.PlotlyConfig = {MathJaxConfig: 'local'};</script>\n",
              "        <script src=\"https://cdn.plot.ly/plotly-2.18.2.min.js\"></script>                <div id=\"27b9ff9f-c0b1-4ca8-9e9f-24057232d8c4\" class=\"plotly-graph-div\" style=\"height:1000px; width:1100px;\"></div>            <script type=\"text/javascript\">                                    window.PLOTLYENV=window.PLOTLYENV || {};                                    if (document.getElementById(\"27b9ff9f-c0b1-4ca8-9e9f-24057232d8c4\")) {                    Plotly.newPlot(                        \"27b9ff9f-c0b1-4ca8-9e9f-24057232d8c4\",                        [{\"alignmentgroup\":\"True\",\"hovertemplate\":\"variable=Jan-Mar<br>value=%{x}<br>DIVISION=%{y}<extra></extra>\",\"legendgroup\":\"Jan-Mar\",\"marker\":{\"color\":\"#636efa\",\"pattern\":{\"shape\":\"\"}},\"name\":\"Jan-Mar\",\"offsetgroup\":\"Jan-Mar\",\"orientation\":\"h\",\"showlegend\":true,\"textposition\":\"auto\",\"x\":[8869.6,13328.747785888077,5567.5,3194.3,3848.2,2346.5,425.04778588807784,4380.9,1361.3,3667.1,4029.9,342.4,3948.1,20134.5,25010.5,4808.1,3190.0,208.5,4839.743357664233,520.5,1086.6000000000001,5827.0,711.2,3685.5,5983.5,1787.7,316.5,815.1,4262.0,4282.5,2000.6,13483.9,2592.6,1823.547785888078,949.4,4088.8],\"xaxis\":\"x\",\"y\":[\"ANDAMAN & NICOBAR ISLANDS\",\"ARUNACHAL PRADESH\",\"ASSAM & MEGHALAYA\",\"BIHAR\",\"CHHATTISGARH\",\"COASTAL ANDHRA PRADESH\",\"COASTAL KARNATAKA\",\"EAST MADHYA PRADESH\",\"EAST RAJASTHAN\",\"EAST UTTAR PRADESH\",\"GANGETIC WEST BENGAL\",\"GUJARAT REGION\",\"HARYANA DELHI & CHANDIGARH\",\"HIMACHAL PRADESH\",\"JAMMU & KASHMIR\",\"JHARKHAND\",\"KERALA\",\"KONKAN & GOA\",\"LAKSHADWEEP\",\"MADHYA MAHARASHTRA\",\"MATATHWADA\",\"NAGA MANI MIZO TRIPURA\",\"NORTH INTERIOR KARNATAKA\",\"ORISSA\",\"PUNJAB\",\"RAYALSEEMA\",\"SAURASHTRA & KUTCH\",\"SOUTH INTERIOR KARNATAKA\",\"SUB HIMALAYAN WEST BENGAL & SIKKIM\",\"TAMIL NADU\",\"TELANGANA\",\"UTTARAKHAND\",\"VIDARBHA\",\"WEST MADHYA PRADESH\",\"WEST RAJASTHAN\",\"WEST UTTAR PRADESH\"],\"yaxis\":\"y\",\"type\":\"bar\"},{\"alignmentgroup\":\"True\",\"hovertemplate\":\"variable=Apr-Jun<br>value=%{x}<br>DIVISION=%{y}<extra></extra>\",\"legendgroup\":\"Apr-Jun\",\"marker\":{\"color\":\"#EF553B\",\"pattern\":{\"shape\":\"\"}},\"name\":\"Apr-Jun\",\"offsetgroup\":\"Apr-Jun\",\"orientation\":\"h\",\"showlegend\":true,\"textposition\":\"auto\",\"x\":[49928.40525931337,74192.00350620892,71724.1,9214.6,6105.6,11789.3,18405.9,3461.1,2011.1,3743.7,20903.1,938.6,4037.9,25498.6,33643.5,9901.0,43384.2,4503.6,25244.107012417822,4104.6,3490.5,61958.5,9023.0,13821.2,5800.6,9011.2,821.2,16544.1,48641.4,15454.4,6459.9,16994.0,3777.9,1750.0,1955.7,3453.0],\"xaxis\":\"x\",\"y\":[\"ANDAMAN & NICOBAR ISLANDS\",\"ARUNACHAL PRADESH\",\"ASSAM & MEGHALAYA\",\"BIHAR\",\"CHHATTISGARH\",\"COASTAL ANDHRA PRADESH\",\"COASTAL KARNATAKA\",\"EAST MADHYA PRADESH\",\"EAST RAJASTHAN\",\"EAST UTTAR PRADESH\",\"GANGETIC WEST BENGAL\",\"GUJARAT REGION\",\"HARYANA DELHI & CHANDIGARH\",\"HIMACHAL PRADESH\",\"JAMMU & KASHMIR\",\"JHARKHAND\",\"KERALA\",\"KONKAN & GOA\",\"LAKSHADWEEP\",\"MADHYA MAHARASHTRA\",\"MATATHWADA\",\"NAGA MANI MIZO TRIPURA\",\"NORTH INTERIOR KARNATAKA\",\"ORISSA\",\"PUNJAB\",\"RAYALSEEMA\",\"SAURASHTRA & KUTCH\",\"SOUTH INTERIOR KARNATAKA\",\"SUB HIMALAYAN WEST BENGAL & SIKKIM\",\"TAMIL NADU\",\"TELANGANA\",\"UTTARAKHAND\",\"VIDARBHA\",\"WEST MADHYA PRADESH\",\"WEST RAJASTHAN\",\"WEST UTTAR PRADESH\"],\"yaxis\":\"y\",\"type\":\"bar\"},{\"alignmentgroup\":\"True\",\"hovertemplate\":\"variable=Jul-Sep<br>value=%{x}<br>DIVISION=%{y}<extra></extra>\",\"legendgroup\":\"Jul-Sep\",\"marker\":{\"color\":\"#00cc96\",\"pattern\":{\"shape\":\"\"}},\"name\":\"Jul-Sep\",\"offsetgroup\":\"Jul-Sep\",\"orientation\":\"h\",\"showlegend\":true,\"textposition\":\"auto\",\"x\":[185809.7743058938,217914.54953726253,197867.9,116815.4,138517.6,75341.3,342886.1,123742.1,69344.8,99070.9,130025.6,100998.9,50345.5,89201.4,59823.52476863127,124718.7,232626.7,321325.0,112449.89907452509,84872.9,76195.3,185143.3,57721.7,133264.0,52945.1,46006.7,53306.7,78698.9,244535.0,38047.5,89721.5,130107.3,110906.4,99365.0,29751.4,82992.8],\"xaxis\":\"x\",\"y\":[\"ANDAMAN & NICOBAR ISLANDS\",\"ARUNACHAL PRADESH\",\"ASSAM & MEGHALAYA\",\"BIHAR\",\"CHHATTISGARH\",\"COASTAL ANDHRA PRADESH\",\"COASTAL KARNATAKA\",\"EAST MADHYA PRADESH\",\"EAST RAJASTHAN\",\"EAST UTTAR PRADESH\",\"GANGETIC WEST BENGAL\",\"GUJARAT REGION\",\"HARYANA DELHI & CHANDIGARH\",\"HIMACHAL PRADESH\",\"JAMMU & KASHMIR\",\"JHARKHAND\",\"KERALA\",\"KONKAN & GOA\",\"LAKSHADWEEP\",\"MADHYA MAHARASHTRA\",\"MATATHWADA\",\"NAGA MANI MIZO TRIPURA\",\"NORTH INTERIOR KARNATAKA\",\"ORISSA\",\"PUNJAB\",\"RAYALSEEMA\",\"SAURASHTRA & KUTCH\",\"SOUTH INTERIOR KARNATAKA\",\"SUB HIMALAYAN WEST BENGAL & SIKKIM\",\"TAMIL NADU\",\"TELANGANA\",\"UTTARAKHAND\",\"VIDARBHA\",\"WEST MADHYA PRADESH\",\"WEST RAJASTHAN\",\"WEST UTTAR PRADESH\"],\"yaxis\":\"y\",\"type\":\"bar\"},{\"alignmentgroup\":\"True\",\"hovertemplate\":\"variable=Oct-Dec<br>value=%{x}<br>DIVISION=%{y}<extra></extra>\",\"legendgroup\":\"Oct-Dec\",\"marker\":{\"color\":\"#ab63fa\",\"pattern\":{\"shape\":\"\"}},\"name\":\"Oct-Dec\",\"offsetgroup\":\"Oct-Dec\",\"orientation\":\"h\",\"showlegend\":true,\"textposition\":\"auto\",\"x\":[72731.90146234463,24386.601462344624,21621.8,8504.7,9277.6,31606.1,29989.2,6992.0,2632.1,6128.8,16447.1,3316.0,2676.1,10105.2,13145.50048744821,11141.3,57228.2,16396.6,39306.40292468925,11728.4,10156.7,26937.6,15090.7,16919.1,3527.0,31307.8,2497.6,23585.8,19067.2,50742.0,11456.4,7970.2,8700.3,5373.3,1000.6,4583.7],\"xaxis\":\"x\",\"y\":[\"ANDAMAN & NICOBAR ISLANDS\",\"ARUNACHAL PRADESH\",\"ASSAM & MEGHALAYA\",\"BIHAR\",\"CHHATTISGARH\",\"COASTAL ANDHRA PRADESH\",\"COASTAL KARNATAKA\",\"EAST MADHYA PRADESH\",\"EAST RAJASTHAN\",\"EAST UTTAR PRADESH\",\"GANGETIC WEST BENGAL\",\"GUJARAT REGION\",\"HARYANA DELHI & CHANDIGARH\",\"HIMACHAL PRADESH\",\"JAMMU & KASHMIR\",\"JHARKHAND\",\"KERALA\",\"KONKAN & GOA\",\"LAKSHADWEEP\",\"MADHYA MAHARASHTRA\",\"MATATHWADA\",\"NAGA MANI MIZO TRIPURA\",\"NORTH INTERIOR KARNATAKA\",\"ORISSA\",\"PUNJAB\",\"RAYALSEEMA\",\"SAURASHTRA & KUTCH\",\"SOUTH INTERIOR KARNATAKA\",\"SUB HIMALAYAN WEST BENGAL & SIKKIM\",\"TAMIL NADU\",\"TELANGANA\",\"UTTARAKHAND\",\"VIDARBHA\",\"WEST MADHYA PRADESH\",\"WEST RAJASTHAN\",\"WEST UTTAR PRADESH\"],\"yaxis\":\"y\",\"type\":\"bar\"}],                        {\"template\":{\"data\":{\"histogram2dcontour\":[{\"type\":\"histogram2dcontour\",\"colorbar\":{\"outlinewidth\":0,\"ticks\":\"\"},\"colorscale\":[[0.0,\"#0d0887\"],[0.1111111111111111,\"#46039f\"],[0.2222222222222222,\"#7201a8\"],[0.3333333333333333,\"#9c179e\"],[0.4444444444444444,\"#bd3786\"],[0.5555555555555556,\"#d8576b\"],[0.6666666666666666,\"#ed7953\"],[0.7777777777777778,\"#fb9f3a\"],[0.8888888888888888,\"#fdca26\"],[1.0,\"#f0f921\"]]}],\"choropleth\":[{\"type\":\"choropleth\",\"colorbar\":{\"outlinewidth\":0,\"ticks\":\"\"}}],\"histogram2d\":[{\"type\":\"histogram2d\",\"colorbar\":{\"outlinewidth\":0,\"ticks\":\"\"},\"colorscale\":[[0.0,\"#0d0887\"],[0.1111111111111111,\"#46039f\"],[0.2222222222222222,\"#7201a8\"],[0.3333333333333333,\"#9c179e\"],[0.4444444444444444,\"#bd3786\"],[0.5555555555555556,\"#d8576b\"],[0.6666666666666666,\"#ed7953\"],[0.7777777777777778,\"#fb9f3a\"],[0.8888888888888888,\"#fdca26\"],[1.0,\"#f0f921\"]]}],\"heatmap\":[{\"type\":\"heatmap\",\"colorbar\":{\"outlinewidth\":0,\"ticks\":\"\"},\"colorscale\":[[0.0,\"#0d0887\"],[0.1111111111111111,\"#46039f\"],[0.2222222222222222,\"#7201a8\"],[0.3333333333333333,\"#9c179e\"],[0.4444444444444444,\"#bd3786\"],[0.5555555555555556,\"#d8576b\"],[0.6666666666666666,\"#ed7953\"],[0.7777777777777778,\"#fb9f3a\"],[0.8888888888888888,\"#fdca26\"],[1.0,\"#f0f921\"]]}],\"heatmapgl\":[{\"type\":\"heatmapgl\",\"colorbar\":{\"outlinewidth\":0,\"ticks\":\"\"},\"colorscale\":[[0.0,\"#0d0887\"],[0.1111111111111111,\"#46039f\"],[0.2222222222222222,\"#7201a8\"],[0.3333333333333333,\"#9c179e\"],[0.4444444444444444,\"#bd3786\"],[0.5555555555555556,\"#d8576b\"],[0.6666666666666666,\"#ed7953\"],[0.7777777777777778,\"#fb9f3a\"],[0.8888888888888888,\"#fdca26\"],[1.0,\"#f0f921\"]]}],\"contourcarpet\":[{\"type\":\"contourcarpet\",\"colorbar\":{\"outlinewidth\":0,\"ticks\":\"\"}}],\"contour\":[{\"type\":\"contour\",\"colorbar\":{\"outlinewidth\":0,\"ticks\":\"\"},\"colorscale\":[[0.0,\"#0d0887\"],[0.1111111111111111,\"#46039f\"],[0.2222222222222222,\"#7201a8\"],[0.3333333333333333,\"#9c179e\"],[0.4444444444444444,\"#bd3786\"],[0.5555555555555556,\"#d8576b\"],[0.6666666666666666,\"#ed7953\"],[0.7777777777777778,\"#fb9f3a\"],[0.8888888888888888,\"#fdca26\"],[1.0,\"#f0f921\"]]}],\"surface\":[{\"type\":\"surface\",\"colorbar\":{\"outlinewidth\":0,\"ticks\":\"\"},\"colorscale\":[[0.0,\"#0d0887\"],[0.1111111111111111,\"#46039f\"],[0.2222222222222222,\"#7201a8\"],[0.3333333333333333,\"#9c179e\"],[0.4444444444444444,\"#bd3786\"],[0.5555555555555556,\"#d8576b\"],[0.6666666666666666,\"#ed7953\"],[0.7777777777777778,\"#fb9f3a\"],[0.8888888888888888,\"#fdca26\"],[1.0,\"#f0f921\"]]}],\"mesh3d\":[{\"type\":\"mesh3d\",\"colorbar\":{\"outlinewidth\":0,\"ticks\":\"\"}}],\"scatter\":[{\"fillpattern\":{\"fillmode\":\"overlay\",\"size\":10,\"solidity\":0.2},\"type\":\"scatter\"}],\"parcoords\":[{\"type\":\"parcoords\",\"line\":{\"colorbar\":{\"outlinewidth\":0,\"ticks\":\"\"}}}],\"scatterpolargl\":[{\"type\":\"scatterpolargl\",\"marker\":{\"colorbar\":{\"outlinewidth\":0,\"ticks\":\"\"}}}],\"bar\":[{\"error_x\":{\"color\":\"#2a3f5f\"},\"error_y\":{\"color\":\"#2a3f5f\"},\"marker\":{\"line\":{\"color\":\"#E5ECF6\",\"width\":0.5},\"pattern\":{\"fillmode\":\"overlay\",\"size\":10,\"solidity\":0.2}},\"type\":\"bar\"}],\"scattergeo\":[{\"type\":\"scattergeo\",\"marker\":{\"colorbar\":{\"outlinewidth\":0,\"ticks\":\"\"}}}],\"scatterpolar\":[{\"type\":\"scatterpolar\",\"marker\":{\"colorbar\":{\"outlinewidth\":0,\"ticks\":\"\"}}}],\"histogram\":[{\"marker\":{\"pattern\":{\"fillmode\":\"overlay\",\"size\":10,\"solidity\":0.2}},\"type\":\"histogram\"}],\"scattergl\":[{\"type\":\"scattergl\",\"marker\":{\"colorbar\":{\"outlinewidth\":0,\"ticks\":\"\"}}}],\"scatter3d\":[{\"type\":\"scatter3d\",\"line\":{\"colorbar\":{\"outlinewidth\":0,\"ticks\":\"\"}},\"marker\":{\"colorbar\":{\"outlinewidth\":0,\"ticks\":\"\"}}}],\"scattermapbox\":[{\"type\":\"scattermapbox\",\"marker\":{\"colorbar\":{\"outlinewidth\":0,\"ticks\":\"\"}}}],\"scatterternary\":[{\"type\":\"scatterternary\",\"marker\":{\"colorbar\":{\"outlinewidth\":0,\"ticks\":\"\"}}}],\"scattercarpet\":[{\"type\":\"scattercarpet\",\"marker\":{\"colorbar\":{\"outlinewidth\":0,\"ticks\":\"\"}}}],\"carpet\":[{\"aaxis\":{\"endlinecolor\":\"#2a3f5f\",\"gridcolor\":\"white\",\"linecolor\":\"white\",\"minorgridcolor\":\"white\",\"startlinecolor\":\"#2a3f5f\"},\"baxis\":{\"endlinecolor\":\"#2a3f5f\",\"gridcolor\":\"white\",\"linecolor\":\"white\",\"minorgridcolor\":\"white\",\"startlinecolor\":\"#2a3f5f\"},\"type\":\"carpet\"}],\"table\":[{\"cells\":{\"fill\":{\"color\":\"#EBF0F8\"},\"line\":{\"color\":\"white\"}},\"header\":{\"fill\":{\"color\":\"#C8D4E3\"},\"line\":{\"color\":\"white\"}},\"type\":\"table\"}],\"barpolar\":[{\"marker\":{\"line\":{\"color\":\"#E5ECF6\",\"width\":0.5},\"pattern\":{\"fillmode\":\"overlay\",\"size\":10,\"solidity\":0.2}},\"type\":\"barpolar\"}],\"pie\":[{\"automargin\":true,\"type\":\"pie\"}]},\"layout\":{\"autotypenumbers\":\"strict\",\"colorway\":[\"#636efa\",\"#EF553B\",\"#00cc96\",\"#ab63fa\",\"#FFA15A\",\"#19d3f3\",\"#FF6692\",\"#B6E880\",\"#FF97FF\",\"#FECB52\"],\"font\":{\"color\":\"#2a3f5f\"},\"hovermode\":\"closest\",\"hoverlabel\":{\"align\":\"left\"},\"paper_bgcolor\":\"white\",\"plot_bgcolor\":\"#E5ECF6\",\"polar\":{\"bgcolor\":\"#E5ECF6\",\"angularaxis\":{\"gridcolor\":\"white\",\"linecolor\":\"white\",\"ticks\":\"\"},\"radialaxis\":{\"gridcolor\":\"white\",\"linecolor\":\"white\",\"ticks\":\"\"}},\"ternary\":{\"bgcolor\":\"#E5ECF6\",\"aaxis\":{\"gridcolor\":\"white\",\"linecolor\":\"white\",\"ticks\":\"\"},\"baxis\":{\"gridcolor\":\"white\",\"linecolor\":\"white\",\"ticks\":\"\"},\"caxis\":{\"gridcolor\":\"white\",\"linecolor\":\"white\",\"ticks\":\"\"}},\"coloraxis\":{\"colorbar\":{\"outlinewidth\":0,\"ticks\":\"\"}},\"colorscale\":{\"sequential\":[[0.0,\"#0d0887\"],[0.1111111111111111,\"#46039f\"],[0.2222222222222222,\"#7201a8\"],[0.3333333333333333,\"#9c179e\"],[0.4444444444444444,\"#bd3786\"],[0.5555555555555556,\"#d8576b\"],[0.6666666666666666,\"#ed7953\"],[0.7777777777777778,\"#fb9f3a\"],[0.8888888888888888,\"#fdca26\"],[1.0,\"#f0f921\"]],\"sequentialminus\":[[0.0,\"#0d0887\"],[0.1111111111111111,\"#46039f\"],[0.2222222222222222,\"#7201a8\"],[0.3333333333333333,\"#9c179e\"],[0.4444444444444444,\"#bd3786\"],[0.5555555555555556,\"#d8576b\"],[0.6666666666666666,\"#ed7953\"],[0.7777777777777778,\"#fb9f3a\"],[0.8888888888888888,\"#fdca26\"],[1.0,\"#f0f921\"]],\"diverging\":[[0,\"#8e0152\"],[0.1,\"#c51b7d\"],[0.2,\"#de77ae\"],[0.3,\"#f1b6da\"],[0.4,\"#fde0ef\"],[0.5,\"#f7f7f7\"],[0.6,\"#e6f5d0\"],[0.7,\"#b8e186\"],[0.8,\"#7fbc41\"],[0.9,\"#4d9221\"],[1,\"#276419\"]]},\"xaxis\":{\"gridcolor\":\"white\",\"linecolor\":\"white\",\"ticks\":\"\",\"title\":{\"standoff\":15},\"zerolinecolor\":\"white\",\"automargin\":true,\"zerolinewidth\":2},\"yaxis\":{\"gridcolor\":\"white\",\"linecolor\":\"white\",\"ticks\":\"\",\"title\":{\"standoff\":15},\"zerolinecolor\":\"white\",\"automargin\":true,\"zerolinewidth\":2},\"scene\":{\"xaxis\":{\"backgroundcolor\":\"#E5ECF6\",\"gridcolor\":\"white\",\"linecolor\":\"white\",\"showbackground\":true,\"ticks\":\"\",\"zerolinecolor\":\"white\",\"gridwidth\":2},\"yaxis\":{\"backgroundcolor\":\"#E5ECF6\",\"gridcolor\":\"white\",\"linecolor\":\"white\",\"showbackground\":true,\"ticks\":\"\",\"zerolinecolor\":\"white\",\"gridwidth\":2},\"zaxis\":{\"backgroundcolor\":\"#E5ECF6\",\"gridcolor\":\"white\",\"linecolor\":\"white\",\"showbackground\":true,\"ticks\":\"\",\"zerolinecolor\":\"white\",\"gridwidth\":2}},\"shapedefaults\":{\"line\":{\"color\":\"#2a3f5f\"}},\"annotationdefaults\":{\"arrowcolor\":\"#2a3f5f\",\"arrowhead\":0,\"arrowwidth\":1},\"geo\":{\"bgcolor\":\"white\",\"landcolor\":\"#E5ECF6\",\"subunitcolor\":\"white\",\"showland\":true,\"showlakes\":true,\"lakecolor\":\"white\"},\"title\":{\"x\":0.05},\"mapbox\":{\"style\":\"light\"}}},\"xaxis\":{\"anchor\":\"y\",\"domain\":[0.0,1.0],\"title\":{\"text\":\"Rainfall in MM\"}},\"yaxis\":{\"anchor\":\"x\",\"domain\":[0.0,1.0],\"title\":{\"text\":\"Division\"}},\"legend\":{\"title\":{\"text\":\"Quarters\"},\"tracegroupgap\":0},\"margin\":{\"t\":60},\"barmode\":\"relative\",\"height\":1000,\"width\":1100,\"title\":{\"text\":\"Division V/S Rainfall in each Month\"}},                        {\"responsive\": true}                    ).then(function(){\n",
              "                            \n",
              "var gd = document.getElementById('27b9ff9f-c0b1-4ca8-9e9f-24057232d8c4');\n",
              "var x = new MutationObserver(function (mutations, observer) {{\n",
              "        var display = window.getComputedStyle(gd).display;\n",
              "        if (!display || display === 'none') {{\n",
              "            console.log([gd, 'removed!']);\n",
              "            Plotly.purge(gd);\n",
              "            observer.disconnect();\n",
              "        }}\n",
              "}});\n",
              "\n",
              "// Listen for the removal of the full notebook cells\n",
              "var notebookContainer = gd.closest('#notebook-container');\n",
              "if (notebookContainer) {{\n",
              "    x.observe(notebookContainer, {childList: true});\n",
              "}}\n",
              "\n",
              "// Listen for the clearing of the current output cell\n",
              "var outputEl = gd.closest('.output');\n",
              "if (outputEl) {{\n",
              "    x.observe(outputEl, {childList: true});\n",
              "}}\n",
              "\n",
              "                        })                };                            </script>        </div>\n",
              "</body>\n",
              "</html>"
            ]
          },
          "metadata": {}
        }
      ]
    },
    {
      "cell_type": "code",
      "source": [
        "heat_vis = round(data[['JAN','FEB','MAR','APR','MAY','JUN','JUL','AUG','SEP','OCT','NOV','DEC', 'ANNUAL']].corr(), 2)\n",
        "px.imshow(heat_vis, text_auto=True, aspect ='auto')\n",
        "\n",
        "# Visualization showing the correlation of the different columns with each other in the dataframe."
      ],
      "metadata": {
        "colab": {
          "base_uri": "https://localhost:8080/",
          "height": 542
        },
        "id": "1Mq7W1paRtdV",
        "outputId": "c2227714-0856-4a64-a154-69b079d6de54"
      },
      "execution_count": null,
      "outputs": [
        {
          "output_type": "display_data",
          "data": {
            "text/html": [
              "<html>\n",
              "<head><meta charset=\"utf-8\" /></head>\n",
              "<body>\n",
              "    <div>            <script src=\"https://cdnjs.cloudflare.com/ajax/libs/mathjax/2.7.5/MathJax.js?config=TeX-AMS-MML_SVG\"></script><script type=\"text/javascript\">if (window.MathJax && window.MathJax.Hub && window.MathJax.Hub.Config) {window.MathJax.Hub.Config({SVG: {font: \"STIX-Web\"}});}</script>                <script type=\"text/javascript\">window.PlotlyConfig = {MathJaxConfig: 'local'};</script>\n",
              "        <script src=\"https://cdn.plot.ly/plotly-2.18.2.min.js\"></script>                <div id=\"cd9504c4-bbe5-4afb-a029-9b2cee1dd87a\" class=\"plotly-graph-div\" style=\"height:525px; width:100%;\"></div>            <script type=\"text/javascript\">                                    window.PLOTLYENV=window.PLOTLYENV || {};                                    if (document.getElementById(\"cd9504c4-bbe5-4afb-a029-9b2cee1dd87a\")) {                    Plotly.newPlot(                        \"cd9504c4-bbe5-4afb-a029-9b2cee1dd87a\",                        [{\"coloraxis\":\"coloraxis\",\"name\":\"0\",\"texttemplate\":\"%{z}\",\"x\":[\"JAN\",\"FEB\",\"MAR\",\"APR\",\"MAY\",\"JUN\",\"JUL\",\"AUG\",\"SEP\",\"OCT\",\"NOV\",\"DEC\",\"ANNUAL\"],\"y\":[\"JAN\",\"FEB\",\"MAR\",\"APR\",\"MAY\",\"JUN\",\"JUL\",\"AUG\",\"SEP\",\"OCT\",\"NOV\",\"DEC\",\"ANNUAL\"],\"z\":[[1.0,0.46,0.4,0.21,0.13,-0.03,-0.05,0.01,0.02,0.01,0.07,0.22,0.11],[0.46,1.0,0.58,0.37,0.2,0.03,0.02,0.07,0.08,-0.0,-0.02,0.13,0.18],[0.4,0.58,1.0,0.56,0.36,0.17,0.1,0.13,0.18,0.09,0.01,0.14,0.32],[0.21,0.37,0.56,1.0,0.65,0.46,0.27,0.26,0.38,0.37,0.16,0.13,0.57],[0.13,0.2,0.36,0.65,1.0,0.57,0.33,0.33,0.49,0.53,0.35,0.25,0.69],[-0.03,0.03,0.17,0.46,0.57,1.0,0.74,0.66,0.55,0.49,0.23,0.09,0.88],[-0.05,0.02,0.1,0.27,0.33,0.74,1.0,0.69,0.51,0.3,0.04,-0.02,0.81],[0.01,0.07,0.13,0.26,0.33,0.66,0.69,1.0,0.5,0.25,0.02,0.0,0.75],[0.02,0.08,0.18,0.38,0.49,0.55,0.51,0.5,1.0,0.38,0.15,0.11,0.71],[0.01,-0.0,0.09,0.37,0.53,0.49,0.3,0.25,0.38,1.0,0.48,0.28,0.58],[0.07,-0.02,0.01,0.16,0.35,0.23,0.04,0.02,0.15,0.48,1.0,0.45,0.31],[0.22,0.13,0.14,0.13,0.25,0.09,-0.02,0.0,0.11,0.28,0.45,1.0,0.21],[0.11,0.18,0.32,0.57,0.69,0.88,0.81,0.75,0.71,0.58,0.31,0.21,1.0]],\"type\":\"heatmap\",\"xaxis\":\"x\",\"yaxis\":\"y\",\"hovertemplate\":\"x: %{x}<br>y: %{y}<br>color: %{z}<extra></extra>\"}],                        {\"template\":{\"data\":{\"histogram2dcontour\":[{\"type\":\"histogram2dcontour\",\"colorbar\":{\"outlinewidth\":0,\"ticks\":\"\"},\"colorscale\":[[0.0,\"#0d0887\"],[0.1111111111111111,\"#46039f\"],[0.2222222222222222,\"#7201a8\"],[0.3333333333333333,\"#9c179e\"],[0.4444444444444444,\"#bd3786\"],[0.5555555555555556,\"#d8576b\"],[0.6666666666666666,\"#ed7953\"],[0.7777777777777778,\"#fb9f3a\"],[0.8888888888888888,\"#fdca26\"],[1.0,\"#f0f921\"]]}],\"choropleth\":[{\"type\":\"choropleth\",\"colorbar\":{\"outlinewidth\":0,\"ticks\":\"\"}}],\"histogram2d\":[{\"type\":\"histogram2d\",\"colorbar\":{\"outlinewidth\":0,\"ticks\":\"\"},\"colorscale\":[[0.0,\"#0d0887\"],[0.1111111111111111,\"#46039f\"],[0.2222222222222222,\"#7201a8\"],[0.3333333333333333,\"#9c179e\"],[0.4444444444444444,\"#bd3786\"],[0.5555555555555556,\"#d8576b\"],[0.6666666666666666,\"#ed7953\"],[0.7777777777777778,\"#fb9f3a\"],[0.8888888888888888,\"#fdca26\"],[1.0,\"#f0f921\"]]}],\"heatmap\":[{\"type\":\"heatmap\",\"colorbar\":{\"outlinewidth\":0,\"ticks\":\"\"},\"colorscale\":[[0.0,\"#0d0887\"],[0.1111111111111111,\"#46039f\"],[0.2222222222222222,\"#7201a8\"],[0.3333333333333333,\"#9c179e\"],[0.4444444444444444,\"#bd3786\"],[0.5555555555555556,\"#d8576b\"],[0.6666666666666666,\"#ed7953\"],[0.7777777777777778,\"#fb9f3a\"],[0.8888888888888888,\"#fdca26\"],[1.0,\"#f0f921\"]]}],\"heatmapgl\":[{\"type\":\"heatmapgl\",\"colorbar\":{\"outlinewidth\":0,\"ticks\":\"\"},\"colorscale\":[[0.0,\"#0d0887\"],[0.1111111111111111,\"#46039f\"],[0.2222222222222222,\"#7201a8\"],[0.3333333333333333,\"#9c179e\"],[0.4444444444444444,\"#bd3786\"],[0.5555555555555556,\"#d8576b\"],[0.6666666666666666,\"#ed7953\"],[0.7777777777777778,\"#fb9f3a\"],[0.8888888888888888,\"#fdca26\"],[1.0,\"#f0f921\"]]}],\"contourcarpet\":[{\"type\":\"contourcarpet\",\"colorbar\":{\"outlinewidth\":0,\"ticks\":\"\"}}],\"contour\":[{\"type\":\"contour\",\"colorbar\":{\"outlinewidth\":0,\"ticks\":\"\"},\"colorscale\":[[0.0,\"#0d0887\"],[0.1111111111111111,\"#46039f\"],[0.2222222222222222,\"#7201a8\"],[0.3333333333333333,\"#9c179e\"],[0.4444444444444444,\"#bd3786\"],[0.5555555555555556,\"#d8576b\"],[0.6666666666666666,\"#ed7953\"],[0.7777777777777778,\"#fb9f3a\"],[0.8888888888888888,\"#fdca26\"],[1.0,\"#f0f921\"]]}],\"surface\":[{\"type\":\"surface\",\"colorbar\":{\"outlinewidth\":0,\"ticks\":\"\"},\"colorscale\":[[0.0,\"#0d0887\"],[0.1111111111111111,\"#46039f\"],[0.2222222222222222,\"#7201a8\"],[0.3333333333333333,\"#9c179e\"],[0.4444444444444444,\"#bd3786\"],[0.5555555555555556,\"#d8576b\"],[0.6666666666666666,\"#ed7953\"],[0.7777777777777778,\"#fb9f3a\"],[0.8888888888888888,\"#fdca26\"],[1.0,\"#f0f921\"]]}],\"mesh3d\":[{\"type\":\"mesh3d\",\"colorbar\":{\"outlinewidth\":0,\"ticks\":\"\"}}],\"scatter\":[{\"fillpattern\":{\"fillmode\":\"overlay\",\"size\":10,\"solidity\":0.2},\"type\":\"scatter\"}],\"parcoords\":[{\"type\":\"parcoords\",\"line\":{\"colorbar\":{\"outlinewidth\":0,\"ticks\":\"\"}}}],\"scatterpolargl\":[{\"type\":\"scatterpolargl\",\"marker\":{\"colorbar\":{\"outlinewidth\":0,\"ticks\":\"\"}}}],\"bar\":[{\"error_x\":{\"color\":\"#2a3f5f\"},\"error_y\":{\"color\":\"#2a3f5f\"},\"marker\":{\"line\":{\"color\":\"#E5ECF6\",\"width\":0.5},\"pattern\":{\"fillmode\":\"overlay\",\"size\":10,\"solidity\":0.2}},\"type\":\"bar\"}],\"scattergeo\":[{\"type\":\"scattergeo\",\"marker\":{\"colorbar\":{\"outlinewidth\":0,\"ticks\":\"\"}}}],\"scatterpolar\":[{\"type\":\"scatterpolar\",\"marker\":{\"colorbar\":{\"outlinewidth\":0,\"ticks\":\"\"}}}],\"histogram\":[{\"marker\":{\"pattern\":{\"fillmode\":\"overlay\",\"size\":10,\"solidity\":0.2}},\"type\":\"histogram\"}],\"scattergl\":[{\"type\":\"scattergl\",\"marker\":{\"colorbar\":{\"outlinewidth\":0,\"ticks\":\"\"}}}],\"scatter3d\":[{\"type\":\"scatter3d\",\"line\":{\"colorbar\":{\"outlinewidth\":0,\"ticks\":\"\"}},\"marker\":{\"colorbar\":{\"outlinewidth\":0,\"ticks\":\"\"}}}],\"scattermapbox\":[{\"type\":\"scattermapbox\",\"marker\":{\"colorbar\":{\"outlinewidth\":0,\"ticks\":\"\"}}}],\"scatterternary\":[{\"type\":\"scatterternary\",\"marker\":{\"colorbar\":{\"outlinewidth\":0,\"ticks\":\"\"}}}],\"scattercarpet\":[{\"type\":\"scattercarpet\",\"marker\":{\"colorbar\":{\"outlinewidth\":0,\"ticks\":\"\"}}}],\"carpet\":[{\"aaxis\":{\"endlinecolor\":\"#2a3f5f\",\"gridcolor\":\"white\",\"linecolor\":\"white\",\"minorgridcolor\":\"white\",\"startlinecolor\":\"#2a3f5f\"},\"baxis\":{\"endlinecolor\":\"#2a3f5f\",\"gridcolor\":\"white\",\"linecolor\":\"white\",\"minorgridcolor\":\"white\",\"startlinecolor\":\"#2a3f5f\"},\"type\":\"carpet\"}],\"table\":[{\"cells\":{\"fill\":{\"color\":\"#EBF0F8\"},\"line\":{\"color\":\"white\"}},\"header\":{\"fill\":{\"color\":\"#C8D4E3\"},\"line\":{\"color\":\"white\"}},\"type\":\"table\"}],\"barpolar\":[{\"marker\":{\"line\":{\"color\":\"#E5ECF6\",\"width\":0.5},\"pattern\":{\"fillmode\":\"overlay\",\"size\":10,\"solidity\":0.2}},\"type\":\"barpolar\"}],\"pie\":[{\"automargin\":true,\"type\":\"pie\"}]},\"layout\":{\"autotypenumbers\":\"strict\",\"colorway\":[\"#636efa\",\"#EF553B\",\"#00cc96\",\"#ab63fa\",\"#FFA15A\",\"#19d3f3\",\"#FF6692\",\"#B6E880\",\"#FF97FF\",\"#FECB52\"],\"font\":{\"color\":\"#2a3f5f\"},\"hovermode\":\"closest\",\"hoverlabel\":{\"align\":\"left\"},\"paper_bgcolor\":\"white\",\"plot_bgcolor\":\"#E5ECF6\",\"polar\":{\"bgcolor\":\"#E5ECF6\",\"angularaxis\":{\"gridcolor\":\"white\",\"linecolor\":\"white\",\"ticks\":\"\"},\"radialaxis\":{\"gridcolor\":\"white\",\"linecolor\":\"white\",\"ticks\":\"\"}},\"ternary\":{\"bgcolor\":\"#E5ECF6\",\"aaxis\":{\"gridcolor\":\"white\",\"linecolor\":\"white\",\"ticks\":\"\"},\"baxis\":{\"gridcolor\":\"white\",\"linecolor\":\"white\",\"ticks\":\"\"},\"caxis\":{\"gridcolor\":\"white\",\"linecolor\":\"white\",\"ticks\":\"\"}},\"coloraxis\":{\"colorbar\":{\"outlinewidth\":0,\"ticks\":\"\"}},\"colorscale\":{\"sequential\":[[0.0,\"#0d0887\"],[0.1111111111111111,\"#46039f\"],[0.2222222222222222,\"#7201a8\"],[0.3333333333333333,\"#9c179e\"],[0.4444444444444444,\"#bd3786\"],[0.5555555555555556,\"#d8576b\"],[0.6666666666666666,\"#ed7953\"],[0.7777777777777778,\"#fb9f3a\"],[0.8888888888888888,\"#fdca26\"],[1.0,\"#f0f921\"]],\"sequentialminus\":[[0.0,\"#0d0887\"],[0.1111111111111111,\"#46039f\"],[0.2222222222222222,\"#7201a8\"],[0.3333333333333333,\"#9c179e\"],[0.4444444444444444,\"#bd3786\"],[0.5555555555555556,\"#d8576b\"],[0.6666666666666666,\"#ed7953\"],[0.7777777777777778,\"#fb9f3a\"],[0.8888888888888888,\"#fdca26\"],[1.0,\"#f0f921\"]],\"diverging\":[[0,\"#8e0152\"],[0.1,\"#c51b7d\"],[0.2,\"#de77ae\"],[0.3,\"#f1b6da\"],[0.4,\"#fde0ef\"],[0.5,\"#f7f7f7\"],[0.6,\"#e6f5d0\"],[0.7,\"#b8e186\"],[0.8,\"#7fbc41\"],[0.9,\"#4d9221\"],[1,\"#276419\"]]},\"xaxis\":{\"gridcolor\":\"white\",\"linecolor\":\"white\",\"ticks\":\"\",\"title\":{\"standoff\":15},\"zerolinecolor\":\"white\",\"automargin\":true,\"zerolinewidth\":2},\"yaxis\":{\"gridcolor\":\"white\",\"linecolor\":\"white\",\"ticks\":\"\",\"title\":{\"standoff\":15},\"zerolinecolor\":\"white\",\"automargin\":true,\"zerolinewidth\":2},\"scene\":{\"xaxis\":{\"backgroundcolor\":\"#E5ECF6\",\"gridcolor\":\"white\",\"linecolor\":\"white\",\"showbackground\":true,\"ticks\":\"\",\"zerolinecolor\":\"white\",\"gridwidth\":2},\"yaxis\":{\"backgroundcolor\":\"#E5ECF6\",\"gridcolor\":\"white\",\"linecolor\":\"white\",\"showbackground\":true,\"ticks\":\"\",\"zerolinecolor\":\"white\",\"gridwidth\":2},\"zaxis\":{\"backgroundcolor\":\"#E5ECF6\",\"gridcolor\":\"white\",\"linecolor\":\"white\",\"showbackground\":true,\"ticks\":\"\",\"zerolinecolor\":\"white\",\"gridwidth\":2}},\"shapedefaults\":{\"line\":{\"color\":\"#2a3f5f\"}},\"annotationdefaults\":{\"arrowcolor\":\"#2a3f5f\",\"arrowhead\":0,\"arrowwidth\":1},\"geo\":{\"bgcolor\":\"white\",\"landcolor\":\"#E5ECF6\",\"subunitcolor\":\"white\",\"showland\":true,\"showlakes\":true,\"lakecolor\":\"white\"},\"title\":{\"x\":0.05},\"mapbox\":{\"style\":\"light\"}}},\"xaxis\":{\"anchor\":\"y\",\"domain\":[0.0,1.0]},\"yaxis\":{\"anchor\":\"x\",\"domain\":[0.0,1.0],\"autorange\":\"reversed\"},\"coloraxis\":{\"colorscale\":[[0.0,\"#0d0887\"],[0.1111111111111111,\"#46039f\"],[0.2222222222222222,\"#7201a8\"],[0.3333333333333333,\"#9c179e\"],[0.4444444444444444,\"#bd3786\"],[0.5555555555555556,\"#d8576b\"],[0.6666666666666666,\"#ed7953\"],[0.7777777777777778,\"#fb9f3a\"],[0.8888888888888888,\"#fdca26\"],[1.0,\"#f0f921\"]]},\"margin\":{\"t\":60}},                        {\"responsive\": true}                    ).then(function(){\n",
              "                            \n",
              "var gd = document.getElementById('cd9504c4-bbe5-4afb-a029-9b2cee1dd87a');\n",
              "var x = new MutationObserver(function (mutations, observer) {{\n",
              "        var display = window.getComputedStyle(gd).display;\n",
              "        if (!display || display === 'none') {{\n",
              "            console.log([gd, 'removed!']);\n",
              "            Plotly.purge(gd);\n",
              "            observer.disconnect();\n",
              "        }}\n",
              "}});\n",
              "\n",
              "// Listen for the removal of the full notebook cells\n",
              "var notebookContainer = gd.closest('#notebook-container');\n",
              "if (notebookContainer) {{\n",
              "    x.observe(notebookContainer, {childList: true});\n",
              "}}\n",
              "\n",
              "// Listen for the clearing of the current output cell\n",
              "var outputEl = gd.closest('.output');\n",
              "if (outputEl) {{\n",
              "    x.observe(outputEl, {childList: true});\n",
              "}}\n",
              "\n",
              "                        })                };                            </script>        </div>\n",
              "</body>\n",
              "</html>"
            ]
          },
          "metadata": {}
        }
      ]
    },
    {
      "cell_type": "code",
      "source": [
        "data.head()"
      ],
      "metadata": {
        "colab": {
          "base_uri": "https://localhost:8080/",
          "height": 354
        },
        "id": "M7jut4zT1wpM",
        "outputId": "6fb094c9-4725-44d2-e0b8-5f45685e5c0b"
      },
      "execution_count": null,
      "outputs": [
        {
          "output_type": "execute_result",
          "data": {
            "text/plain": [
              "                    DIVISION  YEAR   JAN    FEB   MAR    APR    MAY    JUN  \\\n",
              "0  ANDAMAN & NICOBAR ISLANDS  1901  49.2   87.1  29.2    2.3  528.8  517.5   \n",
              "1  ANDAMAN & NICOBAR ISLANDS  1902   0.0  159.8  12.2    0.0  446.1  537.1   \n",
              "2  ANDAMAN & NICOBAR ISLANDS  1903  12.7  144.0   0.0    1.0  235.1  479.9   \n",
              "3  ANDAMAN & NICOBAR ISLANDS  1904   9.4   14.7   0.0  202.4  304.5  495.1   \n",
              "4  ANDAMAN & NICOBAR ISLANDS  1905   1.3    0.0   3.3   26.9  279.5  628.7   \n",
              "\n",
              "     JUL    AUG    SEP    OCT    NOV    DEC  ANNUAL  Jan-Mar  Apr-Jun  \\\n",
              "0  365.1  481.1  332.6  388.5  558.2   33.6  3373.2    136.3    560.3   \n",
              "1  228.9  753.7  666.2  197.2  359.0  160.5  3520.7    159.8    458.3   \n",
              "2  728.4  326.7  339.0  181.2  284.4  225.0  2957.4    156.7    236.1   \n",
              "3  502.0  160.1  820.4  222.2  308.7   40.1  3079.6     24.1    506.9   \n",
              "4  368.7  330.5  297.0  260.7   25.4  344.7  2566.7      1.3    309.7   \n",
              "\n",
              "   Jul-Sep  Oct-Dec  \n",
              "0   1696.3    980.3  \n",
              "1   2185.9    716.7  \n",
              "2   1874.0    690.6  \n",
              "3   1977.6    571.0  \n",
              "4   1624.9    630.8  "
            ],
            "text/html": [
              "\n",
              "\n",
              "  <div id=\"df-39eaabf3-3fa0-43bd-97c4-40c3733175c7\">\n",
              "    <div class=\"colab-df-container\">\n",
              "      <div>\n",
              "<style scoped>\n",
              "    .dataframe tbody tr th:only-of-type {\n",
              "        vertical-align: middle;\n",
              "    }\n",
              "\n",
              "    .dataframe tbody tr th {\n",
              "        vertical-align: top;\n",
              "    }\n",
              "\n",
              "    .dataframe thead th {\n",
              "        text-align: right;\n",
              "    }\n",
              "</style>\n",
              "<table border=\"1\" class=\"dataframe\">\n",
              "  <thead>\n",
              "    <tr style=\"text-align: right;\">\n",
              "      <th></th>\n",
              "      <th>DIVISION</th>\n",
              "      <th>YEAR</th>\n",
              "      <th>JAN</th>\n",
              "      <th>FEB</th>\n",
              "      <th>MAR</th>\n",
              "      <th>APR</th>\n",
              "      <th>MAY</th>\n",
              "      <th>JUN</th>\n",
              "      <th>JUL</th>\n",
              "      <th>AUG</th>\n",
              "      <th>SEP</th>\n",
              "      <th>OCT</th>\n",
              "      <th>NOV</th>\n",
              "      <th>DEC</th>\n",
              "      <th>ANNUAL</th>\n",
              "      <th>Jan-Mar</th>\n",
              "      <th>Apr-Jun</th>\n",
              "      <th>Jul-Sep</th>\n",
              "      <th>Oct-Dec</th>\n",
              "    </tr>\n",
              "  </thead>\n",
              "  <tbody>\n",
              "    <tr>\n",
              "      <th>0</th>\n",
              "      <td>ANDAMAN &amp; NICOBAR ISLANDS</td>\n",
              "      <td>1901</td>\n",
              "      <td>49.2</td>\n",
              "      <td>87.1</td>\n",
              "      <td>29.2</td>\n",
              "      <td>2.3</td>\n",
              "      <td>528.8</td>\n",
              "      <td>517.5</td>\n",
              "      <td>365.1</td>\n",
              "      <td>481.1</td>\n",
              "      <td>332.6</td>\n",
              "      <td>388.5</td>\n",
              "      <td>558.2</td>\n",
              "      <td>33.6</td>\n",
              "      <td>3373.2</td>\n",
              "      <td>136.3</td>\n",
              "      <td>560.3</td>\n",
              "      <td>1696.3</td>\n",
              "      <td>980.3</td>\n",
              "    </tr>\n",
              "    <tr>\n",
              "      <th>1</th>\n",
              "      <td>ANDAMAN &amp; NICOBAR ISLANDS</td>\n",
              "      <td>1902</td>\n",
              "      <td>0.0</td>\n",
              "      <td>159.8</td>\n",
              "      <td>12.2</td>\n",
              "      <td>0.0</td>\n",
              "      <td>446.1</td>\n",
              "      <td>537.1</td>\n",
              "      <td>228.9</td>\n",
              "      <td>753.7</td>\n",
              "      <td>666.2</td>\n",
              "      <td>197.2</td>\n",
              "      <td>359.0</td>\n",
              "      <td>160.5</td>\n",
              "      <td>3520.7</td>\n",
              "      <td>159.8</td>\n",
              "      <td>458.3</td>\n",
              "      <td>2185.9</td>\n",
              "      <td>716.7</td>\n",
              "    </tr>\n",
              "    <tr>\n",
              "      <th>2</th>\n",
              "      <td>ANDAMAN &amp; NICOBAR ISLANDS</td>\n",
              "      <td>1903</td>\n",
              "      <td>12.7</td>\n",
              "      <td>144.0</td>\n",
              "      <td>0.0</td>\n",
              "      <td>1.0</td>\n",
              "      <td>235.1</td>\n",
              "      <td>479.9</td>\n",
              "      <td>728.4</td>\n",
              "      <td>326.7</td>\n",
              "      <td>339.0</td>\n",
              "      <td>181.2</td>\n",
              "      <td>284.4</td>\n",
              "      <td>225.0</td>\n",
              "      <td>2957.4</td>\n",
              "      <td>156.7</td>\n",
              "      <td>236.1</td>\n",
              "      <td>1874.0</td>\n",
              "      <td>690.6</td>\n",
              "    </tr>\n",
              "    <tr>\n",
              "      <th>3</th>\n",
              "      <td>ANDAMAN &amp; NICOBAR ISLANDS</td>\n",
              "      <td>1904</td>\n",
              "      <td>9.4</td>\n",
              "      <td>14.7</td>\n",
              "      <td>0.0</td>\n",
              "      <td>202.4</td>\n",
              "      <td>304.5</td>\n",
              "      <td>495.1</td>\n",
              "      <td>502.0</td>\n",
              "      <td>160.1</td>\n",
              "      <td>820.4</td>\n",
              "      <td>222.2</td>\n",
              "      <td>308.7</td>\n",
              "      <td>40.1</td>\n",
              "      <td>3079.6</td>\n",
              "      <td>24.1</td>\n",
              "      <td>506.9</td>\n",
              "      <td>1977.6</td>\n",
              "      <td>571.0</td>\n",
              "    </tr>\n",
              "    <tr>\n",
              "      <th>4</th>\n",
              "      <td>ANDAMAN &amp; NICOBAR ISLANDS</td>\n",
              "      <td>1905</td>\n",
              "      <td>1.3</td>\n",
              "      <td>0.0</td>\n",
              "      <td>3.3</td>\n",
              "      <td>26.9</td>\n",
              "      <td>279.5</td>\n",
              "      <td>628.7</td>\n",
              "      <td>368.7</td>\n",
              "      <td>330.5</td>\n",
              "      <td>297.0</td>\n",
              "      <td>260.7</td>\n",
              "      <td>25.4</td>\n",
              "      <td>344.7</td>\n",
              "      <td>2566.7</td>\n",
              "      <td>1.3</td>\n",
              "      <td>309.7</td>\n",
              "      <td>1624.9</td>\n",
              "      <td>630.8</td>\n",
              "    </tr>\n",
              "  </tbody>\n",
              "</table>\n",
              "</div>\n",
              "      <button class=\"colab-df-convert\" onclick=\"convertToInteractive('df-39eaabf3-3fa0-43bd-97c4-40c3733175c7')\"\n",
              "              title=\"Convert this dataframe to an interactive table.\"\n",
              "              style=\"display:none;\">\n",
              "\n",
              "  <svg xmlns=\"http://www.w3.org/2000/svg\" height=\"24px\"viewBox=\"0 0 24 24\"\n",
              "       width=\"24px\">\n",
              "    <path d=\"M0 0h24v24H0V0z\" fill=\"none\"/>\n",
              "    <path d=\"M18.56 5.44l.94 2.06.94-2.06 2.06-.94-2.06-.94-.94-2.06-.94 2.06-2.06.94zm-11 1L8.5 8.5l.94-2.06 2.06-.94-2.06-.94L8.5 2.5l-.94 2.06-2.06.94zm10 10l.94 2.06.94-2.06 2.06-.94-2.06-.94-.94-2.06-.94 2.06-2.06.94z\"/><path d=\"M17.41 7.96l-1.37-1.37c-.4-.4-.92-.59-1.43-.59-.52 0-1.04.2-1.43.59L10.3 9.45l-7.72 7.72c-.78.78-.78 2.05 0 2.83L4 21.41c.39.39.9.59 1.41.59.51 0 1.02-.2 1.41-.59l7.78-7.78 2.81-2.81c.8-.78.8-2.07 0-2.86zM5.41 20L4 18.59l7.72-7.72 1.47 1.35L5.41 20z\"/>\n",
              "  </svg>\n",
              "      </button>\n",
              "\n",
              "\n",
              "\n",
              "    <div id=\"df-fece2d1c-67a0-48cd-9a7a-5b097b34ea91\">\n",
              "      <button class=\"colab-df-quickchart\" onclick=\"quickchart('df-fece2d1c-67a0-48cd-9a7a-5b097b34ea91')\"\n",
              "              title=\"Suggest charts.\"\n",
              "              style=\"display:none;\">\n",
              "\n",
              "<svg xmlns=\"http://www.w3.org/2000/svg\" height=\"24px\"viewBox=\"0 0 24 24\"\n",
              "     width=\"24px\">\n",
              "    <g>\n",
              "        <path d=\"M19 3H5c-1.1 0-2 .9-2 2v14c0 1.1.9 2 2 2h14c1.1 0 2-.9 2-2V5c0-1.1-.9-2-2-2zM9 17H7v-7h2v7zm4 0h-2V7h2v10zm4 0h-2v-4h2v4z\"/>\n",
              "    </g>\n",
              "</svg>\n",
              "      </button>\n",
              "    </div>\n",
              "\n",
              "<style>\n",
              "  .colab-df-quickchart {\n",
              "    background-color: #E8F0FE;\n",
              "    border: none;\n",
              "    border-radius: 50%;\n",
              "    cursor: pointer;\n",
              "    display: none;\n",
              "    fill: #1967D2;\n",
              "    height: 32px;\n",
              "    padding: 0 0 0 0;\n",
              "    width: 32px;\n",
              "  }\n",
              "\n",
              "  .colab-df-quickchart:hover {\n",
              "    background-color: #E2EBFA;\n",
              "    box-shadow: 0px 1px 2px rgba(60, 64, 67, 0.3), 0px 1px 3px 1px rgba(60, 64, 67, 0.15);\n",
              "    fill: #174EA6;\n",
              "  }\n",
              "\n",
              "  [theme=dark] .colab-df-quickchart {\n",
              "    background-color: #3B4455;\n",
              "    fill: #D2E3FC;\n",
              "  }\n",
              "\n",
              "  [theme=dark] .colab-df-quickchart:hover {\n",
              "    background-color: #434B5C;\n",
              "    box-shadow: 0px 1px 3px 1px rgba(0, 0, 0, 0.15);\n",
              "    filter: drop-shadow(0px 1px 2px rgba(0, 0, 0, 0.3));\n",
              "    fill: #FFFFFF;\n",
              "  }\n",
              "</style>\n",
              "\n",
              "    <script>\n",
              "      async function quickchart(key) {\n",
              "        const containerElement = document.querySelector('#' + key);\n",
              "        const charts = await google.colab.kernel.invokeFunction(\n",
              "            'suggestCharts', [key], {});\n",
              "      }\n",
              "    </script>\n",
              "\n",
              "      <script>\n",
              "\n",
              "function displayQuickchartButton(domScope) {\n",
              "  let quickchartButtonEl =\n",
              "    domScope.querySelector('#df-fece2d1c-67a0-48cd-9a7a-5b097b34ea91 button.colab-df-quickchart');\n",
              "  quickchartButtonEl.style.display =\n",
              "    google.colab.kernel.accessAllowed ? 'block' : 'none';\n",
              "}\n",
              "\n",
              "        displayQuickchartButton(document);\n",
              "      </script>\n",
              "      <style>\n",
              "    .colab-df-container {\n",
              "      display:flex;\n",
              "      flex-wrap:wrap;\n",
              "      gap: 12px;\n",
              "    }\n",
              "\n",
              "    .colab-df-convert {\n",
              "      background-color: #E8F0FE;\n",
              "      border: none;\n",
              "      border-radius: 50%;\n",
              "      cursor: pointer;\n",
              "      display: none;\n",
              "      fill: #1967D2;\n",
              "      height: 32px;\n",
              "      padding: 0 0 0 0;\n",
              "      width: 32px;\n",
              "    }\n",
              "\n",
              "    .colab-df-convert:hover {\n",
              "      background-color: #E2EBFA;\n",
              "      box-shadow: 0px 1px 2px rgba(60, 64, 67, 0.3), 0px 1px 3px 1px rgba(60, 64, 67, 0.15);\n",
              "      fill: #174EA6;\n",
              "    }\n",
              "\n",
              "    [theme=dark] .colab-df-convert {\n",
              "      background-color: #3B4455;\n",
              "      fill: #D2E3FC;\n",
              "    }\n",
              "\n",
              "    [theme=dark] .colab-df-convert:hover {\n",
              "      background-color: #434B5C;\n",
              "      box-shadow: 0px 1px 3px 1px rgba(0, 0, 0, 0.15);\n",
              "      filter: drop-shadow(0px 1px 2px rgba(0, 0, 0, 0.3));\n",
              "      fill: #FFFFFF;\n",
              "    }\n",
              "  </style>\n",
              "\n",
              "      <script>\n",
              "        const buttonEl =\n",
              "          document.querySelector('#df-39eaabf3-3fa0-43bd-97c4-40c3733175c7 button.colab-df-convert');\n",
              "        buttonEl.style.display =\n",
              "          google.colab.kernel.accessAllowed ? 'block' : 'none';\n",
              "\n",
              "        async function convertToInteractive(key) {\n",
              "          const element = document.querySelector('#df-39eaabf3-3fa0-43bd-97c4-40c3733175c7');\n",
              "          const dataTable =\n",
              "            await google.colab.kernel.invokeFunction('convertToInteractive',\n",
              "                                                     [key], {});\n",
              "          if (!dataTable) return;\n",
              "\n",
              "          const docLinkHtml = 'Like what you see? Visit the ' +\n",
              "            '<a target=\"_blank\" href=https://colab.research.google.com/notebooks/data_table.ipynb>data table notebook</a>'\n",
              "            + ' to learn more about interactive tables.';\n",
              "          element.innerHTML = '';\n",
              "          dataTable['output_type'] = 'display_data';\n",
              "          await google.colab.output.renderOutput(dataTable, element);\n",
              "          const docLink = document.createElement('div');\n",
              "          docLink.innerHTML = docLinkHtml;\n",
              "          element.appendChild(docLink);\n",
              "        }\n",
              "      </script>\n",
              "    </div>\n",
              "  </div>\n"
            ]
          },
          "metadata": {},
          "execution_count": 19
        }
      ]
    },
    {
      "cell_type": "code",
      "source": [
        "X = data.iloc[:,[0,1,2,3,4,5,6,7,8,9,10,11,12,13]].values\n",
        "Y = data.iloc[:,[14]].values\n",
        "# Extracting the data in the form of 1D array and splitting it into two variables."
      ],
      "metadata": {
        "id": "-2R-YbOtVIMK"
      },
      "execution_count": null,
      "outputs": []
    },
    {
      "cell_type": "code",
      "source": [
        "X"
      ],
      "metadata": {
        "colab": {
          "base_uri": "https://localhost:8080/"
        },
        "id": "wX9y_PS3tzDj",
        "outputId": "469e09bd-9327-4344-9f37-23747372e96e"
      },
      "execution_count": null,
      "outputs": [
        {
          "output_type": "execute_result",
          "data": {
            "text/plain": [
              "array([['ANDAMAN & NICOBAR ISLANDS', 1901, 49.2, ..., 388.5, 558.2, 33.6],\n",
              "       ['ANDAMAN & NICOBAR ISLANDS', 1902, 0.0, ..., 197.2, 359.0, 160.5],\n",
              "       ['ANDAMAN & NICOBAR ISLANDS', 1903, 12.7, ..., 181.2, 284.4,\n",
              "        225.0],\n",
              "       ...,\n",
              "       ['LAKSHADWEEP', 2013, 26.2, ..., 72.8, 78.1, 26.7],\n",
              "       ['LAKSHADWEEP', 2014, 53.2, ..., 169.2, 59.0, 62.3],\n",
              "       ['LAKSHADWEEP', 2015, 2.2, ..., 165.4, 231.0, 159.0]], dtype=object)"
            ]
          },
          "metadata": {},
          "execution_count": 21
        }
      ]
    },
    {
      "cell_type": "code",
      "source": [
        "Y"
      ],
      "metadata": {
        "colab": {
          "base_uri": "https://localhost:8080/"
        },
        "id": "5MVlYbYJuCzp",
        "outputId": "ff346fc1-9991-4d0d-af4f-8720de315a46"
      },
      "execution_count": null,
      "outputs": [
        {
          "output_type": "execute_result",
          "data": {
            "text/plain": [
              "array([[3373.2],\n",
              "       [3520.7],\n",
              "       [2957.4],\n",
              "       ...,\n",
              "       [1426.3],\n",
              "       [1395. ],\n",
              "       [1642.9]])"
            ]
          },
          "metadata": {},
          "execution_count": 22
        }
      ]
    },
    {
      "cell_type": "markdown",
      "source": [
        "## Encoding Dataset"
      ],
      "metadata": {
        "id": "XjUUDjqtwQzJ"
      }
    },
    {
      "cell_type": "code",
      "source": [
        "# Performing Label Encoding to all columns of variable X and Y\n",
        "LE1 = LabelEncoder()\n",
        "X[:,0] = LE1.fit_transform(X[:,0])\n",
        "LE2 = LabelEncoder()\n",
        "X[:,1] = LE2.fit_transform(X[:,1])\n",
        "LE3 = LabelEncoder()\n",
        "X[:,2] = LE3.fit_transform(X[:,2])\n",
        "LE4 = LabelEncoder()\n",
        "X[:,3] = LE4.fit_transform(X[:,3])\n",
        "LE5 = LabelEncoder()\n",
        "X[:,4] = LE5.fit_transform(X[:,4])\n",
        "LE6 = LabelEncoder()\n",
        "X[:,5] = LE6.fit_transform(X[:,5])\n",
        "LE7 = LabelEncoder()\n",
        "X[:,6] = LE7.fit_transform(X[:,6])\n",
        "LE8 = LabelEncoder()\n",
        "X[:,7] = LE8.fit_transform(X[:,7])\n",
        "LE9 = LabelEncoder()\n",
        "X[:,8] = LE9.fit_transform(X[:,8])\n",
        "LE10 = LabelEncoder()\n",
        "X[:,9] = LE10.fit_transform(X[:,9])\n",
        "LE11 = LabelEncoder()\n",
        "X[:,10] = LE11.fit_transform(X[:,10])\n",
        "LE12 = LabelEncoder()\n",
        "X[:,11] = LE12.fit_transform(X[:,11])\n",
        "LE13 = LabelEncoder()\n",
        "X[:,12] = LE13.fit_transform(X[:,12])\n",
        "LE14 = LabelEncoder()\n",
        "X[:,13] = LE13.fit_transform(X[:,13])\n",
        "LE15 = LabelEncoder()\n",
        "Y = LE15.fit_transform(Y)"
      ],
      "metadata": {
        "id": "Z3Zq4833wDsw"
      },
      "execution_count": null,
      "outputs": []
    },
    {
      "cell_type": "code",
      "source": [
        "# printing the value of X in the form of 2D array\n",
        "print(X)\n",
        "print(X.ndim)"
      ],
      "metadata": {
        "colab": {
          "base_uri": "https://localhost:8080/"
        },
        "id": "j8yKvz5ewDvT",
        "outputId": "17dde31b-4dd1-4838-f99b-10b3662c4b4c"
      },
      "execution_count": null,
      "outputs": [
        {
          "output_type": "stream",
          "name": "stdout",
          "text": [
            "[[0 0 446 ... 1882 1237 323]\n",
            " [0 1 0 ... 1417 1219 730]\n",
            " [0 2 127 ... 1350 1168 766]\n",
            " ...\n",
            " [18 112 261 ... 632 645 265]\n",
            " [18 113 475 ... 1283 515 513]\n",
            " [18 114 22 ... 1260 1109 727]]\n",
            "2\n"
          ]
        }
      ]
    },
    {
      "cell_type": "code",
      "source": [
        "# printing the value of Y in the form of 1D array\n",
        "print(Y)\n",
        "print(Y.ndim)"
      ],
      "metadata": {
        "colab": {
          "base_uri": "https://localhost:8080/"
        },
        "id": "VD4_8fVT5wuz",
        "outputId": "e124c717-e3b0-4b5c-ef7d-85c217251f1b"
      },
      "execution_count": null,
      "outputs": [
        {
          "output_type": "stream",
          "name": "stdout",
          "text": [
            "[3549 3595 3354 ... 2426 2371 2712]\n",
            "1\n"
          ]
        }
      ]
    },
    {
      "cell_type": "code",
      "source": [
        "# converting 1D array Y into 2D array\n",
        "Y = Y.reshape(-1,1)\n",
        "print(Y)\n",
        "print(Y.ndim)"
      ],
      "metadata": {
        "colab": {
          "base_uri": "https://localhost:8080/"
        },
        "id": "Xq5JMdO57GI6",
        "outputId": "5781a669-f0c1-4af6-877a-733ba3ed9617"
      },
      "execution_count": null,
      "outputs": [
        {
          "output_type": "stream",
          "name": "stdout",
          "text": [
            "[[3549]\n",
            " [3595]\n",
            " [3354]\n",
            " ...\n",
            " [2426]\n",
            " [2371]\n",
            " [2712]]\n",
            "2\n"
          ]
        }
      ]
    },
    {
      "cell_type": "markdown",
      "source": [
        "##Feature Scaling"
      ],
      "metadata": {
        "id": "wEie4AaiygRw"
      }
    },
    {
      "cell_type": "code",
      "source": [
        "# Performing Standard Scaler algorithm on variable X and Y\n",
        "FS = StandardScaler()\n",
        "X = FS.fit_transform(X)\n",
        "Y = FS.fit_transform(Y)"
      ],
      "metadata": {
        "id": "fE6FcO-iwDxg"
      },
      "execution_count": null,
      "outputs": []
    },
    {
      "cell_type": "code",
      "source": [
        "print(X)"
      ],
      "metadata": {
        "colab": {
          "base_uri": "https://localhost:8080/"
        },
        "id": "kpR61oIfwDze",
        "outputId": "236e7c8b-2bea-4739-aec9-cacf9fa60a5f"
      },
      "execution_count": null,
      "outputs": [
        {
          "output_type": "stream",
          "name": "stdout",
          "text": [
            "[[-1.70101042 -1.72673688  1.49008972 ...  2.07214959  2.83993465\n",
            "   0.96225756]\n",
            " [-1.70101042 -1.69655901 -0.76388594 ...  1.26613398  2.78727116\n",
            "   3.01534725]\n",
            " [-1.70101042 -1.66638115 -0.12205879 ...  1.1499984   2.63805794\n",
            "   3.19694732]\n",
            " ...\n",
            " [ 0.03932239  1.65318383  0.55514466 ... -0.09455904  1.10789093\n",
            "   0.66967967]\n",
            " [ 0.03932239  1.6833617   1.63664868 ...  1.03386282  0.72754349\n",
            "   1.92070238]\n",
            " [ 0.03932239  1.71353956 -0.65270329 ...  0.99399538  2.46543871\n",
            "   3.00021391]]\n"
          ]
        }
      ]
    },
    {
      "cell_type": "code",
      "source": [
        "print(Y)"
      ],
      "metadata": {
        "colab": {
          "base_uri": "https://localhost:8080/"
        },
        "id": "EaUwfDjJwD1q",
        "outputId": "c72cc456-4378-4770-ec13-9fa4e90d3cc5"
      },
      "execution_count": null,
      "outputs": [
        {
          "output_type": "stream",
          "name": "stdout",
          "text": [
            "[[1.64040159]\n",
            " [1.68426451]\n",
            " [1.45446095]\n",
            " ...\n",
            " [0.56957418]\n",
            " [0.51712938]\n",
            " [0.84228713]]\n"
          ]
        }
      ]
    },
    {
      "cell_type": "markdown",
      "source": [
        "## Splitting the Dataset into Training and Test Set"
      ],
      "metadata": {
        "id": "FgxXm6lv8rgk"
      }
    },
    {
      "cell_type": "code",
      "source": [
        "X_train,X_test,Y_train,Y_test = train_test_split(X,Y,test_size = 0.3, random_state = 0)\n",
        "#X_train contains independent variables of train data and Y_train contain dependent variables of train data\n",
        "#X_test contains independent variables of test data and Y_test contains dependent variables of test data"
      ],
      "metadata": {
        "id": "727-y4wMwD3r"
      },
      "execution_count": null,
      "outputs": []
    },
    {
      "cell_type": "code",
      "source": [
        "print(X_train)"
      ],
      "metadata": {
        "colab": {
          "base_uri": "https://localhost:8080/"
        },
        "id": "mKnfzKm4wD5s",
        "outputId": "62e84b06-f802-4879-b260-cdc041d5da6b"
      },
      "execution_count": null,
      "outputs": [
        {
          "output_type": "stream",
          "name": "stdout",
          "text": [
            "[[ 1.58628488 -0.27819943 -0.67291832 ... -1.16924652 -0.77921752\n",
            "  -0.65700973]\n",
            " [ 0.32937786 -0.91193456 -0.54657439 ...  1.75147671 -0.2408796\n",
            "  -0.66205418]\n",
            " [ 0.03932239 -1.66638115  1.87922902 ... -0.01309079  0.32964156\n",
            "   0.2812573 ]\n",
            " ...\n",
            " [-0.44410339  0.26500211  0.78256373 ... -0.59376871 -0.08874063\n",
            "   2.71772491]\n",
            " [-0.05736277  1.29104947 -0.48087555 ...  0.14464559 -0.68851928\n",
            "  -0.66709862]\n",
            " [ 0.13600754  1.59282811 -0.76388594 ... -0.22802829 -0.77921752\n",
            "  -0.66709862]]\n"
          ]
        }
      ]
    },
    {
      "cell_type": "code",
      "source": [
        "print(Y_train)"
      ],
      "metadata": {
        "colab": {
          "base_uri": "https://localhost:8080/"
        },
        "id": "ReDw6L0_wD73",
        "outputId": "e34993e4-edcc-491d-efbd-e16363718a8d"
      },
      "execution_count": null,
      "outputs": [
        {
          "output_type": "stream",
          "name": "stdout",
          "text": [
            "[[-1.70653004]\n",
            " [ 1.158863  ]\n",
            " [ 0.54764272]\n",
            " ...\n",
            " [ 0.75742191]\n",
            " [ 1.12072132]\n",
            " [-0.74726701]]\n"
          ]
        }
      ]
    },
    {
      "cell_type": "code",
      "source": [
        "print(X_test)"
      ],
      "metadata": {
        "colab": {
          "base_uri": "https://localhost:8080/"
        },
        "id": "oROKvQaL2VbH",
        "outputId": "29f006f3-dc71-4c71-e5e0-c3c0e3d87db7"
      },
      "execution_count": null,
      "outputs": [
        {
          "output_type": "stream",
          "name": "stdout",
          "text": [
            "[[ 1.1028591  -0.97229029  2.45535733 ...  0.83972572  1.67256059\n",
            "   0.63941299]\n",
            " [-0.34741824 -1.5456697   2.62213131 ... -0.95084229 -0.68851928\n",
            "  -0.62674305]\n",
            " [-0.73415886 -1.00246815 -0.22313394 ...  1.17253217 -0.68851928\n",
            "  -0.66709862]\n",
            " ...\n",
            " [ 1.58628488  0.62713648 -0.61732699 ... -1.0080434  -0.5597863\n",
            "  -0.58134303]\n",
            " [-1.12089948  0.89873725 -0.76388594 ...  0.51731948 -0.70899953\n",
            "  -0.10212063]\n",
            " [-0.44410339 -1.5456697   2.90514171 ... -0.93350862 -0.77921752\n",
            "  -0.66709862]]\n"
          ]
        }
      ]
    },
    {
      "cell_type": "code",
      "source": [
        "print(Y_test)"
      ],
      "metadata": {
        "colab": {
          "base_uri": "https://localhost:8080/"
        },
        "id": "Z2F1qRZW2Vmr",
        "outputId": "c340b948-02d2-49a9-ab33-cfacb0ca4f2b"
      },
      "execution_count": null,
      "outputs": [
        {
          "output_type": "stream",
          "name": "stdout",
          "text": [
            "[[-0.83213223]\n",
            " [-0.15893174]\n",
            " [ 0.30162894]\n",
            " ...\n",
            " [-1.65217816]\n",
            " [ 1.66614722]\n",
            " [-0.68147263]]\n"
          ]
        }
      ]
    },
    {
      "cell_type": "markdown",
      "source": [
        "## Training Models"
      ],
      "metadata": {
        "id": "ZMlMvV7ZG5K0"
      }
    },
    {
      "cell_type": "markdown",
      "source": [
        "\n",
        "\n",
        "#### 1.  **Random Forest**\n",
        "\n",
        "\n",
        "\n"
      ],
      "metadata": {
        "id": "hDHCp0o-G_qx"
      }
    },
    {
      "cell_type": "code",
      "source": [
        "# creating and fiting the Random Forest Regressor Model\n",
        "RF = RandomForestRegressor(n_estimators = 100,random_state = 0).fit(X_train,Y_train)"
      ],
      "metadata": {
        "id": "Ih3T8PO-wD9_"
      },
      "execution_count": null,
      "outputs": []
    },
    {
      "cell_type": "code",
      "source": [
        "# Predicting on Test Data and Train Data\n",
        "Y_test_pred = RF.predict(X_test)\n",
        "Y_train_pred = RF.predict(X_train)"
      ],
      "metadata": {
        "id": "RoFIElkywEAQ"
      },
      "execution_count": null,
      "outputs": []
    },
    {
      "cell_type": "code",
      "source": [
        "print('Random Forest')\n",
        "print(\"-\"*50)\n",
        "# Showing Training Set Performance\n",
        "\n",
        "print(\"Model Performance for Training Set\")\n",
        "train_acc_score = r2_score(Y_train,Y_train_pred)\n",
        "print(\" r2-Score : {}\"  .format(round(train_acc_score,2)))\n",
        "train_mae_score = mean_absolute_error(Y_train,Y_train_pred)\n",
        "print(\" Mean Absolute Error : {}\"  .format(round(train_mae_score,2)))\n",
        "train_mse_score = mean_squared_error(Y_train,Y_train_pred)\n",
        "print(\" Mean Squared Error : {}\"  .format(round(train_mse_score,2)))\n",
        "train_rmse_score = np.sqrt(mean_absolute_error(Y_train,Y_train_pred))\n",
        "print(\" Root Mean Squared Error : {}\"  .format(round(train_rmse_score,2)))\n",
        "print(\"-\"*50)\n",
        "\n",
        "# Showing Testing Set Performance\n",
        "print(\"Model Performance for Test Set\")\n",
        "\n",
        "test_acc_score = r2_score(Y_test,Y_test_pred)\n",
        "print(\" r2-Score : {}\"  .format(round(test_acc_score,2)))\n",
        "test_mae_score = mean_absolute_error(Y_test,Y_test_pred)\n",
        "print(\" Mean Absolute Error : {}\"  .format(round(test_mae_score,2)))\n",
        "test_mse_score = mean_squared_error(Y_test,Y_test_pred)\n",
        "print(\" Mean Squared Error : {}\"  .format(round(test_mse_score,2)))\n",
        "test_rmse_score = np.sqrt(mean_absolute_error(Y_test,Y_test_pred))\n",
        "print(\" Root Mean Squared Error : {}\"  .format(round(test_rmse_score,2)))\n",
        "print(\"-\"*50)"
      ],
      "metadata": {
        "id": "KwqwHEVrwEEz",
        "colab": {
          "base_uri": "https://localhost:8080/"
        },
        "outputId": "8a358084-ba32-4bf9-d174-0f50f68f6d39"
      },
      "execution_count": null,
      "outputs": [
        {
          "output_type": "stream",
          "name": "stdout",
          "text": [
            "Random Forest\n",
            "--------------------------------------------------\n",
            "Model Performance for Training Set\n",
            " r2-Score : 0.99\n",
            " Mean Absolute Error : 0.05\n",
            " Mean Squared Error : 0.01\n",
            " Root Mean Squared Error : 0.23\n",
            "--------------------------------------------------\n",
            "Model Performance for Test Set\n",
            " r2-Score : 0.97\n",
            " Mean Absolute Error : 0.13\n",
            " Mean Squared Error : 0.03\n",
            " Root Mean Squared Error : 0.36\n",
            "--------------------------------------------------\n"
          ]
        }
      ]
    },
    {
      "cell_type": "markdown",
      "source": [
        "#### 2.  **Decision Tree**"
      ],
      "metadata": {
        "id": "BUWBSBPwzD04"
      }
    },
    {
      "cell_type": "code",
      "source": [
        "# creating and fitting Decision Tree Regressor Model\n",
        "DTR = DecisionTreeRegressor().fit(X_train,Y_train)"
      ],
      "metadata": {
        "id": "2KPjfiGNPoKv"
      },
      "execution_count": null,
      "outputs": []
    },
    {
      "cell_type": "code",
      "source": [
        "# Predicting on Test and Train Data\n",
        "Y_tra_pred = DTR.predict(X_train)\n",
        "Y_tes_pred = DTR.predict(X_test)"
      ],
      "metadata": {
        "id": "AE4BAlL2PoNV"
      },
      "execution_count": null,
      "outputs": []
    },
    {
      "cell_type": "code",
      "source": [
        "print('Decision Tree')\n",
        "print(\"-\"*50)\n",
        "# Showing Training Set Performance\n",
        "\n",
        "print(\"Model Performance for Training Set\")\n",
        "tra_acc_score = r2_score(Y_train,Y_tra_pred)\n",
        "print(\" r2-Score : {}\"  .format(round(tra_acc_score,2)))\n",
        "tra_mae_score = mean_absolute_error(Y_train,Y_tra_pred)\n",
        "print(\" Mean Absolute Error : {}\"  .format(round(tra_mae_score,2)))\n",
        "tra_mse_score = mean_squared_error(Y_train,Y_tra_pred)\n",
        "print(\" Mean Squared Error : {}\"  .format(round(tra_mse_score,2)))\n",
        "tra_rmse_score = np.sqrt(mean_absolute_error(Y_train,Y_tra_pred))\n",
        "print(\" Root Mean Squared Error : {}\"  .format(round(tra_rmse_score,2)))\n",
        "print(\"-\"*50)\n",
        "\n",
        "# Showing Testing Set Performance\n",
        "\n",
        "print(\"Model Performance for Test Set\")\n",
        "tes_acc_score = r2_score(Y_test,Y_tes_pred)\n",
        "print(\" r2-Score : {}\"  .format(round(tes_acc_score,2)))\n",
        "tes_mae_score = mean_absolute_error(Y_test,Y_tes_pred)\n",
        "print(\" Mean Absolute Error : {}\"  .format(round(tes_mae_score,2)))\n",
        "tes_mse_score = mean_squared_error(Y_test,Y_test_pred)\n",
        "print(\" Mean Squared Error : {}\"  .format(round(tes_mse_score,2)))\n",
        "tes_rmse_score = np.sqrt(mean_absolute_error(Y_test,Y_tes_pred))\n",
        "print(\" Root Mean Squared Error : {}\"  .format(round(tes_rmse_score,2)))\n",
        "print(\"-\"*50)"
      ],
      "metadata": {
        "id": "bzDObA1jPoPN",
        "colab": {
          "base_uri": "https://localhost:8080/"
        },
        "outputId": "7a0358dc-57fd-4df7-d98d-2e6b72e8af66"
      },
      "execution_count": null,
      "outputs": [
        {
          "output_type": "stream",
          "name": "stdout",
          "text": [
            "Decision Tree\n",
            "--------------------------------------------------\n",
            "Model Performance for Training Set\n",
            " r2-Score : 1.0\n",
            " Mean Absolute Error : 0.0\n",
            " Mean Squared Error : 0.0\n",
            " Root Mean Squared Error : 0.0\n",
            "--------------------------------------------------\n",
            "Model Performance for Test Set\n",
            " r2-Score : 0.89\n",
            " Mean Absolute Error : 0.24\n",
            " Mean Squared Error : 0.03\n",
            " Root Mean Squared Error : 0.49\n",
            "--------------------------------------------------\n"
          ]
        }
      ]
    },
    {
      "cell_type": "markdown",
      "source": [
        "#### 3.  **SVR**"
      ],
      "metadata": {
        "id": "4gH2_HCj4Zbr"
      }
    },
    {
      "cell_type": "code",
      "source": [
        "# creating and fitting a SVR model\n",
        "SV_reg = SVR().fit(X_train,Y_train)"
      ],
      "metadata": {
        "id": "D3rqQ6JhPoRU"
      },
      "execution_count": null,
      "outputs": []
    },
    {
      "cell_type": "code",
      "source": [
        "# Predicting on Test and Train Data\n",
        "Y_tr_pred = SV_reg.predict(X_train)\n",
        "Y_te_pred = SV_reg.predict(X_test)"
      ],
      "metadata": {
        "id": "kGaIMwgCPoU5"
      },
      "execution_count": null,
      "outputs": []
    },
    {
      "cell_type": "code",
      "source": [
        "print('Support Vector Regressor')\n",
        "print(\"-\"*50)\n",
        "# Showing Training Set Performance\n",
        "\n",
        "print(\"Model Performance for Training Set\")\n",
        "tr_acc_score = r2_score(Y_train,Y_tr_pred)\n",
        "print(\" r2-Score : {}\"  .format(round(tr_acc_score,2)))\n",
        "tr_mae_score = mean_absolute_error(Y_train,Y_tr_pred)\n",
        "print(\" Mean Absolute Error : {}\"  .format(round(tr_mae_score,2)))\n",
        "tr_mse_score = mean_squared_error(Y_train,Y_tr_pred)\n",
        "print(\" Mean Squared Error : {}\"  .format(round(tr_mse_score,2)))\n",
        "tr_rmse_score = np.sqrt(mean_absolute_error(Y_train,Y_tr_pred))\n",
        "print(\" Root Mean Squared Error : {}\"  .format(round(tr_rmse_score,2)))\n",
        "print(\"-\"*50)\n",
        "\n",
        "# Showing Testing Set Performance\n",
        "\n",
        "print(\"Model Performance for Test Set\")\n",
        "te_acc_score = r2_score(Y_test,Y_te_pred)\n",
        "print(\" r2-Score : {}\"  .format(round(te_acc_score,2)))\n",
        "te_mae_score = mean_absolute_error(Y_test,Y_te_pred)\n",
        "print(\" Mean Absolute Error : {}\"  .format(round(te_mae_score,2)))\n",
        "te_mse_score = mean_squared_error(Y_test,Y_te_pred)\n",
        "print(\" Mean Squared Error : {}\"  .format(round(te_mse_score,2)))\n",
        "te_rmse_score = np.sqrt(mean_absolute_error(Y_test,Y_te_pred))\n",
        "print(\" Root Mean Squared Error : {}\"  .format(round(te_rmse_score,2)))\n",
        "print(\"-\"*50)"
      ],
      "metadata": {
        "id": "lXna4lJ-PoXP",
        "colab": {
          "base_uri": "https://localhost:8080/"
        },
        "outputId": "ad23b6fd-2bbe-4f5c-d917-7a88cca67198"
      },
      "execution_count": null,
      "outputs": [
        {
          "output_type": "stream",
          "name": "stdout",
          "text": [
            "Support Vector Regressor\n",
            "--------------------------------------------------\n",
            "Model Performance for Training Set\n",
            " r2-Score : 0.99\n",
            " Mean Absolute Error : 0.06\n",
            " Mean Squared Error : 0.01\n",
            " Root Mean Squared Error : 0.24\n",
            "--------------------------------------------------\n",
            "Model Performance for Test Set\n",
            " r2-Score : 0.99\n",
            " Mean Absolute Error : 0.07\n",
            " Mean Squared Error : 0.01\n",
            " Root Mean Squared Error : 0.27\n",
            "--------------------------------------------------\n"
          ]
        }
      ]
    },
    {
      "cell_type": "markdown",
      "source": [
        "#### 4. **KNN**"
      ],
      "metadata": {
        "id": "uvfRkcou_dcn"
      }
    },
    {
      "cell_type": "code",
      "source": [
        "# Creating and Fitting a KNN Model\n",
        "KNR = KNeighborsRegressor(n_neighbors = 4).fit(X_train,Y_train)"
      ],
      "metadata": {
        "id": "h9dHlbLpAKBW"
      },
      "execution_count": null,
      "outputs": []
    },
    {
      "cell_type": "code",
      "source": [
        "# Predicting on Test And Train Data\n",
        "Yktr_pred = KNR.predict(X_train)\n",
        "Ykte_pred = KNR.predict(X_test)"
      ],
      "metadata": {
        "id": "Ik4hU131BYz4"
      },
      "execution_count": null,
      "outputs": []
    },
    {
      "cell_type": "code",
      "source": [
        "print('K Nearest Neighbors')\n",
        "print(\"-\"*50)\n",
        "# Showing Training Set Performance\n",
        "\n",
        "print(\"Model Performance for Training Set\")\n",
        "Ktr_acc_score = r2_score(Y_train,Yktr_pred)\n",
        "print(\" r2-Score : {}\"  .format(round(Ktr_acc_score,2)))\n",
        "Ktr_mae_score = mean_absolute_error(Y_train,Yktr_pred)\n",
        "print(\" Mean Absolute Error : {}\"  .format(round(Ktr_mae_score,2)))\n",
        "Ktr_mse_score = mean_squared_error(Y_train,Yktr_pred)\n",
        "print(\" Mean Squared Error : {}\"  .format(round(Ktr_mse_score,2)))\n",
        "Ktr_rmse_score = np.sqrt(mean_absolute_error(Y_train,Yktr_pred))\n",
        "print(\" Root Mean Squared Error : {}\"  .format(round(Ktr_rmse_score,2)))\n",
        "print(\"-\"*50)\n",
        "\n",
        "# Showing Testing Set Performance\n",
        "\n",
        "print(\"Model Performance for Test Set\")\n",
        "Kte_acc_score = r2_score(Y_test,Ykte_pred)\n",
        "print(\" r2-Score : {}\"  .format(round(Kte_acc_score,2)))\n",
        "Kte_mae_score = mean_absolute_error(Y_test,Ykte_pred)\n",
        "print(\" Mean Absolute Error : {}\"  .format(round(Kte_mae_score,2)))\n",
        "Kte_mse_score = mean_squared_error(Y_test,Ykte_pred)\n",
        "print(\" Mean Squared Error : {}\"  .format(round(Kte_mse_score,2)))\n",
        "Kte_rmse_score = np.sqrt(mean_absolute_error(Y_test,Ykte_pred))\n",
        "print(\" Root Mean Squared Error : {}\"  .format(round(Kte_rmse_score,2)))\n",
        "print(\"-\"*50)"
      ],
      "metadata": {
        "colab": {
          "base_uri": "https://localhost:8080/"
        },
        "id": "FNyv1gDGBY5i",
        "outputId": "c0e2c13f-94a6-4053-e47e-8fb727808aba"
      },
      "execution_count": null,
      "outputs": [
        {
          "output_type": "stream",
          "name": "stdout",
          "text": [
            "K Nearest Neighbors\n",
            "--------------------------------------------------\n",
            "Model Performance for Training Set\n",
            " r2-Score : 0.97\n",
            " Mean Absolute Error : 0.12\n",
            " Mean Squared Error : 0.03\n",
            " Root Mean Squared Error : 0.35\n",
            "--------------------------------------------------\n",
            "Model Performance for Test Set\n",
            " r2-Score : 0.96\n",
            " Mean Absolute Error : 0.15\n",
            " Mean Squared Error : 0.04\n",
            " Root Mean Squared Error : 0.39\n",
            "--------------------------------------------------\n"
          ]
        }
      ]
    },
    {
      "cell_type": "markdown",
      "source": [
        " ### **Chart Comparison of Algorithms**"
      ],
      "metadata": {
        "id": "LGWIwpxK8HN5"
      }
    },
    {
      "cell_type": "code",
      "source": [
        "y1 = ['Random Forest Regressor','Decision Tree Regressor','Support Vector Regressor','KNeighbors Regressor']\n",
        "x1 = ['R2 Score','MAE','MSE','RMSE']\n",
        "\n",
        "z1 = [[(round(train_acc_score,2)),(round(train_mae_score,2)),(round(train_mse_score,2)),(round(train_rmse_score,2))],\n",
        "     [(round(tra_acc_score,2)),(round(tra_mae_score,2)),(round(tra_mse_score,2)),(round(tra_rmse_score,2))],\n",
        "     [(round(tr_acc_score,2)),(round(tr_mae_score,2)),(round(tr_mse_score,2)),(round(tr_rmse_score,2))],\n",
        "     [(round(Ktr_acc_score,2)),(round(Ktr_mae_score,2)),(round(Ktr_mse_score,2)),(round(Ktr_rmse_score,2))]]\n",
        "\n",
        "px.imshow(z1, x=x1, y=y1, aspect=\"auto\", title = \"Scores for Training Dataset\", text_auto = True).update_xaxes(side=\"top\")"
      ],
      "metadata": {
        "id": "sR3oQJrCbs-b",
        "colab": {
          "base_uri": "https://localhost:8080/",
          "height": 542
        },
        "outputId": "6b919909-dd73-4c23-ce8e-1159a73851de"
      },
      "execution_count": null,
      "outputs": [
        {
          "output_type": "display_data",
          "data": {
            "text/html": [
              "<html>\n",
              "<head><meta charset=\"utf-8\" /></head>\n",
              "<body>\n",
              "    <div>            <script src=\"https://cdnjs.cloudflare.com/ajax/libs/mathjax/2.7.5/MathJax.js?config=TeX-AMS-MML_SVG\"></script><script type=\"text/javascript\">if (window.MathJax && window.MathJax.Hub && window.MathJax.Hub.Config) {window.MathJax.Hub.Config({SVG: {font: \"STIX-Web\"}});}</script>                <script type=\"text/javascript\">window.PlotlyConfig = {MathJaxConfig: 'local'};</script>\n",
              "        <script src=\"https://cdn.plot.ly/plotly-2.18.2.min.js\"></script>                <div id=\"d8d33e93-5b34-4b70-99f0-2b92de1437c2\" class=\"plotly-graph-div\" style=\"height:525px; width:100%;\"></div>            <script type=\"text/javascript\">                                    window.PLOTLYENV=window.PLOTLYENV || {};                                    if (document.getElementById(\"d8d33e93-5b34-4b70-99f0-2b92de1437c2\")) {                    Plotly.newPlot(                        \"d8d33e93-5b34-4b70-99f0-2b92de1437c2\",                        [{\"coloraxis\":\"coloraxis\",\"name\":\"0\",\"texttemplate\":\"%{z}\",\"x\":[\"R2 Score\",\"MAE\",\"MSE\",\"RMSE\"],\"y\":[\"Random Forest Regressor\",\"Decision Tree Regressor\",\"Support Vector Regressor\",\"KNeighbors Regressor\"],\"z\":[[0.99,0.05,0.01,0.23],[1.0,0.0,0.0,0.0],[0.99,0.06,0.01,0.24],[0.97,0.12,0.03,0.35]],\"type\":\"heatmap\",\"xaxis\":\"x\",\"yaxis\":\"y\",\"hovertemplate\":\"x: %{x}<br>y: %{y}<br>color: %{z}<extra></extra>\"}],                        {\"template\":{\"data\":{\"histogram2dcontour\":[{\"type\":\"histogram2dcontour\",\"colorbar\":{\"outlinewidth\":0,\"ticks\":\"\"},\"colorscale\":[[0.0,\"#0d0887\"],[0.1111111111111111,\"#46039f\"],[0.2222222222222222,\"#7201a8\"],[0.3333333333333333,\"#9c179e\"],[0.4444444444444444,\"#bd3786\"],[0.5555555555555556,\"#d8576b\"],[0.6666666666666666,\"#ed7953\"],[0.7777777777777778,\"#fb9f3a\"],[0.8888888888888888,\"#fdca26\"],[1.0,\"#f0f921\"]]}],\"choropleth\":[{\"type\":\"choropleth\",\"colorbar\":{\"outlinewidth\":0,\"ticks\":\"\"}}],\"histogram2d\":[{\"type\":\"histogram2d\",\"colorbar\":{\"outlinewidth\":0,\"ticks\":\"\"},\"colorscale\":[[0.0,\"#0d0887\"],[0.1111111111111111,\"#46039f\"],[0.2222222222222222,\"#7201a8\"],[0.3333333333333333,\"#9c179e\"],[0.4444444444444444,\"#bd3786\"],[0.5555555555555556,\"#d8576b\"],[0.6666666666666666,\"#ed7953\"],[0.7777777777777778,\"#fb9f3a\"],[0.8888888888888888,\"#fdca26\"],[1.0,\"#f0f921\"]]}],\"heatmap\":[{\"type\":\"heatmap\",\"colorbar\":{\"outlinewidth\":0,\"ticks\":\"\"},\"colorscale\":[[0.0,\"#0d0887\"],[0.1111111111111111,\"#46039f\"],[0.2222222222222222,\"#7201a8\"],[0.3333333333333333,\"#9c179e\"],[0.4444444444444444,\"#bd3786\"],[0.5555555555555556,\"#d8576b\"],[0.6666666666666666,\"#ed7953\"],[0.7777777777777778,\"#fb9f3a\"],[0.8888888888888888,\"#fdca26\"],[1.0,\"#f0f921\"]]}],\"heatmapgl\":[{\"type\":\"heatmapgl\",\"colorbar\":{\"outlinewidth\":0,\"ticks\":\"\"},\"colorscale\":[[0.0,\"#0d0887\"],[0.1111111111111111,\"#46039f\"],[0.2222222222222222,\"#7201a8\"],[0.3333333333333333,\"#9c179e\"],[0.4444444444444444,\"#bd3786\"],[0.5555555555555556,\"#d8576b\"],[0.6666666666666666,\"#ed7953\"],[0.7777777777777778,\"#fb9f3a\"],[0.8888888888888888,\"#fdca26\"],[1.0,\"#f0f921\"]]}],\"contourcarpet\":[{\"type\":\"contourcarpet\",\"colorbar\":{\"outlinewidth\":0,\"ticks\":\"\"}}],\"contour\":[{\"type\":\"contour\",\"colorbar\":{\"outlinewidth\":0,\"ticks\":\"\"},\"colorscale\":[[0.0,\"#0d0887\"],[0.1111111111111111,\"#46039f\"],[0.2222222222222222,\"#7201a8\"],[0.3333333333333333,\"#9c179e\"],[0.4444444444444444,\"#bd3786\"],[0.5555555555555556,\"#d8576b\"],[0.6666666666666666,\"#ed7953\"],[0.7777777777777778,\"#fb9f3a\"],[0.8888888888888888,\"#fdca26\"],[1.0,\"#f0f921\"]]}],\"surface\":[{\"type\":\"surface\",\"colorbar\":{\"outlinewidth\":0,\"ticks\":\"\"},\"colorscale\":[[0.0,\"#0d0887\"],[0.1111111111111111,\"#46039f\"],[0.2222222222222222,\"#7201a8\"],[0.3333333333333333,\"#9c179e\"],[0.4444444444444444,\"#bd3786\"],[0.5555555555555556,\"#d8576b\"],[0.6666666666666666,\"#ed7953\"],[0.7777777777777778,\"#fb9f3a\"],[0.8888888888888888,\"#fdca26\"],[1.0,\"#f0f921\"]]}],\"mesh3d\":[{\"type\":\"mesh3d\",\"colorbar\":{\"outlinewidth\":0,\"ticks\":\"\"}}],\"scatter\":[{\"fillpattern\":{\"fillmode\":\"overlay\",\"size\":10,\"solidity\":0.2},\"type\":\"scatter\"}],\"parcoords\":[{\"type\":\"parcoords\",\"line\":{\"colorbar\":{\"outlinewidth\":0,\"ticks\":\"\"}}}],\"scatterpolargl\":[{\"type\":\"scatterpolargl\",\"marker\":{\"colorbar\":{\"outlinewidth\":0,\"ticks\":\"\"}}}],\"bar\":[{\"error_x\":{\"color\":\"#2a3f5f\"},\"error_y\":{\"color\":\"#2a3f5f\"},\"marker\":{\"line\":{\"color\":\"#E5ECF6\",\"width\":0.5},\"pattern\":{\"fillmode\":\"overlay\",\"size\":10,\"solidity\":0.2}},\"type\":\"bar\"}],\"scattergeo\":[{\"type\":\"scattergeo\",\"marker\":{\"colorbar\":{\"outlinewidth\":0,\"ticks\":\"\"}}}],\"scatterpolar\":[{\"type\":\"scatterpolar\",\"marker\":{\"colorbar\":{\"outlinewidth\":0,\"ticks\":\"\"}}}],\"histogram\":[{\"marker\":{\"pattern\":{\"fillmode\":\"overlay\",\"size\":10,\"solidity\":0.2}},\"type\":\"histogram\"}],\"scattergl\":[{\"type\":\"scattergl\",\"marker\":{\"colorbar\":{\"outlinewidth\":0,\"ticks\":\"\"}}}],\"scatter3d\":[{\"type\":\"scatter3d\",\"line\":{\"colorbar\":{\"outlinewidth\":0,\"ticks\":\"\"}},\"marker\":{\"colorbar\":{\"outlinewidth\":0,\"ticks\":\"\"}}}],\"scattermapbox\":[{\"type\":\"scattermapbox\",\"marker\":{\"colorbar\":{\"outlinewidth\":0,\"ticks\":\"\"}}}],\"scatterternary\":[{\"type\":\"scatterternary\",\"marker\":{\"colorbar\":{\"outlinewidth\":0,\"ticks\":\"\"}}}],\"scattercarpet\":[{\"type\":\"scattercarpet\",\"marker\":{\"colorbar\":{\"outlinewidth\":0,\"ticks\":\"\"}}}],\"carpet\":[{\"aaxis\":{\"endlinecolor\":\"#2a3f5f\",\"gridcolor\":\"white\",\"linecolor\":\"white\",\"minorgridcolor\":\"white\",\"startlinecolor\":\"#2a3f5f\"},\"baxis\":{\"endlinecolor\":\"#2a3f5f\",\"gridcolor\":\"white\",\"linecolor\":\"white\",\"minorgridcolor\":\"white\",\"startlinecolor\":\"#2a3f5f\"},\"type\":\"carpet\"}],\"table\":[{\"cells\":{\"fill\":{\"color\":\"#EBF0F8\"},\"line\":{\"color\":\"white\"}},\"header\":{\"fill\":{\"color\":\"#C8D4E3\"},\"line\":{\"color\":\"white\"}},\"type\":\"table\"}],\"barpolar\":[{\"marker\":{\"line\":{\"color\":\"#E5ECF6\",\"width\":0.5},\"pattern\":{\"fillmode\":\"overlay\",\"size\":10,\"solidity\":0.2}},\"type\":\"barpolar\"}],\"pie\":[{\"automargin\":true,\"type\":\"pie\"}]},\"layout\":{\"autotypenumbers\":\"strict\",\"colorway\":[\"#636efa\",\"#EF553B\",\"#00cc96\",\"#ab63fa\",\"#FFA15A\",\"#19d3f3\",\"#FF6692\",\"#B6E880\",\"#FF97FF\",\"#FECB52\"],\"font\":{\"color\":\"#2a3f5f\"},\"hovermode\":\"closest\",\"hoverlabel\":{\"align\":\"left\"},\"paper_bgcolor\":\"white\",\"plot_bgcolor\":\"#E5ECF6\",\"polar\":{\"bgcolor\":\"#E5ECF6\",\"angularaxis\":{\"gridcolor\":\"white\",\"linecolor\":\"white\",\"ticks\":\"\"},\"radialaxis\":{\"gridcolor\":\"white\",\"linecolor\":\"white\",\"ticks\":\"\"}},\"ternary\":{\"bgcolor\":\"#E5ECF6\",\"aaxis\":{\"gridcolor\":\"white\",\"linecolor\":\"white\",\"ticks\":\"\"},\"baxis\":{\"gridcolor\":\"white\",\"linecolor\":\"white\",\"ticks\":\"\"},\"caxis\":{\"gridcolor\":\"white\",\"linecolor\":\"white\",\"ticks\":\"\"}},\"coloraxis\":{\"colorbar\":{\"outlinewidth\":0,\"ticks\":\"\"}},\"colorscale\":{\"sequential\":[[0.0,\"#0d0887\"],[0.1111111111111111,\"#46039f\"],[0.2222222222222222,\"#7201a8\"],[0.3333333333333333,\"#9c179e\"],[0.4444444444444444,\"#bd3786\"],[0.5555555555555556,\"#d8576b\"],[0.6666666666666666,\"#ed7953\"],[0.7777777777777778,\"#fb9f3a\"],[0.8888888888888888,\"#fdca26\"],[1.0,\"#f0f921\"]],\"sequentialminus\":[[0.0,\"#0d0887\"],[0.1111111111111111,\"#46039f\"],[0.2222222222222222,\"#7201a8\"],[0.3333333333333333,\"#9c179e\"],[0.4444444444444444,\"#bd3786\"],[0.5555555555555556,\"#d8576b\"],[0.6666666666666666,\"#ed7953\"],[0.7777777777777778,\"#fb9f3a\"],[0.8888888888888888,\"#fdca26\"],[1.0,\"#f0f921\"]],\"diverging\":[[0,\"#8e0152\"],[0.1,\"#c51b7d\"],[0.2,\"#de77ae\"],[0.3,\"#f1b6da\"],[0.4,\"#fde0ef\"],[0.5,\"#f7f7f7\"],[0.6,\"#e6f5d0\"],[0.7,\"#b8e186\"],[0.8,\"#7fbc41\"],[0.9,\"#4d9221\"],[1,\"#276419\"]]},\"xaxis\":{\"gridcolor\":\"white\",\"linecolor\":\"white\",\"ticks\":\"\",\"title\":{\"standoff\":15},\"zerolinecolor\":\"white\",\"automargin\":true,\"zerolinewidth\":2},\"yaxis\":{\"gridcolor\":\"white\",\"linecolor\":\"white\",\"ticks\":\"\",\"title\":{\"standoff\":15},\"zerolinecolor\":\"white\",\"automargin\":true,\"zerolinewidth\":2},\"scene\":{\"xaxis\":{\"backgroundcolor\":\"#E5ECF6\",\"gridcolor\":\"white\",\"linecolor\":\"white\",\"showbackground\":true,\"ticks\":\"\",\"zerolinecolor\":\"white\",\"gridwidth\":2},\"yaxis\":{\"backgroundcolor\":\"#E5ECF6\",\"gridcolor\":\"white\",\"linecolor\":\"white\",\"showbackground\":true,\"ticks\":\"\",\"zerolinecolor\":\"white\",\"gridwidth\":2},\"zaxis\":{\"backgroundcolor\":\"#E5ECF6\",\"gridcolor\":\"white\",\"linecolor\":\"white\",\"showbackground\":true,\"ticks\":\"\",\"zerolinecolor\":\"white\",\"gridwidth\":2}},\"shapedefaults\":{\"line\":{\"color\":\"#2a3f5f\"}},\"annotationdefaults\":{\"arrowcolor\":\"#2a3f5f\",\"arrowhead\":0,\"arrowwidth\":1},\"geo\":{\"bgcolor\":\"white\",\"landcolor\":\"#E5ECF6\",\"subunitcolor\":\"white\",\"showland\":true,\"showlakes\":true,\"lakecolor\":\"white\"},\"title\":{\"x\":0.05},\"mapbox\":{\"style\":\"light\"}}},\"xaxis\":{\"anchor\":\"y\",\"domain\":[0.0,1.0],\"side\":\"top\"},\"yaxis\":{\"anchor\":\"x\",\"domain\":[0.0,1.0],\"autorange\":\"reversed\"},\"coloraxis\":{\"colorscale\":[[0.0,\"#0d0887\"],[0.1111111111111111,\"#46039f\"],[0.2222222222222222,\"#7201a8\"],[0.3333333333333333,\"#9c179e\"],[0.4444444444444444,\"#bd3786\"],[0.5555555555555556,\"#d8576b\"],[0.6666666666666666,\"#ed7953\"],[0.7777777777777778,\"#fb9f3a\"],[0.8888888888888888,\"#fdca26\"],[1.0,\"#f0f921\"]]},\"title\":{\"text\":\"Scores for Training Dataset\"}},                        {\"responsive\": true}                    ).then(function(){\n",
              "                            \n",
              "var gd = document.getElementById('d8d33e93-5b34-4b70-99f0-2b92de1437c2');\n",
              "var x = new MutationObserver(function (mutations, observer) {{\n",
              "        var display = window.getComputedStyle(gd).display;\n",
              "        if (!display || display === 'none') {{\n",
              "            console.log([gd, 'removed!']);\n",
              "            Plotly.purge(gd);\n",
              "            observer.disconnect();\n",
              "        }}\n",
              "}});\n",
              "\n",
              "// Listen for the removal of the full notebook cells\n",
              "var notebookContainer = gd.closest('#notebook-container');\n",
              "if (notebookContainer) {{\n",
              "    x.observe(notebookContainer, {childList: true});\n",
              "}}\n",
              "\n",
              "// Listen for the clearing of the current output cell\n",
              "var outputEl = gd.closest('.output');\n",
              "if (outputEl) {{\n",
              "    x.observe(outputEl, {childList: true});\n",
              "}}\n",
              "\n",
              "                        })                };                            </script>        </div>\n",
              "</body>\n",
              "</html>"
            ]
          },
          "metadata": {}
        }
      ]
    },
    {
      "cell_type": "code",
      "source": [
        "y2 = ['Random Forest Regressor','Decision Tree Regressor','Support Vector Regressor','KNeighbors Regressor']\n",
        "x2 = ['R2 Score','MAE','MSE','RMSE']\n",
        "\n",
        "z2 = [[(round(test_acc_score,2)),(round(test_mae_score,2)),(round(test_mse_score,2)),(round(test_rmse_score,2))],\n",
        "     [(round(tes_acc_score,2)),(round(tes_mae_score,2)),(round(tes_mse_score,2)),(round(tes_rmse_score,2))],\n",
        "     [(round(te_acc_score,2)),(round(te_mae_score,2)),(round(te_mse_score,2)),(round(te_rmse_score,2))],\n",
        "     [(round(Kte_acc_score,2)),(round(Kte_mae_score,2)),(round(Kte_mse_score,2)),(round(Kte_rmse_score,2))]]\n",
        "\n",
        "px.imshow(z2, x=x2, y=y2, aspect=\"auto\", title = \"Scores for Test Dataset\", text_auto = True).update_xaxes(side=\"top\")"
      ],
      "metadata": {
        "colab": {
          "base_uri": "https://localhost:8080/",
          "height": 542
        },
        "id": "meovgtsPQ487",
        "outputId": "c06636c6-d55e-4a6c-8714-8dc90d19ee49"
      },
      "execution_count": null,
      "outputs": [
        {
          "output_type": "display_data",
          "data": {
            "text/html": [
              "<html>\n",
              "<head><meta charset=\"utf-8\" /></head>\n",
              "<body>\n",
              "    <div>            <script src=\"https://cdnjs.cloudflare.com/ajax/libs/mathjax/2.7.5/MathJax.js?config=TeX-AMS-MML_SVG\"></script><script type=\"text/javascript\">if (window.MathJax && window.MathJax.Hub && window.MathJax.Hub.Config) {window.MathJax.Hub.Config({SVG: {font: \"STIX-Web\"}});}</script>                <script type=\"text/javascript\">window.PlotlyConfig = {MathJaxConfig: 'local'};</script>\n",
              "        <script src=\"https://cdn.plot.ly/plotly-2.18.2.min.js\"></script>                <div id=\"d94b3240-09af-411d-8283-79d56b78ffec\" class=\"plotly-graph-div\" style=\"height:525px; width:100%;\"></div>            <script type=\"text/javascript\">                                    window.PLOTLYENV=window.PLOTLYENV || {};                                    if (document.getElementById(\"d94b3240-09af-411d-8283-79d56b78ffec\")) {                    Plotly.newPlot(                        \"d94b3240-09af-411d-8283-79d56b78ffec\",                        [{\"coloraxis\":\"coloraxis\",\"name\":\"0\",\"texttemplate\":\"%{z}\",\"x\":[\"R2 Score\",\"MAE\",\"MSE\",\"RMSE\"],\"y\":[\"Random Forest Regressor\",\"Decision Tree Regressor\",\"Support Vector Regressor\",\"KNeighbors Regressor\"],\"z\":[[0.97,0.13,0.03,0.36],[0.89,0.24,0.03,0.49],[0.99,0.07,0.01,0.27],[0.96,0.15,0.04,0.39]],\"type\":\"heatmap\",\"xaxis\":\"x\",\"yaxis\":\"y\",\"hovertemplate\":\"x: %{x}<br>y: %{y}<br>color: %{z}<extra></extra>\"}],                        {\"template\":{\"data\":{\"histogram2dcontour\":[{\"type\":\"histogram2dcontour\",\"colorbar\":{\"outlinewidth\":0,\"ticks\":\"\"},\"colorscale\":[[0.0,\"#0d0887\"],[0.1111111111111111,\"#46039f\"],[0.2222222222222222,\"#7201a8\"],[0.3333333333333333,\"#9c179e\"],[0.4444444444444444,\"#bd3786\"],[0.5555555555555556,\"#d8576b\"],[0.6666666666666666,\"#ed7953\"],[0.7777777777777778,\"#fb9f3a\"],[0.8888888888888888,\"#fdca26\"],[1.0,\"#f0f921\"]]}],\"choropleth\":[{\"type\":\"choropleth\",\"colorbar\":{\"outlinewidth\":0,\"ticks\":\"\"}}],\"histogram2d\":[{\"type\":\"histogram2d\",\"colorbar\":{\"outlinewidth\":0,\"ticks\":\"\"},\"colorscale\":[[0.0,\"#0d0887\"],[0.1111111111111111,\"#46039f\"],[0.2222222222222222,\"#7201a8\"],[0.3333333333333333,\"#9c179e\"],[0.4444444444444444,\"#bd3786\"],[0.5555555555555556,\"#d8576b\"],[0.6666666666666666,\"#ed7953\"],[0.7777777777777778,\"#fb9f3a\"],[0.8888888888888888,\"#fdca26\"],[1.0,\"#f0f921\"]]}],\"heatmap\":[{\"type\":\"heatmap\",\"colorbar\":{\"outlinewidth\":0,\"ticks\":\"\"},\"colorscale\":[[0.0,\"#0d0887\"],[0.1111111111111111,\"#46039f\"],[0.2222222222222222,\"#7201a8\"],[0.3333333333333333,\"#9c179e\"],[0.4444444444444444,\"#bd3786\"],[0.5555555555555556,\"#d8576b\"],[0.6666666666666666,\"#ed7953\"],[0.7777777777777778,\"#fb9f3a\"],[0.8888888888888888,\"#fdca26\"],[1.0,\"#f0f921\"]]}],\"heatmapgl\":[{\"type\":\"heatmapgl\",\"colorbar\":{\"outlinewidth\":0,\"ticks\":\"\"},\"colorscale\":[[0.0,\"#0d0887\"],[0.1111111111111111,\"#46039f\"],[0.2222222222222222,\"#7201a8\"],[0.3333333333333333,\"#9c179e\"],[0.4444444444444444,\"#bd3786\"],[0.5555555555555556,\"#d8576b\"],[0.6666666666666666,\"#ed7953\"],[0.7777777777777778,\"#fb9f3a\"],[0.8888888888888888,\"#fdca26\"],[1.0,\"#f0f921\"]]}],\"contourcarpet\":[{\"type\":\"contourcarpet\",\"colorbar\":{\"outlinewidth\":0,\"ticks\":\"\"}}],\"contour\":[{\"type\":\"contour\",\"colorbar\":{\"outlinewidth\":0,\"ticks\":\"\"},\"colorscale\":[[0.0,\"#0d0887\"],[0.1111111111111111,\"#46039f\"],[0.2222222222222222,\"#7201a8\"],[0.3333333333333333,\"#9c179e\"],[0.4444444444444444,\"#bd3786\"],[0.5555555555555556,\"#d8576b\"],[0.6666666666666666,\"#ed7953\"],[0.7777777777777778,\"#fb9f3a\"],[0.8888888888888888,\"#fdca26\"],[1.0,\"#f0f921\"]]}],\"surface\":[{\"type\":\"surface\",\"colorbar\":{\"outlinewidth\":0,\"ticks\":\"\"},\"colorscale\":[[0.0,\"#0d0887\"],[0.1111111111111111,\"#46039f\"],[0.2222222222222222,\"#7201a8\"],[0.3333333333333333,\"#9c179e\"],[0.4444444444444444,\"#bd3786\"],[0.5555555555555556,\"#d8576b\"],[0.6666666666666666,\"#ed7953\"],[0.7777777777777778,\"#fb9f3a\"],[0.8888888888888888,\"#fdca26\"],[1.0,\"#f0f921\"]]}],\"mesh3d\":[{\"type\":\"mesh3d\",\"colorbar\":{\"outlinewidth\":0,\"ticks\":\"\"}}],\"scatter\":[{\"fillpattern\":{\"fillmode\":\"overlay\",\"size\":10,\"solidity\":0.2},\"type\":\"scatter\"}],\"parcoords\":[{\"type\":\"parcoords\",\"line\":{\"colorbar\":{\"outlinewidth\":0,\"ticks\":\"\"}}}],\"scatterpolargl\":[{\"type\":\"scatterpolargl\",\"marker\":{\"colorbar\":{\"outlinewidth\":0,\"ticks\":\"\"}}}],\"bar\":[{\"error_x\":{\"color\":\"#2a3f5f\"},\"error_y\":{\"color\":\"#2a3f5f\"},\"marker\":{\"line\":{\"color\":\"#E5ECF6\",\"width\":0.5},\"pattern\":{\"fillmode\":\"overlay\",\"size\":10,\"solidity\":0.2}},\"type\":\"bar\"}],\"scattergeo\":[{\"type\":\"scattergeo\",\"marker\":{\"colorbar\":{\"outlinewidth\":0,\"ticks\":\"\"}}}],\"scatterpolar\":[{\"type\":\"scatterpolar\",\"marker\":{\"colorbar\":{\"outlinewidth\":0,\"ticks\":\"\"}}}],\"histogram\":[{\"marker\":{\"pattern\":{\"fillmode\":\"overlay\",\"size\":10,\"solidity\":0.2}},\"type\":\"histogram\"}],\"scattergl\":[{\"type\":\"scattergl\",\"marker\":{\"colorbar\":{\"outlinewidth\":0,\"ticks\":\"\"}}}],\"scatter3d\":[{\"type\":\"scatter3d\",\"line\":{\"colorbar\":{\"outlinewidth\":0,\"ticks\":\"\"}},\"marker\":{\"colorbar\":{\"outlinewidth\":0,\"ticks\":\"\"}}}],\"scattermapbox\":[{\"type\":\"scattermapbox\",\"marker\":{\"colorbar\":{\"outlinewidth\":0,\"ticks\":\"\"}}}],\"scatterternary\":[{\"type\":\"scatterternary\",\"marker\":{\"colorbar\":{\"outlinewidth\":0,\"ticks\":\"\"}}}],\"scattercarpet\":[{\"type\":\"scattercarpet\",\"marker\":{\"colorbar\":{\"outlinewidth\":0,\"ticks\":\"\"}}}],\"carpet\":[{\"aaxis\":{\"endlinecolor\":\"#2a3f5f\",\"gridcolor\":\"white\",\"linecolor\":\"white\",\"minorgridcolor\":\"white\",\"startlinecolor\":\"#2a3f5f\"},\"baxis\":{\"endlinecolor\":\"#2a3f5f\",\"gridcolor\":\"white\",\"linecolor\":\"white\",\"minorgridcolor\":\"white\",\"startlinecolor\":\"#2a3f5f\"},\"type\":\"carpet\"}],\"table\":[{\"cells\":{\"fill\":{\"color\":\"#EBF0F8\"},\"line\":{\"color\":\"white\"}},\"header\":{\"fill\":{\"color\":\"#C8D4E3\"},\"line\":{\"color\":\"white\"}},\"type\":\"table\"}],\"barpolar\":[{\"marker\":{\"line\":{\"color\":\"#E5ECF6\",\"width\":0.5},\"pattern\":{\"fillmode\":\"overlay\",\"size\":10,\"solidity\":0.2}},\"type\":\"barpolar\"}],\"pie\":[{\"automargin\":true,\"type\":\"pie\"}]},\"layout\":{\"autotypenumbers\":\"strict\",\"colorway\":[\"#636efa\",\"#EF553B\",\"#00cc96\",\"#ab63fa\",\"#FFA15A\",\"#19d3f3\",\"#FF6692\",\"#B6E880\",\"#FF97FF\",\"#FECB52\"],\"font\":{\"color\":\"#2a3f5f\"},\"hovermode\":\"closest\",\"hoverlabel\":{\"align\":\"left\"},\"paper_bgcolor\":\"white\",\"plot_bgcolor\":\"#E5ECF6\",\"polar\":{\"bgcolor\":\"#E5ECF6\",\"angularaxis\":{\"gridcolor\":\"white\",\"linecolor\":\"white\",\"ticks\":\"\"},\"radialaxis\":{\"gridcolor\":\"white\",\"linecolor\":\"white\",\"ticks\":\"\"}},\"ternary\":{\"bgcolor\":\"#E5ECF6\",\"aaxis\":{\"gridcolor\":\"white\",\"linecolor\":\"white\",\"ticks\":\"\"},\"baxis\":{\"gridcolor\":\"white\",\"linecolor\":\"white\",\"ticks\":\"\"},\"caxis\":{\"gridcolor\":\"white\",\"linecolor\":\"white\",\"ticks\":\"\"}},\"coloraxis\":{\"colorbar\":{\"outlinewidth\":0,\"ticks\":\"\"}},\"colorscale\":{\"sequential\":[[0.0,\"#0d0887\"],[0.1111111111111111,\"#46039f\"],[0.2222222222222222,\"#7201a8\"],[0.3333333333333333,\"#9c179e\"],[0.4444444444444444,\"#bd3786\"],[0.5555555555555556,\"#d8576b\"],[0.6666666666666666,\"#ed7953\"],[0.7777777777777778,\"#fb9f3a\"],[0.8888888888888888,\"#fdca26\"],[1.0,\"#f0f921\"]],\"sequentialminus\":[[0.0,\"#0d0887\"],[0.1111111111111111,\"#46039f\"],[0.2222222222222222,\"#7201a8\"],[0.3333333333333333,\"#9c179e\"],[0.4444444444444444,\"#bd3786\"],[0.5555555555555556,\"#d8576b\"],[0.6666666666666666,\"#ed7953\"],[0.7777777777777778,\"#fb9f3a\"],[0.8888888888888888,\"#fdca26\"],[1.0,\"#f0f921\"]],\"diverging\":[[0,\"#8e0152\"],[0.1,\"#c51b7d\"],[0.2,\"#de77ae\"],[0.3,\"#f1b6da\"],[0.4,\"#fde0ef\"],[0.5,\"#f7f7f7\"],[0.6,\"#e6f5d0\"],[0.7,\"#b8e186\"],[0.8,\"#7fbc41\"],[0.9,\"#4d9221\"],[1,\"#276419\"]]},\"xaxis\":{\"gridcolor\":\"white\",\"linecolor\":\"white\",\"ticks\":\"\",\"title\":{\"standoff\":15},\"zerolinecolor\":\"white\",\"automargin\":true,\"zerolinewidth\":2},\"yaxis\":{\"gridcolor\":\"white\",\"linecolor\":\"white\",\"ticks\":\"\",\"title\":{\"standoff\":15},\"zerolinecolor\":\"white\",\"automargin\":true,\"zerolinewidth\":2},\"scene\":{\"xaxis\":{\"backgroundcolor\":\"#E5ECF6\",\"gridcolor\":\"white\",\"linecolor\":\"white\",\"showbackground\":true,\"ticks\":\"\",\"zerolinecolor\":\"white\",\"gridwidth\":2},\"yaxis\":{\"backgroundcolor\":\"#E5ECF6\",\"gridcolor\":\"white\",\"linecolor\":\"white\",\"showbackground\":true,\"ticks\":\"\",\"zerolinecolor\":\"white\",\"gridwidth\":2},\"zaxis\":{\"backgroundcolor\":\"#E5ECF6\",\"gridcolor\":\"white\",\"linecolor\":\"white\",\"showbackground\":true,\"ticks\":\"\",\"zerolinecolor\":\"white\",\"gridwidth\":2}},\"shapedefaults\":{\"line\":{\"color\":\"#2a3f5f\"}},\"annotationdefaults\":{\"arrowcolor\":\"#2a3f5f\",\"arrowhead\":0,\"arrowwidth\":1},\"geo\":{\"bgcolor\":\"white\",\"landcolor\":\"#E5ECF6\",\"subunitcolor\":\"white\",\"showland\":true,\"showlakes\":true,\"lakecolor\":\"white\"},\"title\":{\"x\":0.05},\"mapbox\":{\"style\":\"light\"}}},\"xaxis\":{\"anchor\":\"y\",\"domain\":[0.0,1.0],\"side\":\"top\"},\"yaxis\":{\"anchor\":\"x\",\"domain\":[0.0,1.0],\"autorange\":\"reversed\"},\"coloraxis\":{\"colorscale\":[[0.0,\"#0d0887\"],[0.1111111111111111,\"#46039f\"],[0.2222222222222222,\"#7201a8\"],[0.3333333333333333,\"#9c179e\"],[0.4444444444444444,\"#bd3786\"],[0.5555555555555556,\"#d8576b\"],[0.6666666666666666,\"#ed7953\"],[0.7777777777777778,\"#fb9f3a\"],[0.8888888888888888,\"#fdca26\"],[1.0,\"#f0f921\"]]},\"title\":{\"text\":\"Scores for Test Dataset\"}},                        {\"responsive\": true}                    ).then(function(){\n",
              "                            \n",
              "var gd = document.getElementById('d94b3240-09af-411d-8283-79d56b78ffec');\n",
              "var x = new MutationObserver(function (mutations, observer) {{\n",
              "        var display = window.getComputedStyle(gd).display;\n",
              "        if (!display || display === 'none') {{\n",
              "            console.log([gd, 'removed!']);\n",
              "            Plotly.purge(gd);\n",
              "            observer.disconnect();\n",
              "        }}\n",
              "}});\n",
              "\n",
              "// Listen for the removal of the full notebook cells\n",
              "var notebookContainer = gd.closest('#notebook-container');\n",
              "if (notebookContainer) {{\n",
              "    x.observe(notebookContainer, {childList: true});\n",
              "}}\n",
              "\n",
              "// Listen for the clearing of the current output cell\n",
              "var outputEl = gd.closest('.output');\n",
              "if (outputEl) {{\n",
              "    x.observe(outputEl, {childList: true});\n",
              "}}\n",
              "\n",
              "                        })                };                            </script>        </div>\n",
              "</body>\n",
              "</html>"
            ]
          },
          "metadata": {}
        }
      ]
    }
  ]
}